{
 "cells": [
  {
   "cell_type": "code",
   "execution_count": 243,
   "metadata": {},
   "outputs": [],
   "source": [
    "import pandas as pd\n",
    "import numpy as nps"
   ]
  },
  {
   "cell_type": "code",
   "execution_count": 244,
   "metadata": {},
   "outputs": [
    {
     "data": {
      "text/html": [
       "<script type=\"text/javascript\">window.PlotlyConfig = {MathJaxConfig: 'local'};</script><script type=\"text/javascript\">if (window.MathJax) {MathJax.Hub.Config({SVG: {font: \"STIX-Web\"}});}</script><script>requirejs.config({paths: { 'plotly': ['https://cdn.plot.ly/plotly-latest.min']},});if(!window._Plotly) {require(['plotly'],function(plotly) {window._Plotly=plotly;});}</script>"
      ],
      "text/vnd.plotly.v1+html": [
       "<script type=\"text/javascript\">window.PlotlyConfig = {MathJaxConfig: 'local'};</script><script type=\"text/javascript\">if (window.MathJax) {MathJax.Hub.Config({SVG: {font: \"STIX-Web\"}});}</script><script>requirejs.config({paths: { 'plotly': ['https://cdn.plot.ly/plotly-latest.min']},});if(!window._Plotly) {require(['plotly'],function(plotly) {window._Plotly=plotly;});}</script>"
      ]
     },
     "metadata": {},
     "output_type": "display_data"
    }
   ],
   "source": [
    "import matplotlib.pyplot as plt\n",
    "import seaborn as sns\n",
    "\n",
    "import plotly.plotly as py\n",
    "import plotly.offline as pyo\n",
    "import plotly.graph_objs as go\n",
    "\n",
    "pyo.init_notebook_mode(connected=True)\n",
    "\n",
    "import cufflinks as cf\n",
    "\n",
    "# import plotly.tools as tls\n",
    "# tls.embed('https://plot.ly/~cufflinks/8')"
   ]
  },
  {
   "cell_type": "code",
   "execution_count": 245,
   "metadata": {},
   "outputs": [],
   "source": [
    "df = pd.read_excel('Daten/Bevölkerung/Ständige-Wohnbevölkerung.xlsx', header=7).fillna(0)"
   ]
  },
  {
   "cell_type": "code",
   "execution_count": 246,
   "metadata": {},
   "outputs": [
    {
     "data": {
      "text/html": [
       "<div>\n",
       "<style scoped>\n",
       "    .dataframe tbody tr th:only-of-type {\n",
       "        vertical-align: middle;\n",
       "    }\n",
       "\n",
       "    .dataframe tbody tr th {\n",
       "        vertical-align: top;\n",
       "    }\n",
       "\n",
       "    .dataframe thead th {\n",
       "        text-align: right;\n",
       "    }\n",
       "</style>\n",
       "<table border=\"1\" class=\"dataframe\">\n",
       "  <thead>\n",
       "    <tr style=\"text-align: right;\">\n",
       "      <th></th>\n",
       "      <th>Jahr</th>\n",
       "      <th>Wirtschaftliche Wohnbevölkerung</th>\n",
       "      <th>Zivilrechtliche Wohnbevölkerung</th>\n",
       "      <th>Ständige Wohnbevölkerung</th>\n",
       "    </tr>\n",
       "  </thead>\n",
       "  <tbody>\n",
       "    <tr>\n",
       "      <th>0</th>\n",
       "      <td>1993</td>\n",
       "      <td>360898</td>\n",
       "      <td>342725</td>\n",
       "      <td>343045</td>\n",
       "    </tr>\n",
       "    <tr>\n",
       "      <th>1</th>\n",
       "      <td>1994</td>\n",
       "      <td>360848</td>\n",
       "      <td>343005</td>\n",
       "      <td>342872</td>\n",
       "    </tr>\n",
       "    <tr>\n",
       "      <th>2</th>\n",
       "      <td>1995</td>\n",
       "      <td>360826</td>\n",
       "      <td>341466</td>\n",
       "      <td>343869</td>\n",
       "    </tr>\n",
       "    <tr>\n",
       "      <th>3</th>\n",
       "      <td>1996</td>\n",
       "      <td>359648</td>\n",
       "      <td>339002</td>\n",
       "      <td>341250</td>\n",
       "    </tr>\n",
       "    <tr>\n",
       "      <th>4</th>\n",
       "      <td>1997</td>\n",
       "      <td>358594</td>\n",
       "      <td>335809</td>\n",
       "      <td>338594</td>\n",
       "    </tr>\n",
       "  </tbody>\n",
       "</table>\n",
       "</div>"
      ],
      "text/plain": [
       "   Jahr  Wirtschaftliche Wohnbevölkerung  Zivilrechtliche Wohnbevölkerung  \\\n",
       "0  1993                           360898                           342725   \n",
       "1  1994                           360848                           343005   \n",
       "2  1995                           360826                           341466   \n",
       "3  1996                           359648                           339002   \n",
       "4  1997                           358594                           335809   \n",
       "\n",
       "   Ständige Wohnbevölkerung  \n",
       "0                    343045  \n",
       "1                    342872  \n",
       "2                    343869  \n",
       "3                    341250  \n",
       "4                    338594  "
      ]
     },
     "execution_count": 246,
     "metadata": {},
     "output_type": "execute_result"
    }
   ],
   "source": [
    "df.head()"
   ]
  },
  {
   "cell_type": "code",
   "execution_count": 247,
   "metadata": {},
   "outputs": [
    {
     "data": {
      "text/plain": [
       "Index(['Jahr', 'Wirtschaftliche Wohnbevölkerung',\n",
       "       'Zivilrechtliche Wohnbevölkerung', 'Ständige Wohnbevölkerung'],\n",
       "      dtype='object')"
      ]
     },
     "execution_count": 247,
     "metadata": {},
     "output_type": "execute_result"
    }
   ],
   "source": [
    "df.columns"
   ]
  },
  {
   "cell_type": "code",
   "execution_count": 269,
   "metadata": {
    "scrolled": false
   },
   "outputs": [
    {
     "data": {
      "application/vnd.plotly.v1+json": {
       "config": {
        "linkText": "Export to plot.ly",
        "plotlyServerURL": "https://plot.ly",
        "showLink": false
       },
       "data": [
        {
         "fill": "tozeroy",
         "line": {
          "color": "#5120B3",
          "width": 4
         },
         "marker": {
          "color": "#84B5F4",
          "line": {
           "width": 2
          },
          "size": 10,
          "symbol": "hexagon2"
         },
         "mode": "lines+markers",
         "name": "Ständige Wohnbevölkerung",
         "type": "scatter",
         "uid": "cf1f2ae3-18c9-463c-b67a-b3d7ccec6f35",
         "x": [
          1993,
          1994,
          1995,
          1996,
          1997,
          1998,
          1999,
          2000,
          2001,
          2002,
          2003,
          2004,
          2005,
          2006,
          2007,
          2008,
          2009,
          2010,
          2011,
          2012,
          2013,
          2014,
          2015,
          2016,
          2017
         ],
         "y": [
          343045,
          342872,
          343869,
          341250,
          338594,
          336821,
          336822,
          337900,
          340197,
          342116,
          342853,
          345236,
          347517,
          350125,
          358540,
          365132,
          368677,
          371633,
          376990,
          380777,
          384786,
          391359,
          396955,
          402762,
          409120
         ]
        }
       ],
       "layout": {
        "yaxis": {
         "exponentformat": "none",
         "nticks": 8,
         "rangemode": "tozero"
        }
       }
      },
      "text/html": [
       "<div id=\"bf3fb151-e77f-4232-b66e-b18a2b469b85\" style=\"height: 525px; width: 100%;\" class=\"plotly-graph-div\"></div><script type=\"text/javascript\">require([\"plotly\"], function(Plotly) { window.PLOTLYENV=window.PLOTLYENV || {};window.PLOTLYENV.BASE_URL=\"https://plot.ly\";Plotly.newPlot(\"bf3fb151-e77f-4232-b66e-b18a2b469b85\", [{\"fill\": \"tozeroy\", \"line\": {\"color\": \"#5120B3\", \"width\": 4}, \"marker\": {\"color\": \"#84B5F4\", \"line\": {\"width\": 2}, \"size\": 10, \"symbol\": \"hexagon2\"}, \"mode\": \"lines+markers\", \"name\": \"St\\u00e4ndige Wohnbev\\u00f6lkerung\", \"x\": [1993, 1994, 1995, 1996, 1997, 1998, 1999, 2000, 2001, 2002, 2003, 2004, 2005, 2006, 2007, 2008, 2009, 2010, 2011, 2012, 2013, 2014, 2015, 2016, 2017], \"y\": [343045, 342872, 343869, 341250, 338594, 336821, 336822, 337900, 340197, 342116, 342853, 345236, 347517, 350125, 358540, 365132, 368677, 371633, 376990, 380777, 384786, 391359, 396955, 402762, 409120], \"type\": \"scatter\", \"uid\": \"cf1f2ae3-18c9-463c-b67a-b3d7ccec6f35\"}], {\"yaxis\": {\"exponentformat\": \"none\", \"nticks\": 8, \"rangemode\": \"tozero\"}}, {\"showLink\": false, \"linkText\": \"Export to plot.ly\", \"plotlyServerURL\": \"https://plot.ly\"})});</script><script type=\"text/javascript\">window.addEventListener(\"resize\", function(){window._Plotly.Plots.resize(document.getElementById(\"bf3fb151-e77f-4232-b66e-b18a2b469b85\"));});</script>"
      ],
      "text/vnd.plotly.v1+html": [
       "<div id=\"bf3fb151-e77f-4232-b66e-b18a2b469b85\" style=\"height: 525px; width: 100%;\" class=\"plotly-graph-div\"></div><script type=\"text/javascript\">require([\"plotly\"], function(Plotly) { window.PLOTLYENV=window.PLOTLYENV || {};window.PLOTLYENV.BASE_URL=\"https://plot.ly\";Plotly.newPlot(\"bf3fb151-e77f-4232-b66e-b18a2b469b85\", [{\"fill\": \"tozeroy\", \"line\": {\"color\": \"#5120B3\", \"width\": 4}, \"marker\": {\"color\": \"#84B5F4\", \"line\": {\"width\": 2}, \"size\": 10, \"symbol\": \"hexagon2\"}, \"mode\": \"lines+markers\", \"name\": \"St\\u00e4ndige Wohnbev\\u00f6lkerung\", \"x\": [1993, 1994, 1995, 1996, 1997, 1998, 1999, 2000, 2001, 2002, 2003, 2004, 2005, 2006, 2007, 2008, 2009, 2010, 2011, 2012, 2013, 2014, 2015, 2016, 2017], \"y\": [343045, 342872, 343869, 341250, 338594, 336821, 336822, 337900, 340197, 342116, 342853, 345236, 347517, 350125, 358540, 365132, 368677, 371633, 376990, 380777, 384786, 391359, 396955, 402762, 409120], \"type\": \"scatter\", \"uid\": \"cf1f2ae3-18c9-463c-b67a-b3d7ccec6f35\"}], {\"yaxis\": {\"exponentformat\": \"none\", \"nticks\": 8, \"rangemode\": \"tozero\"}}, {\"showLink\": false, \"linkText\": \"Export to plot.ly\", \"plotlyServerURL\": \"https://plot.ly\"})});</script><script type=\"text/javascript\">window.addEventListener(\"resize\", function(){window._Plotly.Plots.resize(document.getElementById(\"bf3fb151-e77f-4232-b66e-b18a2b469b85\"));});</script>"
      ]
     },
     "metadata": {},
     "output_type": "display_data"
    }
   ],
   "source": [
    "trace1 = go.Scatter(x=df.Jahr, y=df['Ständige Wohnbevölkerung'], \n",
    "                    name=\"Ständige Wohnbevölkerung\",\n",
    "                    mode='lines+markers',\n",
    "                    fill='tozeroy',\n",
    "#                     fillcolor='#84B5F4',\n",
    "                        line = dict(\n",
    "                            width = 4,\n",
    "                            color = '#5120B3',\n",
    "#                             dash = 'solid'\n",
    "                        ),\n",
    "                        marker = dict(\n",
    "                            symbol='hexagon2',\n",
    "                            size = 10,\n",
    "                            color = '#84B5F4',\n",
    "                            line = dict(\n",
    "                                width = 2\n",
    "                            )\n",
    "                        )\n",
    "                    )  \n",
    "# mode can be 'markers', 'lines+markers', 'lines'\n",
    "\n",
    "# tace1 = go.Scatter(x=df.Jahr, y=df['Ständige Wohnbevölkerung'], \n",
    "#                     name=\"Ständige Wohnbevölkerung\", \n",
    "#                     mode=\"lines+markers\")  \n",
    "# # mode can be 'markers', 'lines+markers', 'lines'\n",
    "\n",
    "data = go.Data([trace1])\n",
    "\n",
    "# layout = go.Layout(\n",
    "#     title='Ständige Wohnbevölkerung Stadt Zürich – 2010 bis 2018',\n",
    "# #     autosize=False,\n",
    "# #     width=600,\n",
    "# #     height=600,\n",
    "# #     bargroupgap=0.1,\n",
    "# #     bargap=0.2,\n",
    "#     yaxis: {\n",
    "#     tickformat: ',.0%',\n",
    "#     }\n",
    "# )\n",
    "\n",
    "\n",
    "layout = go.Layout(\n",
    "    xaxis=dict(\n",
    "#         autotick=False,\n",
    "#         ticks='outside',\n",
    "#         tick0=0,\n",
    "#         dtick=0.25,\n",
    "#         ticklen=8,\n",
    "#         tickwidth=4,\n",
    "#         tickcolor='#000'\n",
    "    ),\n",
    "    yaxis=dict(\n",
    "        rangemode='tozero',\n",
    "        nticks=8,\n",
    "        exponentformat='none'\n",
    "#         autotick=False,\n",
    "#         ticks='outside',\n",
    "#         tick0=0,\n",
    "#         dtick=0.25,\n",
    "#         ticklen=8,\n",
    "#         tickwidth=4,\n",
    "#         tickcolor='#000'\n",
    "    )\n",
    ")\n",
    "fig = go.Figure(data=data, layout=layout)\n",
    "\n",
    "\n",
    "# layout = go.Layout(\n",
    "#     title='Ständige Wohnbevölkerung Stadt Zürich – 2010 bis 2018',\n",
    "#     xaxis=dict(\n",
    "#         autotick=False,\n",
    "#         ticks='outside',\n",
    "#         tick0=0,\n",
    "#         dtick=0.25,\n",
    "#         ticklen=8,\n",
    "#         tickwidth=4,\n",
    "#         tickcolor='#000'\n",
    "#     ),\n",
    "#     yaxis=dict(\n",
    "#         range='array'\n",
    "#         autotick=False,\n",
    "#         ticks='outside',\n",
    "#         tick0=0,\n",
    "#         dtick=0.25,\n",
    "#         ticklen=8,\n",
    "#         tickwidth=4,\n",
    "#         tickcolor='#000'\n",
    "#     )\n",
    "# )\n",
    "# mylayout = go.Layout(\n",
    "#     title=\"Ständige Wohnbevölkerung Stadt Zürich – 2010 bis 2018\"\n",
    "# )\n",
    "\n",
    "# fig = go.Figure(data=data, layout=layout)\n",
    "pyo.iplot(fig, filename='hover-chart-basic')"
   ]
  },
  {
   "cell_type": "code",
   "execution_count": null,
   "metadata": {
    "scrolled": false
   },
   "outputs": [],
   "source": []
  },
  {
   "cell_type": "code",
   "execution_count": 178,
   "metadata": {},
   "outputs": [],
   "source": [
    "df1 = df.set_index('Jahr')"
   ]
  },
  {
   "cell_type": "code",
   "execution_count": 179,
   "metadata": {},
   "outputs": [
    {
     "data": {
      "text/html": [
       "<div>\n",
       "<style scoped>\n",
       "    .dataframe tbody tr th:only-of-type {\n",
       "        vertical-align: middle;\n",
       "    }\n",
       "\n",
       "    .dataframe tbody tr th {\n",
       "        vertical-align: top;\n",
       "    }\n",
       "\n",
       "    .dataframe thead th {\n",
       "        text-align: right;\n",
       "    }\n",
       "</style>\n",
       "<table border=\"1\" class=\"dataframe\">\n",
       "  <thead>\n",
       "    <tr style=\"text-align: right;\">\n",
       "      <th></th>\n",
       "      <th>Ständige Wohnbevölkerung</th>\n",
       "    </tr>\n",
       "    <tr>\n",
       "      <th>Jahr</th>\n",
       "      <th></th>\n",
       "    </tr>\n",
       "  </thead>\n",
       "  <tbody>\n",
       "    <tr>\n",
       "      <th>1993</th>\n",
       "      <td>343045</td>\n",
       "    </tr>\n",
       "    <tr>\n",
       "      <th>1994</th>\n",
       "      <td>342872</td>\n",
       "    </tr>\n",
       "    <tr>\n",
       "      <th>1995</th>\n",
       "      <td>343869</td>\n",
       "    </tr>\n",
       "    <tr>\n",
       "      <th>1996</th>\n",
       "      <td>341250</td>\n",
       "    </tr>\n",
       "    <tr>\n",
       "      <th>1997</th>\n",
       "      <td>338594</td>\n",
       "    </tr>\n",
       "  </tbody>\n",
       "</table>\n",
       "</div>"
      ],
      "text/plain": [
       "      Ständige Wohnbevölkerung\n",
       "Jahr                          \n",
       "1993                    343045\n",
       "1994                    342872\n",
       "1995                    343869\n",
       "1996                    341250\n",
       "1997                    338594"
      ]
     },
     "execution_count": 179,
     "metadata": {},
     "output_type": "execute_result"
    }
   ],
   "source": [
    "df1[['Ständige Wohnbevölkerung']].head(5)"
   ]
  },
  {
   "cell_type": "code",
   "execution_count": 180,
   "metadata": {},
   "outputs": [
    {
     "data": {
      "text/plain": [
       "<matplotlib.axes._subplots.AxesSubplot at 0x11d805390>"
      ]
     },
     "execution_count": 180,
     "metadata": {},
     "output_type": "execute_result"
    },
    {
     "data": {
      "image/png": "[encoded data removed]",
      "text/plain": [
       "<Figure size 432x288 with 1 Axes>"
      ]
     },
     "metadata": {
      "needs_background": "light"
     },
     "output_type": "display_data"
    }
   ],
   "source": [
    "df1[['Ständige Wohnbevölkerung']].plot()"
   ]
  },
  {
   "cell_type": "code",
   "execution_count": null,
   "metadata": {},
   "outputs": [],
   "source": []
  },
  {
   "cell_type": "code",
   "execution_count": null,
   "metadata": {},
   "outputs": [],
   "source": []
  },
  {
   "cell_type": "code",
   "execution_count": null,
   "metadata": {},
   "outputs": [],
   "source": []
  },
  {
   "cell_type": "code",
   "execution_count": null,
   "metadata": {},
   "outputs": [],
   "source": [
    "# df.groupby('state')['year'].max().sort_values()"
   ]
  },
  {
   "cell_type": "code",
   "execution_count": null,
   "metadata": {},
   "outputs": [],
   "source": []
  },
  {
   "cell_type": "code",
   "execution_count": 33,
   "metadata": {},
   "outputs": [
    {
     "data": {
      "text/plain": [
       "(25, 4)"
      ]
     },
     "execution_count": 33,
     "metadata": {},
     "output_type": "execute_result"
    }
   ],
   "source": [
    "df.shape"
   ]
  },
  {
   "cell_type": "code",
   "execution_count": 20,
   "metadata": {},
   "outputs": [
    {
     "data": {
      "text/plain": [
       "Jahr                               int64\n",
       "Wirtschaftliche Wohnbevölkerung    int64\n",
       "Zivilrechtliche Wohnbevölkerung    int64\n",
       "Ständige Wohnbevölkerung           int64\n",
       "dtype: object"
      ]
     },
     "execution_count": 20,
     "metadata": {},
     "output_type": "execute_result"
    }
   ],
   "source": [
    "df.dtypes"
   ]
  },
  {
   "cell_type": "code",
   "execution_count": null,
   "metadata": {},
   "outputs": [],
   "source": [
    "df.iloc()"
   ]
  },
  {
   "cell_type": "code",
   "execution_count": null,
   "metadata": {},
   "outputs": [],
   "source": []
  }
 ],
 "metadata": {
  "kernelspec": {
   "display_name": "Python 3",
   "language": "python",
   "name": "python3"
  },
  "language_info": {
   "codemirror_mode": {
    "name": "ipython",
    "version": 3
   },
   "file_extension": ".py",
   "mimetype": "text/x-python",
   "name": "python",
   "nbconvert_exporter": "python",
   "pygments_lexer": "ipython3",
   "version": "3.7.0"
  }
 },
 "nbformat": 4,
 "nbformat_minor": 2
}
