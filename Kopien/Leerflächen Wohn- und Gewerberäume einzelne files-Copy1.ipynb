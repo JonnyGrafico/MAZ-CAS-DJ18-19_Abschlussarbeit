{
 "cells": [
  {
   "cell_type": "code",
   "execution_count": 11,
   "metadata": {},
   "outputs": [],
   "source": [
    "import pandas as pd\n",
    "import numpy as np"
   ]
  },
  {
   "cell_type": "code",
   "execution_count": 12,
   "metadata": {},
   "outputs": [],
   "source": [
    "%matplotlib inline"
   ]
  },
  {
   "cell_type": "code",
   "execution_count": 13,
   "metadata": {},
   "outputs": [],
   "source": [
    "import matplotlib.pyplot as plt\n",
    "import seaborn as sns"
   ]
  },
  {
   "cell_type": "code",
   "execution_count": 21,
   "metadata": {},
   "outputs": [],
   "source": [
    "df = pd.read_excel('Daten/Gewerbe/Leerflaechen_Nutzungsart-und-Quartier.xlsx', index_col=0, header=9).fillna(0).astype(int)\n",
    "\n",
    "#df = pd.read_excel('Leerflaechen einzeln.xlsx', index_col=0, header=0)"
   ]
  },
  {
   "cell_type": "code",
   "execution_count": 29,
   "metadata": {
    "scrolled": false
   },
   "outputs": [
    {
     "data": {
      "text/html": [
       "<div>\n",
       "<style scoped>\n",
       "    .dataframe tbody tr th:only-of-type {\n",
       "        vertical-align: middle;\n",
       "    }\n",
       "\n",
       "    .dataframe tbody tr th {\n",
       "        vertical-align: top;\n",
       "    }\n",
       "\n",
       "    .dataframe thead th {\n",
       "        text-align: right;\n",
       "    }\n",
       "</style>\n",
       "<table border=\"1\" class=\"dataframe\">\n",
       "  <thead>\n",
       "    <tr style=\"text-align: right;\">\n",
       "      <th></th>\n",
       "      <th>Leerfläche (m²)</th>\n",
       "      <th>Unnamed: 1</th>\n",
       "      <th>Unnamed: 2</th>\n",
       "      <th>Unnamed: 3</th>\n",
       "      <th>Unnamed: 4</th>\n",
       "      <th>Leerfläche (m²).1</th>\n",
       "      <th>Unnamed: 6</th>\n",
       "      <th>Unnamed: 7</th>\n",
       "      <th>Unnamed: 8</th>\n",
       "      <th>Unnamed: 9</th>\n",
       "      <th>Leerflächenziffer</th>\n",
       "      <th>Unnamed: 11</th>\n",
       "      <th>Unnamed: 12</th>\n",
       "      <th>Unnamed: 13</th>\n",
       "      <th>Unnamed: 14</th>\n",
       "      <th>Leerfläche (m²).2</th>\n",
       "      <th>Unnamed: 16</th>\n",
       "      <th>Unnamed: 17</th>\n",
       "      <th>Unnamed: 18</th>\n",
       "    </tr>\n",
       "  </thead>\n",
       "  <tbody>\n",
       "    <tr>\n",
       "      <th>NaN</th>\n",
       "      <td>2018</td>\n",
       "      <td>2017</td>\n",
       "      <td>2016</td>\n",
       "      <td>2015</td>\n",
       "      <td>2014</td>\n",
       "      <td>2018</td>\n",
       "      <td>2017</td>\n",
       "      <td>2016</td>\n",
       "      <td>2015</td>\n",
       "      <td>2014</td>\n",
       "      <td>2018</td>\n",
       "      <td>2017</td>\n",
       "      <td>2016</td>\n",
       "      <td>2015</td>\n",
       "      <td>2014</td>\n",
       "      <td>2018</td>\n",
       "      <td>2018</td>\n",
       "      <td>2018</td>\n",
       "      <td>2018</td>\n",
       "    </tr>\n",
       "    <tr>\n",
       "      <th>Ganze Stadt</th>\n",
       "      <td>187714</td>\n",
       "      <td>243660</td>\n",
       "      <td>237054</td>\n",
       "      <td>256450</td>\n",
       "      <td>264548</td>\n",
       "      <td>139664</td>\n",
       "      <td>174381</td>\n",
       "      <td>193027</td>\n",
       "      <td>207901</td>\n",
       "      <td>214900</td>\n",
       "      <td>1</td>\n",
       "      <td>2</td>\n",
       "      <td>2</td>\n",
       "      <td>2</td>\n",
       "      <td>2</td>\n",
       "      <td>31663</td>\n",
       "      <td>5381</td>\n",
       "      <td>5122</td>\n",
       "      <td>5884</td>\n",
       "    </tr>\n",
       "    <tr>\n",
       "      <th>Kreis 1</th>\n",
       "      <td>30550</td>\n",
       "      <td>34710</td>\n",
       "      <td>32201</td>\n",
       "      <td>40945</td>\n",
       "      <td>53774</td>\n",
       "      <td>23805</td>\n",
       "      <td>29535</td>\n",
       "      <td>29807</td>\n",
       "      <td>36180</td>\n",
       "      <td>49692</td>\n",
       "      <td>3</td>\n",
       "      <td>3</td>\n",
       "      <td>3</td>\n",
       "      <td>4</td>\n",
       "      <td>6</td>\n",
       "      <td>2436</td>\n",
       "      <td>1889</td>\n",
       "      <td>214</td>\n",
       "      <td>2206</td>\n",
       "    </tr>\n",
       "    <tr>\n",
       "      <th>Rathaus</th>\n",
       "      <td>3504</td>\n",
       "      <td>1940</td>\n",
       "      <td>2261</td>\n",
       "      <td>2261</td>\n",
       "      <td>2284</td>\n",
       "      <td>1399</td>\n",
       "      <td>1940</td>\n",
       "      <td>1315</td>\n",
       "      <td>2113</td>\n",
       "      <td>1856</td>\n",
       "      <td>1</td>\n",
       "      <td>1</td>\n",
       "      <td>1</td>\n",
       "      <td>2</td>\n",
       "      <td>1</td>\n",
       "      <td>128</td>\n",
       "      <td>383</td>\n",
       "      <td>64</td>\n",
       "      <td>1530</td>\n",
       "    </tr>\n",
       "    <tr>\n",
       "      <th>Hochschulen</th>\n",
       "      <td>670</td>\n",
       "      <td>1187</td>\n",
       "      <td>340</td>\n",
       "      <td>126</td>\n",
       "      <td>2218</td>\n",
       "      <td>670</td>\n",
       "      <td>797</td>\n",
       "      <td>340</td>\n",
       "      <td>126</td>\n",
       "      <td>2218</td>\n",
       "      <td>0</td>\n",
       "      <td>1</td>\n",
       "      <td>0</td>\n",
       "      <td>0</td>\n",
       "      <td>2</td>\n",
       "      <td>0</td>\n",
       "      <td>0</td>\n",
       "      <td>0</td>\n",
       "      <td>0</td>\n",
       "    </tr>\n",
       "  </tbody>\n",
       "</table>\n",
       "</div>"
      ],
      "text/plain": [
       "             Leerfläche (m²)  Unnamed: 1  Unnamed: 2  Unnamed: 3  Unnamed: 4  \\\n",
       "NaN                     2018        2017        2016        2015        2014   \n",
       "Ganze Stadt           187714      243660      237054      256450      264548   \n",
       "Kreis 1                30550       34710       32201       40945       53774   \n",
       "Rathaus                 3504        1940        2261        2261        2284   \n",
       "Hochschulen              670        1187         340         126        2218   \n",
       "\n",
       "             Leerfläche (m²).1  Unnamed: 6  Unnamed: 7  Unnamed: 8  \\\n",
       "NaN                       2018        2017        2016        2015   \n",
       "Ganze Stadt             139664      174381      193027      207901   \n",
       "Kreis 1                  23805       29535       29807       36180   \n",
       "Rathaus                   1399        1940        1315        2113   \n",
       "Hochschulen                670         797         340         126   \n",
       "\n",
       "             Unnamed: 9  Leerflächenziffer  Unnamed: 11  Unnamed: 12  \\\n",
       "NaN                2014               2018         2017         2016   \n",
       "Ganze Stadt      214900                  1            2            2   \n",
       "Kreis 1           49692                  3            3            3   \n",
       "Rathaus            1856                  1            1            1   \n",
       "Hochschulen        2218                  0            1            0   \n",
       "\n",
       "             Unnamed: 13  Unnamed: 14  Leerfläche (m²).2  Unnamed: 16  \\\n",
       "NaN                 2015         2014               2018         2018   \n",
       "Ganze Stadt            2            2              31663         5381   \n",
       "Kreis 1                4            6               2436         1889   \n",
       "Rathaus                2            1                128          383   \n",
       "Hochschulen            0            2                  0            0   \n",
       "\n",
       "             Unnamed: 17  Unnamed: 18  \n",
       "NaN                 2018         2018  \n",
       "Ganze Stadt         5122         5884  \n",
       "Kreis 1              214         2206  \n",
       "Rathaus               64         1530  \n",
       "Hochschulen            0            0  "
      ]
     },
     "execution_count": 29,
     "metadata": {},
     "output_type": "execute_result"
    }
   ],
   "source": [
    "df.head()"
   ]
  },
  {
   "cell_type": "code",
   "execution_count": 26,
   "metadata": {},
   "outputs": [
    {
     "data": {
      "text/plain": [
       "Leerfläche (m²)      int64\n",
       "Unnamed: 1           int64\n",
       "Unnamed: 2           int64\n",
       "Unnamed: 3           int64\n",
       "Unnamed: 4           int64\n",
       "Leerfläche (m²).1    int64\n",
       "Unnamed: 6           int64\n",
       "Unnamed: 7           int64\n",
       "Unnamed: 8           int64\n",
       "Unnamed: 9           int64\n",
       "Leerflächenziffer    int64\n",
       "Unnamed: 11          int64\n",
       "Unnamed: 12          int64\n",
       "Unnamed: 13          int64\n",
       "Unnamed: 14          int64\n",
       "Leerfläche (m²).2    int64\n",
       "Unnamed: 16          int64\n",
       "Unnamed: 17          int64\n",
       "Unnamed: 18          int64\n",
       "dtype: object"
      ]
     },
     "execution_count": 26,
     "metadata": {},
     "output_type": "execute_result"
    }
   ],
   "source": [
    "df.dtypes"
   ]
  },
  {
   "cell_type": "code",
   "execution_count": 27,
   "metadata": {},
   "outputs": [
    {
     "data": {
      "text/plain": [
       "Index(['Leerfläche (m²)', 'Unnamed: 1', 'Unnamed: 2', 'Unnamed: 3',\n",
       "       'Unnamed: 4', 'Leerfläche (m²).1', 'Unnamed: 6', 'Unnamed: 7',\n",
       "       'Unnamed: 8', 'Unnamed: 9', 'Leerflächenziffer', 'Unnamed: 11',\n",
       "       'Unnamed: 12', 'Unnamed: 13', 'Unnamed: 14', 'Leerfläche (m²).2',\n",
       "       'Unnamed: 16', 'Unnamed: 17', 'Unnamed: 18'],\n",
       "      dtype='object')"
      ]
     },
     "execution_count": 27,
     "metadata": {},
     "output_type": "execute_result"
    }
   ],
   "source": [
    "df.columns"
   ]
  },
  {
   "cell_type": "code",
   "execution_count": 34,
   "metadata": {},
   "outputs": [
    {
     "data": {
      "text/plain": [
       "(48, 19)"
      ]
     },
     "execution_count": 34,
     "metadata": {},
     "output_type": "execute_result"
    }
   ],
   "source": [
    "df.shape"
   ]
  },
  {
   "cell_type": "code",
   "execution_count": 63,
   "metadata": {},
   "outputs": [],
   "source": [
    "df_quartiere = df.drop(['Ganze Stadt', 'Kreis 1', 'Kreis 2', 'Kreis 3', 'Kreis 4',\n",
    "         'Kreis 5', 'Kreis 6', 'Kreis 7', 'Kreis 8', 'Kreis 9', 'Kreis 10', 'Kreis 11', 'Kreis 12'])"
   ]
  },
  {
   "cell_type": "code",
   "execution_count": 65,
   "metadata": {},
   "outputs": [
    {
     "data": {
      "text/html": [
       "<div>\n",
       "<style scoped>\n",
       "    .dataframe tbody tr th:only-of-type {\n",
       "        vertical-align: middle;\n",
       "    }\n",
       "\n",
       "    .dataframe tbody tr th {\n",
       "        vertical-align: top;\n",
       "    }\n",
       "\n",
       "    .dataframe thead th {\n",
       "        text-align: right;\n",
       "    }\n",
       "</style>\n",
       "<table border=\"1\" class=\"dataframe\">\n",
       "  <thead>\n",
       "    <tr style=\"text-align: right;\">\n",
       "      <th></th>\n",
       "      <th>Leerfläche (m²)</th>\n",
       "      <th>Unnamed: 1</th>\n",
       "      <th>Unnamed: 2</th>\n",
       "      <th>Unnamed: 3</th>\n",
       "      <th>Unnamed: 4</th>\n",
       "      <th>Leerfläche (m²).1</th>\n",
       "      <th>Unnamed: 6</th>\n",
       "      <th>Unnamed: 7</th>\n",
       "      <th>Unnamed: 8</th>\n",
       "      <th>Unnamed: 9</th>\n",
       "      <th>Leerflächenziffer</th>\n",
       "      <th>Unnamed: 11</th>\n",
       "      <th>Unnamed: 12</th>\n",
       "      <th>Unnamed: 13</th>\n",
       "      <th>Unnamed: 14</th>\n",
       "      <th>Leerfläche (m²).2</th>\n",
       "      <th>Unnamed: 16</th>\n",
       "      <th>Unnamed: 17</th>\n",
       "      <th>Unnamed: 18</th>\n",
       "    </tr>\n",
       "  </thead>\n",
       "  <tbody>\n",
       "    <tr>\n",
       "      <th>NaN</th>\n",
       "      <td>2018</td>\n",
       "      <td>2017</td>\n",
       "      <td>2016</td>\n",
       "      <td>2015</td>\n",
       "      <td>2014</td>\n",
       "      <td>2018</td>\n",
       "      <td>2017</td>\n",
       "      <td>2016</td>\n",
       "      <td>2015</td>\n",
       "      <td>2014</td>\n",
       "      <td>2018</td>\n",
       "      <td>2017</td>\n",
       "      <td>2016</td>\n",
       "      <td>2015</td>\n",
       "      <td>2014</td>\n",
       "      <td>2018</td>\n",
       "      <td>2018</td>\n",
       "      <td>2018</td>\n",
       "      <td>2018</td>\n",
       "    </tr>\n",
       "    <tr>\n",
       "      <th>Rathaus</th>\n",
       "      <td>3504</td>\n",
       "      <td>1940</td>\n",
       "      <td>2261</td>\n",
       "      <td>2261</td>\n",
       "      <td>2284</td>\n",
       "      <td>1399</td>\n",
       "      <td>1940</td>\n",
       "      <td>1315</td>\n",
       "      <td>2113</td>\n",
       "      <td>1856</td>\n",
       "      <td>1</td>\n",
       "      <td>1</td>\n",
       "      <td>1</td>\n",
       "      <td>2</td>\n",
       "      <td>1</td>\n",
       "      <td>128</td>\n",
       "      <td>383</td>\n",
       "      <td>64</td>\n",
       "      <td>1530</td>\n",
       "    </tr>\n",
       "    <tr>\n",
       "      <th>Hochschulen</th>\n",
       "      <td>670</td>\n",
       "      <td>1187</td>\n",
       "      <td>340</td>\n",
       "      <td>126</td>\n",
       "      <td>2218</td>\n",
       "      <td>670</td>\n",
       "      <td>797</td>\n",
       "      <td>340</td>\n",
       "      <td>126</td>\n",
       "      <td>2218</td>\n",
       "      <td>0</td>\n",
       "      <td>1</td>\n",
       "      <td>0</td>\n",
       "      <td>0</td>\n",
       "      <td>2</td>\n",
       "      <td>0</td>\n",
       "      <td>0</td>\n",
       "      <td>0</td>\n",
       "      <td>0</td>\n",
       "    </tr>\n",
       "    <tr>\n",
       "      <th>Lindenhof</th>\n",
       "      <td>7542</td>\n",
       "      <td>10304</td>\n",
       "      <td>8060</td>\n",
       "      <td>7737</td>\n",
       "      <td>7381</td>\n",
       "      <td>6963</td>\n",
       "      <td>8158</td>\n",
       "      <td>7725</td>\n",
       "      <td>7374</td>\n",
       "      <td>6967</td>\n",
       "      <td>3</td>\n",
       "      <td>4</td>\n",
       "      <td>4</td>\n",
       "      <td>4</td>\n",
       "      <td>4</td>\n",
       "      <td>579</td>\n",
       "      <td>0</td>\n",
       "      <td>0</td>\n",
       "      <td>0</td>\n",
       "    </tr>\n",
       "    <tr>\n",
       "      <th>City</th>\n",
       "      <td>18834</td>\n",
       "      <td>21279</td>\n",
       "      <td>21540</td>\n",
       "      <td>30821</td>\n",
       "      <td>41891</td>\n",
       "      <td>14773</td>\n",
       "      <td>18640</td>\n",
       "      <td>20427</td>\n",
       "      <td>26567</td>\n",
       "      <td>38651</td>\n",
       "      <td>3</td>\n",
       "      <td>4</td>\n",
       "      <td>4</td>\n",
       "      <td>6</td>\n",
       "      <td>10</td>\n",
       "      <td>1729</td>\n",
       "      <td>1506</td>\n",
       "      <td>150</td>\n",
       "      <td>676</td>\n",
       "    </tr>\n",
       "  </tbody>\n",
       "</table>\n",
       "</div>"
      ],
      "text/plain": [
       "             Leerfläche (m²)  Unnamed: 1  Unnamed: 2  Unnamed: 3  Unnamed: 4  \\\n",
       "NaN                     2018        2017        2016        2015        2014   \n",
       "Rathaus                 3504        1940        2261        2261        2284   \n",
       "Hochschulen              670        1187         340         126        2218   \n",
       "Lindenhof               7542       10304        8060        7737        7381   \n",
       "City                   18834       21279       21540       30821       41891   \n",
       "\n",
       "             Leerfläche (m²).1  Unnamed: 6  Unnamed: 7  Unnamed: 8  \\\n",
       "NaN                       2018        2017        2016        2015   \n",
       "Rathaus                   1399        1940        1315        2113   \n",
       "Hochschulen                670         797         340         126   \n",
       "Lindenhof                 6963        8158        7725        7374   \n",
       "City                     14773       18640       20427       26567   \n",
       "\n",
       "             Unnamed: 9  Leerflächenziffer  Unnamed: 11  Unnamed: 12  \\\n",
       "NaN                2014               2018         2017         2016   \n",
       "Rathaus            1856                  1            1            1   \n",
       "Hochschulen        2218                  0            1            0   \n",
       "Lindenhof          6967                  3            4            4   \n",
       "City              38651                  3            4            4   \n",
       "\n",
       "             Unnamed: 13  Unnamed: 14  Leerfläche (m²).2  Unnamed: 16  \\\n",
       "NaN                 2015         2014               2018         2018   \n",
       "Rathaus                2            1                128          383   \n",
       "Hochschulen            0            2                  0            0   \n",
       "Lindenhof              4            4                579            0   \n",
       "City                   6           10               1729         1506   \n",
       "\n",
       "             Unnamed: 17  Unnamed: 18  \n",
       "NaN                 2018         2018  \n",
       "Rathaus               64         1530  \n",
       "Hochschulen            0            0  \n",
       "Lindenhof              0            0  \n",
       "City                 150          676  "
      ]
     },
     "execution_count": 65,
     "metadata": {},
     "output_type": "execute_result"
    }
   ],
   "source": [
    "df_quartiere.head()"
   ]
  },
  {
   "cell_type": "code",
   "execution_count": 67,
   "metadata": {},
   "outputs": [],
   "source": [
    "df_leerflaeche = df_quartiere.iloc[2,2 :].head()"
   ]
  },
  {
   "cell_type": "code",
   "execution_count": 69,
   "metadata": {},
   "outputs": [
    {
     "data": {
      "text/plain": [
       "Unnamed: 2            340\n",
       "Unnamed: 3            126\n",
       "Unnamed: 4           2218\n",
       "Leerfläche (m²).1     670\n",
       "Unnamed: 6            797\n",
       "Name: Hochschulen, dtype: int64"
      ]
     },
     "execution_count": 69,
     "metadata": {},
     "output_type": "execute_result"
    }
   ],
   "source": [
    "df_leerflaeche"
   ]
  },
  {
   "cell_type": "code",
   "execution_count": 71,
   "metadata": {},
   "outputs": [
    {
     "data": {
      "text/plain": [
       "<matplotlib.axes._subplots.AxesSubplot at 0x11a53a6d8>"
      ]
     },
     "execution_count": 71,
     "metadata": {},
     "output_type": "execute_result"
    },
    {
     "data": {
      "image/png": "[encoded data removed]",
      "text/plain": [
       "<Figure size 1080x504 with 1 Axes>"
      ]
     },
     "metadata": {
      "needs_background": "light"
     },
     "output_type": "display_data"
    }
   ],
   "source": [
    "df_leerflaeche.plot(kind='bar', figsize=(15,7))"
   ]
  },
  {
   "cell_type": "code",
   "execution_count": 121,
   "metadata": {},
   "outputs": [],
   "source": [
    "df_leerflaeche = pd.read_excel('Daten/Gewerbe/Leerflaechen_Nutzungsart-und-Quartier.xlsx',  header=10).fillna(0).astype(int)\n",
    "\n",
    "\n"
   ]
  },
  {
   "cell_type": "code",
   "execution_count": 122,
   "metadata": {
    "scrolled": false
   },
   "outputs": [
    {
     "data": {
      "text/html": [
       "<div>\n",
       "<style scoped>\n",
       "    .dataframe tbody tr th:only-of-type {\n",
       "        vertical-align: middle;\n",
       "    }\n",
       "\n",
       "    .dataframe tbody tr th {\n",
       "        vertical-align: top;\n",
       "    }\n",
       "\n",
       "    .dataframe thead th {\n",
       "        text-align: right;\n",
       "    }\n",
       "</style>\n",
       "<table border=\"1\" class=\"dataframe\">\n",
       "  <thead>\n",
       "    <tr style=\"text-align: right;\">\n",
       "      <th></th>\n",
       "      <th>2018</th>\n",
       "      <th>2017</th>\n",
       "      <th>2016</th>\n",
       "      <th>2015</th>\n",
       "      <th>2014</th>\n",
       "    </tr>\n",
       "  </thead>\n",
       "  <tbody>\n",
       "    <tr>\n",
       "      <th>Ganze Stadt</th>\n",
       "      <td>187714</td>\n",
       "      <td>243660</td>\n",
       "      <td>237054</td>\n",
       "      <td>256450</td>\n",
       "      <td>264548</td>\n",
       "    </tr>\n",
       "    <tr>\n",
       "      <th>Kreis 1</th>\n",
       "      <td>30550</td>\n",
       "      <td>34710</td>\n",
       "      <td>32201</td>\n",
       "      <td>40945</td>\n",
       "      <td>53774</td>\n",
       "    </tr>\n",
       "    <tr>\n",
       "      <th>Rathaus</th>\n",
       "      <td>3504</td>\n",
       "      <td>1940</td>\n",
       "      <td>2261</td>\n",
       "      <td>2261</td>\n",
       "      <td>2284</td>\n",
       "    </tr>\n",
       "    <tr>\n",
       "      <th>Hochschulen</th>\n",
       "      <td>670</td>\n",
       "      <td>1187</td>\n",
       "      <td>340</td>\n",
       "      <td>126</td>\n",
       "      <td>2218</td>\n",
       "    </tr>\n",
       "    <tr>\n",
       "      <th>Lindenhof</th>\n",
       "      <td>7542</td>\n",
       "      <td>10304</td>\n",
       "      <td>8060</td>\n",
       "      <td>7737</td>\n",
       "      <td>7381</td>\n",
       "    </tr>\n",
       "  </tbody>\n",
       "</table>\n",
       "</div>"
      ],
      "text/plain": [
       "               2018    2017    2016    2015    2014\n",
       "Ganze Stadt  187714  243660  237054  256450  264548\n",
       "Kreis 1       30550   34710   32201   40945   53774\n",
       "Rathaus        3504    1940    2261    2261    2284\n",
       "Hochschulen     670    1187     340     126    2218\n",
       "Lindenhof      7542   10304    8060    7737    7381"
      ]
     },
     "execution_count": 122,
     "metadata": {},
     "output_type": "execute_result"
    }
   ],
   "source": [
    "df_leerflaeche.iloc[0:,0:5].head()"
   ]
  },
  {
   "cell_type": "code",
   "execution_count": 123,
   "metadata": {},
   "outputs": [
    {
     "data": {
      "text/html": [
       "<div>\n",
       "<style scoped>\n",
       "    .dataframe tbody tr th:only-of-type {\n",
       "        vertical-align: middle;\n",
       "    }\n",
       "\n",
       "    .dataframe tbody tr th {\n",
       "        vertical-align: top;\n",
       "    }\n",
       "\n",
       "    .dataframe thead th {\n",
       "        text-align: right;\n",
       "    }\n",
       "</style>\n",
       "<table border=\"1\" class=\"dataframe\">\n",
       "  <thead>\n",
       "    <tr style=\"text-align: right;\">\n",
       "      <th></th>\n",
       "      <th>2018</th>\n",
       "      <th>2017</th>\n",
       "      <th>2016</th>\n",
       "      <th>2015</th>\n",
       "      <th>2014</th>\n",
       "      <th>2018.1</th>\n",
       "      <th>2017.1</th>\n",
       "      <th>2016.1</th>\n",
       "      <th>2015.1</th>\n",
       "      <th>2014.1</th>\n",
       "      <th>2018.2</th>\n",
       "      <th>2017.2</th>\n",
       "      <th>2016.2</th>\n",
       "      <th>2015.2</th>\n",
       "      <th>2014.2</th>\n",
       "      <th>2018.3</th>\n",
       "      <th>2018.4</th>\n",
       "      <th>2018.5</th>\n",
       "      <th>2018.6</th>\n",
       "    </tr>\n",
       "  </thead>\n",
       "  <tbody>\n",
       "    <tr>\n",
       "      <th>Rathaus</th>\n",
       "      <td>3504</td>\n",
       "      <td>1940</td>\n",
       "      <td>2261</td>\n",
       "      <td>2261</td>\n",
       "      <td>2284</td>\n",
       "      <td>1399</td>\n",
       "      <td>1940</td>\n",
       "      <td>1315</td>\n",
       "      <td>2113</td>\n",
       "      <td>1856</td>\n",
       "      <td>1</td>\n",
       "      <td>1</td>\n",
       "      <td>1</td>\n",
       "      <td>2</td>\n",
       "      <td>1</td>\n",
       "      <td>128</td>\n",
       "      <td>383</td>\n",
       "      <td>64</td>\n",
       "      <td>1530</td>\n",
       "    </tr>\n",
       "    <tr>\n",
       "      <th>Hochschulen</th>\n",
       "      <td>670</td>\n",
       "      <td>1187</td>\n",
       "      <td>340</td>\n",
       "      <td>126</td>\n",
       "      <td>2218</td>\n",
       "      <td>670</td>\n",
       "      <td>797</td>\n",
       "      <td>340</td>\n",
       "      <td>126</td>\n",
       "      <td>2218</td>\n",
       "      <td>0</td>\n",
       "      <td>1</td>\n",
       "      <td>0</td>\n",
       "      <td>0</td>\n",
       "      <td>2</td>\n",
       "      <td>0</td>\n",
       "      <td>0</td>\n",
       "      <td>0</td>\n",
       "      <td>0</td>\n",
       "    </tr>\n",
       "    <tr>\n",
       "      <th>Lindenhof</th>\n",
       "      <td>7542</td>\n",
       "      <td>10304</td>\n",
       "      <td>8060</td>\n",
       "      <td>7737</td>\n",
       "      <td>7381</td>\n",
       "      <td>6963</td>\n",
       "      <td>8158</td>\n",
       "      <td>7725</td>\n",
       "      <td>7374</td>\n",
       "      <td>6967</td>\n",
       "      <td>3</td>\n",
       "      <td>4</td>\n",
       "      <td>4</td>\n",
       "      <td>4</td>\n",
       "      <td>4</td>\n",
       "      <td>579</td>\n",
       "      <td>0</td>\n",
       "      <td>0</td>\n",
       "      <td>0</td>\n",
       "    </tr>\n",
       "    <tr>\n",
       "      <th>City</th>\n",
       "      <td>18834</td>\n",
       "      <td>21279</td>\n",
       "      <td>21540</td>\n",
       "      <td>30821</td>\n",
       "      <td>41891</td>\n",
       "      <td>14773</td>\n",
       "      <td>18640</td>\n",
       "      <td>20427</td>\n",
       "      <td>26567</td>\n",
       "      <td>38651</td>\n",
       "      <td>3</td>\n",
       "      <td>4</td>\n",
       "      <td>4</td>\n",
       "      <td>6</td>\n",
       "      <td>10</td>\n",
       "      <td>1729</td>\n",
       "      <td>1506</td>\n",
       "      <td>150</td>\n",
       "      <td>676</td>\n",
       "    </tr>\n",
       "    <tr>\n",
       "      <th>Wollishofen</th>\n",
       "      <td>2220</td>\n",
       "      <td>4227</td>\n",
       "      <td>5313</td>\n",
       "      <td>3790</td>\n",
       "      <td>9101</td>\n",
       "      <td>1741</td>\n",
       "      <td>2224</td>\n",
       "      <td>3471</td>\n",
       "      <td>3077</td>\n",
       "      <td>6703</td>\n",
       "      <td>1</td>\n",
       "      <td>1</td>\n",
       "      <td>2</td>\n",
       "      <td>2</td>\n",
       "      <td>4</td>\n",
       "      <td>479</td>\n",
       "      <td>0</td>\n",
       "      <td>0</td>\n",
       "      <td>0</td>\n",
       "    </tr>\n",
       "  </tbody>\n",
       "</table>\n",
       "</div>"
      ],
      "text/plain": [
       "              2018   2017   2016   2015   2014  2018.1  2017.1  2016.1  \\\n",
       "Rathaus       3504   1940   2261   2261   2284    1399    1940    1315   \n",
       "Hochschulen    670   1187    340    126   2218     670     797     340   \n",
       "Lindenhof     7542  10304   8060   7737   7381    6963    8158    7725   \n",
       "City         18834  21279  21540  30821  41891   14773   18640   20427   \n",
       "Wollishofen   2220   4227   5313   3790   9101    1741    2224    3471   \n",
       "\n",
       "             2015.1  2014.1  2018.2  2017.2  2016.2  2015.2  2014.2  2018.3  \\\n",
       "Rathaus        2113    1856       1       1       1       2       1     128   \n",
       "Hochschulen     126    2218       0       1       0       0       2       0   \n",
       "Lindenhof      7374    6967       3       4       4       4       4     579   \n",
       "City          26567   38651       3       4       4       6      10    1729   \n",
       "Wollishofen    3077    6703       1       1       2       2       4     479   \n",
       "\n",
       "             2018.4  2018.5  2018.6  \n",
       "Rathaus         383      64    1530  \n",
       "Hochschulen       0       0       0  \n",
       "Lindenhof         0       0       0  \n",
       "City           1506     150     676  \n",
       "Wollishofen       0       0       0  "
      ]
     },
     "execution_count": 123,
     "metadata": {},
     "output_type": "execute_result"
    }
   ],
   "source": [
    "df_leerflaeche = df_leerflaeche.drop(['Ganze Stadt', 'Kreis 1', 'Kreis 2', 'Kreis 3', 'Kreis 4',\n",
    "         'Kreis 5', 'Kreis 6', 'Kreis 7', 'Kreis 8', 'Kreis 9', 'Kreis 10', 'Kreis 11', 'Kreis 12'])\n",
    "df_leerflaeche.head()\n",
    "\n",
    "# df_leerflaeche.loc[['Kreis 1', 'Kreis 9'],:]\n",
    "\n"
   ]
  },
  {
   "cell_type": "code",
   "execution_count": 127,
   "metadata": {},
   "outputs": [
    {
     "data": {
      "text/html": [
       "<div>\n",
       "<style scoped>\n",
       "    .dataframe tbody tr th:only-of-type {\n",
       "        vertical-align: middle;\n",
       "    }\n",
       "\n",
       "    .dataframe tbody tr th {\n",
       "        vertical-align: top;\n",
       "    }\n",
       "\n",
       "    .dataframe thead th {\n",
       "        text-align: right;\n",
       "    }\n",
       "</style>\n",
       "<table border=\"1\" class=\"dataframe\">\n",
       "  <thead>\n",
       "    <tr style=\"text-align: right;\">\n",
       "      <th></th>\n",
       "      <th>2018</th>\n",
       "      <th>2017</th>\n",
       "      <th>2016</th>\n",
       "      <th>2015</th>\n",
       "      <th>2014</th>\n",
       "    </tr>\n",
       "  </thead>\n",
       "  <tbody>\n",
       "    <tr>\n",
       "      <th>Rathaus</th>\n",
       "      <td>3504</td>\n",
       "      <td>1940</td>\n",
       "      <td>2261</td>\n",
       "      <td>2261</td>\n",
       "      <td>2284</td>\n",
       "    </tr>\n",
       "    <tr>\n",
       "      <th>Hochschulen</th>\n",
       "      <td>670</td>\n",
       "      <td>1187</td>\n",
       "      <td>340</td>\n",
       "      <td>126</td>\n",
       "      <td>2218</td>\n",
       "    </tr>\n",
       "    <tr>\n",
       "      <th>Lindenhof</th>\n",
       "      <td>7542</td>\n",
       "      <td>10304</td>\n",
       "      <td>8060</td>\n",
       "      <td>7737</td>\n",
       "      <td>7381</td>\n",
       "    </tr>\n",
       "    <tr>\n",
       "      <th>City</th>\n",
       "      <td>18834</td>\n",
       "      <td>21279</td>\n",
       "      <td>21540</td>\n",
       "      <td>30821</td>\n",
       "      <td>41891</td>\n",
       "    </tr>\n",
       "    <tr>\n",
       "      <th>Wollishofen</th>\n",
       "      <td>2220</td>\n",
       "      <td>4227</td>\n",
       "      <td>5313</td>\n",
       "      <td>3790</td>\n",
       "      <td>9101</td>\n",
       "    </tr>\n",
       "  </tbody>\n",
       "</table>\n",
       "</div>"
      ],
      "text/plain": [
       "              2018   2017   2016   2015   2014\n",
       "Rathaus       3504   1940   2261   2261   2284\n",
       "Hochschulen    670   1187    340    126   2218\n",
       "Lindenhof     7542  10304   8060   7737   7381\n",
       "City         18834  21279  21540  30821  41891\n",
       "Wollishofen   2220   4227   5313   3790   9101"
      ]
     },
     "execution_count": 127,
     "metadata": {},
     "output_type": "execute_result"
    }
   ],
   "source": [
    "df_neu = df_leerflaeche.iloc[0:,0:5].head()\n",
    "df_neu"
   ]
  },
  {
   "cell_type": "code",
   "execution_count": 128,
   "metadata": {},
   "outputs": [
    {
     "data": {
      "text/plain": [
       "<matplotlib.axes._subplots.AxesSubplot at 0x11be6a4a8>"
      ]
     },
     "execution_count": 128,
     "metadata": {},
     "output_type": "execute_result"
    },
    {
     "data": {
      "image/png": "[encoded data removed]",
      "text/plain": [
       "<Figure size 1080x504 with 1 Axes>"
      ]
     },
     "metadata": {
      "needs_background": "light"
     },
     "output_type": "display_data"
    }
   ],
   "source": [
    "df_neu.plot(kind='bar', figsize=(15,7))"
   ]
  },
  {
   "cell_type": "code",
   "execution_count": null,
   "metadata": {},
   "outputs": [],
   "source": []
  },
  {
   "cell_type": "code",
   "execution_count": null,
   "metadata": {},
   "outputs": [],
   "source": []
  },
  {
   "cell_type": "code",
   "execution_count": 10,
   "metadata": {},
   "outputs": [
    {
     "ename": "NameError",
     "evalue": "name 'Data' is not defined",
     "output_type": "error",
     "traceback": [
      "\u001b[0;31m---------------------------------------------------------------------------\u001b[0m",
      "\u001b[0;31mNameError\u001b[0m                                 Traceback (most recent call last)",
      "\u001b[0;32m<ipython-input-10-305479786272>\u001b[0m in \u001b[0;36m<module>\u001b[0;34m\u001b[0m\n\u001b[1;32m      9\u001b[0m   \u001b[0;34m\"type\"\u001b[0m\u001b[0;34m:\u001b[0m \u001b[0;34m\"bar\"\u001b[0m\u001b[0;34m\u001b[0m\u001b[0m\n\u001b[1;32m     10\u001b[0m }\n\u001b[0;32m---> 11\u001b[0;31m \u001b[0mdata\u001b[0m \u001b[0;34m=\u001b[0m \u001b[0mData\u001b[0m\u001b[0;34m(\u001b[0m\u001b[0;34m[\u001b[0m\u001b[0mtrace1\u001b[0m\u001b[0;34m]\u001b[0m\u001b[0;34m)\u001b[0m\u001b[0;34m\u001b[0m\u001b[0m\n\u001b[0m\u001b[1;32m     12\u001b[0m layout = {\n\u001b[1;32m     13\u001b[0m   \u001b[0;34m\"title\"\u001b[0m\u001b[0;34m:\u001b[0m \u001b[0;34m\"Simple Bar Chart\"\u001b[0m\u001b[0;34m,\u001b[0m\u001b[0;34m\u001b[0m\u001b[0m\n",
      "\u001b[0;31mNameError\u001b[0m: name 'Data' is not defined"
     ]
    }
   ],
   "source": [
    "import plotly.plotly as py\n",
    "import plotly.graph_objs as go\n",
    "\n",
    "\n",
    "trace1 = {\n",
    "  \"x\": ['Stadtteile'], \n",
    "  \"y\": ['Fläche'], \n",
    "  \"marker\": {\"color\": \"red\"}, \n",
    "  \"type\": \"bar\"\n",
    "}\n",
    "data = Data([trace1])\n",
    "layout = {\n",
    "  \"title\": \"Simple Bar Chart\", \n",
    "  \"xaxis\": {\"title\": \"bar x axis\"}, \n",
    "  \"yaxis\": {\"title\": \"bar y axis\"}\n",
    "}\n",
    "fig = Figure(data=data, layout=layout)\n",
    "plot_url = py.plot(fig)"
   ]
  },
  {
   "cell_type": "code",
   "execution_count": null,
   "metadata": {},
   "outputs": [],
   "source": []
  },
  {
   "cell_type": "code",
   "execution_count": 37,
   "metadata": {},
   "outputs": [
    {
     "data": {
      "text/html": [
       "<script type=\"text/javascript\">window.PlotlyConfig = {MathJaxConfig: 'local'};</script><script type=\"text/javascript\">if (window.MathJax) {MathJax.Hub.Config({SVG: {font: \"STIX-Web\"}});}</script><script>requirejs.config({paths: { 'plotly': ['https://cdn.plot.ly/plotly-latest.min']},});if(!window._Plotly) {require(['plotly'],function(plotly) {window._Plotly=plotly;});}</script>"
      ],
      "text/vnd.plotly.v1+html": [
       "<script type=\"text/javascript\">window.PlotlyConfig = {MathJaxConfig: 'local'};</script><script type=\"text/javascript\">if (window.MathJax) {MathJax.Hub.Config({SVG: {font: \"STIX-Web\"}});}</script><script>requirejs.config({paths: { 'plotly': ['https://cdn.plot.ly/plotly-latest.min']},});if(!window._Plotly) {require(['plotly'],function(plotly) {window._Plotly=plotly;});}</script>"
      ]
     },
     "metadata": {},
     "output_type": "display_data"
    },
    {
     "data": {
      "application/vnd.plotly.v1+json": {
       "config": {
        "linkText": "Export to plot.ly",
        "plotlyServerURL": "https://plot.ly",
        "showLink": true
       },
       "data": [
        {
         "name": "BE Zoo",
         "type": "bar",
         "uid": "e10ff88e-8488-499a-bd0d-dd538c2fe8a7",
         "x": [
          "Rathaus",
          "Hochschulen",
          "Lindenhof",
          "City"
         ],
         "y": [
          "2014",
          "2015",
          "2016",
          "2017",
          "2018"
         ]
        },
        {
         "name": "ZH Zoo",
         "type": "bar",
         "uid": "fec18e3a-e677-4b4e-acaa-1785e9064354",
         "x": [
          "Rathaus",
          "Hochschulen",
          "Lindenhof",
          "City"
         ],
         "y": [
          "2014",
          "2015",
          "2016",
          "2017",
          "2018"
         ]
        }
       ],
       "layout": {}
      },
      "text/html": [
       "<div id=\"c544ac89-4bc4-4313-aa91-245492707f76\" style=\"height: 525px; width: 100%;\" class=\"plotly-graph-div\"></div><script type=\"text/javascript\">require([\"plotly\"], function(Plotly) { window.PLOTLYENV=window.PLOTLYENV || {};window.PLOTLYENV.BASE_URL=\"https://plot.ly\";Plotly.newPlot(\"c544ac89-4bc4-4313-aa91-245492707f76\", [{\"name\": \"BE Zoo\", \"x\": [\"Rathaus\", \"Hochschulen\", \"Lindenhof\", \"City\"], \"y\": [\"2014\", \"2015\", \"2016\", \"2017\", \"2018\"], \"type\": \"bar\", \"uid\": \"e10ff88e-8488-499a-bd0d-dd538c2fe8a7\"}, {\"name\": \"ZH Zoo\", \"x\": [\"Rathaus\", \"Hochschulen\", \"Lindenhof\", \"City\"], \"y\": [\"2014\", \"2015\", \"2016\", \"2017\", \"2018\"], \"type\": \"bar\", \"uid\": \"fec18e3a-e677-4b4e-acaa-1785e9064354\"}], {}, {\"showLink\": true, \"linkText\": \"Export to plot.ly\", \"plotlyServerURL\": \"https://plot.ly\"})});</script><script type=\"text/javascript\">window.addEventListener(\"resize\", function(){window._Plotly.Plots.resize(document.getElementById(\"c544ac89-4bc4-4313-aa91-245492707f76\"));});</script>"
      ],
      "text/vnd.plotly.v1+html": [
       "<div id=\"c544ac89-4bc4-4313-aa91-245492707f76\" style=\"height: 525px; width: 100%;\" class=\"plotly-graph-div\"></div><script type=\"text/javascript\">require([\"plotly\"], function(Plotly) { window.PLOTLYENV=window.PLOTLYENV || {};window.PLOTLYENV.BASE_URL=\"https://plot.ly\";Plotly.newPlot(\"c544ac89-4bc4-4313-aa91-245492707f76\", [{\"name\": \"BE Zoo\", \"x\": [\"Rathaus\", \"Hochschulen\", \"Lindenhof\", \"City\"], \"y\": [\"2014\", \"2015\", \"2016\", \"2017\", \"2018\"], \"type\": \"bar\", \"uid\": \"e10ff88e-8488-499a-bd0d-dd538c2fe8a7\"}, {\"name\": \"ZH Zoo\", \"x\": [\"Rathaus\", \"Hochschulen\", \"Lindenhof\", \"City\"], \"y\": [\"2014\", \"2015\", \"2016\", \"2017\", \"2018\"], \"type\": \"bar\", \"uid\": \"fec18e3a-e677-4b4e-acaa-1785e9064354\"}], {}, {\"showLink\": true, \"linkText\": \"Export to plot.ly\", \"plotlyServerURL\": \"https://plot.ly\"})});</script><script type=\"text/javascript\">window.addEventListener(\"resize\", function(){window._Plotly.Plots.resize(document.getElementById(\"c544ac89-4bc4-4313-aa91-245492707f76\"));});</script>"
      ]
     },
     "metadata": {},
     "output_type": "display_data"
    }
   ],
   "source": [
    "import plotly.offline as pyo\n",
    "import plotly.graph_objs as go\n",
    "import numpy as np\n",
    "\n",
    "pyo.init_notebook_mode(connected=True)\n",
    "\n",
    "trace1 = go.Bar(\n",
    "    x=['Rathaus', 'Hochschulen', 'Lindenhof', 'City'],\n",
    "    y=['2014', '2015', '2016', '2017', '2018'],\n",
    "    name='BE Zoo'\n",
    ")\n",
    "\n",
    "trace2 = go.Bar(\n",
    "    x=['Rathaus', 'Hochschulen', 'Lindenhof', 'City'],\n",
    "    y=['2014', '2015', '2016', '2017', '2018'],\n",
    "    name='ZH Zoo'\n",
    ")\n",
    "\n",
    "# trace1 = go.Bar(\n",
    "#     x=['2014', '2015', '2016', '2017', '2018'],\n",
    "#     y=['Rathaus', 'Hochschulen', 'Lindenhof', 'City'],\n",
    "#     name='SF Zoo'\n",
    "# )\n",
    "# trace2 = go.Bar(\n",
    "#     x=['2014', '2015', '2016', '2017', '2018'],\n",
    "#     y=['Rathaus', 'Hochschulen', 'Lindenhof', 'City'],\n",
    "#     name='LA Zoo'\n",
    "# )\n",
    "\n",
    "data = [trace1, trace2]\n",
    "layout = go.Layout(\n",
    "    barmode='group'\n",
    ")\n",
    "\n",
    "fig = go.Figure(data=data)\n",
    "pyo.iplot(fig, filename='hover-chart-basic')\n",
    "\n",
    "\n",
    "# fig = go.Figure(data=data, layout=layout)\n",
    "# py.iplot(fig, filename='grouped-bar')"
   ]
  },
  {
   "cell_type": "code",
   "execution_count": null,
   "metadata": {},
   "outputs": [],
   "source": []
  },
  {
   "cell_type": "code",
   "execution_count": null,
   "metadata": {},
   "outputs": [],
   "source": []
  },
  {
   "cell_type": "code",
   "execution_count": null,
   "metadata": {},
   "outputs": [],
   "source": [
    "# import plotly.offline as pyo\n",
    "# import plotly.graph_objs as go\n",
    "# import numpy as np\n",
    "\n",
    "# pyo.init_notebook_mode(connected=True)\n",
    "\n",
    "# np.random.seed(42)\n",
    "# random_x = np.random.randint(1,101,100)\n",
    "# random_y = np.random.randint(1,101,100)\n",
    "\n",
    "# data = [go.Scatter(\n",
    "#     x = random_x,\n",
    "#     y = random_y,\n",
    "#     mode = 'markers',\n",
    "# )]\n",
    "# fig = go.Figure(data=data)\n",
    "# pyo.iplot(fig, filename='hover-chart-basic')"
   ]
  },
  {
   "cell_type": "code",
   "execution_count": null,
   "metadata": {},
   "outputs": [],
   "source": []
  },
  {
   "cell_type": "code",
   "execution_count": 29,
   "metadata": {},
   "outputs": [
    {
     "data": {
      "text/html": [
       "<script type=\"text/javascript\">window.PlotlyConfig = {MathJaxConfig: 'local'};</script><script type=\"text/javascript\">if (window.MathJax) {MathJax.Hub.Config({SVG: {font: \"STIX-Web\"}});}</script><script>requirejs.config({paths: { 'plotly': ['https://cdn.plot.ly/plotly-latest.min']},});if(!window._Plotly) {require(['plotly'],function(plotly) {window._Plotly=plotly;});}</script>"
      ],
      "text/vnd.plotly.v1+html": [
       "<script type=\"text/javascript\">window.PlotlyConfig = {MathJaxConfig: 'local'};</script><script type=\"text/javascript\">if (window.MathJax) {MathJax.Hub.Config({SVG: {font: \"STIX-Web\"}});}</script><script>requirejs.config({paths: { 'plotly': ['https://cdn.plot.ly/plotly-latest.min']},});if(!window._Plotly) {require(['plotly'],function(plotly) {window._Plotly=plotly;});}</script>"
      ]
     },
     "metadata": {},
     "output_type": "display_data"
    },
    {
     "data": {
      "application/vnd.plotly.v1+json": {
       "config": {
        "linkText": "Export to plot.ly",
        "plotlyServerURL": "https://plot.ly",
        "showLink": true
       },
       "data": [
        {
         "name": "BE Zoo",
         "type": "bar",
         "uid": "7efc52fa-ff1c-491b-9cc0-5179d4612f7e",
         "x": [
          "Rathaus",
          "Hochschulen",
          "Lindenhof",
          "City"
         ],
         "y": [
          "2014",
          "2015",
          "2016",
          "2017",
          "2018"
         ]
        },
        {
         "name": "ZH Zoo",
         "type": "bar",
         "uid": "bcd79ab6-c64d-417e-b516-87c794ee9637",
         "x": [
          "Rathaus",
          "Hochschulen",
          "Lindenhof",
          "City"
         ],
         "y": [
          "2014",
          "2015",
          "2016",
          "2017",
          "2018"
         ]
        }
       ],
       "layout": {}
      },
      "text/html": [
       "<div id=\"a4b0fa35-d72b-4bab-b9d0-b9358623824a\" style=\"height: 525px; width: 100%;\" class=\"plotly-graph-div\"></div><script type=\"text/javascript\">require([\"plotly\"], function(Plotly) { window.PLOTLYENV=window.PLOTLYENV || {};window.PLOTLYENV.BASE_URL=\"https://plot.ly\";Plotly.newPlot(\"a4b0fa35-d72b-4bab-b9d0-b9358623824a\", [{\"name\": \"BE Zoo\", \"x\": [\"Rathaus\", \"Hochschulen\", \"Lindenhof\", \"City\"], \"y\": [\"2014\", \"2015\", \"2016\", \"2017\", \"2018\"], \"type\": \"bar\", \"uid\": \"7efc52fa-ff1c-491b-9cc0-5179d4612f7e\"}, {\"name\": \"ZH Zoo\", \"x\": [\"Rathaus\", \"Hochschulen\", \"Lindenhof\", \"City\"], \"y\": [\"2014\", \"2015\", \"2016\", \"2017\", \"2018\"], \"type\": \"bar\", \"uid\": \"bcd79ab6-c64d-417e-b516-87c794ee9637\"}], {}, {\"showLink\": true, \"linkText\": \"Export to plot.ly\", \"plotlyServerURL\": \"https://plot.ly\"})});</script><script type=\"text/javascript\">window.addEventListener(\"resize\", function(){window._Plotly.Plots.resize(document.getElementById(\"a4b0fa35-d72b-4bab-b9d0-b9358623824a\"));});</script>"
      ],
      "text/vnd.plotly.v1+html": [
       "<div id=\"a4b0fa35-d72b-4bab-b9d0-b9358623824a\" style=\"height: 525px; width: 100%;\" class=\"plotly-graph-div\"></div><script type=\"text/javascript\">require([\"plotly\"], function(Plotly) { window.PLOTLYENV=window.PLOTLYENV || {};window.PLOTLYENV.BASE_URL=\"https://plot.ly\";Plotly.newPlot(\"a4b0fa35-d72b-4bab-b9d0-b9358623824a\", [{\"name\": \"BE Zoo\", \"x\": [\"Rathaus\", \"Hochschulen\", \"Lindenhof\", \"City\"], \"y\": [\"2014\", \"2015\", \"2016\", \"2017\", \"2018\"], \"type\": \"bar\", \"uid\": \"7efc52fa-ff1c-491b-9cc0-5179d4612f7e\"}, {\"name\": \"ZH Zoo\", \"x\": [\"Rathaus\", \"Hochschulen\", \"Lindenhof\", \"City\"], \"y\": [\"2014\", \"2015\", \"2016\", \"2017\", \"2018\"], \"type\": \"bar\", \"uid\": \"bcd79ab6-c64d-417e-b516-87c794ee9637\"}], {}, {\"showLink\": true, \"linkText\": \"Export to plot.ly\", \"plotlyServerURL\": \"https://plot.ly\"})});</script><script type=\"text/javascript\">window.addEventListener(\"resize\", function(){window._Plotly.Plots.resize(document.getElementById(\"a4b0fa35-d72b-4bab-b9d0-b9358623824a\"));});</script>"
      ]
     },
     "metadata": {},
     "output_type": "display_data"
    }
   ],
   "source": [
    "import plotly.offline as pyo\n",
    "import plotly.graph_objs as go\n",
    "import numpy as np\n",
    "\n",
    "pyo.init_notebook_mode(connected=True)\n",
    "\n",
    "trace1 = go.Bar(\n",
    "    x=['Rathaus', 'Hochschulen', 'Lindenhof', 'City'],\n",
    "    y=['2014', '2015', '2016', '2017', '2018'],\n",
    "    name='BE Zoo'\n",
    ")\n",
    "\n",
    "trace2 = go.Bar(\n",
    "    x=['Rathaus', 'Hochschulen', 'Lindenhof', 'City'],\n",
    "    y=['2014', '2015', '2016', '2017', '2018'],\n",
    "    name='ZH Zoo'\n",
    ")\n",
    "\n",
    "# trace1 = go.Bar(\n",
    "#     x=['2014', '2015', '2016', '2017', '2018'],\n",
    "#     y=['Rathaus', 'Hochschulen', 'Lindenhof', 'City'],\n",
    "#     name='SF Zoo'\n",
    "# )\n",
    "# trace2 = go.Bar(\n",
    "#     x=['2014', '2015', '2016', '2017', '2018'],\n",
    "#     y=['Rathaus', 'Hochschulen', 'Lindenhof', 'City'],\n",
    "#     name='LA Zoo'\n",
    "# )\n",
    "\n",
    "data = [trace1, trace2]\n",
    "layout = go.Layout(\n",
    "    barmode='group'\n",
    ")\n",
    "\n",
    "fig = go.Figure(data=data)\n",
    "pyo.iplot(fig, filename='hover-chart-basic')\n",
    "\n",
    "\n",
    "# fig = go.Figure(data=data, layout=layout)\n",
    "# py.iplot(fig, filename='grouped-bar')"
   ]
  },
  {
   "cell_type": "code",
   "execution_count": null,
   "metadata": {},
   "outputs": [],
   "source": []
  },
  {
   "cell_type": "code",
   "execution_count": null,
   "metadata": {},
   "outputs": [],
   "source": []
  },
  {
   "cell_type": "code",
   "execution_count": null,
   "metadata": {},
   "outputs": [],
   "source": []
  }
 ],
 "metadata": {
  "kernelspec": {
   "display_name": "Python 3",
   "language": "python",
   "name": "python3"
  },
  "language_info": {
   "codemirror_mode": {
    "name": "ipython",
    "version": 3
   },
   "file_extension": ".py",
   "mimetype": "text/x-python",
   "name": "python",
   "nbconvert_exporter": "python",
   "pygments_lexer": "ipython3",
   "version": "3.7.0"
  }
 },
 "nbformat": 4,
 "nbformat_minor": 2
}
