{
 "cells": [
  {
   "cell_type": "code",
   "execution_count": 428,
   "metadata": {},
   "outputs": [],
   "source": [
    "import pandas as pd\n",
    "import numpy as nps"
   ]
  },
  {
   "cell_type": "code",
   "execution_count": 429,
   "metadata": {},
   "outputs": [],
   "source": [
    "%matplotlib inline"
   ]
  },
  {
   "cell_type": "code",
   "execution_count": 430,
   "metadata": {
    "scrolled": true
   },
   "outputs": [],
   "source": [
    "import matplotlib.pyplot as plt\n",
    "import seaborn as sns\n",
    "\n",
    "import plotly.plotly as py\n",
    "import plotly.graph_objs as go\n",
    "# from plotly.offline import init_notebook_mode, iplot\n",
    "\n",
    "# init_notebook_mode()\n",
    "\n",
    "\n",
    "import cufflinks as cf\n",
    "import numpy as np\n",
    "\n",
    "# import plotly.tools as tls\n",
    "# tls.embed('https://plot.ly/~cufflinks/8')\n"
   ]
  },
  {
   "cell_type": "code",
   "execution_count": 431,
   "metadata": {},
   "outputs": [],
   "source": [
    "df = pd.read_excel('Daten/Gewerbe/Leerflaechen_Nutzungsart-und-Quartier.xlsx',\n",
    "                   index_col=0, header=9).fillna(0)"
   ]
  },
  {
   "cell_type": "code",
   "execution_count": 432,
   "metadata": {
    "scrolled": false
   },
   "outputs": [
    {
     "data": {
      "text/html": [
       "<div>\n",
       "<style scoped>\n",
       "    .dataframe tbody tr th:only-of-type {\n",
       "        vertical-align: middle;\n",
       "    }\n",
       "\n",
       "    .dataframe tbody tr th {\n",
       "        vertical-align: top;\n",
       "    }\n",
       "\n",
       "    .dataframe thead th {\n",
       "        text-align: right;\n",
       "    }\n",
       "</style>\n",
       "<table border=\"1\" class=\"dataframe\">\n",
       "  <thead>\n",
       "    <tr style=\"text-align: right;\">\n",
       "      <th></th>\n",
       "      <th>Leerfläche (m²)</th>\n",
       "      <th>Unnamed: 1</th>\n",
       "      <th>Unnamed: 2</th>\n",
       "      <th>Unnamed: 3</th>\n",
       "      <th>Unnamed: 4</th>\n",
       "      <th>Leerfläche (m²).1</th>\n",
       "      <th>Unnamed: 6</th>\n",
       "      <th>Unnamed: 7</th>\n",
       "      <th>Unnamed: 8</th>\n",
       "      <th>Unnamed: 9</th>\n",
       "      <th>Leerflächenziffer</th>\n",
       "      <th>Unnamed: 11</th>\n",
       "      <th>Unnamed: 12</th>\n",
       "      <th>Unnamed: 13</th>\n",
       "      <th>Unnamed: 14</th>\n",
       "      <th>Leerfläche (m²).2</th>\n",
       "      <th>Unnamed: 16</th>\n",
       "      <th>Unnamed: 17</th>\n",
       "      <th>Unnamed: 18</th>\n",
       "    </tr>\n",
       "  </thead>\n",
       "  <tbody>\n",
       "    <tr>\n",
       "      <th>NaN</th>\n",
       "      <td>2018</td>\n",
       "      <td>2017</td>\n",
       "      <td>2016</td>\n",
       "      <td>2015.0</td>\n",
       "      <td>2014</td>\n",
       "      <td>2018</td>\n",
       "      <td>2017</td>\n",
       "      <td>2016</td>\n",
       "      <td>2015</td>\n",
       "      <td>2014</td>\n",
       "      <td>2018.000000</td>\n",
       "      <td>2017.000000</td>\n",
       "      <td>2016.000000</td>\n",
       "      <td>2015.000000</td>\n",
       "      <td>2014.000000</td>\n",
       "      <td>2018</td>\n",
       "      <td>2018</td>\n",
       "      <td>2018</td>\n",
       "      <td>2018</td>\n",
       "    </tr>\n",
       "    <tr>\n",
       "      <th>Ganze Stadt</th>\n",
       "      <td>187714</td>\n",
       "      <td>243660</td>\n",
       "      <td>237054</td>\n",
       "      <td>256450.0</td>\n",
       "      <td>264548</td>\n",
       "      <td>139664</td>\n",
       "      <td>174381</td>\n",
       "      <td>193027</td>\n",
       "      <td>207901</td>\n",
       "      <td>214900</td>\n",
       "      <td>1.820000</td>\n",
       "      <td>2.294606</td>\n",
       "      <td>2.550520</td>\n",
       "      <td>2.757742</td>\n",
       "      <td>2.919305</td>\n",
       "      <td>31663</td>\n",
       "      <td>5381</td>\n",
       "      <td>5122</td>\n",
       "      <td>5884</td>\n",
       "    </tr>\n",
       "    <tr>\n",
       "      <th>Kreis 1</th>\n",
       "      <td>30550</td>\n",
       "      <td>34710</td>\n",
       "      <td>32201</td>\n",
       "      <td>40945.0</td>\n",
       "      <td>53774</td>\n",
       "      <td>23805</td>\n",
       "      <td>29535</td>\n",
       "      <td>29807</td>\n",
       "      <td>36180</td>\n",
       "      <td>49692</td>\n",
       "      <td>3.009313</td>\n",
       "      <td>3.722381</td>\n",
       "      <td>3.713889</td>\n",
       "      <td>4.494553</td>\n",
       "      <td>6.442308</td>\n",
       "      <td>2436</td>\n",
       "      <td>1889</td>\n",
       "      <td>214</td>\n",
       "      <td>2206</td>\n",
       "    </tr>\n",
       "    <tr>\n",
       "      <th>Rathaus</th>\n",
       "      <td>3504</td>\n",
       "      <td>1940</td>\n",
       "      <td>2261</td>\n",
       "      <td>2261.0</td>\n",
       "      <td>2284</td>\n",
       "      <td>1399</td>\n",
       "      <td>1940</td>\n",
       "      <td>1315</td>\n",
       "      <td>2113</td>\n",
       "      <td>1856</td>\n",
       "      <td>1.312454</td>\n",
       "      <td>1.828309</td>\n",
       "      <td>1.280151</td>\n",
       "      <td>2.055668</td>\n",
       "      <td>1.791554</td>\n",
       "      <td>128</td>\n",
       "      <td>383</td>\n",
       "      <td>64</td>\n",
       "      <td>1530</td>\n",
       "    </tr>\n",
       "    <tr>\n",
       "      <th>Hochschulen</th>\n",
       "      <td>670</td>\n",
       "      <td>1187</td>\n",
       "      <td>340</td>\n",
       "      <td>126.0</td>\n",
       "      <td>2218</td>\n",
       "      <td>670</td>\n",
       "      <td>797</td>\n",
       "      <td>340</td>\n",
       "      <td>126</td>\n",
       "      <td>2218</td>\n",
       "      <td>0.870212</td>\n",
       "      <td>1.018492</td>\n",
       "      <td>0.414879</td>\n",
       "      <td>0.147865</td>\n",
       "      <td>2.591527</td>\n",
       "      <td>0</td>\n",
       "      <td>0</td>\n",
       "      <td>0</td>\n",
       "      <td>0</td>\n",
       "    </tr>\n",
       "  </tbody>\n",
       "</table>\n",
       "</div>"
      ],
      "text/plain": [
       "             Leerfläche (m²)  Unnamed: 1  Unnamed: 2  Unnamed: 3  Unnamed: 4  \\\n",
       "NaN                     2018        2017        2016      2015.0        2014   \n",
       "Ganze Stadt           187714      243660      237054    256450.0      264548   \n",
       "Kreis 1                30550       34710       32201     40945.0       53774   \n",
       "Rathaus                 3504        1940        2261      2261.0        2284   \n",
       "Hochschulen              670        1187         340       126.0        2218   \n",
       "\n",
       "             Leerfläche (m²).1  Unnamed: 6  Unnamed: 7  Unnamed: 8  \\\n",
       "NaN                       2018        2017        2016        2015   \n",
       "Ganze Stadt             139664      174381      193027      207901   \n",
       "Kreis 1                  23805       29535       29807       36180   \n",
       "Rathaus                   1399        1940        1315        2113   \n",
       "Hochschulen                670         797         340         126   \n",
       "\n",
       "             Unnamed: 9  Leerflächenziffer  Unnamed: 11  Unnamed: 12  \\\n",
       "NaN                2014        2018.000000  2017.000000  2016.000000   \n",
       "Ganze Stadt      214900           1.820000     2.294606     2.550520   \n",
       "Kreis 1           49692           3.009313     3.722381     3.713889   \n",
       "Rathaus            1856           1.312454     1.828309     1.280151   \n",
       "Hochschulen        2218           0.870212     1.018492     0.414879   \n",
       "\n",
       "             Unnamed: 13  Unnamed: 14  Leerfläche (m²).2  Unnamed: 16  \\\n",
       "NaN          2015.000000  2014.000000               2018         2018   \n",
       "Ganze Stadt     2.757742     2.919305              31663         5381   \n",
       "Kreis 1         4.494553     6.442308               2436         1889   \n",
       "Rathaus         2.055668     1.791554                128          383   \n",
       "Hochschulen     0.147865     2.591527                  0            0   \n",
       "\n",
       "             Unnamed: 17  Unnamed: 18  \n",
       "NaN                 2018         2018  \n",
       "Ganze Stadt         5122         5884  \n",
       "Kreis 1              214         2206  \n",
       "Rathaus               64         1530  \n",
       "Hochschulen            0            0  "
      ]
     },
     "execution_count": 432,
     "metadata": {},
     "output_type": "execute_result"
    }
   ],
   "source": [
    "df.head()"
   ]
  },
  {
   "cell_type": "code",
   "execution_count": 433,
   "metadata": {},
   "outputs": [
    {
     "data": {
      "text/plain": [
       "Leerfläche (m²)        int64\n",
       "Unnamed: 1             int64\n",
       "Unnamed: 2             int64\n",
       "Unnamed: 3           float64\n",
       "Unnamed: 4             int64\n",
       "Leerfläche (m²).1      int64\n",
       "Unnamed: 6             int64\n",
       "Unnamed: 7             int64\n",
       "Unnamed: 8             int64\n",
       "Unnamed: 9             int64\n",
       "Leerflächenziffer    float64\n",
       "Unnamed: 11          float64\n",
       "Unnamed: 12          float64\n",
       "Unnamed: 13          float64\n",
       "Unnamed: 14          float64\n",
       "Leerfläche (m²).2      int64\n",
       "Unnamed: 16            int64\n",
       "Unnamed: 17            int64\n",
       "Unnamed: 18            int64\n",
       "dtype: object"
      ]
     },
     "execution_count": 433,
     "metadata": {},
     "output_type": "execute_result"
    }
   ],
   "source": [
    "df.dtypes"
   ]
  },
  {
   "cell_type": "code",
   "execution_count": 434,
   "metadata": {},
   "outputs": [
    {
     "data": {
      "text/plain": [
       "Index(['Leerfläche (m²)', 'Unnamed: 1', 'Unnamed: 2', 'Unnamed: 3',\n",
       "       'Unnamed: 4', 'Leerfläche (m²).1', 'Unnamed: 6', 'Unnamed: 7',\n",
       "       'Unnamed: 8', 'Unnamed: 9', 'Leerflächenziffer', 'Unnamed: 11',\n",
       "       'Unnamed: 12', 'Unnamed: 13', 'Unnamed: 14', 'Leerfläche (m²).2',\n",
       "       'Unnamed: 16', 'Unnamed: 17', 'Unnamed: 18'],\n",
       "      dtype='object')"
      ]
     },
     "execution_count": 434,
     "metadata": {},
     "output_type": "execute_result"
    }
   ],
   "source": [
    "df.columns"
   ]
  },
  {
   "cell_type": "code",
   "execution_count": 435,
   "metadata": {},
   "outputs": [
    {
     "data": {
      "text/plain": [
       "(48, 19)"
      ]
     },
     "execution_count": 435,
     "metadata": {},
     "output_type": "execute_result"
    }
   ],
   "source": [
    "df.shape"
   ]
  },
  {
   "cell_type": "markdown",
   "metadata": {},
   "source": [
    "------------"
   ]
  },
  {
   "cell_type": "markdown",
   "metadata": {},
   "source": [
    "# Leerflächen Gewerbe total nach Quartier von 2014 bis 2018"
   ]
  },
  {
   "cell_type": "code",
   "execution_count": 436,
   "metadata": {},
   "outputs": [],
   "source": [
    "df = pd.read_excel('Daten/Gewerbe/Leerflaechen_Nutzungsart-und-Quartier.xlsx',\n",
    "                   index_col=0, header=10).fillna(0)\n",
    "# .astype(int)"
   ]
  },
  {
   "cell_type": "code",
   "execution_count": 437,
   "metadata": {},
   "outputs": [
    {
     "data": {
      "text/html": [
       "<div>\n",
       "<style scoped>\n",
       "    .dataframe tbody tr th:only-of-type {\n",
       "        vertical-align: middle;\n",
       "    }\n",
       "\n",
       "    .dataframe tbody tr th {\n",
       "        vertical-align: top;\n",
       "    }\n",
       "\n",
       "    .dataframe thead th {\n",
       "        text-align: right;\n",
       "    }\n",
       "</style>\n",
       "<table border=\"1\" class=\"dataframe\">\n",
       "  <thead>\n",
       "    <tr style=\"text-align: right;\">\n",
       "      <th></th>\n",
       "      <th>2018</th>\n",
       "      <th>2017</th>\n",
       "      <th>2016</th>\n",
       "      <th>2015</th>\n",
       "      <th>2014</th>\n",
       "      <th>2018.1</th>\n",
       "      <th>2017.1</th>\n",
       "      <th>2016.1</th>\n",
       "      <th>2015.1</th>\n",
       "      <th>2014.1</th>\n",
       "      <th>2018.2</th>\n",
       "      <th>2017.2</th>\n",
       "      <th>2016.2</th>\n",
       "      <th>2015.2</th>\n",
       "      <th>2014.2</th>\n",
       "      <th>2018.3</th>\n",
       "      <th>2018.4</th>\n",
       "      <th>2018.5</th>\n",
       "      <th>2018.6</th>\n",
       "    </tr>\n",
       "  </thead>\n",
       "  <tbody>\n",
       "    <tr>\n",
       "      <th>Ganze Stadt</th>\n",
       "      <td>187714</td>\n",
       "      <td>243660</td>\n",
       "      <td>237054</td>\n",
       "      <td>256450.0</td>\n",
       "      <td>264548</td>\n",
       "      <td>139664</td>\n",
       "      <td>174381</td>\n",
       "      <td>193027</td>\n",
       "      <td>207901</td>\n",
       "      <td>214900</td>\n",
       "      <td>1.820000</td>\n",
       "      <td>2.294606</td>\n",
       "      <td>2.550520</td>\n",
       "      <td>2.757742</td>\n",
       "      <td>2.919305</td>\n",
       "      <td>31663</td>\n",
       "      <td>5381</td>\n",
       "      <td>5122</td>\n",
       "      <td>5884</td>\n",
       "    </tr>\n",
       "    <tr>\n",
       "      <th>Kreis 1</th>\n",
       "      <td>30550</td>\n",
       "      <td>34710</td>\n",
       "      <td>32201</td>\n",
       "      <td>40945.0</td>\n",
       "      <td>53774</td>\n",
       "      <td>23805</td>\n",
       "      <td>29535</td>\n",
       "      <td>29807</td>\n",
       "      <td>36180</td>\n",
       "      <td>49692</td>\n",
       "      <td>3.009313</td>\n",
       "      <td>3.722381</td>\n",
       "      <td>3.713889</td>\n",
       "      <td>4.494553</td>\n",
       "      <td>6.442308</td>\n",
       "      <td>2436</td>\n",
       "      <td>1889</td>\n",
       "      <td>214</td>\n",
       "      <td>2206</td>\n",
       "    </tr>\n",
       "    <tr>\n",
       "      <th>Rathaus</th>\n",
       "      <td>3504</td>\n",
       "      <td>1940</td>\n",
       "      <td>2261</td>\n",
       "      <td>2261.0</td>\n",
       "      <td>2284</td>\n",
       "      <td>1399</td>\n",
       "      <td>1940</td>\n",
       "      <td>1315</td>\n",
       "      <td>2113</td>\n",
       "      <td>1856</td>\n",
       "      <td>1.312454</td>\n",
       "      <td>1.828309</td>\n",
       "      <td>1.280151</td>\n",
       "      <td>2.055668</td>\n",
       "      <td>1.791554</td>\n",
       "      <td>128</td>\n",
       "      <td>383</td>\n",
       "      <td>64</td>\n",
       "      <td>1530</td>\n",
       "    </tr>\n",
       "    <tr>\n",
       "      <th>Hochschulen</th>\n",
       "      <td>670</td>\n",
       "      <td>1187</td>\n",
       "      <td>340</td>\n",
       "      <td>126.0</td>\n",
       "      <td>2218</td>\n",
       "      <td>670</td>\n",
       "      <td>797</td>\n",
       "      <td>340</td>\n",
       "      <td>126</td>\n",
       "      <td>2218</td>\n",
       "      <td>0.870212</td>\n",
       "      <td>1.018492</td>\n",
       "      <td>0.414879</td>\n",
       "      <td>0.147865</td>\n",
       "      <td>2.591527</td>\n",
       "      <td>0</td>\n",
       "      <td>0</td>\n",
       "      <td>0</td>\n",
       "      <td>0</td>\n",
       "    </tr>\n",
       "    <tr>\n",
       "      <th>Lindenhof</th>\n",
       "      <td>7542</td>\n",
       "      <td>10304</td>\n",
       "      <td>8060</td>\n",
       "      <td>7737.0</td>\n",
       "      <td>7381</td>\n",
       "      <td>6963</td>\n",
       "      <td>8158</td>\n",
       "      <td>7725</td>\n",
       "      <td>7374</td>\n",
       "      <td>6967</td>\n",
       "      <td>3.940022</td>\n",
       "      <td>4.657459</td>\n",
       "      <td>4.368561</td>\n",
       "      <td>4.170103</td>\n",
       "      <td>4.011771</td>\n",
       "      <td>579</td>\n",
       "      <td>0</td>\n",
       "      <td>0</td>\n",
       "      <td>0</td>\n",
       "    </tr>\n",
       "  </tbody>\n",
       "</table>\n",
       "</div>"
      ],
      "text/plain": [
       "               2018    2017    2016      2015    2014  2018.1  2017.1  2016.1  \\\n",
       "Ganze Stadt  187714  243660  237054  256450.0  264548  139664  174381  193027   \n",
       "Kreis 1       30550   34710   32201   40945.0   53774   23805   29535   29807   \n",
       "Rathaus        3504    1940    2261    2261.0    2284    1399    1940    1315   \n",
       "Hochschulen     670    1187     340     126.0    2218     670     797     340   \n",
       "Lindenhof      7542   10304    8060    7737.0    7381    6963    8158    7725   \n",
       "\n",
       "             2015.1  2014.1    2018.2    2017.2    2016.2    2015.2    2014.2  \\\n",
       "Ganze Stadt  207901  214900  1.820000  2.294606  2.550520  2.757742  2.919305   \n",
       "Kreis 1       36180   49692  3.009313  3.722381  3.713889  4.494553  6.442308   \n",
       "Rathaus        2113    1856  1.312454  1.828309  1.280151  2.055668  1.791554   \n",
       "Hochschulen     126    2218  0.870212  1.018492  0.414879  0.147865  2.591527   \n",
       "Lindenhof      7374    6967  3.940022  4.657459  4.368561  4.170103  4.011771   \n",
       "\n",
       "             2018.3  2018.4  2018.5  2018.6  \n",
       "Ganze Stadt   31663    5381    5122    5884  \n",
       "Kreis 1        2436    1889     214    2206  \n",
       "Rathaus         128     383      64    1530  \n",
       "Hochschulen       0       0       0       0  \n",
       "Lindenhof       579       0       0       0  "
      ]
     },
     "execution_count": 437,
     "metadata": {},
     "output_type": "execute_result"
    }
   ],
   "source": [
    "df.head()"
   ]
  },
  {
   "cell_type": "code",
   "execution_count": 438,
   "metadata": {
    "scrolled": false
   },
   "outputs": [],
   "source": [
    "df_leerflaeche_total = df.iloc[0:,0:5]"
   ]
  },
  {
   "cell_type": "code",
   "execution_count": 439,
   "metadata": {},
   "outputs": [
    {
     "data": {
      "text/html": [
       "<div>\n",
       "<style scoped>\n",
       "    .dataframe tbody tr th:only-of-type {\n",
       "        vertical-align: middle;\n",
       "    }\n",
       "\n",
       "    .dataframe tbody tr th {\n",
       "        vertical-align: top;\n",
       "    }\n",
       "\n",
       "    .dataframe thead th {\n",
       "        text-align: right;\n",
       "    }\n",
       "</style>\n",
       "<table border=\"1\" class=\"dataframe\">\n",
       "  <thead>\n",
       "    <tr style=\"text-align: right;\">\n",
       "      <th></th>\n",
       "      <th>2018</th>\n",
       "      <th>2017</th>\n",
       "      <th>2016</th>\n",
       "      <th>2015</th>\n",
       "      <th>2014</th>\n",
       "    </tr>\n",
       "  </thead>\n",
       "  <tbody>\n",
       "    <tr>\n",
       "      <th>Ganze Stadt</th>\n",
       "      <td>187714</td>\n",
       "      <td>243660</td>\n",
       "      <td>237054</td>\n",
       "      <td>256450.0</td>\n",
       "      <td>264548</td>\n",
       "    </tr>\n",
       "    <tr>\n",
       "      <th>Kreis 1</th>\n",
       "      <td>30550</td>\n",
       "      <td>34710</td>\n",
       "      <td>32201</td>\n",
       "      <td>40945.0</td>\n",
       "      <td>53774</td>\n",
       "    </tr>\n",
       "    <tr>\n",
       "      <th>Rathaus</th>\n",
       "      <td>3504</td>\n",
       "      <td>1940</td>\n",
       "      <td>2261</td>\n",
       "      <td>2261.0</td>\n",
       "      <td>2284</td>\n",
       "    </tr>\n",
       "    <tr>\n",
       "      <th>Hochschulen</th>\n",
       "      <td>670</td>\n",
       "      <td>1187</td>\n",
       "      <td>340</td>\n",
       "      <td>126.0</td>\n",
       "      <td>2218</td>\n",
       "    </tr>\n",
       "    <tr>\n",
       "      <th>Lindenhof</th>\n",
       "      <td>7542</td>\n",
       "      <td>10304</td>\n",
       "      <td>8060</td>\n",
       "      <td>7737.0</td>\n",
       "      <td>7381</td>\n",
       "    </tr>\n",
       "  </tbody>\n",
       "</table>\n",
       "</div>"
      ],
      "text/plain": [
       "               2018    2017    2016      2015    2014\n",
       "Ganze Stadt  187714  243660  237054  256450.0  264548\n",
       "Kreis 1       30550   34710   32201   40945.0   53774\n",
       "Rathaus        3504    1940    2261    2261.0    2284\n",
       "Hochschulen     670    1187     340     126.0    2218\n",
       "Lindenhof      7542   10304    8060    7737.0    7381"
      ]
     },
     "execution_count": 439,
     "metadata": {},
     "output_type": "execute_result"
    }
   ],
   "source": [
    "df_leerflaeche_total.head()"
   ]
  },
  {
   "cell_type": "code",
   "execution_count": 440,
   "metadata": {},
   "outputs": [],
   "source": [
    "df_quartiere = df_leerflaeche_total.drop(['Ganze Stadt', 'Kreis 1', 'Kreis 2', 'Kreis 3',\n",
    "                                          'Kreis 4', 'Kreis 5', 'Kreis 6', 'Kreis 7', 'Kreis 8',\n",
    "                                          'Kreis 9', 'Kreis 10', 'Kreis 11', 'Kreis 12'])"
   ]
  },
  {
   "cell_type": "code",
   "execution_count": 441,
   "metadata": {},
   "outputs": [
    {
     "data": {
      "text/html": [
       "<div>\n",
       "<style scoped>\n",
       "    .dataframe tbody tr th:only-of-type {\n",
       "        vertical-align: middle;\n",
       "    }\n",
       "\n",
       "    .dataframe tbody tr th {\n",
       "        vertical-align: top;\n",
       "    }\n",
       "\n",
       "    .dataframe thead th {\n",
       "        text-align: right;\n",
       "    }\n",
       "</style>\n",
       "<table border=\"1\" class=\"dataframe\">\n",
       "  <thead>\n",
       "    <tr style=\"text-align: right;\">\n",
       "      <th></th>\n",
       "      <th>2018</th>\n",
       "      <th>2017</th>\n",
       "      <th>2016</th>\n",
       "      <th>2015</th>\n",
       "      <th>2014</th>\n",
       "    </tr>\n",
       "  </thead>\n",
       "  <tbody>\n",
       "    <tr>\n",
       "      <th>Rathaus</th>\n",
       "      <td>3504</td>\n",
       "      <td>1940</td>\n",
       "      <td>2261</td>\n",
       "      <td>2261.0</td>\n",
       "      <td>2284</td>\n",
       "    </tr>\n",
       "    <tr>\n",
       "      <th>Hochschulen</th>\n",
       "      <td>670</td>\n",
       "      <td>1187</td>\n",
       "      <td>340</td>\n",
       "      <td>126.0</td>\n",
       "      <td>2218</td>\n",
       "    </tr>\n",
       "    <tr>\n",
       "      <th>Lindenhof</th>\n",
       "      <td>7542</td>\n",
       "      <td>10304</td>\n",
       "      <td>8060</td>\n",
       "      <td>7737.0</td>\n",
       "      <td>7381</td>\n",
       "    </tr>\n",
       "    <tr>\n",
       "      <th>City</th>\n",
       "      <td>18834</td>\n",
       "      <td>21279</td>\n",
       "      <td>21540</td>\n",
       "      <td>30821.0</td>\n",
       "      <td>41891</td>\n",
       "    </tr>\n",
       "    <tr>\n",
       "      <th>Wollishofen</th>\n",
       "      <td>2220</td>\n",
       "      <td>4227</td>\n",
       "      <td>5313</td>\n",
       "      <td>3790.0</td>\n",
       "      <td>9101</td>\n",
       "    </tr>\n",
       "  </tbody>\n",
       "</table>\n",
       "</div>"
      ],
      "text/plain": [
       "              2018   2017   2016     2015   2014\n",
       "Rathaus       3504   1940   2261   2261.0   2284\n",
       "Hochschulen    670   1187    340    126.0   2218\n",
       "Lindenhof     7542  10304   8060   7737.0   7381\n",
       "City         18834  21279  21540  30821.0  41891\n",
       "Wollishofen   2220   4227   5313   3790.0   9101"
      ]
     },
     "execution_count": 441,
     "metadata": {},
     "output_type": "execute_result"
    }
   ],
   "source": [
    "df_quartiere.head()"
   ]
  },
  {
   "cell_type": "code",
   "execution_count": 442,
   "metadata": {},
   "outputs": [],
   "source": [
    "df_quartiere.index.name='Quartier'"
   ]
  },
  {
   "cell_type": "code",
   "execution_count": 443,
   "metadata": {},
   "outputs": [
    {
     "data": {
      "text/html": [
       "<div>\n",
       "<style scoped>\n",
       "    .dataframe tbody tr th:only-of-type {\n",
       "        vertical-align: middle;\n",
       "    }\n",
       "\n",
       "    .dataframe tbody tr th {\n",
       "        vertical-align: top;\n",
       "    }\n",
       "\n",
       "    .dataframe thead th {\n",
       "        text-align: right;\n",
       "    }\n",
       "</style>\n",
       "<table border=\"1\" class=\"dataframe\">\n",
       "  <thead>\n",
       "    <tr style=\"text-align: right;\">\n",
       "      <th></th>\n",
       "      <th>2018</th>\n",
       "      <th>2017</th>\n",
       "      <th>2016</th>\n",
       "      <th>2015</th>\n",
       "      <th>2014</th>\n",
       "    </tr>\n",
       "    <tr>\n",
       "      <th>Quartier</th>\n",
       "      <th></th>\n",
       "      <th></th>\n",
       "      <th></th>\n",
       "      <th></th>\n",
       "      <th></th>\n",
       "    </tr>\n",
       "  </thead>\n",
       "  <tbody>\n",
       "    <tr>\n",
       "      <th>Rathaus</th>\n",
       "      <td>3504</td>\n",
       "      <td>1940</td>\n",
       "      <td>2261</td>\n",
       "      <td>2261.0</td>\n",
       "      <td>2284</td>\n",
       "    </tr>\n",
       "    <tr>\n",
       "      <th>Hochschulen</th>\n",
       "      <td>670</td>\n",
       "      <td>1187</td>\n",
       "      <td>340</td>\n",
       "      <td>126.0</td>\n",
       "      <td>2218</td>\n",
       "    </tr>\n",
       "    <tr>\n",
       "      <th>Lindenhof</th>\n",
       "      <td>7542</td>\n",
       "      <td>10304</td>\n",
       "      <td>8060</td>\n",
       "      <td>7737.0</td>\n",
       "      <td>7381</td>\n",
       "    </tr>\n",
       "    <tr>\n",
       "      <th>City</th>\n",
       "      <td>18834</td>\n",
       "      <td>21279</td>\n",
       "      <td>21540</td>\n",
       "      <td>30821.0</td>\n",
       "      <td>41891</td>\n",
       "    </tr>\n",
       "    <tr>\n",
       "      <th>Wollishofen</th>\n",
       "      <td>2220</td>\n",
       "      <td>4227</td>\n",
       "      <td>5313</td>\n",
       "      <td>3790.0</td>\n",
       "      <td>9101</td>\n",
       "    </tr>\n",
       "    <tr>\n",
       "      <th>Leimbach</th>\n",
       "      <td>0</td>\n",
       "      <td>0</td>\n",
       "      <td>0</td>\n",
       "      <td>0.0</td>\n",
       "      <td>401</td>\n",
       "    </tr>\n",
       "    <tr>\n",
       "      <th>Enge</th>\n",
       "      <td>20980</td>\n",
       "      <td>20946</td>\n",
       "      <td>14126</td>\n",
       "      <td>26557.0</td>\n",
       "      <td>24734</td>\n",
       "    </tr>\n",
       "    <tr>\n",
       "      <th>Alt-Wiedikon</th>\n",
       "      <td>16268</td>\n",
       "      <td>16327</td>\n",
       "      <td>19741</td>\n",
       "      <td>33457.0</td>\n",
       "      <td>26935</td>\n",
       "    </tr>\n",
       "    <tr>\n",
       "      <th>Friesenberg</th>\n",
       "      <td>0</td>\n",
       "      <td>0</td>\n",
       "      <td>0</td>\n",
       "      <td>0.0</td>\n",
       "      <td>0</td>\n",
       "    </tr>\n",
       "    <tr>\n",
       "      <th>Sihlfeld</th>\n",
       "      <td>3139</td>\n",
       "      <td>3736</td>\n",
       "      <td>2852</td>\n",
       "      <td>5271.0</td>\n",
       "      <td>7746</td>\n",
       "    </tr>\n",
       "    <tr>\n",
       "      <th>Werd</th>\n",
       "      <td>3639</td>\n",
       "      <td>2620</td>\n",
       "      <td>7608</td>\n",
       "      <td>610.0</td>\n",
       "      <td>3026</td>\n",
       "    </tr>\n",
       "    <tr>\n",
       "      <th>Langstrasse</th>\n",
       "      <td>1093</td>\n",
       "      <td>5698</td>\n",
       "      <td>3729</td>\n",
       "      <td>5553.0</td>\n",
       "      <td>3769</td>\n",
       "    </tr>\n",
       "    <tr>\n",
       "      <th>Hard</th>\n",
       "      <td>2076</td>\n",
       "      <td>14543</td>\n",
       "      <td>246</td>\n",
       "      <td>1162.0</td>\n",
       "      <td>251</td>\n",
       "    </tr>\n",
       "    <tr>\n",
       "      <th>Gewerbeschule</th>\n",
       "      <td>342</td>\n",
       "      <td>1902</td>\n",
       "      <td>4177</td>\n",
       "      <td>2344.0</td>\n",
       "      <td>4311</td>\n",
       "    </tr>\n",
       "    <tr>\n",
       "      <th>Escher Wyss</th>\n",
       "      <td>8304</td>\n",
       "      <td>4011</td>\n",
       "      <td>13405</td>\n",
       "      <td>42565.0</td>\n",
       "      <td>29332</td>\n",
       "    </tr>\n",
       "    <tr>\n",
       "      <th>Unterstrass</th>\n",
       "      <td>2744</td>\n",
       "      <td>4281</td>\n",
       "      <td>3391</td>\n",
       "      <td>5322.0</td>\n",
       "      <td>1795</td>\n",
       "    </tr>\n",
       "    <tr>\n",
       "      <th>Oberstrass</th>\n",
       "      <td>537</td>\n",
       "      <td>1523</td>\n",
       "      <td>335</td>\n",
       "      <td>0.0</td>\n",
       "      <td>300</td>\n",
       "    </tr>\n",
       "    <tr>\n",
       "      <th>Fluntern</th>\n",
       "      <td>0</td>\n",
       "      <td>557</td>\n",
       "      <td>500</td>\n",
       "      <td>66.0</td>\n",
       "      <td>66</td>\n",
       "    </tr>\n",
       "    <tr>\n",
       "      <th>Hottingen</th>\n",
       "      <td>1080</td>\n",
       "      <td>2413</td>\n",
       "      <td>1962</td>\n",
       "      <td>3030.0</td>\n",
       "      <td>1208</td>\n",
       "    </tr>\n",
       "    <tr>\n",
       "      <th>Hirslanden</th>\n",
       "      <td>1462</td>\n",
       "      <td>1537</td>\n",
       "      <td>1758</td>\n",
       "      <td>674.0</td>\n",
       "      <td>2187</td>\n",
       "    </tr>\n",
       "    <tr>\n",
       "      <th>Witikon</th>\n",
       "      <td>410</td>\n",
       "      <td>190</td>\n",
       "      <td>116</td>\n",
       "      <td>116.0</td>\n",
       "      <td>116</td>\n",
       "    </tr>\n",
       "    <tr>\n",
       "      <th>Seefeld</th>\n",
       "      <td>2809</td>\n",
       "      <td>6352</td>\n",
       "      <td>6603</td>\n",
       "      <td>9473.0</td>\n",
       "      <td>8101</td>\n",
       "    </tr>\n",
       "    <tr>\n",
       "      <th>Mühlebach</th>\n",
       "      <td>3615</td>\n",
       "      <td>5312</td>\n",
       "      <td>4921</td>\n",
       "      <td>4740.0</td>\n",
       "      <td>4779</td>\n",
       "    </tr>\n",
       "    <tr>\n",
       "      <th>Weinegg</th>\n",
       "      <td>514</td>\n",
       "      <td>566</td>\n",
       "      <td>770</td>\n",
       "      <td>914.0</td>\n",
       "      <td>334</td>\n",
       "    </tr>\n",
       "    <tr>\n",
       "      <th>Albisrieden</th>\n",
       "      <td>7325</td>\n",
       "      <td>8080</td>\n",
       "      <td>4628</td>\n",
       "      <td>3382.0</td>\n",
       "      <td>4823</td>\n",
       "    </tr>\n",
       "    <tr>\n",
       "      <th>Altstetten</th>\n",
       "      <td>34006</td>\n",
       "      <td>36020</td>\n",
       "      <td>47576</td>\n",
       "      <td>39228.0</td>\n",
       "      <td>36393</td>\n",
       "    </tr>\n",
       "    <tr>\n",
       "      <th>Höngg</th>\n",
       "      <td>28</td>\n",
       "      <td>464</td>\n",
       "      <td>0</td>\n",
       "      <td>220.0</td>\n",
       "      <td>0</td>\n",
       "    </tr>\n",
       "    <tr>\n",
       "      <th>Wipkingen</th>\n",
       "      <td>562</td>\n",
       "      <td>878</td>\n",
       "      <td>477</td>\n",
       "      <td>0.0</td>\n",
       "      <td>1240</td>\n",
       "    </tr>\n",
       "    <tr>\n",
       "      <th>Affoltern</th>\n",
       "      <td>111</td>\n",
       "      <td>1706</td>\n",
       "      <td>1651</td>\n",
       "      <td>200.0</td>\n",
       "      <td>1095</td>\n",
       "    </tr>\n",
       "    <tr>\n",
       "      <th>Oerlikon</th>\n",
       "      <td>16299</td>\n",
       "      <td>9649</td>\n",
       "      <td>13744</td>\n",
       "      <td>3101.0</td>\n",
       "      <td>3299</td>\n",
       "    </tr>\n",
       "    <tr>\n",
       "      <th>Seebach</th>\n",
       "      <td>26765</td>\n",
       "      <td>54133</td>\n",
       "      <td>43302</td>\n",
       "      <td>22671.0</td>\n",
       "      <td>34155</td>\n",
       "    </tr>\n",
       "    <tr>\n",
       "      <th>Saatlen</th>\n",
       "      <td>758</td>\n",
       "      <td>1113</td>\n",
       "      <td>865</td>\n",
       "      <td>514.0</td>\n",
       "      <td>408</td>\n",
       "    </tr>\n",
       "    <tr>\n",
       "      <th>Schwamendingen-Mitte</th>\n",
       "      <td>78</td>\n",
       "      <td>166</td>\n",
       "      <td>1057</td>\n",
       "      <td>545.0</td>\n",
       "      <td>709</td>\n",
       "    </tr>\n",
       "    <tr>\n",
       "      <th>Hirzenbach</th>\n",
       "      <td>0</td>\n",
       "      <td>0</td>\n",
       "      <td>0</td>\n",
       "      <td>0.0</td>\n",
       "      <td>160</td>\n",
       "    </tr>\n",
       "  </tbody>\n",
       "</table>\n",
       "</div>"
      ],
      "text/plain": [
       "                       2018   2017   2016     2015   2014\n",
       "Quartier                                                 \n",
       "Rathaus                3504   1940   2261   2261.0   2284\n",
       "Hochschulen             670   1187    340    126.0   2218\n",
       "Lindenhof              7542  10304   8060   7737.0   7381\n",
       "City                  18834  21279  21540  30821.0  41891\n",
       "Wollishofen            2220   4227   5313   3790.0   9101\n",
       "Leimbach                  0      0      0      0.0    401\n",
       "Enge                  20980  20946  14126  26557.0  24734\n",
       "Alt-Wiedikon          16268  16327  19741  33457.0  26935\n",
       "Friesenberg               0      0      0      0.0      0\n",
       "Sihlfeld               3139   3736   2852   5271.0   7746\n",
       "Werd                   3639   2620   7608    610.0   3026\n",
       "Langstrasse            1093   5698   3729   5553.0   3769\n",
       "Hard                   2076  14543    246   1162.0    251\n",
       "Gewerbeschule           342   1902   4177   2344.0   4311\n",
       "Escher Wyss            8304   4011  13405  42565.0  29332\n",
       "Unterstrass            2744   4281   3391   5322.0   1795\n",
       "Oberstrass              537   1523    335      0.0    300\n",
       "Fluntern                  0    557    500     66.0     66\n",
       "Hottingen              1080   2413   1962   3030.0   1208\n",
       "Hirslanden             1462   1537   1758    674.0   2187\n",
       "Witikon                 410    190    116    116.0    116\n",
       "Seefeld                2809   6352   6603   9473.0   8101\n",
       "Mühlebach              3615   5312   4921   4740.0   4779\n",
       "Weinegg                 514    566    770    914.0    334\n",
       "Albisrieden            7325   8080   4628   3382.0   4823\n",
       "Altstetten            34006  36020  47576  39228.0  36393\n",
       "Höngg                    28    464      0    220.0      0\n",
       "Wipkingen               562    878    477      0.0   1240\n",
       "Affoltern               111   1706   1651    200.0   1095\n",
       "Oerlikon              16299   9649  13744   3101.0   3299\n",
       "Seebach               26765  54133  43302  22671.0  34155\n",
       "Saatlen                 758   1113    865    514.0    408\n",
       "Schwamendingen-Mitte     78    166   1057    545.0    709\n",
       "Hirzenbach                0      0      0      0.0    160"
      ]
     },
     "execution_count": 443,
     "metadata": {},
     "output_type": "execute_result"
    }
   ],
   "source": [
    "df_quartiere"
   ]
  },
  {
   "cell_type": "code",
   "execution_count": 444,
   "metadata": {},
   "outputs": [
    {
     "data": {
      "text/plain": [
       "Index([2018, 2017, 2016, 2015, 2014], dtype='object')"
      ]
     },
     "execution_count": 444,
     "metadata": {},
     "output_type": "execute_result"
    }
   ],
   "source": [
    "df_quartiere.columns"
   ]
  },
  {
   "cell_type": "code",
   "execution_count": 445,
   "metadata": {
    "scrolled": false
   },
   "outputs": [
    {
     "data": {
      "image/png": "[encoded data removed]",
      "text/plain": [
       "<Figure size 1080x504 with 1 Axes>"
      ]
     },
     "metadata": {
      "needs_background": "light"
     },
     "output_type": "display_data"
    }
   ],
   "source": [
    "fig, ax = plt.subplots()\n",
    "df_quartiere.plot(kind='bar', figsize=(15,7), ax=ax)\n",
    "\n",
    "ax.grid(which='major', linestyle='-.', linewidth='0.5', color='grey')\n",
    "ax.set_axisbelow(True)\n",
    "\n",
    "title_font = {'fontsize': 20, 'fontweight': 'normal', 'fontname': 'Arial'}\n",
    "ax.set_title('Leerflächen Gewerbe total – Quartiere – 2014 bis 2018', fontdict=title_font, loc='left')\n",
    "\n",
    "# - Achsenbeschriftungen\n",
    "label_font = {'fontsize': 14, 'fontweight': 'normal', 'fontname': 'Arial'}\n",
    "ax.set_ylabel(\"Fläche in m2\", fontdict=label_font)\n",
    "ax.set_xlabel(\"Quartier\", fontdict=label_font)\n",
    "ax.yaxis.set_label_position('left')\n",
    "\n",
    "# df1.plot(kind='bar', figsize=(15,7))"
   ]
  },
  {
   "cell_type": "markdown",
   "metadata": {},
   "source": [
    "------------"
   ]
  },
  {
   "cell_type": "markdown",
   "metadata": {},
   "source": [
    "# Leerflächen Gewerbe nach Stadtkreisen im 2014 bis 2018"
   ]
  },
  {
   "cell_type": "code",
   "execution_count": 446,
   "metadata": {},
   "outputs": [],
   "source": [
    "df = pd.read_excel('Daten/Gewerbe/Leerflaechen_Nutzungsart-und-Quartier.xlsx',\n",
    "                   index_col=0, header=10).fillna(0)"
   ]
  },
  {
   "cell_type": "code",
   "execution_count": 447,
   "metadata": {},
   "outputs": [
    {
     "data": {
      "text/plain": [
       "Index(['Ganze Stadt', 'Kreis 1', 'Rathaus', 'Hochschulen', 'Lindenhof', 'City',\n",
       "       'Kreis 2', 'Wollishofen', 'Leimbach', 'Enge', 'Kreis 3', 'Alt-Wiedikon',\n",
       "       'Friesenberg', 'Sihlfeld', 'Kreis 4', 'Werd', 'Langstrasse', 'Hard',\n",
       "       'Kreis 5', 'Gewerbeschule', 'Escher Wyss', 'Kreis 6', 'Unterstrass',\n",
       "       'Oberstrass', 'Kreis 7', 'Fluntern', 'Hottingen', 'Hirslanden',\n",
       "       'Witikon', 'Kreis 8', 'Seefeld', 'Mühlebach', 'Weinegg', 'Kreis 9',\n",
       "       'Albisrieden', 'Altstetten', 'Kreis 10', 'Höngg', 'Wipkingen',\n",
       "       'Kreis 11', 'Affoltern', 'Oerlikon', 'Seebach', 'Kreis 12', 'Saatlen',\n",
       "       'Schwamendingen-Mitte', 'Hirzenbach'],\n",
       "      dtype='object')"
      ]
     },
     "execution_count": 447,
     "metadata": {},
     "output_type": "execute_result"
    }
   ],
   "source": [
    "df.index"
   ]
  },
  {
   "cell_type": "code",
   "execution_count": 448,
   "metadata": {},
   "outputs": [
    {
     "data": {
      "text/plain": [
       "Index([    2018,     2017,     2016,     2015,     2014, '2018.1', '2017.1',\n",
       "       '2016.1', '2015.1', '2014.1', '2018.2', '2017.2', '2016.2', '2015.2',\n",
       "       '2014.2', '2018.3', '2018.4', '2018.5', '2018.6'],\n",
       "      dtype='object')"
      ]
     },
     "execution_count": 448,
     "metadata": {},
     "output_type": "execute_result"
    }
   ],
   "source": [
    "df.columns"
   ]
  },
  {
   "cell_type": "code",
   "execution_count": 449,
   "metadata": {},
   "outputs": [],
   "source": [
    "df_kreise = df.loc[['Kreis 1', 'Kreis 2', 'Kreis 3', 'Kreis 4',\n",
    "         'Kreis 5', 'Kreis 6', 'Kreis 7', 'Kreis 8', 'Kreis 9',\n",
    "                    'Kreis 10', 'Kreis 11', 'Kreis 12'], :]\n"
   ]
  },
  {
   "cell_type": "code",
   "execution_count": 450,
   "metadata": {},
   "outputs": [],
   "source": [
    "df_kreise_2018 = df_kreise.iloc[:, 0:5]"
   ]
  },
  {
   "cell_type": "code",
   "execution_count": 451,
   "metadata": {
    "scrolled": true
   },
   "outputs": [
    {
     "data": {
      "text/html": [
       "<div>\n",
       "<style scoped>\n",
       "    .dataframe tbody tr th:only-of-type {\n",
       "        vertical-align: middle;\n",
       "    }\n",
       "\n",
       "    .dataframe tbody tr th {\n",
       "        vertical-align: top;\n",
       "    }\n",
       "\n",
       "    .dataframe thead th {\n",
       "        text-align: right;\n",
       "    }\n",
       "</style>\n",
       "<table border=\"1\" class=\"dataframe\">\n",
       "  <thead>\n",
       "    <tr style=\"text-align: right;\">\n",
       "      <th></th>\n",
       "      <th>2018</th>\n",
       "      <th>2017</th>\n",
       "      <th>2016</th>\n",
       "      <th>2015</th>\n",
       "      <th>2014</th>\n",
       "    </tr>\n",
       "    <tr>\n",
       "      <th>Quartier</th>\n",
       "      <th></th>\n",
       "      <th></th>\n",
       "      <th></th>\n",
       "      <th></th>\n",
       "      <th></th>\n",
       "    </tr>\n",
       "  </thead>\n",
       "  <tbody>\n",
       "    <tr>\n",
       "      <th>Kreis 1</th>\n",
       "      <td>30550</td>\n",
       "      <td>34710</td>\n",
       "      <td>32201</td>\n",
       "      <td>40945.0</td>\n",
       "      <td>53774</td>\n",
       "    </tr>\n",
       "    <tr>\n",
       "      <th>Kreis 2</th>\n",
       "      <td>23200</td>\n",
       "      <td>25173</td>\n",
       "      <td>19439</td>\n",
       "      <td>30347.0</td>\n",
       "      <td>34236</td>\n",
       "    </tr>\n",
       "    <tr>\n",
       "      <th>Kreis 3</th>\n",
       "      <td>19407</td>\n",
       "      <td>20063</td>\n",
       "      <td>22593</td>\n",
       "      <td>38728.0</td>\n",
       "      <td>34681</td>\n",
       "    </tr>\n",
       "    <tr>\n",
       "      <th>Kreis 4</th>\n",
       "      <td>6808</td>\n",
       "      <td>22861</td>\n",
       "      <td>11583</td>\n",
       "      <td>7325.0</td>\n",
       "      <td>7046</td>\n",
       "    </tr>\n",
       "    <tr>\n",
       "      <th>Kreis 5</th>\n",
       "      <td>8646</td>\n",
       "      <td>5913</td>\n",
       "      <td>17582</td>\n",
       "      <td>44909.0</td>\n",
       "      <td>33643</td>\n",
       "    </tr>\n",
       "  </tbody>\n",
       "</table>\n",
       "</div>"
      ],
      "text/plain": [
       "           2018   2017   2016     2015   2014\n",
       "Quartier                                     \n",
       "Kreis 1   30550  34710  32201  40945.0  53774\n",
       "Kreis 2   23200  25173  19439  30347.0  34236\n",
       "Kreis 3   19407  20063  22593  38728.0  34681\n",
       "Kreis 4    6808  22861  11583   7325.0   7046\n",
       "Kreis 5    8646   5913  17582  44909.0  33643"
      ]
     },
     "execution_count": 451,
     "metadata": {},
     "output_type": "execute_result"
    }
   ],
   "source": [
    "df_kreise_2018.index.name='Quartier'\n",
    "df_kreise_2018.head()"
   ]
  },
  {
   "cell_type": "code",
   "execution_count": 452,
   "metadata": {
    "scrolled": false
   },
   "outputs": [
    {
     "data": {
      "image/png": "[encoded data removed]",
      "text/plain": [
       "<Figure size 1080x504 with 1 Axes>"
      ]
     },
     "metadata": {
      "needs_background": "light"
     },
     "output_type": "display_data"
    }
   ],
   "source": [
    "fig, ax = plt.subplots()\n",
    "df_kreise_2018.plot(kind='bar', figsize=(15,7), ax=ax)\n",
    "\n",
    "ax.grid(which='major', linestyle='-.', linewidth='0.5', color='grey')\n",
    "ax.set_axisbelow(True)\n",
    "\n",
    "title_font = {'fontsize': 20, 'fontweight': 'normal', 'fontname': 'Arial'}\n",
    "ax.set_title('Leerflächen Gewerbe – nach Stadtkreisen – 2014 bis 2018', fontdict=title_font, loc='left')\n",
    "\n",
    "# - Achsenbeschriftungen\n",
    "label_font = {'fontsize': 14, 'fontweight': 'normal', 'fontname': 'Arial'}\n",
    "ax.set_ylabel(\"Fläche in m2\", fontdict=label_font)\n",
    "ax.set_xlabel(\"Stadtkreis\", fontdict=label_font)\n",
    "ax.yaxis.set_label_position('left')\n",
    "\n",
    "\n",
    "# df1.plot(kind='bar', figsize=(15,7))"
   ]
  },
  {
   "cell_type": "markdown",
   "metadata": {},
   "source": [
    "------------"
   ]
  },
  {
   "cell_type": "markdown",
   "metadata": {},
   "source": [
    "# Leerflächen Gewerbe nach Kreisen im Jahr 2018"
   ]
  },
  {
   "cell_type": "code",
   "execution_count": 453,
   "metadata": {},
   "outputs": [
    {
     "data": {
      "text/html": [
       "<div>\n",
       "<style scoped>\n",
       "    .dataframe tbody tr th:only-of-type {\n",
       "        vertical-align: middle;\n",
       "    }\n",
       "\n",
       "    .dataframe tbody tr th {\n",
       "        vertical-align: top;\n",
       "    }\n",
       "\n",
       "    .dataframe thead th {\n",
       "        text-align: right;\n",
       "    }\n",
       "</style>\n",
       "<table border=\"1\" class=\"dataframe\">\n",
       "  <thead>\n",
       "    <tr style=\"text-align: right;\">\n",
       "      <th></th>\n",
       "      <th>2018</th>\n",
       "    </tr>\n",
       "    <tr>\n",
       "      <th>Quartier</th>\n",
       "      <th></th>\n",
       "    </tr>\n",
       "  </thead>\n",
       "  <tbody>\n",
       "    <tr>\n",
       "      <th>Kreis 1</th>\n",
       "      <td>30550</td>\n",
       "    </tr>\n",
       "    <tr>\n",
       "      <th>Kreis 2</th>\n",
       "      <td>23200</td>\n",
       "    </tr>\n",
       "    <tr>\n",
       "      <th>Kreis 3</th>\n",
       "      <td>19407</td>\n",
       "    </tr>\n",
       "    <tr>\n",
       "      <th>Kreis 4</th>\n",
       "      <td>6808</td>\n",
       "    </tr>\n",
       "    <tr>\n",
       "      <th>Kreis 5</th>\n",
       "      <td>8646</td>\n",
       "    </tr>\n",
       "  </tbody>\n",
       "</table>\n",
       "</div>"
      ],
      "text/plain": [
       "           2018\n",
       "Quartier       \n",
       "Kreis 1   30550\n",
       "Kreis 2   23200\n",
       "Kreis 3   19407\n",
       "Kreis 4    6808\n",
       "Kreis 5    8646"
      ]
     },
     "execution_count": 453,
     "metadata": {},
     "output_type": "execute_result"
    }
   ],
   "source": [
    "df = pd.read_excel('Daten/Gewerbe/Leerflaechen_Nutzungsart-und-Quartier.xlsx',\n",
    "                   index_col=0, header=10).fillna(0)\n",
    "\n",
    "df_kreise = df.loc[['Kreis 1', 'Kreis 2', 'Kreis 3', 'Kreis 4',\n",
    "                    'Kreis 5', 'Kreis 6', 'Kreis 7', 'Kreis 8',\n",
    "                    'Kreis 9','Kreis 10', 'Kreis 11', 'Kreis 12'], :]\n",
    "\n",
    "df_kreise_2018 = df_kreise.iloc[:, 0:1]\n",
    "\n",
    "df_kreise_2018.index.name='Quartier'\n",
    "df_kreise_2018.head()"
   ]
  },
  {
   "cell_type": "code",
   "execution_count": 454,
   "metadata": {},
   "outputs": [
    {
     "data": {
      "image/png": "[encoded data removed]",
      "text/plain": [
       "<Figure size 1080x504 with 1 Axes>"
      ]
     },
     "metadata": {
      "needs_background": "light"
     },
     "output_type": "display_data"
    }
   ],
   "source": [
    "fig, ax = plt.subplots()\n",
    "df_kreise_2018.plot(kind='bar', figsize=(15,7), color='#CB2AAB', ax=ax)\n",
    "\n",
    "ax.grid(which='major', linestyle='-.', linewidth='0.5', color='grey')\n",
    "ax.set_axisbelow(True)\n",
    "\n",
    "title_font = {'fontsize': 20, 'fontweight': 'normal', 'fontname': 'Arial'}\n",
    "ax.set_title('Leerflächen Gewerbe – Stadtkreise – 2018', fontdict=title_font, loc='left')\n",
    "\n",
    "# - Achsenbeschriftungen\n",
    "label_font = {'fontsize': 14, 'fontweight': 'normal', 'fontname': 'Arial'}\n",
    "ax.set_ylabel(\"Fläche in m2\", fontdict=label_font)\n",
    "ax.set_xlabel(\"Stadtkreis\", fontdict=label_font)\n",
    "ax.yaxis.set_label_position('left')\n",
    "\n",
    "\n",
    "# df1.plot(kind='bar', figsize=(15,7))"
   ]
  },
  {
   "cell_type": "markdown",
   "metadata": {},
   "source": [
    "------------"
   ]
  },
  {
   "cell_type": "markdown",
   "metadata": {},
   "source": [
    "# Leerflächen Gewerbe – Quartiere – 2018"
   ]
  },
  {
   "cell_type": "code",
   "execution_count": 500,
   "metadata": {
    "scrolled": true
   },
   "outputs": [
    {
     "data": {
      "text/html": [
       "<div>\n",
       "<style scoped>\n",
       "    .dataframe tbody tr th:only-of-type {\n",
       "        vertical-align: middle;\n",
       "    }\n",
       "\n",
       "    .dataframe tbody tr th {\n",
       "        vertical-align: top;\n",
       "    }\n",
       "\n",
       "    .dataframe thead th {\n",
       "        text-align: right;\n",
       "    }\n",
       "</style>\n",
       "<table border=\"1\" class=\"dataframe\">\n",
       "  <thead>\n",
       "    <tr style=\"text-align: right;\">\n",
       "      <th></th>\n",
       "      <th>2018</th>\n",
       "    </tr>\n",
       "    <tr>\n",
       "      <th>Quartier</th>\n",
       "      <th></th>\n",
       "    </tr>\n",
       "  </thead>\n",
       "  <tbody>\n",
       "    <tr>\n",
       "      <th>Rathaus</th>\n",
       "      <td>3504</td>\n",
       "    </tr>\n",
       "    <tr>\n",
       "      <th>Hochschulen</th>\n",
       "      <td>670</td>\n",
       "    </tr>\n",
       "    <tr>\n",
       "      <th>Lindenhof</th>\n",
       "      <td>7542</td>\n",
       "    </tr>\n",
       "    <tr>\n",
       "      <th>City</th>\n",
       "      <td>18834</td>\n",
       "    </tr>\n",
       "    <tr>\n",
       "      <th>Wollishofen</th>\n",
       "      <td>2220</td>\n",
       "    </tr>\n",
       "  </tbody>\n",
       "</table>\n",
       "</div>"
      ],
      "text/plain": [
       "              2018\n",
       "Quartier          \n",
       "Rathaus       3504\n",
       "Hochschulen    670\n",
       "Lindenhof     7542\n",
       "City         18834\n",
       "Wollishofen   2220"
      ]
     },
     "execution_count": 500,
     "metadata": {},
     "output_type": "execute_result"
    }
   ],
   "source": [
    "df = pd.read_excel('Daten/Gewerbe/Leerflaechen_Nutzungsart-und-Quartier.xlsx',\n",
    "                   index_col=0, header=10).fillna(0)\n",
    "# .astype(int)\n",
    "\n",
    "df_leerflaeche_total = df.iloc[0:,0:1]\n",
    "df_quartiere = df_leerflaeche_total.drop(['Ganze Stadt', 'Kreis 1', 'Kreis 2', 'Kreis 3',\n",
    "                                          'Kreis 4', 'Kreis 5', 'Kreis 6', 'Kreis 7', 'Kreis 8',\n",
    "                                          'Kreis 9', 'Kreis 10', 'Kreis 11', 'Kreis 12'])\n",
    "df_quartiere.index.name='Quartier'\n",
    "df_quartiere.head()"
   ]
  },
  {
   "cell_type": "code",
   "execution_count": 501,
   "metadata": {
    "scrolled": false
   },
   "outputs": [
    {
     "data": {
      "image/png": "[encoded data removed]",
      "text/plain": [
       "<Figure size 1080x504 with 1 Axes>"
      ]
     },
     "metadata": {
      "needs_background": "light"
     },
     "output_type": "display_data"
    }
   ],
   "source": [
    "fig, ax = plt.subplots()\n",
    "df_quartiere.plot(kind='bar', figsize=(15,7), color='#712ACB', ax=ax)\n",
    "\n",
    "ax.grid(which='major', linestyle='-.', linewidth='0.5', color='grey')\n",
    "ax.set_axisbelow(True)\n",
    "\n",
    "title_font = {'fontsize': 20, 'fontweight': 'normal', 'fontname': 'Arial'}\n",
    "ax.set_title('Leerflächen Gewerbe – Quartiere – 2018', fontdict=title_font, loc='left')\n",
    "\n",
    "# - Achsenbeschriftungen\n",
    "label_font = {'fontsize': 14, 'fontweight': 'normal', 'fontname': 'Arial'}\n",
    "ax.set_ylabel(\"Fläche in m2\", fontdict=label_font)\n",
    "ax.set_xlabel(\"Quartier\", fontdict=label_font)\n",
    "ax.yaxis.set_label_position('left')\n",
    "\n",
    "# df1.plot(kind='bar', figsize=(15,7))"
   ]
  },
  {
   "cell_type": "markdown",
   "metadata": {},
   "source": [
    "------------"
   ]
  },
  {
   "cell_type": "markdown",
   "metadata": {},
   "source": [
    "# Leerflächen Gewerbe – nach Art und Stadtkreisen – 2018"
   ]
  },
  {
   "cell_type": "code",
   "execution_count": 495,
   "metadata": {},
   "outputs": [
    {
     "data": {
      "text/plain": [
       "Index(['Total', 'Unnamed: 1', 'Unnamed: 2', 'Unnamed: 3', 'Unnamed: 4',\n",
       "       'Büro/Praxis', 'Unnamed: 6', 'Unnamed: 7', 'Unnamed: 8', 'Unnamed: 9',\n",
       "       'Unnamed: 10', 'Unnamed: 11', 'Unnamed: 12', 'Unnamed: 13',\n",
       "       'Unnamed: 14', 'Lager/\\nArchiv', 'Verkauf', 'Werkstatt/\\nProduktion',\n",
       "       'Andere Nutzungen'],\n",
       "      dtype='object')"
      ]
     },
     "execution_count": 495,
     "metadata": {},
     "output_type": "execute_result"
    }
   ],
   "source": [
    "df = pd.read_excel('Daten/Gewerbe/Leerflaechen_Nutzungsart-und-Quartier.xlsx',\n",
    "                   index_col=0, header=8).fillna(0)\n",
    "\n",
    "df_gewerbe_art = df.loc[['Kreis 1', 'Kreis 2', 'Kreis 3', 'Kreis 4',\n",
    "                    'Kreis 5', 'Kreis 6', 'Kreis 7', 'Kreis 8',\n",
    "                    'Kreis 9','Kreis 10', 'Kreis 11', 'Kreis 12'], :]\n",
    "df_gewerbe_art.columns"
   ]
  },
  {
   "cell_type": "code",
   "execution_count": 496,
   "metadata": {},
   "outputs": [
    {
     "data": {
      "text/html": [
       "<div>\n",
       "<style scoped>\n",
       "    .dataframe tbody tr th:only-of-type {\n",
       "        vertical-align: middle;\n",
       "    }\n",
       "\n",
       "    .dataframe tbody tr th {\n",
       "        vertical-align: top;\n",
       "    }\n",
       "\n",
       "    .dataframe thead th {\n",
       "        text-align: right;\n",
       "    }\n",
       "</style>\n",
       "<table border=\"1\" class=\"dataframe\">\n",
       "  <thead>\n",
       "    <tr style=\"text-align: right;\">\n",
       "      <th></th>\n",
       "      <th>Total</th>\n",
       "      <th>Unnamed: 1</th>\n",
       "      <th>Unnamed: 2</th>\n",
       "      <th>Unnamed: 3</th>\n",
       "      <th>Unnamed: 4</th>\n",
       "      <th>Büro/Praxis</th>\n",
       "      <th>Unnamed: 6</th>\n",
       "      <th>Unnamed: 7</th>\n",
       "      <th>Unnamed: 8</th>\n",
       "      <th>Unnamed: 9</th>\n",
       "      <th>Unnamed: 10</th>\n",
       "      <th>Unnamed: 11</th>\n",
       "      <th>Unnamed: 12</th>\n",
       "      <th>Unnamed: 13</th>\n",
       "      <th>Unnamed: 14</th>\n",
       "      <th>Lager/\n",
       "Archiv</th>\n",
       "      <th>Verkauf</th>\n",
       "      <th>Werkstatt/\n",
       "Produktion</th>\n",
       "      <th>Andere Nutzungen</th>\n",
       "    </tr>\n",
       "  </thead>\n",
       "  <tbody>\n",
       "    <tr>\n",
       "      <th>Kreis 1</th>\n",
       "      <td>30550</td>\n",
       "      <td>34710.0</td>\n",
       "      <td>32201.0</td>\n",
       "      <td>40945.0</td>\n",
       "      <td>53774.0</td>\n",
       "      <td>23805</td>\n",
       "      <td>29535.0</td>\n",
       "      <td>29807.0</td>\n",
       "      <td>36180.0</td>\n",
       "      <td>49692.0</td>\n",
       "      <td>3.00931</td>\n",
       "      <td>3.722381</td>\n",
       "      <td>3.713889</td>\n",
       "      <td>4.494553</td>\n",
       "      <td>6.442308</td>\n",
       "      <td>2436</td>\n",
       "      <td>1889.0</td>\n",
       "      <td>214.0</td>\n",
       "      <td>2206.0</td>\n",
       "    </tr>\n",
       "    <tr>\n",
       "      <th>Kreis 2</th>\n",
       "      <td>23200</td>\n",
       "      <td>25173.0</td>\n",
       "      <td>19439.0</td>\n",
       "      <td>30347.0</td>\n",
       "      <td>34236.0</td>\n",
       "      <td>19520</td>\n",
       "      <td>17542.0</td>\n",
       "      <td>14427.0</td>\n",
       "      <td>25972.0</td>\n",
       "      <td>28559.0</td>\n",
       "      <td>2.52306</td>\n",
       "      <td>2.230628</td>\n",
       "      <td>1.882420</td>\n",
       "      <td>3.407398</td>\n",
       "      <td>3.761955</td>\n",
       "      <td>2687</td>\n",
       "      <td>608.0</td>\n",
       "      <td>87.0</td>\n",
       "      <td>298.0</td>\n",
       "    </tr>\n",
       "    <tr>\n",
       "      <th>Kreis 3</th>\n",
       "      <td>19407</td>\n",
       "      <td>20063.0</td>\n",
       "      <td>22593.0</td>\n",
       "      <td>38728.0</td>\n",
       "      <td>34681.0</td>\n",
       "      <td>11823</td>\n",
       "      <td>14315.0</td>\n",
       "      <td>19796.0</td>\n",
       "      <td>31223.0</td>\n",
       "      <td>28092.0</td>\n",
       "      <td>1.57</td>\n",
       "      <td>1.936231</td>\n",
       "      <td>2.708227</td>\n",
       "      <td>4.443798</td>\n",
       "      <td>4.170790</td>\n",
       "      <td>4202</td>\n",
       "      <td>543.0</td>\n",
       "      <td>1955.0</td>\n",
       "      <td>884.0</td>\n",
       "    </tr>\n",
       "    <tr>\n",
       "      <th>Kreis 4</th>\n",
       "      <td>6808</td>\n",
       "      <td>22861.0</td>\n",
       "      <td>11583.0</td>\n",
       "      <td>7325.0</td>\n",
       "      <td>7046.0</td>\n",
       "      <td>4276</td>\n",
       "      <td>8691.0</td>\n",
       "      <td>8331.0</td>\n",
       "      <td>2564.0</td>\n",
       "      <td>4844.0</td>\n",
       "      <td>0.81456</td>\n",
       "      <td>1.688080</td>\n",
       "      <td>1.672822</td>\n",
       "      <td>0.537578</td>\n",
       "      <td>1.012660</td>\n",
       "      <td>2311</td>\n",
       "      <td>88.0</td>\n",
       "      <td>122.0</td>\n",
       "      <td>11.0</td>\n",
       "    </tr>\n",
       "    <tr>\n",
       "      <th>Kreis 5</th>\n",
       "      <td>8646</td>\n",
       "      <td>5913.0</td>\n",
       "      <td>17582.0</td>\n",
       "      <td>44909.0</td>\n",
       "      <td>33643.0</td>\n",
       "      <td>4817</td>\n",
       "      <td>3591.0</td>\n",
       "      <td>17023.0</td>\n",
       "      <td>34975.0</td>\n",
       "      <td>24004.0</td>\n",
       "      <td>0.436385</td>\n",
       "      <td>0.333093</td>\n",
       "      <td>1.523470</td>\n",
       "      <td>3.035953</td>\n",
       "      <td>2.122146</td>\n",
       "      <td>3517</td>\n",
       "      <td>167.0</td>\n",
       "      <td>62.0</td>\n",
       "      <td>83.0</td>\n",
       "    </tr>\n",
       "  </tbody>\n",
       "</table>\n",
       "</div>"
      ],
      "text/plain": [
       "         Total  Unnamed: 1  Unnamed: 2  Unnamed: 3  Unnamed: 4 Büro/Praxis  \\\n",
       "Kreis 1  30550     34710.0     32201.0     40945.0     53774.0       23805   \n",
       "Kreis 2  23200     25173.0     19439.0     30347.0     34236.0       19520   \n",
       "Kreis 3  19407     20063.0     22593.0     38728.0     34681.0       11823   \n",
       "Kreis 4   6808     22861.0     11583.0      7325.0      7046.0        4276   \n",
       "Kreis 5   8646      5913.0     17582.0     44909.0     33643.0        4817   \n",
       "\n",
       "         Unnamed: 6  Unnamed: 7  Unnamed: 8  Unnamed: 9 Unnamed: 10  \\\n",
       "Kreis 1     29535.0     29807.0     36180.0     49692.0     3.00931   \n",
       "Kreis 2     17542.0     14427.0     25972.0     28559.0     2.52306   \n",
       "Kreis 3     14315.0     19796.0     31223.0     28092.0        1.57   \n",
       "Kreis 4      8691.0      8331.0      2564.0      4844.0     0.81456   \n",
       "Kreis 5      3591.0     17023.0     34975.0     24004.0    0.436385   \n",
       "\n",
       "         Unnamed: 11  Unnamed: 12  Unnamed: 13  Unnamed: 14 Lager/\\nArchiv  \\\n",
       "Kreis 1     3.722381     3.713889     4.494553     6.442308           2436   \n",
       "Kreis 2     2.230628     1.882420     3.407398     3.761955           2687   \n",
       "Kreis 3     1.936231     2.708227     4.443798     4.170790           4202   \n",
       "Kreis 4     1.688080     1.672822     0.537578     1.012660           2311   \n",
       "Kreis 5     0.333093     1.523470     3.035953     2.122146           3517   \n",
       "\n",
       "         Verkauf  Werkstatt/\\nProduktion  Andere Nutzungen  \n",
       "Kreis 1   1889.0                   214.0            2206.0  \n",
       "Kreis 2    608.0                    87.0             298.0  \n",
       "Kreis 3    543.0                  1955.0             884.0  \n",
       "Kreis 4     88.0                   122.0              11.0  \n",
       "Kreis 5    167.0                    62.0              83.0  "
      ]
     },
     "execution_count": 496,
     "metadata": {},
     "output_type": "execute_result"
    }
   ],
   "source": [
    "df_gewerbe_art.head()"
   ]
  },
  {
   "cell_type": "code",
   "execution_count": 497,
   "metadata": {},
   "outputs": [],
   "source": [
    "df_gewerbe_art_kreis = df_gewerbe_art.loc[:, ['Büro/Praxis', 'Lager/\\nArchiv', 'Verkauf', 'Werkstatt/\\nProduktion',\n",
    "       'Andere Nutzungen']]"
   ]
  },
  {
   "cell_type": "code",
   "execution_count": 498,
   "metadata": {},
   "outputs": [
    {
     "data": {
      "text/html": [
       "<div>\n",
       "<style scoped>\n",
       "    .dataframe tbody tr th:only-of-type {\n",
       "        vertical-align: middle;\n",
       "    }\n",
       "\n",
       "    .dataframe tbody tr th {\n",
       "        vertical-align: top;\n",
       "    }\n",
       "\n",
       "    .dataframe thead th {\n",
       "        text-align: right;\n",
       "    }\n",
       "</style>\n",
       "<table border=\"1\" class=\"dataframe\">\n",
       "  <thead>\n",
       "    <tr style=\"text-align: right;\">\n",
       "      <th></th>\n",
       "      <th>Büro/Praxis</th>\n",
       "      <th>Lager/\n",
       "Archiv</th>\n",
       "      <th>Verkauf</th>\n",
       "      <th>Werkstatt/\n",
       "Produktion</th>\n",
       "      <th>Andere Nutzungen</th>\n",
       "    </tr>\n",
       "    <tr>\n",
       "      <th>Quartier</th>\n",
       "      <th></th>\n",
       "      <th></th>\n",
       "      <th></th>\n",
       "      <th></th>\n",
       "      <th></th>\n",
       "    </tr>\n",
       "  </thead>\n",
       "  <tbody>\n",
       "    <tr>\n",
       "      <th>Kreis 1</th>\n",
       "      <td>23805</td>\n",
       "      <td>2436</td>\n",
       "      <td>1889.0</td>\n",
       "      <td>214.0</td>\n",
       "      <td>2206.0</td>\n",
       "    </tr>\n",
       "    <tr>\n",
       "      <th>Kreis 2</th>\n",
       "      <td>19520</td>\n",
       "      <td>2687</td>\n",
       "      <td>608.0</td>\n",
       "      <td>87.0</td>\n",
       "      <td>298.0</td>\n",
       "    </tr>\n",
       "    <tr>\n",
       "      <th>Kreis 3</th>\n",
       "      <td>11823</td>\n",
       "      <td>4202</td>\n",
       "      <td>543.0</td>\n",
       "      <td>1955.0</td>\n",
       "      <td>884.0</td>\n",
       "    </tr>\n",
       "    <tr>\n",
       "      <th>Kreis 4</th>\n",
       "      <td>4276</td>\n",
       "      <td>2311</td>\n",
       "      <td>88.0</td>\n",
       "      <td>122.0</td>\n",
       "      <td>11.0</td>\n",
       "    </tr>\n",
       "    <tr>\n",
       "      <th>Kreis 5</th>\n",
       "      <td>4817</td>\n",
       "      <td>3517</td>\n",
       "      <td>167.0</td>\n",
       "      <td>62.0</td>\n",
       "      <td>83.0</td>\n",
       "    </tr>\n",
       "  </tbody>\n",
       "</table>\n",
       "</div>"
      ],
      "text/plain": [
       "         Büro/Praxis Lager/\\nArchiv  Verkauf  Werkstatt/\\nProduktion  \\\n",
       "Quartier                                                               \n",
       "Kreis 1        23805           2436   1889.0                   214.0   \n",
       "Kreis 2        19520           2687    608.0                    87.0   \n",
       "Kreis 3        11823           4202    543.0                  1955.0   \n",
       "Kreis 4         4276           2311     88.0                   122.0   \n",
       "Kreis 5         4817           3517    167.0                    62.0   \n",
       "\n",
       "          Andere Nutzungen  \n",
       "Quartier                    \n",
       "Kreis 1             2206.0  \n",
       "Kreis 2              298.0  \n",
       "Kreis 3              884.0  \n",
       "Kreis 4               11.0  \n",
       "Kreis 5               83.0  "
      ]
     },
     "execution_count": 498,
     "metadata": {},
     "output_type": "execute_result"
    }
   ],
   "source": [
    "df_gewerbe_art_kreis.index.name='Quartier'\n",
    "df_gewerbe_art_kreis.head()"
   ]
  },
  {
   "cell_type": "code",
   "execution_count": 499,
   "metadata": {},
   "outputs": [
    {
     "data": {
      "image/png": "[encoded data removed]",
      "text/plain": [
       "<Figure size 1080x504 with 1 Axes>"
      ]
     },
     "metadata": {
      "needs_background": "light"
     },
     "output_type": "display_data"
    }
   ],
   "source": [
    "fig, ax = plt.subplots()\n",
    "df_gewerbe_art_kreis.plot(kind='bar', figsize=(15,7), ax=ax)\n",
    "\n",
    "ax.grid(which='major', linestyle='-.', linewidth='0.5', color='grey')\n",
    "ax.set_axisbelow(True)\n",
    "\n",
    "title_font = {'fontsize': 20, 'fontweight': 'normal', 'fontname': 'Arial'}\n",
    "ax.set_title('Leerflächen Gewerbe – nach Art und Stadtkreis – 2018', fontdict=title_font, loc='left')\n",
    "\n",
    "# - Achsenbeschriftungen\n",
    "label_font = {'fontsize': 14, 'fontweight': 'normal', 'fontname': 'Arial'}\n",
    "ax.set_ylabel(\"Fläche in m2\", fontdict=label_font)\n",
    "ax.set_xlabel(\"Stadtkreis\", fontdict=label_font)\n",
    "ax.yaxis.set_label_position('left')\n"
   ]
  },
  {
   "cell_type": "code",
   "execution_count": null,
   "metadata": {},
   "outputs": [],
   "source": []
  },
  {
   "cell_type": "code",
   "execution_count": null,
   "metadata": {},
   "outputs": [],
   "source": []
  },
  {
   "cell_type": "code",
   "execution_count": null,
   "metadata": {},
   "outputs": [],
   "source": []
  },
  {
   "cell_type": "code",
   "execution_count": null,
   "metadata": {},
   "outputs": [],
   "source": []
  },
  {
   "cell_type": "code",
   "execution_count": null,
   "metadata": {},
   "outputs": [],
   "source": []
  },
  {
   "cell_type": "code",
   "execution_count": null,
   "metadata": {},
   "outputs": [],
   "source": []
  },
  {
   "cell_type": "code",
   "execution_count": null,
   "metadata": {
    "scrolled": true
   },
   "outputs": [],
   "source": []
  },
  {
   "cell_type": "code",
   "execution_count": 360,
   "metadata": {
    "scrolled": false
   },
   "outputs": [
    {
     "data": {
      "text/plain": [
       "Text(0.0, 1.0, 'Leerflächen Gewerbe total – Quartiere –  2014 bis 2018')"
      ]
     },
     "execution_count": 360,
     "metadata": {},
     "output_type": "execute_result"
    },
    {
     "data": {
      "image/png": "[encoded data removed]",
      "text/plain": [
       "<Figure size 1080x504 with 1 Axes>"
      ]
     },
     "metadata": {
      "needs_background": "light"
     },
     "output_type": "display_data"
    }
   ],
   "source": [
    "fig, ax = plt.subplots()\n",
    "df_quartiere.plot(kind='bar', figsize=(15,7), ax=ax)\n",
    "\n",
    "ax.grid(which='major', linestyle='-.', linewidth='0.5', color='grey')\n",
    "ax.set_axisbelow(True)\n",
    "\n",
    "title_font = {'fontsize': 20, 'fontweight': 'normal', 'fontname': 'Arial'}\n",
    "ax.set_title('Leerflächen Gewerbe total – Quartiere –  2014 bis 2018', fontdict=title_font, loc='left')\n",
    "\n",
    "# df1.plot(kind='bar', figsize=(15,7))"
   ]
  },
  {
   "cell_type": "code",
   "execution_count": null,
   "metadata": {},
   "outputs": [],
   "source": []
  },
  {
   "cell_type": "code",
   "execution_count": null,
   "metadata": {},
   "outputs": [],
   "source": []
  },
  {
   "cell_type": "code",
   "execution_count": null,
   "metadata": {},
   "outputs": [],
   "source": []
  },
  {
   "cell_type": "code",
   "execution_count": null,
   "metadata": {},
   "outputs": [],
   "source": []
  },
  {
   "cell_type": "code",
   "execution_count": null,
   "metadata": {},
   "outputs": [],
   "source": []
  },
  {
   "cell_type": "code",
   "execution_count": null,
   "metadata": {},
   "outputs": [],
   "source": []
  },
  {
   "cell_type": "code",
   "execution_count": null,
   "metadata": {},
   "outputs": [],
   "source": []
  },
  {
   "cell_type": "code",
   "execution_count": null,
   "metadata": {},
   "outputs": [],
   "source": []
  },
  {
   "cell_type": "code",
   "execution_count": null,
   "metadata": {},
   "outputs": [],
   "source": []
  },
  {
   "cell_type": "code",
   "execution_count": null,
   "metadata": {},
   "outputs": [],
   "source": []
  },
  {
   "cell_type": "code",
   "execution_count": 361,
   "metadata": {},
   "outputs": [
    {
     "ename": "NameError",
     "evalue": "name 'isible' is not defined",
     "output_type": "error",
     "traceback": [
      "\u001b[0;31m---------------------------------------------------------------------------\u001b[0m",
      "\u001b[0;31mNameError\u001b[0m                                 Traceback (most recent call last)",
      "\u001b[0;32m<ipython-input-361-320d16dccc83>\u001b[0m in \u001b[0;36m<module>\u001b[0;34m\u001b[0m\n\u001b[1;32m     34\u001b[0m \u001b[0;31m# ax.spines['right'].set_v\u001b[0m\u001b[0;34m\u001b[0m\u001b[0;34m\u001b[0m\u001b[0m\n\u001b[1;32m     35\u001b[0m \u001b[0;34m\u001b[0m\u001b[0m\n\u001b[0;32m---> 36\u001b[0;31m \u001b[0misible\u001b[0m\u001b[0;34m(\u001b[0m\u001b[0;32mFalse\u001b[0m\u001b[0;34m)\u001b[0m\u001b[0;34m\u001b[0m\u001b[0m\n\u001b[0m\u001b[1;32m     37\u001b[0m \u001b[0;31m# ax.spines['left'].set_visible(False)\u001b[0m\u001b[0;34m\u001b[0m\u001b[0;34m\u001b[0m\u001b[0m\n\u001b[1;32m     38\u001b[0m \u001b[0;31m# ax.spines['top'].set_visible(False)\u001b[0m\u001b[0;34m\u001b[0m\u001b[0;34m\u001b[0m\u001b[0m\n",
      "\u001b[0;31mNameError\u001b[0m: name 'isible' is not defined"
     ]
    }
   ],
   "source": [
    "# #Was man mit der Pandas-Funktion alles machen kann\n",
    "# ax = df1.plot(kind='bar', \n",
    "\n",
    "#         alpha=1,\n",
    "#         color='darkblue',\n",
    "#         linewidth=1,\n",
    "#         figsize=(11,8),\n",
    "#         grid=False,\n",
    "#         fontsize=14)\n",
    "\n",
    "# #Was man separat einstellen kann:\n",
    "\n",
    "# # - Titel\n",
    "# title_font = {'fontsize': 20, 'fontweight': 'bold', 'fontname': 'Arial'}\n",
    "# ax.set_title('Reiche Leute leben länger, aber nicht ewig', fontdict=title_font, loc='left')\n",
    "\n",
    "# # - Achsenbeschriftungen\n",
    "# label_font = {'fontsize': 14, 'fontweight': 'bold', 'fontname': 'Comic Sans MS'}\n",
    "# ax.set_ylabel(\"Lebenserwartung\", fontdict=label_font)\n",
    "# ax.set_xlabel(\"BIP pro Kopf\", fontdict=label_font)\n",
    "# ax.yaxis.set_label_position('left')\n",
    "\n",
    "# # - Ticks\n",
    "# ax.xaxis.set_ticks_position('none')\n",
    "# ax.yaxis.set_ticks_position('none')\n",
    "# ax.xaxis.set_major_formatter(ticker.StrMethodFormatter('${x:,}'))\n",
    "\n",
    "# # Gitternetz formatieren\n",
    "# ax.grid(which='major', linestyle='-.', linewidth='0.5', color='black', )\n",
    "# ax.minorticks_on()\n",
    "# ax.grid(which='minor', linestyle='-.', linewidth='0.2', color='blue', )\n",
    "\n",
    "# # - Rahmenlinien ausschalten\n",
    "# ax.spines['right'].set_v\n",
    "\n",
    "isible(False)\n",
    "# ax.spines['left'].set_visible(False)\n",
    "# ax.spines['top'].set_visible(False)\n",
    "# ax.spines['bottom'].set_visible(False)\n",
    "\n",
    "\n",
    "# # - Hintergrundfarbe\n",
    "# ax.set_facecolor('#EEEEEE')"
   ]
  },
  {
   "cell_type": "code",
   "execution_count": 31,
   "metadata": {
    "scrolled": false
   },
   "outputs": [],
   "source": [
    "# df1.iplot(kind='bar', color='red')"
   ]
  },
  {
   "cell_type": "code",
   "execution_count": null,
   "metadata": {},
   "outputs": [],
   "source": [
    "# df1 = [\n",
    "#     go.Bar(\n",
    "#         x=[1, 2, 3],\n",
    "#         y=[1, 3, 1]\n",
    "#     )\n",
    "# ]\n",
    "\n",
    "# config = {\n",
    "#     'linkText': \"Let's visit plot.ly !!!\",\n",
    "#     'scrollZoom': False,\n",
    "#     'displayModeBar': True,\n",
    "#     'editable': True\n",
    "# }\n",
    "# iplot(df1, config=config)"
   ]
  },
  {
   "cell_type": "code",
   "execution_count": null,
   "metadata": {},
   "outputs": [],
   "source": []
  },
  {
   "cell_type": "code",
   "execution_count": null,
   "metadata": {},
   "outputs": [],
   "source": []
  },
  {
   "cell_type": "code",
   "execution_count": null,
   "metadata": {},
   "outputs": [],
   "source": []
  }
 ],
 "metadata": {
  "kernelspec": {
   "display_name": "Python 3",
   "language": "python",
   "name": "python3"
  },
  "language_info": {
   "codemirror_mode": {
    "name": "ipython",
    "version": 3
   },
   "file_extension": ".py",
   "mimetype": "text/x-python",
   "name": "python",
   "nbconvert_exporter": "python",
   "pygments_lexer": "ipython3",
   "version": "3.7.0"
  }
 },
 "nbformat": 4,
 "nbformat_minor": 2
}
