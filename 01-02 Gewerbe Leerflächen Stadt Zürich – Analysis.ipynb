{
 "cells": [
  {
   "cell_type": "code",
   "execution_count": 10,
   "metadata": {},
   "outputs": [],
   "source": [
    "import pandas as pd\n",
    "import numpy as np"
   ]
  },
  {
   "cell_type": "code",
   "execution_count": 11,
   "metadata": {},
   "outputs": [],
   "source": [
    "%matplotlib inline"
   ]
  },
  {
   "cell_type": "code",
   "execution_count": 12,
   "metadata": {
    "scrolled": true
   },
   "outputs": [
    {
     "data": {
      "text/html": [
       "<script type=\"text/javascript\">window.PlotlyConfig = {MathJaxConfig: 'local'};</script><script type=\"text/javascript\">if (window.MathJax) {MathJax.Hub.Config({SVG: {font: \"STIX-Web\"}});}</script><script>requirejs.config({paths: { 'plotly': ['https://cdn.plot.ly/plotly-latest.min']},});if(!window._Plotly) {require(['plotly'],function(plotly) {window._Plotly=plotly;});}</script>"
      ],
      "text/vnd.plotly.v1+html": [
       "<script type=\"text/javascript\">window.PlotlyConfig = {MathJaxConfig: 'local'};</script><script type=\"text/javascript\">if (window.MathJax) {MathJax.Hub.Config({SVG: {font: \"STIX-Web\"}});}</script><script>requirejs.config({paths: { 'plotly': ['https://cdn.plot.ly/plotly-latest.min']},});if(!window._Plotly) {require(['plotly'],function(plotly) {window._Plotly=plotly;});}</script>"
      ]
     },
     "metadata": {},
     "output_type": "display_data"
    }
   ],
   "source": [
    "import matplotlib.pyplot as plt\n",
    "import seaborn as sns\n",
    "\n",
    "import plotly.plotly as py\n",
    "import plotly.offline as pyo\n",
    "import plotly.graph_objs as go\n",
    "\n",
    "pyo.init_notebook_mode(connected=True)\n",
    "\n",
    "import cufflinks as cf\n",
    "\n",
    "# import plotly.tools as tls\n",
    "# tls.embed('https://plot.ly/~cufflinks/8')"
   ]
  },
  {
   "cell_type": "code",
   "execution_count": 13,
   "metadata": {},
   "outputs": [
    {
     "name": "stdout",
     "output_type": "stream",
     "text": [
      "['seaborn-dark', 'seaborn-darkgrid', 'seaborn-ticks', 'fivethirtyeight', 'seaborn-whitegrid', 'classic', '_classic_test', 'fast', 'seaborn-talk', 'seaborn-dark-palette', 'seaborn-bright', 'seaborn-pastel', 'grayscale', 'seaborn-notebook', 'ggplot', 'seaborn-colorblind', 'seaborn-muted', 'seaborn', 'Solarize_Light2', 'seaborn-paper', 'bmh', 'tableau-colorblind10', 'seaborn-white', 'dark_background', 'seaborn-poster', 'seaborn-deep']\n"
     ]
    }
   ],
   "source": [
    "print(plt.style.available)"
   ]
  },
  {
   "cell_type": "code",
   "execution_count": 14,
   "metadata": {},
   "outputs": [],
   "source": [
    "# plt.style.use('seaborn-ticks')"
   ]
  },
  {
   "cell_type": "markdown",
   "metadata": {},
   "source": [
    "-----------"
   ]
  },
  {
   "cell_type": "markdown",
   "metadata": {},
   "source": [
    "# Gewerbe: Leerflächen in der Stadt Zürich"
   ]
  },
  {
   "cell_type": "markdown",
   "metadata": {},
   "source": [
    "### Auswertung\n",
    "Wie gross ist der Anteil der leerstehenden Flächen für Gewerbe wie Büros, Praxis, Verkauf und Lager usw.\n",
    "\n",
    "\n",
    "### Leerfläche in Quadratmeter\n",
    "* Leerfläche der ganzen Stadt Zürich von 2014 bis 2018\n",
    "* Leerfläche in den Kreisen der Stadt Zürich von 2014 bis 2018\n",
    "* Leerfläche in den Kreisen der Stadt Zürich im Jahr 2018\n",
    "* Leerfläche in den Quartieren der Stadt Zürich von 2014 bis 2018\n",
    "* Leerfläche in den Quartieren der Stadt Zürich im Jahr 2018\n",
    "\n",
    "### Leerfläche nach Nutzungsart\n",
    "* Leerfläche nach Nutzungsart –  Stadt Zürich im Jahr 2018\n",
    "* Leerfläche nach Nutzungsart in den Kreisen im Jahr 2018\n",
    "* Leerfläche nach Nutzungsart in den Quartieren im Jahr 2018"
   ]
  },
  {
   "cell_type": "markdown",
   "metadata": {},
   "source": [
    "Quelle: Statistik Stadt Zürich"
   ]
  },
  {
   "cell_type": "markdown",
   "metadata": {},
   "source": [
    "-------------"
   ]
  },
  {
   "cell_type": "markdown",
   "metadata": {},
   "source": [
    "### Datensatz \"gesäubert\""
   ]
  },
  {
   "cell_type": "markdown",
   "metadata": {},
   "source": [
    "Dieser Datensatz kann nun für die Datenauswertung verwendet werden"
   ]
  },
  {
   "cell_type": "code",
   "execution_count": 15,
   "metadata": {},
   "outputs": [],
   "source": [
    "df_clean = pd.read_excel('Daten/Gewerbe/01_Leerflächen_Gewerbe_Art_Quartier_clean.xlsx').fillna(0)"
   ]
  },
  {
   "cell_type": "code",
   "execution_count": 16,
   "metadata": {
    "scrolled": false
   },
   "outputs": [
    {
     "data": {
      "text/html": [
       "<div>\n",
       "<style scoped>\n",
       "    .dataframe tbody tr th:only-of-type {\n",
       "        vertical-align: middle;\n",
       "    }\n",
       "\n",
       "    .dataframe tbody tr th {\n",
       "        vertical-align: top;\n",
       "    }\n",
       "\n",
       "    .dataframe thead th {\n",
       "        text-align: right;\n",
       "    }\n",
       "</style>\n",
       "<table border=\"1\" class=\"dataframe\">\n",
       "  <thead>\n",
       "    <tr style=\"text-align: right;\">\n",
       "      <th></th>\n",
       "      <th>Quartier</th>\n",
       "      <th>Leerfläche 2018</th>\n",
       "      <th>Leerfläche 2017</th>\n",
       "      <th>Leerfläche 2016</th>\n",
       "      <th>Leerfläche 2015</th>\n",
       "      <th>Leerfläche 2014</th>\n",
       "      <th>Büro/Praxis 2018</th>\n",
       "      <th>Büro/Praxis 2017</th>\n",
       "      <th>Büro/Praxis 2016</th>\n",
       "      <th>Büro/Praxis 2015</th>\n",
       "      <th>Büro/Praxis 2014</th>\n",
       "      <th>Lager/Archiv 2018</th>\n",
       "      <th>Verkauf 2018</th>\n",
       "      <th>Werkstatt/Produktion 2018</th>\n",
       "      <th>Andere Nutzungen 2018</th>\n",
       "    </tr>\n",
       "  </thead>\n",
       "  <tbody>\n",
       "    <tr>\n",
       "      <th>0</th>\n",
       "      <td>Ganze Stadt</td>\n",
       "      <td>187714</td>\n",
       "      <td>243660</td>\n",
       "      <td>237054</td>\n",
       "      <td>256450</td>\n",
       "      <td>264548</td>\n",
       "      <td>139664</td>\n",
       "      <td>174381</td>\n",
       "      <td>193027</td>\n",
       "      <td>207901</td>\n",
       "      <td>214900</td>\n",
       "      <td>31663</td>\n",
       "      <td>5381</td>\n",
       "      <td>5122</td>\n",
       "      <td>5884</td>\n",
       "    </tr>\n",
       "    <tr>\n",
       "      <th>1</th>\n",
       "      <td>Kreis 1</td>\n",
       "      <td>30550</td>\n",
       "      <td>34710</td>\n",
       "      <td>32201</td>\n",
       "      <td>40945</td>\n",
       "      <td>53774</td>\n",
       "      <td>23805</td>\n",
       "      <td>29535</td>\n",
       "      <td>29807</td>\n",
       "      <td>36180</td>\n",
       "      <td>49692</td>\n",
       "      <td>2436</td>\n",
       "      <td>1889</td>\n",
       "      <td>214</td>\n",
       "      <td>2206</td>\n",
       "    </tr>\n",
       "    <tr>\n",
       "      <th>2</th>\n",
       "      <td>Rathaus</td>\n",
       "      <td>3504</td>\n",
       "      <td>1940</td>\n",
       "      <td>2261</td>\n",
       "      <td>2261</td>\n",
       "      <td>2284</td>\n",
       "      <td>1399</td>\n",
       "      <td>1940</td>\n",
       "      <td>1315</td>\n",
       "      <td>2113</td>\n",
       "      <td>1856</td>\n",
       "      <td>128</td>\n",
       "      <td>383</td>\n",
       "      <td>64</td>\n",
       "      <td>1530</td>\n",
       "    </tr>\n",
       "    <tr>\n",
       "      <th>3</th>\n",
       "      <td>Hochschulen</td>\n",
       "      <td>670</td>\n",
       "      <td>1187</td>\n",
       "      <td>340</td>\n",
       "      <td>126</td>\n",
       "      <td>2218</td>\n",
       "      <td>670</td>\n",
       "      <td>797</td>\n",
       "      <td>340</td>\n",
       "      <td>126</td>\n",
       "      <td>2218</td>\n",
       "      <td>0</td>\n",
       "      <td>0</td>\n",
       "      <td>0</td>\n",
       "      <td>0</td>\n",
       "    </tr>\n",
       "    <tr>\n",
       "      <th>4</th>\n",
       "      <td>Lindenhof</td>\n",
       "      <td>7542</td>\n",
       "      <td>10304</td>\n",
       "      <td>8060</td>\n",
       "      <td>7737</td>\n",
       "      <td>7381</td>\n",
       "      <td>6963</td>\n",
       "      <td>8158</td>\n",
       "      <td>7725</td>\n",
       "      <td>7374</td>\n",
       "      <td>6967</td>\n",
       "      <td>579</td>\n",
       "      <td>0</td>\n",
       "      <td>0</td>\n",
       "      <td>0</td>\n",
       "    </tr>\n",
       "  </tbody>\n",
       "</table>\n",
       "</div>"
      ],
      "text/plain": [
       "      Quartier  Leerfläche 2018  Leerfläche 2017  Leerfläche 2016  \\\n",
       "0  Ganze Stadt           187714           243660           237054   \n",
       "1      Kreis 1            30550            34710            32201   \n",
       "2      Rathaus             3504             1940             2261   \n",
       "3  Hochschulen              670             1187              340   \n",
       "4    Lindenhof             7542            10304             8060   \n",
       "\n",
       "   Leerfläche 2015  Leerfläche 2014  Büro/Praxis 2018  Büro/Praxis 2017  \\\n",
       "0           256450           264548            139664            174381   \n",
       "1            40945            53774             23805             29535   \n",
       "2             2261             2284              1399              1940   \n",
       "3              126             2218               670               797   \n",
       "4             7737             7381              6963              8158   \n",
       "\n",
       "   Büro/Praxis 2016  Büro/Praxis 2015  Büro/Praxis 2014  Lager/Archiv 2018  \\\n",
       "0            193027            207901            214900              31663   \n",
       "1             29807             36180             49692               2436   \n",
       "2              1315              2113              1856                128   \n",
       "3               340               126              2218                  0   \n",
       "4              7725              7374              6967                579   \n",
       "\n",
       "   Verkauf 2018  Werkstatt/Produktion 2018  Andere Nutzungen 2018  \n",
       "0          5381                       5122                   5884  \n",
       "1          1889                        214                   2206  \n",
       "2           383                         64                   1530  \n",
       "3             0                          0                      0  \n",
       "4             0                          0                      0  "
      ]
     },
     "execution_count": 16,
     "metadata": {},
     "output_type": "execute_result"
    }
   ],
   "source": [
    "df_clean.head()"
   ]
  },
  {
   "cell_type": "markdown",
   "metadata": {},
   "source": [
    "------------"
   ]
  },
  {
   "cell_type": "markdown",
   "metadata": {},
   "source": [
    "## Gewerbe: Leerfläche aller Kreise, Quartiere und der ganzen Stadt Zürich von 2014 bis 2018"
   ]
  },
  {
   "cell_type": "markdown",
   "metadata": {},
   "source": [
    "Datenauswahl \"df_leerflaeche\" ist Referenzsatz für die Selektion der Kreise, Quartiere etc."
   ]
  },
  {
   "cell_type": "code",
   "execution_count": 17,
   "metadata": {},
   "outputs": [
    {
     "data": {
      "text/html": [
       "<div>\n",
       "<style scoped>\n",
       "    .dataframe tbody tr th:only-of-type {\n",
       "        vertical-align: middle;\n",
       "    }\n",
       "\n",
       "    .dataframe tbody tr th {\n",
       "        vertical-align: top;\n",
       "    }\n",
       "\n",
       "    .dataframe thead th {\n",
       "        text-align: right;\n",
       "    }\n",
       "</style>\n",
       "<table border=\"1\" class=\"dataframe\">\n",
       "  <thead>\n",
       "    <tr style=\"text-align: right;\">\n",
       "      <th></th>\n",
       "      <th>Quartier</th>\n",
       "      <th>Leerfläche 2018</th>\n",
       "      <th>Leerfläche 2017</th>\n",
       "      <th>Leerfläche 2016</th>\n",
       "      <th>Leerfläche 2015</th>\n",
       "      <th>Leerfläche 2014</th>\n",
       "    </tr>\n",
       "  </thead>\n",
       "  <tbody>\n",
       "    <tr>\n",
       "      <th>0</th>\n",
       "      <td>Ganze Stadt</td>\n",
       "      <td>187714</td>\n",
       "      <td>243660</td>\n",
       "      <td>237054</td>\n",
       "      <td>256450</td>\n",
       "      <td>264548</td>\n",
       "    </tr>\n",
       "    <tr>\n",
       "      <th>1</th>\n",
       "      <td>Kreis 1</td>\n",
       "      <td>30550</td>\n",
       "      <td>34710</td>\n",
       "      <td>32201</td>\n",
       "      <td>40945</td>\n",
       "      <td>53774</td>\n",
       "    </tr>\n",
       "    <tr>\n",
       "      <th>2</th>\n",
       "      <td>Rathaus</td>\n",
       "      <td>3504</td>\n",
       "      <td>1940</td>\n",
       "      <td>2261</td>\n",
       "      <td>2261</td>\n",
       "      <td>2284</td>\n",
       "    </tr>\n",
       "    <tr>\n",
       "      <th>3</th>\n",
       "      <td>Hochschulen</td>\n",
       "      <td>670</td>\n",
       "      <td>1187</td>\n",
       "      <td>340</td>\n",
       "      <td>126</td>\n",
       "      <td>2218</td>\n",
       "    </tr>\n",
       "    <tr>\n",
       "      <th>4</th>\n",
       "      <td>Lindenhof</td>\n",
       "      <td>7542</td>\n",
       "      <td>10304</td>\n",
       "      <td>8060</td>\n",
       "      <td>7737</td>\n",
       "      <td>7381</td>\n",
       "    </tr>\n",
       "    <tr>\n",
       "      <th>5</th>\n",
       "      <td>City</td>\n",
       "      <td>18834</td>\n",
       "      <td>21279</td>\n",
       "      <td>21540</td>\n",
       "      <td>30821</td>\n",
       "      <td>41891</td>\n",
       "    </tr>\n",
       "    <tr>\n",
       "      <th>6</th>\n",
       "      <td>Kreis 2</td>\n",
       "      <td>23200</td>\n",
       "      <td>25173</td>\n",
       "      <td>19439</td>\n",
       "      <td>30347</td>\n",
       "      <td>34236</td>\n",
       "    </tr>\n",
       "    <tr>\n",
       "      <th>7</th>\n",
       "      <td>Wollishofen</td>\n",
       "      <td>2220</td>\n",
       "      <td>4227</td>\n",
       "      <td>5313</td>\n",
       "      <td>3790</td>\n",
       "      <td>9101</td>\n",
       "    </tr>\n",
       "    <tr>\n",
       "      <th>8</th>\n",
       "      <td>Leimbach</td>\n",
       "      <td>0</td>\n",
       "      <td>0</td>\n",
       "      <td>0</td>\n",
       "      <td>0</td>\n",
       "      <td>401</td>\n",
       "    </tr>\n",
       "    <tr>\n",
       "      <th>9</th>\n",
       "      <td>Enge</td>\n",
       "      <td>20980</td>\n",
       "      <td>20946</td>\n",
       "      <td>14126</td>\n",
       "      <td>26557</td>\n",
       "      <td>24734</td>\n",
       "    </tr>\n",
       "    <tr>\n",
       "      <th>10</th>\n",
       "      <td>Kreis 3</td>\n",
       "      <td>19407</td>\n",
       "      <td>20063</td>\n",
       "      <td>22593</td>\n",
       "      <td>38728</td>\n",
       "      <td>34681</td>\n",
       "    </tr>\n",
       "    <tr>\n",
       "      <th>11</th>\n",
       "      <td>Alt-Wiedikon</td>\n",
       "      <td>16268</td>\n",
       "      <td>16327</td>\n",
       "      <td>19741</td>\n",
       "      <td>33457</td>\n",
       "      <td>26935</td>\n",
       "    </tr>\n",
       "    <tr>\n",
       "      <th>12</th>\n",
       "      <td>Friesenberg</td>\n",
       "      <td>0</td>\n",
       "      <td>0</td>\n",
       "      <td>0</td>\n",
       "      <td>0</td>\n",
       "      <td>0</td>\n",
       "    </tr>\n",
       "    <tr>\n",
       "      <th>13</th>\n",
       "      <td>Sihlfeld</td>\n",
       "      <td>3139</td>\n",
       "      <td>3736</td>\n",
       "      <td>2852</td>\n",
       "      <td>5271</td>\n",
       "      <td>7746</td>\n",
       "    </tr>\n",
       "    <tr>\n",
       "      <th>14</th>\n",
       "      <td>Kreis 4</td>\n",
       "      <td>6808</td>\n",
       "      <td>22861</td>\n",
       "      <td>11583</td>\n",
       "      <td>7325</td>\n",
       "      <td>7046</td>\n",
       "    </tr>\n",
       "    <tr>\n",
       "      <th>15</th>\n",
       "      <td>Werd</td>\n",
       "      <td>3639</td>\n",
       "      <td>2620</td>\n",
       "      <td>7608</td>\n",
       "      <td>610</td>\n",
       "      <td>3026</td>\n",
       "    </tr>\n",
       "    <tr>\n",
       "      <th>16</th>\n",
       "      <td>Langstrasse</td>\n",
       "      <td>1093</td>\n",
       "      <td>5698</td>\n",
       "      <td>3729</td>\n",
       "      <td>5553</td>\n",
       "      <td>3769</td>\n",
       "    </tr>\n",
       "    <tr>\n",
       "      <th>17</th>\n",
       "      <td>Hard</td>\n",
       "      <td>2076</td>\n",
       "      <td>14543</td>\n",
       "      <td>246</td>\n",
       "      <td>1162</td>\n",
       "      <td>251</td>\n",
       "    </tr>\n",
       "    <tr>\n",
       "      <th>18</th>\n",
       "      <td>Kreis 5</td>\n",
       "      <td>8646</td>\n",
       "      <td>5913</td>\n",
       "      <td>17582</td>\n",
       "      <td>44909</td>\n",
       "      <td>33643</td>\n",
       "    </tr>\n",
       "    <tr>\n",
       "      <th>19</th>\n",
       "      <td>Gewerbeschule</td>\n",
       "      <td>342</td>\n",
       "      <td>1902</td>\n",
       "      <td>4177</td>\n",
       "      <td>2344</td>\n",
       "      <td>4311</td>\n",
       "    </tr>\n",
       "    <tr>\n",
       "      <th>20</th>\n",
       "      <td>Escher Wyss</td>\n",
       "      <td>8304</td>\n",
       "      <td>4011</td>\n",
       "      <td>13405</td>\n",
       "      <td>42565</td>\n",
       "      <td>29332</td>\n",
       "    </tr>\n",
       "    <tr>\n",
       "      <th>21</th>\n",
       "      <td>Kreis 6</td>\n",
       "      <td>3281</td>\n",
       "      <td>5804</td>\n",
       "      <td>3726</td>\n",
       "      <td>5322</td>\n",
       "      <td>2095</td>\n",
       "    </tr>\n",
       "    <tr>\n",
       "      <th>22</th>\n",
       "      <td>Unterstrass</td>\n",
       "      <td>2744</td>\n",
       "      <td>4281</td>\n",
       "      <td>3391</td>\n",
       "      <td>5322</td>\n",
       "      <td>1795</td>\n",
       "    </tr>\n",
       "    <tr>\n",
       "      <th>23</th>\n",
       "      <td>Oberstrass</td>\n",
       "      <td>537</td>\n",
       "      <td>1523</td>\n",
       "      <td>335</td>\n",
       "      <td>0</td>\n",
       "      <td>300</td>\n",
       "    </tr>\n",
       "    <tr>\n",
       "      <th>24</th>\n",
       "      <td>Kreis 7</td>\n",
       "      <td>2952</td>\n",
       "      <td>4697</td>\n",
       "      <td>4336</td>\n",
       "      <td>3886</td>\n",
       "      <td>3577</td>\n",
       "    </tr>\n",
       "    <tr>\n",
       "      <th>25</th>\n",
       "      <td>Fluntern</td>\n",
       "      <td>0</td>\n",
       "      <td>557</td>\n",
       "      <td>500</td>\n",
       "      <td>66</td>\n",
       "      <td>66</td>\n",
       "    </tr>\n",
       "    <tr>\n",
       "      <th>26</th>\n",
       "      <td>Hottingen</td>\n",
       "      <td>1080</td>\n",
       "      <td>2413</td>\n",
       "      <td>1962</td>\n",
       "      <td>3030</td>\n",
       "      <td>1208</td>\n",
       "    </tr>\n",
       "    <tr>\n",
       "      <th>27</th>\n",
       "      <td>Hirslanden</td>\n",
       "      <td>1462</td>\n",
       "      <td>1537</td>\n",
       "      <td>1758</td>\n",
       "      <td>674</td>\n",
       "      <td>2187</td>\n",
       "    </tr>\n",
       "    <tr>\n",
       "      <th>28</th>\n",
       "      <td>Witikon</td>\n",
       "      <td>410</td>\n",
       "      <td>190</td>\n",
       "      <td>116</td>\n",
       "      <td>116</td>\n",
       "      <td>116</td>\n",
       "    </tr>\n",
       "    <tr>\n",
       "      <th>29</th>\n",
       "      <td>Kreis 8</td>\n",
       "      <td>6938</td>\n",
       "      <td>12230</td>\n",
       "      <td>12294</td>\n",
       "      <td>15127</td>\n",
       "      <td>13214</td>\n",
       "    </tr>\n",
       "    <tr>\n",
       "      <th>30</th>\n",
       "      <td>Seefeld</td>\n",
       "      <td>2809</td>\n",
       "      <td>6352</td>\n",
       "      <td>6603</td>\n",
       "      <td>9473</td>\n",
       "      <td>8101</td>\n",
       "    </tr>\n",
       "    <tr>\n",
       "      <th>31</th>\n",
       "      <td>Mühlebach</td>\n",
       "      <td>3615</td>\n",
       "      <td>5312</td>\n",
       "      <td>4921</td>\n",
       "      <td>4740</td>\n",
       "      <td>4779</td>\n",
       "    </tr>\n",
       "    <tr>\n",
       "      <th>32</th>\n",
       "      <td>Weinegg</td>\n",
       "      <td>514</td>\n",
       "      <td>566</td>\n",
       "      <td>770</td>\n",
       "      <td>914</td>\n",
       "      <td>334</td>\n",
       "    </tr>\n",
       "    <tr>\n",
       "      <th>33</th>\n",
       "      <td>Kreis 9</td>\n",
       "      <td>41331</td>\n",
       "      <td>44100</td>\n",
       "      <td>52204</td>\n",
       "      <td>42610</td>\n",
       "      <td>41216</td>\n",
       "    </tr>\n",
       "    <tr>\n",
       "      <th>34</th>\n",
       "      <td>Albisrieden</td>\n",
       "      <td>7325</td>\n",
       "      <td>8080</td>\n",
       "      <td>4628</td>\n",
       "      <td>3382</td>\n",
       "      <td>4823</td>\n",
       "    </tr>\n",
       "    <tr>\n",
       "      <th>35</th>\n",
       "      <td>Altstetten</td>\n",
       "      <td>34006</td>\n",
       "      <td>36020</td>\n",
       "      <td>47576</td>\n",
       "      <td>39228</td>\n",
       "      <td>36393</td>\n",
       "    </tr>\n",
       "    <tr>\n",
       "      <th>36</th>\n",
       "      <td>Kreis 10</td>\n",
       "      <td>590</td>\n",
       "      <td>1342</td>\n",
       "      <td>477</td>\n",
       "      <td>220</td>\n",
       "      <td>1240</td>\n",
       "    </tr>\n",
       "    <tr>\n",
       "      <th>37</th>\n",
       "      <td>Höngg</td>\n",
       "      <td>28</td>\n",
       "      <td>464</td>\n",
       "      <td>0</td>\n",
       "      <td>220</td>\n",
       "      <td>0</td>\n",
       "    </tr>\n",
       "    <tr>\n",
       "      <th>38</th>\n",
       "      <td>Wipkingen</td>\n",
       "      <td>562</td>\n",
       "      <td>878</td>\n",
       "      <td>477</td>\n",
       "      <td>0</td>\n",
       "      <td>1240</td>\n",
       "    </tr>\n",
       "    <tr>\n",
       "      <th>39</th>\n",
       "      <td>Kreis 11</td>\n",
       "      <td>43175</td>\n",
       "      <td>65488</td>\n",
       "      <td>58697</td>\n",
       "      <td>25972</td>\n",
       "      <td>38549</td>\n",
       "    </tr>\n",
       "    <tr>\n",
       "      <th>40</th>\n",
       "      <td>Affoltern</td>\n",
       "      <td>111</td>\n",
       "      <td>1706</td>\n",
       "      <td>1651</td>\n",
       "      <td>200</td>\n",
       "      <td>1095</td>\n",
       "    </tr>\n",
       "    <tr>\n",
       "      <th>41</th>\n",
       "      <td>Oerlikon</td>\n",
       "      <td>16299</td>\n",
       "      <td>9649</td>\n",
       "      <td>13744</td>\n",
       "      <td>3101</td>\n",
       "      <td>3299</td>\n",
       "    </tr>\n",
       "    <tr>\n",
       "      <th>42</th>\n",
       "      <td>Seebach</td>\n",
       "      <td>26765</td>\n",
       "      <td>54133</td>\n",
       "      <td>43302</td>\n",
       "      <td>22671</td>\n",
       "      <td>34155</td>\n",
       "    </tr>\n",
       "    <tr>\n",
       "      <th>43</th>\n",
       "      <td>Kreis 12</td>\n",
       "      <td>836</td>\n",
       "      <td>1279</td>\n",
       "      <td>1922</td>\n",
       "      <td>1059</td>\n",
       "      <td>1277</td>\n",
       "    </tr>\n",
       "    <tr>\n",
       "      <th>44</th>\n",
       "      <td>Saatlen</td>\n",
       "      <td>758</td>\n",
       "      <td>1113</td>\n",
       "      <td>865</td>\n",
       "      <td>514</td>\n",
       "      <td>408</td>\n",
       "    </tr>\n",
       "    <tr>\n",
       "      <th>45</th>\n",
       "      <td>Schwamendingen-Mitte</td>\n",
       "      <td>78</td>\n",
       "      <td>166</td>\n",
       "      <td>1057</td>\n",
       "      <td>545</td>\n",
       "      <td>709</td>\n",
       "    </tr>\n",
       "    <tr>\n",
       "      <th>46</th>\n",
       "      <td>Hirzenbach</td>\n",
       "      <td>0</td>\n",
       "      <td>0</td>\n",
       "      <td>0</td>\n",
       "      <td>0</td>\n",
       "      <td>160</td>\n",
       "    </tr>\n",
       "  </tbody>\n",
       "</table>\n",
       "</div>"
      ],
      "text/plain": [
       "                Quartier  Leerfläche 2018  Leerfläche 2017  Leerfläche 2016  \\\n",
       "0            Ganze Stadt           187714           243660           237054   \n",
       "1                Kreis 1            30550            34710            32201   \n",
       "2                Rathaus             3504             1940             2261   \n",
       "3            Hochschulen              670             1187              340   \n",
       "4              Lindenhof             7542            10304             8060   \n",
       "5                   City            18834            21279            21540   \n",
       "6                Kreis 2            23200            25173            19439   \n",
       "7            Wollishofen             2220             4227             5313   \n",
       "8               Leimbach                0                0                0   \n",
       "9                   Enge            20980            20946            14126   \n",
       "10               Kreis 3            19407            20063            22593   \n",
       "11          Alt-Wiedikon            16268            16327            19741   \n",
       "12           Friesenberg                0                0                0   \n",
       "13              Sihlfeld             3139             3736             2852   \n",
       "14               Kreis 4             6808            22861            11583   \n",
       "15                  Werd             3639             2620             7608   \n",
       "16           Langstrasse             1093             5698             3729   \n",
       "17                  Hard             2076            14543              246   \n",
       "18               Kreis 5             8646             5913            17582   \n",
       "19         Gewerbeschule              342             1902             4177   \n",
       "20           Escher Wyss             8304             4011            13405   \n",
       "21               Kreis 6             3281             5804             3726   \n",
       "22           Unterstrass             2744             4281             3391   \n",
       "23            Oberstrass              537             1523              335   \n",
       "24               Kreis 7             2952             4697             4336   \n",
       "25              Fluntern                0              557              500   \n",
       "26             Hottingen             1080             2413             1962   \n",
       "27            Hirslanden             1462             1537             1758   \n",
       "28               Witikon              410              190              116   \n",
       "29               Kreis 8             6938            12230            12294   \n",
       "30               Seefeld             2809             6352             6603   \n",
       "31             Mühlebach             3615             5312             4921   \n",
       "32               Weinegg              514              566              770   \n",
       "33               Kreis 9            41331            44100            52204   \n",
       "34           Albisrieden             7325             8080             4628   \n",
       "35            Altstetten            34006            36020            47576   \n",
       "36              Kreis 10              590             1342              477   \n",
       "37                 Höngg               28              464                0   \n",
       "38             Wipkingen              562              878              477   \n",
       "39              Kreis 11            43175            65488            58697   \n",
       "40             Affoltern              111             1706             1651   \n",
       "41              Oerlikon            16299             9649            13744   \n",
       "42               Seebach            26765            54133            43302   \n",
       "43              Kreis 12              836             1279             1922   \n",
       "44               Saatlen              758             1113              865   \n",
       "45  Schwamendingen-Mitte               78              166             1057   \n",
       "46            Hirzenbach                0                0                0   \n",
       "\n",
       "    Leerfläche 2015  Leerfläche 2014  \n",
       "0            256450           264548  \n",
       "1             40945            53774  \n",
       "2              2261             2284  \n",
       "3               126             2218  \n",
       "4              7737             7381  \n",
       "5             30821            41891  \n",
       "6             30347            34236  \n",
       "7              3790             9101  \n",
       "8                 0              401  \n",
       "9             26557            24734  \n",
       "10            38728            34681  \n",
       "11            33457            26935  \n",
       "12                0                0  \n",
       "13             5271             7746  \n",
       "14             7325             7046  \n",
       "15              610             3026  \n",
       "16             5553             3769  \n",
       "17             1162              251  \n",
       "18            44909            33643  \n",
       "19             2344             4311  \n",
       "20            42565            29332  \n",
       "21             5322             2095  \n",
       "22             5322             1795  \n",
       "23                0              300  \n",
       "24             3886             3577  \n",
       "25               66               66  \n",
       "26             3030             1208  \n",
       "27              674             2187  \n",
       "28              116              116  \n",
       "29            15127            13214  \n",
       "30             9473             8101  \n",
       "31             4740             4779  \n",
       "32              914              334  \n",
       "33            42610            41216  \n",
       "34             3382             4823  \n",
       "35            39228            36393  \n",
       "36              220             1240  \n",
       "37              220                0  \n",
       "38                0             1240  \n",
       "39            25972            38549  \n",
       "40              200             1095  \n",
       "41             3101             3299  \n",
       "42            22671            34155  \n",
       "43             1059             1277  \n",
       "44              514              408  \n",
       "45              545              709  \n",
       "46                0              160  "
      ]
     },
     "execution_count": 17,
     "metadata": {},
     "output_type": "execute_result"
    }
   ],
   "source": [
    "# selecting [rows, columns]\n",
    "df_leerflaeche = df_clean.iloc[0:, [0,1,2,3,4,5]]\n",
    "df_leerflaeche"
   ]
  },
  {
   "cell_type": "markdown",
   "metadata": {},
   "source": [
    "-------"
   ]
  },
  {
   "cell_type": "markdown",
   "metadata": {},
   "source": [
    "### Gewerbe: Leerfläche der ganzen Stadt Zürich von 2014 bis 2018"
   ]
  },
  {
   "cell_type": "code",
   "execution_count": 18,
   "metadata": {},
   "outputs": [
    {
     "data": {
      "text/html": [
       "<div>\n",
       "<style scoped>\n",
       "    .dataframe tbody tr th:only-of-type {\n",
       "        vertical-align: middle;\n",
       "    }\n",
       "\n",
       "    .dataframe tbody tr th {\n",
       "        vertical-align: top;\n",
       "    }\n",
       "\n",
       "    .dataframe thead th {\n",
       "        text-align: right;\n",
       "    }\n",
       "</style>\n",
       "<table border=\"1\" class=\"dataframe\">\n",
       "  <thead>\n",
       "    <tr style=\"text-align: right;\">\n",
       "      <th></th>\n",
       "      <th>Quartier</th>\n",
       "      <th>Leerfläche 2018</th>\n",
       "      <th>Leerfläche 2017</th>\n",
       "      <th>Leerfläche 2016</th>\n",
       "      <th>Leerfläche 2015</th>\n",
       "      <th>Leerfläche 2014</th>\n",
       "    </tr>\n",
       "  </thead>\n",
       "  <tbody>\n",
       "    <tr>\n",
       "      <th>0</th>\n",
       "      <td>Ganze Stadt</td>\n",
       "      <td>187714</td>\n",
       "      <td>243660</td>\n",
       "      <td>237054</td>\n",
       "      <td>256450</td>\n",
       "      <td>264548</td>\n",
       "    </tr>\n",
       "  </tbody>\n",
       "</table>\n",
       "</div>"
      ],
      "text/plain": [
       "      Quartier  Leerfläche 2018  Leerfläche 2017  Leerfläche 2016  \\\n",
       "0  Ganze Stadt           187714           243660           237054   \n",
       "\n",
       "   Leerfläche 2015  Leerfläche 2014  \n",
       "0           256450           264548  "
      ]
     },
     "execution_count": 18,
     "metadata": {},
     "output_type": "execute_result"
    }
   ],
   "source": [
    "# selecting [rows, columns]\n",
    "df_leerflaeche_stdzh = df_leerflaeche.iloc[:1, :]\n",
    "df_leerflaeche_stdzh"
   ]
  },
  {
   "cell_type": "code",
   "execution_count": 19,
   "metadata": {
    "scrolled": true
   },
   "outputs": [
    {
     "data": {
      "text/html": [
       "<div>\n",
       "<style scoped>\n",
       "    .dataframe tbody tr th:only-of-type {\n",
       "        vertical-align: middle;\n",
       "    }\n",
       "\n",
       "    .dataframe tbody tr th {\n",
       "        vertical-align: top;\n",
       "    }\n",
       "\n",
       "    .dataframe thead th {\n",
       "        text-align: right;\n",
       "    }\n",
       "</style>\n",
       "<table border=\"1\" class=\"dataframe\">\n",
       "  <thead>\n",
       "    <tr style=\"text-align: right;\">\n",
       "      <th></th>\n",
       "      <th>Quartier</th>\n",
       "      <th>2018</th>\n",
       "      <th>2017</th>\n",
       "      <th>2016</th>\n",
       "      <th>2015</th>\n",
       "      <th>2014</th>\n",
       "    </tr>\n",
       "  </thead>\n",
       "  <tbody>\n",
       "    <tr>\n",
       "      <th>0</th>\n",
       "      <td>Ganze Stadt</td>\n",
       "      <td>187714</td>\n",
       "      <td>243660</td>\n",
       "      <td>237054</td>\n",
       "      <td>256450</td>\n",
       "      <td>264548</td>\n",
       "    </tr>\n",
       "  </tbody>\n",
       "</table>\n",
       "</div>"
      ],
      "text/plain": [
       "      Quartier    2018    2017    2016    2015    2014\n",
       "0  Ganze Stadt  187714  243660  237054  256450  264548"
      ]
     },
     "execution_count": 19,
     "metadata": {},
     "output_type": "execute_result"
    }
   ],
   "source": [
    "# renaming columns before transposing the dataframe\n",
    "df_leerflaeche_stdzh = df_leerflaeche_stdzh.rename(columns={'Quartier': 'Quartier',\n",
    "                                             'Leerfläche 2018': '2018',\n",
    "                                             'Leerfläche 2017': '2017',\n",
    "                                             'Leerfläche 2016': '2016',\n",
    "                                             'Leerfläche 2015': '2015',\n",
    "                                             'Leerfläche 2014': '2014'})\n",
    "df_leerflaeche_stdzh"
   ]
  },
  {
   "cell_type": "code",
   "execution_count": 20,
   "metadata": {},
   "outputs": [
    {
     "data": {
      "text/html": [
       "<div>\n",
       "<style scoped>\n",
       "    .dataframe tbody tr th:only-of-type {\n",
       "        vertical-align: middle;\n",
       "    }\n",
       "\n",
       "    .dataframe tbody tr th {\n",
       "        vertical-align: top;\n",
       "    }\n",
       "\n",
       "    .dataframe thead th {\n",
       "        text-align: right;\n",
       "    }\n",
       "</style>\n",
       "<table border=\"1\" class=\"dataframe\">\n",
       "  <thead>\n",
       "    <tr style=\"text-align: right;\">\n",
       "      <th></th>\n",
       "      <th>0</th>\n",
       "    </tr>\n",
       "  </thead>\n",
       "  <tbody>\n",
       "    <tr>\n",
       "      <th>Quartier</th>\n",
       "      <td>Ganze Stadt</td>\n",
       "    </tr>\n",
       "    <tr>\n",
       "      <th>2018</th>\n",
       "      <td>187714</td>\n",
       "    </tr>\n",
       "    <tr>\n",
       "      <th>2017</th>\n",
       "      <td>243660</td>\n",
       "    </tr>\n",
       "    <tr>\n",
       "      <th>2016</th>\n",
       "      <td>237054</td>\n",
       "    </tr>\n",
       "    <tr>\n",
       "      <th>2015</th>\n",
       "      <td>256450</td>\n",
       "    </tr>\n",
       "    <tr>\n",
       "      <th>2014</th>\n",
       "      <td>264548</td>\n",
       "    </tr>\n",
       "  </tbody>\n",
       "</table>\n",
       "</div>"
      ],
      "text/plain": [
       "                    0\n",
       "Quartier  Ganze Stadt\n",
       "2018           187714\n",
       "2017           243660\n",
       "2016           237054\n",
       "2015           256450\n",
       "2014           264548"
      ]
     },
     "execution_count": 20,
     "metadata": {},
     "output_type": "execute_result"
    }
   ],
   "source": [
    "# transposing dataframe\n",
    "df_leerflaeche_stdzh = df_leerflaeche_stdzh.transpose()\n",
    "df_leerflaeche_stdzh"
   ]
  },
  {
   "cell_type": "code",
   "execution_count": 21,
   "metadata": {},
   "outputs": [
    {
     "data": {
      "text/plain": [
       "0    object\n",
       "dtype: object"
      ]
     },
     "execution_count": 21,
     "metadata": {},
     "output_type": "execute_result"
    }
   ],
   "source": [
    "df_leerflaeche_stdzh.dtypes"
   ]
  },
  {
   "cell_type": "code",
   "execution_count": 22,
   "metadata": {},
   "outputs": [],
   "source": [
    "# exporting dataframe to convert data type, reset index and change header\n",
    "df_leerflaeche_stdzh.to_excel('Daten/Gewerbe/leerflaeche_stdzh_processing_01.xlsx')"
   ]
  },
  {
   "cell_type": "code",
   "execution_count": 23,
   "metadata": {},
   "outputs": [
    {
     "data": {
      "text/html": [
       "<div>\n",
       "<style scoped>\n",
       "    .dataframe tbody tr th:only-of-type {\n",
       "        vertical-align: middle;\n",
       "    }\n",
       "\n",
       "    .dataframe tbody tr th {\n",
       "        vertical-align: top;\n",
       "    }\n",
       "\n",
       "    .dataframe thead th {\n",
       "        text-align: right;\n",
       "    }\n",
       "</style>\n",
       "<table border=\"1\" class=\"dataframe\">\n",
       "  <thead>\n",
       "    <tr style=\"text-align: right;\">\n",
       "      <th></th>\n",
       "      <th>Quartier</th>\n",
       "      <th>Ganze Stadt</th>\n",
       "    </tr>\n",
       "  </thead>\n",
       "  <tbody>\n",
       "    <tr>\n",
       "      <th>0</th>\n",
       "      <td>2018</td>\n",
       "      <td>187714</td>\n",
       "    </tr>\n",
       "    <tr>\n",
       "      <th>1</th>\n",
       "      <td>2017</td>\n",
       "      <td>243660</td>\n",
       "    </tr>\n",
       "    <tr>\n",
       "      <th>2</th>\n",
       "      <td>2016</td>\n",
       "      <td>237054</td>\n",
       "    </tr>\n",
       "    <tr>\n",
       "      <th>3</th>\n",
       "      <td>2015</td>\n",
       "      <td>256450</td>\n",
       "    </tr>\n",
       "    <tr>\n",
       "      <th>4</th>\n",
       "      <td>2014</td>\n",
       "      <td>264548</td>\n",
       "    </tr>\n",
       "  </tbody>\n",
       "</table>\n",
       "</div>"
      ],
      "text/plain": [
       "   Quartier  Ganze Stadt\n",
       "0      2018       187714\n",
       "1      2017       243660\n",
       "2      2016       237054\n",
       "3      2015       256450\n",
       "4      2014       264548"
      ]
     },
     "execution_count": 23,
     "metadata": {},
     "output_type": "execute_result"
    }
   ],
   "source": [
    "# reading exported dataframe\n",
    "df_leerflaeche_stdzh = pd.read_excel('Daten/Gewerbe/leerflaeche_stdzh_processing_01.xlsx', header=1)\n",
    "df_leerflaeche_stdzh"
   ]
  },
  {
   "cell_type": "code",
   "execution_count": 24,
   "metadata": {},
   "outputs": [
    {
     "data": {
      "text/plain": [
       "Quartier       int64\n",
       "Ganze Stadt    int64\n",
       "dtype: object"
      ]
     },
     "execution_count": 24,
     "metadata": {},
     "output_type": "execute_result"
    }
   ],
   "source": [
    "# data type has changed to int\n",
    "df_leerflaeche_stdzh.dtypes"
   ]
  },
  {
   "cell_type": "code",
   "execution_count": 25,
   "metadata": {
    "scrolled": false
   },
   "outputs": [
    {
     "data": {
      "text/html": [
       "<div>\n",
       "<style scoped>\n",
       "    .dataframe tbody tr th:only-of-type {\n",
       "        vertical-align: middle;\n",
       "    }\n",
       "\n",
       "    .dataframe tbody tr th {\n",
       "        vertical-align: top;\n",
       "    }\n",
       "\n",
       "    .dataframe thead th {\n",
       "        text-align: right;\n",
       "    }\n",
       "</style>\n",
       "<table border=\"1\" class=\"dataframe\">\n",
       "  <thead>\n",
       "    <tr style=\"text-align: right;\">\n",
       "      <th></th>\n",
       "      <th>Jahr</th>\n",
       "      <th>Leerfläche</th>\n",
       "    </tr>\n",
       "  </thead>\n",
       "  <tbody>\n",
       "    <tr>\n",
       "      <th>0</th>\n",
       "      <td>2018</td>\n",
       "      <td>187714</td>\n",
       "    </tr>\n",
       "    <tr>\n",
       "      <th>1</th>\n",
       "      <td>2017</td>\n",
       "      <td>243660</td>\n",
       "    </tr>\n",
       "    <tr>\n",
       "      <th>2</th>\n",
       "      <td>2016</td>\n",
       "      <td>237054</td>\n",
       "    </tr>\n",
       "    <tr>\n",
       "      <th>3</th>\n",
       "      <td>2015</td>\n",
       "      <td>256450</td>\n",
       "    </tr>\n",
       "    <tr>\n",
       "      <th>4</th>\n",
       "      <td>2014</td>\n",
       "      <td>264548</td>\n",
       "    </tr>\n",
       "  </tbody>\n",
       "</table>\n",
       "</div>"
      ],
      "text/plain": [
       "   Jahr  Leerfläche\n",
       "0  2018      187714\n",
       "1  2017      243660\n",
       "2  2016      237054\n",
       "3  2015      256450\n",
       "4  2014      264548"
      ]
     },
     "execution_count": 25,
     "metadata": {},
     "output_type": "execute_result"
    }
   ],
   "source": [
    "# renaming columns\n",
    "df_leerflaeche_stdzh = df_leerflaeche_stdzh.rename(columns={'Quartier' : 'Jahr', 'Ganze Stadt' : 'Leerfläche'})\n",
    "df_leerflaeche_stdzh"
   ]
  },
  {
   "cell_type": "markdown",
   "metadata": {},
   "source": [
    "------------"
   ]
  },
  {
   "cell_type": "markdown",
   "metadata": {},
   "source": [
    "### Color palette Master"
   ]
  },
  {
   "cell_type": "code",
   "execution_count": 26,
   "metadata": {},
   "outputs": [
    {
     "data": {
      "application/vnd.plotly.v1+json": {
       "config": {
        "linkText": "Export to plot.ly",
        "plotlyServerURL": "https://plot.ly",
        "showLink": false
       },
       "data": [
        {
         "marker": {
          "color": [
           "#2884B2",
           "#51ADFF",
           "#7BC1E7",
           "#B21310",
           "#FF6839"
          ]
         },
         "type": "bar",
         "uid": "11deb23c-b62a-4aac-a10b-12967373a154",
         "x": [
          2018,
          2017,
          2016,
          2015,
          2014
         ],
         "y": [
          187714,
          243660,
          237054,
          256450,
          264548
         ]
        }
       ],
       "layout": {
        "autosize": false,
        "font": {
         "color": "#7f7f7f",
         "family": "Arial, sans-serif",
         "size": 14
        },
        "height": 300,
        "title": {
         "text": "Color Palette"
        },
        "width": 600,
        "xaxis": {
         "showticklabels": false
        },
        "yaxis": {
         "showticklabels": false
        }
       }
      },
      "text/html": [
       "<div id=\"73647fee-c30a-4e24-b520-4277665dec6d\" style=\"height: 300px; width: 600px;\" class=\"plotly-graph-div\"></div><script type=\"text/javascript\">require([\"plotly\"], function(Plotly) { window.PLOTLYENV=window.PLOTLYENV || {};window.PLOTLYENV.BASE_URL=\"https://plot.ly\";Plotly.newPlot(\"73647fee-c30a-4e24-b520-4277665dec6d\", [{\"marker\": {\"color\": [\"#2884B2\", \"#51ADFF\", \"#7BC1E7\", \"#B21310\", \"#FF6839\"]}, \"x\": [2018, 2017, 2016, 2015, 2014], \"y\": [187714, 243660, 237054, 256450, 264548], \"type\": \"bar\", \"uid\": \"11deb23c-b62a-4aac-a10b-12967373a154\"}], {\"autosize\": false, \"font\": {\"color\": \"#7f7f7f\", \"family\": \"Arial, sans-serif\", \"size\": 14}, \"height\": 300, \"title\": {\"text\": \"Color Palette\"}, \"width\": 600, \"xaxis\": {\"showticklabels\": false}, \"yaxis\": {\"showticklabels\": false}}, {\"showLink\": false, \"linkText\": \"Export to plot.ly\", \"plotlyServerURL\": \"https://plot.ly\"})});</script>"
      ],
      "text/vnd.plotly.v1+html": [
       "<div id=\"73647fee-c30a-4e24-b520-4277665dec6d\" style=\"height: 300px; width: 600px;\" class=\"plotly-graph-div\"></div><script type=\"text/javascript\">require([\"plotly\"], function(Plotly) { window.PLOTLYENV=window.PLOTLYENV || {};window.PLOTLYENV.BASE_URL=\"https://plot.ly\";Plotly.newPlot(\"73647fee-c30a-4e24-b520-4277665dec6d\", [{\"marker\": {\"color\": [\"#2884B2\", \"#51ADFF\", \"#7BC1E7\", \"#B21310\", \"#FF6839\"]}, \"x\": [2018, 2017, 2016, 2015, 2014], \"y\": [187714, 243660, 237054, 256450, 264548], \"type\": \"bar\", \"uid\": \"11deb23c-b62a-4aac-a10b-12967373a154\"}], {\"autosize\": false, \"font\": {\"color\": \"#7f7f7f\", \"family\": \"Arial, sans-serif\", \"size\": 14}, \"height\": 300, \"title\": {\"text\": \"Color Palette\"}, \"width\": 600, \"xaxis\": {\"showticklabels\": false}, \"yaxis\": {\"showticklabels\": false}}, {\"showLink\": false, \"linkText\": \"Export to plot.ly\", \"plotlyServerURL\": \"https://plot.ly\"})});</script>"
      ]
     },
     "metadata": {},
     "output_type": "display_data"
    }
   ],
   "source": [
    "# colors can be copyed\n",
    "color_palette = ['#2884B2', '#51ADFF', '#7BC1E7', '#B21310', '#FF6839']\n",
    "\n",
    "trace = go.Bar(x=df_leerflaeche_stdzh['Jahr'], y=df_leerflaeche_stdzh['Leerfläche'],\n",
    "            marker=dict(color=color_palette))\n",
    "data = [trace]\n",
    "\n",
    "layout = go.Layout(\n",
    "    title='Color Palette',\n",
    "    font=dict(family='Arial, sans-serif', size=14, color='#7f7f7f'),\n",
    "    autosize=False, width=600,height=300,\n",
    "    xaxis=dict(showticklabels=False),\n",
    "    yaxis=dict(showticklabels=False)\n",
    ")    \n",
    "fig = go.Figure(data=data, layout=layout)\n",
    "pyo.iplot(fig, filename='bar2.html')"
   ]
  },
  {
   "cell_type": "markdown",
   "metadata": {},
   "source": [
    "---------"
   ]
  },
  {
   "cell_type": "code",
   "execution_count": 27,
   "metadata": {},
   "outputs": [
    {
     "data": {
      "application/vnd.plotly.v1+json": {
       "config": {
        "linkText": "Export to plot.ly",
        "plotlyServerURL": "https://plot.ly",
        "showLink": false
       },
       "data": [
        {
         "marker": {
          "color": [
           "#FF6839",
           "#51ADFF",
           "#51ADFF",
           "#51ADFF",
           "#51ADFF"
          ]
         },
         "type": "bar",
         "uid": "67bf60c5-a4f3-4c8b-b942-ba79bed552ae",
         "x": [
          2018,
          2017,
          2016,
          2015,
          2014
         ],
         "y": [
          187714,
          243660,
          237054,
          256450,
          264548
         ]
        }
       ],
       "layout": {
        "bargap": 0.3,
        "bargroupgap": 0.1,
        "font": {
         "color": "#7f7f7f",
         "family": "Arial, sans-serif",
         "size": 14
        },
        "title": {
         "text": "Gewerbe: Leerfläche der ganzen Stadt Zürich von 2014 bis 2018"
        },
        "xaxis": {
         "automargin": true,
         "ticklen": 10,
         "tickwidth": 1,
         "title": {
          "font": {
           "color": "#7f7f7f",
           "family": "Arial, sans-serif",
           "size": 12
          },
          "text": "Stadt Zürich"
         }
        },
        "yaxis": {
         "automargin": true,
         "exponentformat": "none",
         "nticks": 8,
         "rangemode": "tozero",
         "ticklen": 10,
         "tickwidth": 1,
         "title": {
          "font": {
           "color": "#7f7f7f",
           "family": "Arial, sans-serif",
           "size": 12
          },
          "text": "Fläche in m2"
         }
        }
       }
      },
      "text/html": [
       "<div id=\"e1755335-d4b9-4631-a2f6-8dd9c5fcd3a2\" style=\"height: 525px; width: 100%;\" class=\"plotly-graph-div\"></div><script type=\"text/javascript\">require([\"plotly\"], function(Plotly) { window.PLOTLYENV=window.PLOTLYENV || {};window.PLOTLYENV.BASE_URL=\"https://plot.ly\";Plotly.newPlot(\"e1755335-d4b9-4631-a2f6-8dd9c5fcd3a2\", [{\"marker\": {\"color\": [\"#FF6839\", \"#51ADFF\", \"#51ADFF\", \"#51ADFF\", \"#51ADFF\"]}, \"x\": [2018, 2017, 2016, 2015, 2014], \"y\": [187714, 243660, 237054, 256450, 264548], \"type\": \"bar\", \"uid\": \"67bf60c5-a4f3-4c8b-b942-ba79bed552ae\"}], {\"bargap\": 0.3, \"bargroupgap\": 0.1, \"font\": {\"color\": \"#7f7f7f\", \"family\": \"Arial, sans-serif\", \"size\": 14}, \"title\": {\"text\": \"Gewerbe: Leerfl\\u00e4che der ganzen Stadt Z\\u00fcrich von 2014 bis 2018\"}, \"xaxis\": {\"automargin\": true, \"ticklen\": 10, \"tickwidth\": 1, \"title\": {\"font\": {\"color\": \"#7f7f7f\", \"family\": \"Arial, sans-serif\", \"size\": 12}, \"text\": \"Stadt Z\\u00fcrich\"}}, \"yaxis\": {\"automargin\": true, \"exponentformat\": \"none\", \"nticks\": 8, \"rangemode\": \"tozero\", \"ticklen\": 10, \"tickwidth\": 1, \"title\": {\"font\": {\"color\": \"#7f7f7f\", \"family\": \"Arial, sans-serif\", \"size\": 12}, \"text\": \"Fl\\u00e4che in m2\"}}}, {\"showLink\": false, \"linkText\": \"Export to plot.ly\", \"plotlyServerURL\": \"https://plot.ly\"})});</script><script type=\"text/javascript\">window.addEventListener(\"resize\", function(){window._Plotly.Plots.resize(document.getElementById(\"e1755335-d4b9-4631-a2f6-8dd9c5fcd3a2\"));});</script>"
      ],
      "text/vnd.plotly.v1+html": [
       "<div id=\"e1755335-d4b9-4631-a2f6-8dd9c5fcd3a2\" style=\"height: 525px; width: 100%;\" class=\"plotly-graph-div\"></div><script type=\"text/javascript\">require([\"plotly\"], function(Plotly) { window.PLOTLYENV=window.PLOTLYENV || {};window.PLOTLYENV.BASE_URL=\"https://plot.ly\";Plotly.newPlot(\"e1755335-d4b9-4631-a2f6-8dd9c5fcd3a2\", [{\"marker\": {\"color\": [\"#FF6839\", \"#51ADFF\", \"#51ADFF\", \"#51ADFF\", \"#51ADFF\"]}, \"x\": [2018, 2017, 2016, 2015, 2014], \"y\": [187714, 243660, 237054, 256450, 264548], \"type\": \"bar\", \"uid\": \"67bf60c5-a4f3-4c8b-b942-ba79bed552ae\"}], {\"bargap\": 0.3, \"bargroupgap\": 0.1, \"font\": {\"color\": \"#7f7f7f\", \"family\": \"Arial, sans-serif\", \"size\": 14}, \"title\": {\"text\": \"Gewerbe: Leerfl\\u00e4che der ganzen Stadt Z\\u00fcrich von 2014 bis 2018\"}, \"xaxis\": {\"automargin\": true, \"ticklen\": 10, \"tickwidth\": 1, \"title\": {\"font\": {\"color\": \"#7f7f7f\", \"family\": \"Arial, sans-serif\", \"size\": 12}, \"text\": \"Stadt Z\\u00fcrich\"}}, \"yaxis\": {\"automargin\": true, \"exponentformat\": \"none\", \"nticks\": 8, \"rangemode\": \"tozero\", \"ticklen\": 10, \"tickwidth\": 1, \"title\": {\"font\": {\"color\": \"#7f7f7f\", \"family\": \"Arial, sans-serif\", \"size\": 12}, \"text\": \"Fl\\u00e4che in m2\"}}}, {\"showLink\": false, \"linkText\": \"Export to plot.ly\", \"plotlyServerURL\": \"https://plot.ly\"})});</script><script type=\"text/javascript\">window.addEventListener(\"resize\", function(){window._Plotly.Plots.resize(document.getElementById(\"e1755335-d4b9-4631-a2f6-8dd9c5fcd3a2\"));});</script>"
      ]
     },
     "metadata": {},
     "output_type": "display_data"
    }
   ],
   "source": [
    "# ploting with plotly\n",
    "color_palette_stdzh = ['#FF6839', '#51ADFF', '#51ADFF', '#51ADFF', '#51ADFF']\n",
    "\n",
    "trace = go.Bar(\n",
    "            x=df_leerflaeche_stdzh['Jahr'],\n",
    "            y=df_leerflaeche_stdzh['Leerfläche'],\n",
    "            marker=dict(\n",
    "            color=color_palette_stdzh))\n",
    "data = [trace]\n",
    "\n",
    "layout = go.Layout(\n",
    "    title='Gewerbe: Leerfläche der ganzen Stadt Zürich von 2014 bis 2018',\n",
    "    font=dict(family='Arial, sans-serif', size=14, color='#7f7f7f'),\n",
    "#     autosize=False,\n",
    "#     width=900,\n",
    "#     height=600,\n",
    "    bargroupgap=0.1,\n",
    "    bargap=0.3,\n",
    "\n",
    "    xaxis=dict(\n",
    "        title='Stadt Zürich',\n",
    "        titlefont=dict(family='Arial, sans-serif', size=12, color='#7f7f7f'),\n",
    "        tickwidth=1,\n",
    "        ticklen=10,\n",
    "        automargin=True,\n",
    "    ),\n",
    "    \n",
    "    yaxis=dict(\n",
    "        title='Fläche in m2',\n",
    "        titlefont=dict(family='Arial, sans-serif', size=12, color='#7f7f7f'),\n",
    "        rangemode='tozero',\n",
    "        nticks=8,\n",
    "        exponentformat='none',\n",
    "        tickwidth=1,\n",
    "        ticklen=10,\n",
    "        automargin=True\n",
    "    )\n",
    ")    \n",
    "    \n",
    "fig = go.Figure(data=data, layout=layout)\n",
    "pyo.iplot(fig, filename='bar2.html')"
   ]
  },
  {
   "cell_type": "code",
   "execution_count": 28,
   "metadata": {},
   "outputs": [],
   "source": [
    "# exporting data to excel for further use with Ploly-online, Datawrapper or such\n",
    "df_leerflaeche_stdzh.to_excel('Daten/Plotly/Gewerbe/01-01_Gewerbe_Leerfläche_Stadt_Zürich_2014-2018.xlsx')"
   ]
  },
  {
   "cell_type": "markdown",
   "metadata": {},
   "source": [
    "---------"
   ]
  },
  {
   "cell_type": "markdown",
   "metadata": {},
   "source": [
    "### Gewerbe: Leerfläche in den Kreisen der Stadt Zürich von 2014 bis 2018"
   ]
  },
  {
   "cell_type": "code",
   "execution_count": 29,
   "metadata": {},
   "outputs": [
    {
     "data": {
      "text/html": [
       "<div>\n",
       "<style scoped>\n",
       "    .dataframe tbody tr th:only-of-type {\n",
       "        vertical-align: middle;\n",
       "    }\n",
       "\n",
       "    .dataframe tbody tr th {\n",
       "        vertical-align: top;\n",
       "    }\n",
       "\n",
       "    .dataframe thead th {\n",
       "        text-align: right;\n",
       "    }\n",
       "</style>\n",
       "<table border=\"1\" class=\"dataframe\">\n",
       "  <thead>\n",
       "    <tr style=\"text-align: right;\">\n",
       "      <th></th>\n",
       "      <th>Kreise</th>\n",
       "      <th>2018</th>\n",
       "      <th>2017</th>\n",
       "      <th>2016</th>\n",
       "      <th>2015</th>\n",
       "      <th>2014</th>\n",
       "    </tr>\n",
       "  </thead>\n",
       "  <tbody>\n",
       "    <tr>\n",
       "      <th>1</th>\n",
       "      <td>Kreis 1</td>\n",
       "      <td>30550</td>\n",
       "      <td>34710</td>\n",
       "      <td>32201</td>\n",
       "      <td>40945</td>\n",
       "      <td>53774</td>\n",
       "    </tr>\n",
       "    <tr>\n",
       "      <th>6</th>\n",
       "      <td>Kreis 2</td>\n",
       "      <td>23200</td>\n",
       "      <td>25173</td>\n",
       "      <td>19439</td>\n",
       "      <td>30347</td>\n",
       "      <td>34236</td>\n",
       "    </tr>\n",
       "    <tr>\n",
       "      <th>10</th>\n",
       "      <td>Kreis 3</td>\n",
       "      <td>19407</td>\n",
       "      <td>20063</td>\n",
       "      <td>22593</td>\n",
       "      <td>38728</td>\n",
       "      <td>34681</td>\n",
       "    </tr>\n",
       "    <tr>\n",
       "      <th>14</th>\n",
       "      <td>Kreis 4</td>\n",
       "      <td>6808</td>\n",
       "      <td>22861</td>\n",
       "      <td>11583</td>\n",
       "      <td>7325</td>\n",
       "      <td>7046</td>\n",
       "    </tr>\n",
       "    <tr>\n",
       "      <th>18</th>\n",
       "      <td>Kreis 5</td>\n",
       "      <td>8646</td>\n",
       "      <td>5913</td>\n",
       "      <td>17582</td>\n",
       "      <td>44909</td>\n",
       "      <td>33643</td>\n",
       "    </tr>\n",
       "    <tr>\n",
       "      <th>21</th>\n",
       "      <td>Kreis 6</td>\n",
       "      <td>3281</td>\n",
       "      <td>5804</td>\n",
       "      <td>3726</td>\n",
       "      <td>5322</td>\n",
       "      <td>2095</td>\n",
       "    </tr>\n",
       "    <tr>\n",
       "      <th>24</th>\n",
       "      <td>Kreis 7</td>\n",
       "      <td>2952</td>\n",
       "      <td>4697</td>\n",
       "      <td>4336</td>\n",
       "      <td>3886</td>\n",
       "      <td>3577</td>\n",
       "    </tr>\n",
       "    <tr>\n",
       "      <th>29</th>\n",
       "      <td>Kreis 8</td>\n",
       "      <td>6938</td>\n",
       "      <td>12230</td>\n",
       "      <td>12294</td>\n",
       "      <td>15127</td>\n",
       "      <td>13214</td>\n",
       "    </tr>\n",
       "    <tr>\n",
       "      <th>33</th>\n",
       "      <td>Kreis 9</td>\n",
       "      <td>41331</td>\n",
       "      <td>44100</td>\n",
       "      <td>52204</td>\n",
       "      <td>42610</td>\n",
       "      <td>41216</td>\n",
       "    </tr>\n",
       "    <tr>\n",
       "      <th>36</th>\n",
       "      <td>Kreis 10</td>\n",
       "      <td>590</td>\n",
       "      <td>1342</td>\n",
       "      <td>477</td>\n",
       "      <td>220</td>\n",
       "      <td>1240</td>\n",
       "    </tr>\n",
       "    <tr>\n",
       "      <th>39</th>\n",
       "      <td>Kreis 11</td>\n",
       "      <td>43175</td>\n",
       "      <td>65488</td>\n",
       "      <td>58697</td>\n",
       "      <td>25972</td>\n",
       "      <td>38549</td>\n",
       "    </tr>\n",
       "    <tr>\n",
       "      <th>43</th>\n",
       "      <td>Kreis 12</td>\n",
       "      <td>836</td>\n",
       "      <td>1279</td>\n",
       "      <td>1922</td>\n",
       "      <td>1059</td>\n",
       "      <td>1277</td>\n",
       "    </tr>\n",
       "  </tbody>\n",
       "</table>\n",
       "</div>"
      ],
      "text/plain": [
       "      Kreise   2018   2017   2016   2015   2014\n",
       "1    Kreis 1  30550  34710  32201  40945  53774\n",
       "6    Kreis 2  23200  25173  19439  30347  34236\n",
       "10   Kreis 3  19407  20063  22593  38728  34681\n",
       "14   Kreis 4   6808  22861  11583   7325   7046\n",
       "18   Kreis 5   8646   5913  17582  44909  33643\n",
       "21   Kreis 6   3281   5804   3726   5322   2095\n",
       "24   Kreis 7   2952   4697   4336   3886   3577\n",
       "29   Kreis 8   6938  12230  12294  15127  13214\n",
       "33   Kreis 9  41331  44100  52204  42610  41216\n",
       "36  Kreis 10    590   1342    477    220   1240\n",
       "39  Kreis 11  43175  65488  58697  25972  38549\n",
       "43  Kreis 12    836   1279   1922   1059   1277"
      ]
     },
     "execution_count": 29,
     "metadata": {},
     "output_type": "execute_result"
    }
   ],
   "source": [
    "# selecting [rows, columns]\n",
    "df_leerflaeche_kreise = df_leerflaeche.iloc[[1,6,10,14,18,21,24,29,33,36,39,43], :]\n",
    "df_leerflaeche_kreise.rename(columns={'Quartier': 'Kreise',\n",
    "                                      'Leerfläche 2018' : '2018',\n",
    "                                      'Leerfläche 2017' : '2017',\n",
    "                                      'Leerfläche 2016' : '2016',\n",
    "                                      'Leerfläche 2015' : '2015',\n",
    "                                      'Leerfläche 2014' : '2014'}, inplace=True)\n",
    "df_leerflaeche_kreise"
   ]
  },
  {
   "cell_type": "code",
   "execution_count": 30,
   "metadata": {},
   "outputs": [
    {
     "data": {
      "application/vnd.plotly.v1+json": {
       "config": {
        "linkText": "Export to plot.ly",
        "plotlyServerURL": "https://plot.ly",
        "showLink": false
       },
       "data": [
        {
         "marker": {
          "color": "#FF6839"
         },
         "name": "2018",
         "type": "bar",
         "uid": "62776adb-df64-4ec9-951a-1f9faaa84469",
         "x": [
          "Kreis 1",
          "Kreis 2",
          "Kreis 3",
          "Kreis 4",
          "Kreis 5",
          "Kreis 6",
          "Kreis 7",
          "Kreis 8",
          "Kreis 9",
          "Kreis 10",
          "Kreis 11",
          "Kreis 12"
         ],
         "y": [
          30550,
          23200,
          19407,
          6808,
          8646,
          3281,
          2952,
          6938,
          41331,
          590,
          43175,
          836
         ]
        },
        {
         "marker": {
          "color": "#51ADFF"
         },
         "name": "2017",
         "type": "bar",
         "uid": "6f121959-85de-4ae3-b2ba-f1870695e0af",
         "x": [
          "Kreis 1",
          "Kreis 2",
          "Kreis 3",
          "Kreis 4",
          "Kreis 5",
          "Kreis 6",
          "Kreis 7",
          "Kreis 8",
          "Kreis 9",
          "Kreis 10",
          "Kreis 11",
          "Kreis 12"
         ],
         "y": [
          34710,
          25173,
          20063,
          22861,
          5913,
          5804,
          4697,
          12230,
          44100,
          1342,
          65488,
          1279
         ]
        },
        {
         "marker": {
          "color": "#51ADFF"
         },
         "name": "2016",
         "type": "bar",
         "uid": "ba05ee68-1b47-47cf-adeb-0f47ff476b43",
         "x": [
          "Kreis 1",
          "Kreis 2",
          "Kreis 3",
          "Kreis 4",
          "Kreis 5",
          "Kreis 6",
          "Kreis 7",
          "Kreis 8",
          "Kreis 9",
          "Kreis 10",
          "Kreis 11",
          "Kreis 12"
         ],
         "y": [
          32201,
          19439,
          22593,
          11583,
          17582,
          3726,
          4336,
          12294,
          52204,
          477,
          58697,
          1922
         ]
        },
        {
         "marker": {
          "color": "#51ADFF"
         },
         "name": "2015",
         "type": "bar",
         "uid": "eae2bb20-9763-4c26-b32d-5be28eaafae0",
         "x": [
          "Kreis 1",
          "Kreis 2",
          "Kreis 3",
          "Kreis 4",
          "Kreis 5",
          "Kreis 6",
          "Kreis 7",
          "Kreis 8",
          "Kreis 9",
          "Kreis 10",
          "Kreis 11",
          "Kreis 12"
         ],
         "y": [
          40945,
          30347,
          38728,
          7325,
          44909,
          5322,
          3886,
          15127,
          42610,
          220,
          25972,
          1059
         ]
        },
        {
         "marker": {
          "color": "#51ADFF"
         },
         "name": "2014",
         "type": "bar",
         "uid": "8dd2443b-2cd2-41c9-8ee0-b272bc68cda3",
         "x": [
          "Kreis 1",
          "Kreis 2",
          "Kreis 3",
          "Kreis 4",
          "Kreis 5",
          "Kreis 6",
          "Kreis 7",
          "Kreis 8",
          "Kreis 9",
          "Kreis 10",
          "Kreis 11",
          "Kreis 12"
         ],
         "y": [
          53774,
          34236,
          34681,
          7046,
          33643,
          2095,
          3577,
          13214,
          41216,
          1240,
          38549,
          1277
         ]
        }
       ],
       "layout": {
        "bargap": 0.2,
        "bargroupgap": 0.1,
        "font": {
         "color": "#7f7f7f",
         "family": "Arial, sans-serif",
         "size": 14
        },
        "title": {
         "text": "Gewerbe: Leerfläche in den Kreisen der Stadt Zürich von 2014 bis 2018"
        },
        "xaxis": {
         "automargin": true,
         "ticklen": 10,
         "tickwidth": 1,
         "title": {
          "font": {
           "color": "#7f7f7f",
           "family": "Arial, sans-serif",
           "size": 14
          },
          "text": "Stadt Zürich"
         }
        },
        "yaxis": {
         "automargin": true,
         "exponentformat": "none",
         "nticks": 8,
         "range": [
          0,
          70000
         ],
         "rangemode": "tozero",
         "showgrid": true,
         "ticklen": 10,
         "tickwidth": 1,
         "title": {
          "font": {
           "color": "#7f7f7f",
           "family": "Arial, sans-serif",
           "size": 14
          },
          "text": "Fläche in m2"
         }
        }
       }
      },
      "text/html": [
       "<div id=\"71373c79-46d8-4b69-bbf1-5ec52b566a79\" style=\"height: 525px; width: 100%;\" class=\"plotly-graph-div\"></div><script type=\"text/javascript\">require([\"plotly\"], function(Plotly) { window.PLOTLYENV=window.PLOTLYENV || {};window.PLOTLYENV.BASE_URL=\"https://plot.ly\";Plotly.newPlot(\"71373c79-46d8-4b69-bbf1-5ec52b566a79\", [{\"marker\": {\"color\": \"#FF6839\"}, \"name\": \"2018\", \"x\": [\"Kreis 1\", \"Kreis 2\", \"Kreis 3\", \"Kreis 4\", \"Kreis 5\", \"Kreis 6\", \"Kreis 7\", \"Kreis 8\", \"Kreis 9\", \"Kreis 10\", \"Kreis 11\", \"Kreis 12\"], \"y\": [30550, 23200, 19407, 6808, 8646, 3281, 2952, 6938, 41331, 590, 43175, 836], \"type\": \"bar\", \"uid\": \"62776adb-df64-4ec9-951a-1f9faaa84469\"}, {\"marker\": {\"color\": \"#51ADFF\"}, \"name\": \"2017\", \"x\": [\"Kreis 1\", \"Kreis 2\", \"Kreis 3\", \"Kreis 4\", \"Kreis 5\", \"Kreis 6\", \"Kreis 7\", \"Kreis 8\", \"Kreis 9\", \"Kreis 10\", \"Kreis 11\", \"Kreis 12\"], \"y\": [34710, 25173, 20063, 22861, 5913, 5804, 4697, 12230, 44100, 1342, 65488, 1279], \"type\": \"bar\", \"uid\": \"6f121959-85de-4ae3-b2ba-f1870695e0af\"}, {\"marker\": {\"color\": \"#51ADFF\"}, \"name\": \"2016\", \"x\": [\"Kreis 1\", \"Kreis 2\", \"Kreis 3\", \"Kreis 4\", \"Kreis 5\", \"Kreis 6\", \"Kreis 7\", \"Kreis 8\", \"Kreis 9\", \"Kreis 10\", \"Kreis 11\", \"Kreis 12\"], \"y\": [32201, 19439, 22593, 11583, 17582, 3726, 4336, 12294, 52204, 477, 58697, 1922], \"type\": \"bar\", \"uid\": \"ba05ee68-1b47-47cf-adeb-0f47ff476b43\"}, {\"marker\": {\"color\": \"#51ADFF\"}, \"name\": \"2015\", \"x\": [\"Kreis 1\", \"Kreis 2\", \"Kreis 3\", \"Kreis 4\", \"Kreis 5\", \"Kreis 6\", \"Kreis 7\", \"Kreis 8\", \"Kreis 9\", \"Kreis 10\", \"Kreis 11\", \"Kreis 12\"], \"y\": [40945, 30347, 38728, 7325, 44909, 5322, 3886, 15127, 42610, 220, 25972, 1059], \"type\": \"bar\", \"uid\": \"eae2bb20-9763-4c26-b32d-5be28eaafae0\"}, {\"marker\": {\"color\": \"#51ADFF\"}, \"name\": \"2014\", \"x\": [\"Kreis 1\", \"Kreis 2\", \"Kreis 3\", \"Kreis 4\", \"Kreis 5\", \"Kreis 6\", \"Kreis 7\", \"Kreis 8\", \"Kreis 9\", \"Kreis 10\", \"Kreis 11\", \"Kreis 12\"], \"y\": [53774, 34236, 34681, 7046, 33643, 2095, 3577, 13214, 41216, 1240, 38549, 1277], \"type\": \"bar\", \"uid\": \"8dd2443b-2cd2-41c9-8ee0-b272bc68cda3\"}], {\"bargap\": 0.2, \"bargroupgap\": 0.1, \"font\": {\"color\": \"#7f7f7f\", \"family\": \"Arial, sans-serif\", \"size\": 14}, \"title\": {\"text\": \"Gewerbe: Leerfl\\u00e4che in den Kreisen der Stadt Z\\u00fcrich von 2014 bis 2018\"}, \"xaxis\": {\"automargin\": true, \"ticklen\": 10, \"tickwidth\": 1, \"title\": {\"font\": {\"color\": \"#7f7f7f\", \"family\": \"Arial, sans-serif\", \"size\": 14}, \"text\": \"Stadt Z\\u00fcrich\"}}, \"yaxis\": {\"automargin\": true, \"exponentformat\": \"none\", \"nticks\": 8, \"range\": [0, 70000], \"rangemode\": \"tozero\", \"showgrid\": true, \"ticklen\": 10, \"tickwidth\": 1, \"title\": {\"font\": {\"color\": \"#7f7f7f\", \"family\": \"Arial, sans-serif\", \"size\": 14}, \"text\": \"Fl\\u00e4che in m2\"}}}, {\"showLink\": false, \"linkText\": \"Export to plot.ly\", \"plotlyServerURL\": \"https://plot.ly\"})});</script><script type=\"text/javascript\">window.addEventListener(\"resize\", function(){window._Plotly.Plots.resize(document.getElementById(\"71373c79-46d8-4b69-bbf1-5ec52b566a79\"));});</script>"
      ],
      "text/vnd.plotly.v1+html": [
       "<div id=\"71373c79-46d8-4b69-bbf1-5ec52b566a79\" style=\"height: 525px; width: 100%;\" class=\"plotly-graph-div\"></div><script type=\"text/javascript\">require([\"plotly\"], function(Plotly) { window.PLOTLYENV=window.PLOTLYENV || {};window.PLOTLYENV.BASE_URL=\"https://plot.ly\";Plotly.newPlot(\"71373c79-46d8-4b69-bbf1-5ec52b566a79\", [{\"marker\": {\"color\": \"#FF6839\"}, \"name\": \"2018\", \"x\": [\"Kreis 1\", \"Kreis 2\", \"Kreis 3\", \"Kreis 4\", \"Kreis 5\", \"Kreis 6\", \"Kreis 7\", \"Kreis 8\", \"Kreis 9\", \"Kreis 10\", \"Kreis 11\", \"Kreis 12\"], \"y\": [30550, 23200, 19407, 6808, 8646, 3281, 2952, 6938, 41331, 590, 43175, 836], \"type\": \"bar\", \"uid\": \"62776adb-df64-4ec9-951a-1f9faaa84469\"}, {\"marker\": {\"color\": \"#51ADFF\"}, \"name\": \"2017\", \"x\": [\"Kreis 1\", \"Kreis 2\", \"Kreis 3\", \"Kreis 4\", \"Kreis 5\", \"Kreis 6\", \"Kreis 7\", \"Kreis 8\", \"Kreis 9\", \"Kreis 10\", \"Kreis 11\", \"Kreis 12\"], \"y\": [34710, 25173, 20063, 22861, 5913, 5804, 4697, 12230, 44100, 1342, 65488, 1279], \"type\": \"bar\", \"uid\": \"6f121959-85de-4ae3-b2ba-f1870695e0af\"}, {\"marker\": {\"color\": \"#51ADFF\"}, \"name\": \"2016\", \"x\": [\"Kreis 1\", \"Kreis 2\", \"Kreis 3\", \"Kreis 4\", \"Kreis 5\", \"Kreis 6\", \"Kreis 7\", \"Kreis 8\", \"Kreis 9\", \"Kreis 10\", \"Kreis 11\", \"Kreis 12\"], \"y\": [32201, 19439, 22593, 11583, 17582, 3726, 4336, 12294, 52204, 477, 58697, 1922], \"type\": \"bar\", \"uid\": \"ba05ee68-1b47-47cf-adeb-0f47ff476b43\"}, {\"marker\": {\"color\": \"#51ADFF\"}, \"name\": \"2015\", \"x\": [\"Kreis 1\", \"Kreis 2\", \"Kreis 3\", \"Kreis 4\", \"Kreis 5\", \"Kreis 6\", \"Kreis 7\", \"Kreis 8\", \"Kreis 9\", \"Kreis 10\", \"Kreis 11\", \"Kreis 12\"], \"y\": [40945, 30347, 38728, 7325, 44909, 5322, 3886, 15127, 42610, 220, 25972, 1059], \"type\": \"bar\", \"uid\": \"eae2bb20-9763-4c26-b32d-5be28eaafae0\"}, {\"marker\": {\"color\": \"#51ADFF\"}, \"name\": \"2014\", \"x\": [\"Kreis 1\", \"Kreis 2\", \"Kreis 3\", \"Kreis 4\", \"Kreis 5\", \"Kreis 6\", \"Kreis 7\", \"Kreis 8\", \"Kreis 9\", \"Kreis 10\", \"Kreis 11\", \"Kreis 12\"], \"y\": [53774, 34236, 34681, 7046, 33643, 2095, 3577, 13214, 41216, 1240, 38549, 1277], \"type\": \"bar\", \"uid\": \"8dd2443b-2cd2-41c9-8ee0-b272bc68cda3\"}], {\"bargap\": 0.2, \"bargroupgap\": 0.1, \"font\": {\"color\": \"#7f7f7f\", \"family\": \"Arial, sans-serif\", \"size\": 14}, \"title\": {\"text\": \"Gewerbe: Leerfl\\u00e4che in den Kreisen der Stadt Z\\u00fcrich von 2014 bis 2018\"}, \"xaxis\": {\"automargin\": true, \"ticklen\": 10, \"tickwidth\": 1, \"title\": {\"font\": {\"color\": \"#7f7f7f\", \"family\": \"Arial, sans-serif\", \"size\": 14}, \"text\": \"Stadt Z\\u00fcrich\"}}, \"yaxis\": {\"automargin\": true, \"exponentformat\": \"none\", \"nticks\": 8, \"range\": [0, 70000], \"rangemode\": \"tozero\", \"showgrid\": true, \"ticklen\": 10, \"tickwidth\": 1, \"title\": {\"font\": {\"color\": \"#7f7f7f\", \"family\": \"Arial, sans-serif\", \"size\": 14}, \"text\": \"Fl\\u00e4che in m2\"}}}, {\"showLink\": false, \"linkText\": \"Export to plot.ly\", \"plotlyServerURL\": \"https://plot.ly\"})});</script><script type=\"text/javascript\">window.addEventListener(\"resize\", function(){window._Plotly.Plots.resize(document.getElementById(\"71373c79-46d8-4b69-bbf1-5ec52b566a79\"));});</script>"
      ]
     },
     "metadata": {},
     "output_type": "display_data"
    }
   ],
   "source": [
    "# ploting with plotly\n",
    "trace1 = go.Bar(x=df_leerflaeche_kreise['Kreise'],\n",
    "                y=df_leerflaeche_kreise['2018'], name='2018', marker=dict(color='#FF6839'))\n",
    "trace2 = go.Bar(x=df_leerflaeche_kreise['Kreise'],\n",
    "                y=df_leerflaeche_kreise['2017'], name='2017', marker=dict(color='#51ADFF'))\n",
    "trace3 = go.Bar(x=df_leerflaeche_kreise['Kreise'],\n",
    "                y=df_leerflaeche_kreise['2016'], name='2016', marker=dict(color='#51ADFF'))\n",
    "trace4 = go.Bar(x=df_leerflaeche_kreise['Kreise'],\n",
    "                y=df_leerflaeche_kreise['2015'], name='2015', marker=dict(color='#51ADFF'))\n",
    "trace5 = go.Bar(x=df_leerflaeche_kreise['Kreise'],\n",
    "                y=df_leerflaeche_kreise['2014'], name='2014', marker=dict(color='#51ADFF'))\n",
    "\n",
    "data = [trace1, trace2, trace3, trace4, trace5]\n",
    "layout = go.Layout(\n",
    "    title='Gewerbe: Leerfläche in den Kreisen der Stadt Zürich von 2014 bis 2018',\n",
    "    font=dict(family='Arial, sans-serif', size=14, color='#7f7f7f'),\n",
    "#     autosize=False,\n",
    "#     width=900,\n",
    "#     height=600,\n",
    "    bargroupgap=0.1,\n",
    "    bargap=0.2,\n",
    "\n",
    "    xaxis=dict(\n",
    "        title='Stadt Zürich',\n",
    "        titlefont=dict(family='Arial, sans-serif', size=14, color='#7f7f7f'),\n",
    "        tickwidth=1,\n",
    "        ticklen=10,\n",
    "        automargin=True\n",
    "    ),\n",
    "    \n",
    "    yaxis=dict(\n",
    "        title='Fläche in m2',\n",
    "        titlefont=dict(family='Arial, sans-serif', size=14, color='#7f7f7f'),\n",
    "        rangemode='tozero',\n",
    "        nticks=8,\n",
    "        exponentformat='none',\n",
    "        tickwidth=1,\n",
    "        ticklen=10,\n",
    "        automargin=True,\n",
    "        range=[0, 70000],\n",
    "        showgrid=True\n",
    "    )\n",
    ")    \n",
    "fig = go.Figure(data=data, layout=layout)\n",
    "pyo.iplot(fig, filename='bar2.html')"
   ]
  },
  {
   "cell_type": "code",
   "execution_count": 31,
   "metadata": {},
   "outputs": [],
   "source": [
    "# exporting data to excel for further use with Ploly-online, Datawrapper or such\n",
    "df_leerflaeche_kreise.to_excel('Daten/Plotly/Gewerbe/01-02_Gewerbe_Leerfläche_Kreise_2014-2018.xlsx')"
   ]
  },
  {
   "cell_type": "markdown",
   "metadata": {},
   "source": [
    "----------"
   ]
  },
  {
   "cell_type": "markdown",
   "metadata": {},
   "source": [
    "### Gewerbe: Leerfläche in den Kreisen der Stadt Zürich im Jahr 2018"
   ]
  },
  {
   "cell_type": "code",
   "execution_count": 32,
   "metadata": {},
   "outputs": [
    {
     "data": {
      "text/html": [
       "<div>\n",
       "<style scoped>\n",
       "    .dataframe tbody tr th:only-of-type {\n",
       "        vertical-align: middle;\n",
       "    }\n",
       "\n",
       "    .dataframe tbody tr th {\n",
       "        vertical-align: top;\n",
       "    }\n",
       "\n",
       "    .dataframe thead th {\n",
       "        text-align: right;\n",
       "    }\n",
       "</style>\n",
       "<table border=\"1\" class=\"dataframe\">\n",
       "  <thead>\n",
       "    <tr style=\"text-align: right;\">\n",
       "      <th></th>\n",
       "      <th>Kreise</th>\n",
       "      <th>2018</th>\n",
       "    </tr>\n",
       "  </thead>\n",
       "  <tbody>\n",
       "    <tr>\n",
       "      <th>1</th>\n",
       "      <td>Kreis 1</td>\n",
       "      <td>30550</td>\n",
       "    </tr>\n",
       "    <tr>\n",
       "      <th>6</th>\n",
       "      <td>Kreis 2</td>\n",
       "      <td>23200</td>\n",
       "    </tr>\n",
       "    <tr>\n",
       "      <th>10</th>\n",
       "      <td>Kreis 3</td>\n",
       "      <td>19407</td>\n",
       "    </tr>\n",
       "    <tr>\n",
       "      <th>14</th>\n",
       "      <td>Kreis 4</td>\n",
       "      <td>6808</td>\n",
       "    </tr>\n",
       "    <tr>\n",
       "      <th>18</th>\n",
       "      <td>Kreis 5</td>\n",
       "      <td>8646</td>\n",
       "    </tr>\n",
       "    <tr>\n",
       "      <th>21</th>\n",
       "      <td>Kreis 6</td>\n",
       "      <td>3281</td>\n",
       "    </tr>\n",
       "    <tr>\n",
       "      <th>24</th>\n",
       "      <td>Kreis 7</td>\n",
       "      <td>2952</td>\n",
       "    </tr>\n",
       "    <tr>\n",
       "      <th>29</th>\n",
       "      <td>Kreis 8</td>\n",
       "      <td>6938</td>\n",
       "    </tr>\n",
       "    <tr>\n",
       "      <th>33</th>\n",
       "      <td>Kreis 9</td>\n",
       "      <td>41331</td>\n",
       "    </tr>\n",
       "    <tr>\n",
       "      <th>36</th>\n",
       "      <td>Kreis 10</td>\n",
       "      <td>590</td>\n",
       "    </tr>\n",
       "    <tr>\n",
       "      <th>39</th>\n",
       "      <td>Kreis 11</td>\n",
       "      <td>43175</td>\n",
       "    </tr>\n",
       "    <tr>\n",
       "      <th>43</th>\n",
       "      <td>Kreis 12</td>\n",
       "      <td>836</td>\n",
       "    </tr>\n",
       "  </tbody>\n",
       "</table>\n",
       "</div>"
      ],
      "text/plain": [
       "      Kreise   2018\n",
       "1    Kreis 1  30550\n",
       "6    Kreis 2  23200\n",
       "10   Kreis 3  19407\n",
       "14   Kreis 4   6808\n",
       "18   Kreis 5   8646\n",
       "21   Kreis 6   3281\n",
       "24   Kreis 7   2952\n",
       "29   Kreis 8   6938\n",
       "33   Kreis 9  41331\n",
       "36  Kreis 10    590\n",
       "39  Kreis 11  43175\n",
       "43  Kreis 12    836"
      ]
     },
     "execution_count": 32,
     "metadata": {},
     "output_type": "execute_result"
    }
   ],
   "source": [
    "# selecting [rows, columns]\n",
    "df_leerflaeche_kreise_2018=df_leerflaeche_kreise.iloc[:, :2]\n",
    "df_leerflaeche_kreise_2018"
   ]
  },
  {
   "cell_type": "code",
   "execution_count": 33,
   "metadata": {},
   "outputs": [
    {
     "data": {
      "application/vnd.plotly.v1+json": {
       "config": {
        "linkText": "Export to plot.ly",
        "plotlyServerURL": "https://plot.ly",
        "showLink": false
       },
       "data": [
        {
         "marker": {
          "color": [
           "#51ADFF",
           "#51ADFF",
           "#51ADFF",
           "#51ADFF",
           "#51ADFF",
           "#51ADFF",
           "#51ADFF",
           "#51ADFF",
           "#51ADFF",
           "#51ADFF",
           "#51ADFF",
           "#51ADFF"
          ]
         },
         "type": "bar",
         "uid": "768de9fa-9d43-46c7-b922-aace1e9192c1",
         "x": [
          "Kreis 1",
          "Kreis 2",
          "Kreis 3",
          "Kreis 4",
          "Kreis 5",
          "Kreis 6",
          "Kreis 7",
          "Kreis 8",
          "Kreis 9",
          "Kreis 10",
          "Kreis 11",
          "Kreis 12"
         ],
         "y": [
          30550,
          23200,
          19407,
          6808,
          8646,
          3281,
          2952,
          6938,
          41331,
          590,
          43175,
          836
         ]
        }
       ],
       "layout": {
        "autosize": false,
        "bargap": 0.2,
        "bargroupgap": 0.1,
        "font": {
         "color": "#7f7f7f",
         "family": "Arial, sans-serif",
         "size": 14
        },
        "height": 600,
        "title": {
         "text": "Gewerbe: Leerfläche in den Kreisen der Stadt Zürich im Jahr 2018"
        },
        "width": 900,
        "xaxis": {
         "automargin": true,
         "ticklen": 10,
         "tickwidth": 1,
         "title": {
          "font": {
           "color": "#7f7f7f",
           "family": "Arial, sans-serif",
           "size": 12
          },
          "text": "Kreise Zürich"
         }
        },
        "yaxis": {
         "automargin": true,
         "exponentformat": "none",
         "nticks": 8,
         "rangemode": "tozero",
         "ticklen": 10,
         "tickwidth": 1,
         "title": {
          "font": {
           "color": "#7f7f7f",
           "family": "Arial, sans-serif",
           "size": 12
          },
          "text": "Fläche in m2"
         }
        }
       }
      },
      "text/html": [
       "<div id=\"6a8dbc6e-ed3f-4aca-848d-012e8c869c87\" style=\"height: 600px; width: 900px;\" class=\"plotly-graph-div\"></div><script type=\"text/javascript\">require([\"plotly\"], function(Plotly) { window.PLOTLYENV=window.PLOTLYENV || {};window.PLOTLYENV.BASE_URL=\"https://plot.ly\";Plotly.newPlot(\"6a8dbc6e-ed3f-4aca-848d-012e8c869c87\", [{\"marker\": {\"color\": [\"#51ADFF\", \"#51ADFF\", \"#51ADFF\", \"#51ADFF\", \"#51ADFF\", \"#51ADFF\", \"#51ADFF\", \"#51ADFF\", \"#51ADFF\", \"#51ADFF\", \"#51ADFF\", \"#51ADFF\"]}, \"x\": [\"Kreis 1\", \"Kreis 2\", \"Kreis 3\", \"Kreis 4\", \"Kreis 5\", \"Kreis 6\", \"Kreis 7\", \"Kreis 8\", \"Kreis 9\", \"Kreis 10\", \"Kreis 11\", \"Kreis 12\"], \"y\": [30550, 23200, 19407, 6808, 8646, 3281, 2952, 6938, 41331, 590, 43175, 836], \"type\": \"bar\", \"uid\": \"768de9fa-9d43-46c7-b922-aace1e9192c1\"}], {\"autosize\": false, \"bargap\": 0.2, \"bargroupgap\": 0.1, \"font\": {\"color\": \"#7f7f7f\", \"family\": \"Arial, sans-serif\", \"size\": 14}, \"height\": 600, \"title\": {\"text\": \"Gewerbe: Leerfl\\u00e4che in den Kreisen der Stadt Z\\u00fcrich im Jahr 2018\"}, \"width\": 900, \"xaxis\": {\"automargin\": true, \"ticklen\": 10, \"tickwidth\": 1, \"title\": {\"font\": {\"color\": \"#7f7f7f\", \"family\": \"Arial, sans-serif\", \"size\": 12}, \"text\": \"Kreise Z\\u00fcrich\"}}, \"yaxis\": {\"automargin\": true, \"exponentformat\": \"none\", \"nticks\": 8, \"rangemode\": \"tozero\", \"ticklen\": 10, \"tickwidth\": 1, \"title\": {\"font\": {\"color\": \"#7f7f7f\", \"family\": \"Arial, sans-serif\", \"size\": 12}, \"text\": \"Fl\\u00e4che in m2\"}}}, {\"showLink\": false, \"linkText\": \"Export to plot.ly\", \"plotlyServerURL\": \"https://plot.ly\"})});</script>"
      ],
      "text/vnd.plotly.v1+html": [
       "<div id=\"6a8dbc6e-ed3f-4aca-848d-012e8c869c87\" style=\"height: 600px; width: 900px;\" class=\"plotly-graph-div\"></div><script type=\"text/javascript\">require([\"plotly\"], function(Plotly) { window.PLOTLYENV=window.PLOTLYENV || {};window.PLOTLYENV.BASE_URL=\"https://plot.ly\";Plotly.newPlot(\"6a8dbc6e-ed3f-4aca-848d-012e8c869c87\", [{\"marker\": {\"color\": [\"#51ADFF\", \"#51ADFF\", \"#51ADFF\", \"#51ADFF\", \"#51ADFF\", \"#51ADFF\", \"#51ADFF\", \"#51ADFF\", \"#51ADFF\", \"#51ADFF\", \"#51ADFF\", \"#51ADFF\"]}, \"x\": [\"Kreis 1\", \"Kreis 2\", \"Kreis 3\", \"Kreis 4\", \"Kreis 5\", \"Kreis 6\", \"Kreis 7\", \"Kreis 8\", \"Kreis 9\", \"Kreis 10\", \"Kreis 11\", \"Kreis 12\"], \"y\": [30550, 23200, 19407, 6808, 8646, 3281, 2952, 6938, 41331, 590, 43175, 836], \"type\": \"bar\", \"uid\": \"768de9fa-9d43-46c7-b922-aace1e9192c1\"}], {\"autosize\": false, \"bargap\": 0.2, \"bargroupgap\": 0.1, \"font\": {\"color\": \"#7f7f7f\", \"family\": \"Arial, sans-serif\", \"size\": 14}, \"height\": 600, \"title\": {\"text\": \"Gewerbe: Leerfl\\u00e4che in den Kreisen der Stadt Z\\u00fcrich im Jahr 2018\"}, \"width\": 900, \"xaxis\": {\"automargin\": true, \"ticklen\": 10, \"tickwidth\": 1, \"title\": {\"font\": {\"color\": \"#7f7f7f\", \"family\": \"Arial, sans-serif\", \"size\": 12}, \"text\": \"Kreise Z\\u00fcrich\"}}, \"yaxis\": {\"automargin\": true, \"exponentformat\": \"none\", \"nticks\": 8, \"rangemode\": \"tozero\", \"ticklen\": 10, \"tickwidth\": 1, \"title\": {\"font\": {\"color\": \"#7f7f7f\", \"family\": \"Arial, sans-serif\", \"size\": 12}, \"text\": \"Fl\\u00e4che in m2\"}}}, {\"showLink\": false, \"linkText\": \"Export to plot.ly\", \"plotlyServerURL\": \"https://plot.ly\"})});</script>"
      ]
     },
     "metadata": {},
     "output_type": "display_data"
    }
   ],
   "source": [
    "# ploting with plotly\n",
    "color_palette_kreise = ['#51ADFF', '#51ADFF', '#51ADFF', '#51ADFF', '#51ADFF', '#51ADFF',\n",
    "                       '#51ADFF', '#51ADFF', '#51ADFF', '#51ADFF', '#51ADFF', '#51ADFF']\n",
    "\n",
    "trace = go.Bar(\n",
    "            x=df_leerflaeche_kreise_2018['Kreise'],\n",
    "            y=df_leerflaeche_kreise_2018['2018'],\n",
    "            marker=dict(\n",
    "            color=color_palette_kreise))\n",
    "data = [trace]\n",
    "\n",
    "layout = go.Layout(\n",
    "    title='Gewerbe: Leerfläche in den Kreisen der Stadt Zürich im Jahr 2018',\n",
    "    font=dict(family='Arial, sans-serif', size=14, color='#7f7f7f'),\n",
    "    autosize=False,\n",
    "    width=900,\n",
    "    height=600,\n",
    "    bargroupgap=0.1,\n",
    "    bargap=0.2,\n",
    "\n",
    "    xaxis=dict(\n",
    "        title='Kreise Zürich',\n",
    "        titlefont=dict(family='Arial, sans-serif', size=12, color='#7f7f7f'),\n",
    "        tickwidth=1,\n",
    "        ticklen=10,\n",
    "        automargin=True,\n",
    "    ),\n",
    "    \n",
    "    yaxis=dict(\n",
    "        title='Fläche in m2',\n",
    "        titlefont=dict(family='Arial, sans-serif', size=12, color='#7f7f7f'),\n",
    "        rangemode='tozero',\n",
    "        nticks=8,\n",
    "        exponentformat='none',\n",
    "        tickwidth=1,\n",
    "        ticklen=10,\n",
    "        automargin=True\n",
    "    )\n",
    ")    \n",
    "    \n",
    "fig = go.Figure(data=data, layout=layout)\n",
    "pyo.iplot(fig, filename='bar2.html')"
   ]
  },
  {
   "cell_type": "code",
   "execution_count": 34,
   "metadata": {},
   "outputs": [],
   "source": [
    "# exporting data to excel for further use with Ploly-online, Datawrapper or such\n",
    "df_leerflaeche_kreise_2018.to_excel('Daten/Plotly/Gewerbe/01-03_Gewerbe_Leerfläche_Kreise_2018.xlsx')"
   ]
  },
  {
   "cell_type": "markdown",
   "metadata": {},
   "source": [
    "---------"
   ]
  },
  {
   "cell_type": "markdown",
   "metadata": {},
   "source": [
    "###  Gewerbe: Leerfläche in den Quartieren der Stadt Zürich von 2014 bis 2018"
   ]
  },
  {
   "cell_type": "code",
   "execution_count": 35,
   "metadata": {},
   "outputs": [
    {
     "data": {
      "text/html": [
       "<div>\n",
       "<style scoped>\n",
       "    .dataframe tbody tr th:only-of-type {\n",
       "        vertical-align: middle;\n",
       "    }\n",
       "\n",
       "    .dataframe tbody tr th {\n",
       "        vertical-align: top;\n",
       "    }\n",
       "\n",
       "    .dataframe thead th {\n",
       "        text-align: right;\n",
       "    }\n",
       "</style>\n",
       "<table border=\"1\" class=\"dataframe\">\n",
       "  <thead>\n",
       "    <tr style=\"text-align: right;\">\n",
       "      <th></th>\n",
       "      <th>Quartier</th>\n",
       "      <th>Leerfläche 2018</th>\n",
       "      <th>Leerfläche 2017</th>\n",
       "      <th>Leerfläche 2016</th>\n",
       "      <th>Leerfläche 2015</th>\n",
       "      <th>Leerfläche 2014</th>\n",
       "    </tr>\n",
       "  </thead>\n",
       "  <tbody>\n",
       "    <tr>\n",
       "      <th>2</th>\n",
       "      <td>Rathaus</td>\n",
       "      <td>3504</td>\n",
       "      <td>1940</td>\n",
       "      <td>2261</td>\n",
       "      <td>2261</td>\n",
       "      <td>2284</td>\n",
       "    </tr>\n",
       "    <tr>\n",
       "      <th>3</th>\n",
       "      <td>Hochschulen</td>\n",
       "      <td>670</td>\n",
       "      <td>1187</td>\n",
       "      <td>340</td>\n",
       "      <td>126</td>\n",
       "      <td>2218</td>\n",
       "    </tr>\n",
       "    <tr>\n",
       "      <th>4</th>\n",
       "      <td>Lindenhof</td>\n",
       "      <td>7542</td>\n",
       "      <td>10304</td>\n",
       "      <td>8060</td>\n",
       "      <td>7737</td>\n",
       "      <td>7381</td>\n",
       "    </tr>\n",
       "    <tr>\n",
       "      <th>5</th>\n",
       "      <td>City</td>\n",
       "      <td>18834</td>\n",
       "      <td>21279</td>\n",
       "      <td>21540</td>\n",
       "      <td>30821</td>\n",
       "      <td>41891</td>\n",
       "    </tr>\n",
       "    <tr>\n",
       "      <th>7</th>\n",
       "      <td>Wollishofen</td>\n",
       "      <td>2220</td>\n",
       "      <td>4227</td>\n",
       "      <td>5313</td>\n",
       "      <td>3790</td>\n",
       "      <td>9101</td>\n",
       "    </tr>\n",
       "  </tbody>\n",
       "</table>\n",
       "</div>"
      ],
      "text/plain": [
       "      Quartier  Leerfläche 2018  Leerfläche 2017  Leerfläche 2016  \\\n",
       "2      Rathaus             3504             1940             2261   \n",
       "3  Hochschulen              670             1187              340   \n",
       "4    Lindenhof             7542            10304             8060   \n",
       "5         City            18834            21279            21540   \n",
       "7  Wollishofen             2220             4227             5313   \n",
       "\n",
       "   Leerfläche 2015  Leerfläche 2014  \n",
       "2             2261             2284  \n",
       "3              126             2218  \n",
       "4             7737             7381  \n",
       "5            30821            41891  \n",
       "7             3790             9101  "
      ]
     },
     "execution_count": 35,
     "metadata": {},
     "output_type": "execute_result"
    }
   ],
   "source": [
    "# selecting [rows, columns]\n",
    "df_leerflaeche_quartiere = df_leerflaeche.iloc[[2,3,4,5,7,8,9,11,12,13,15,16,17,19,\n",
    "                                                20,22,23,25,26,27,28,30,31,32,34,35,\n",
    "                                                37,38,40,41,42,44,45,46], :]\n",
    "df_leerflaeche_quartiere.head()"
   ]
  },
  {
   "cell_type": "markdown",
   "metadata": {},
   "source": [
    "----------"
   ]
  },
  {
   "cell_type": "markdown",
   "metadata": {},
   "source": [
    "### Gewerbe: Leerfläche in den Quartieren der Stadt Zürich im Jahr 2018"
   ]
  },
  {
   "cell_type": "code",
   "execution_count": 36,
   "metadata": {},
   "outputs": [
    {
     "data": {
      "text/html": [
       "<div>\n",
       "<style scoped>\n",
       "    .dataframe tbody tr th:only-of-type {\n",
       "        vertical-align: middle;\n",
       "    }\n",
       "\n",
       "    .dataframe tbody tr th {\n",
       "        vertical-align: top;\n",
       "    }\n",
       "\n",
       "    .dataframe thead th {\n",
       "        text-align: right;\n",
       "    }\n",
       "</style>\n",
       "<table border=\"1\" class=\"dataframe\">\n",
       "  <thead>\n",
       "    <tr style=\"text-align: right;\">\n",
       "      <th></th>\n",
       "      <th>Quartier</th>\n",
       "      <th>Leerfläche 2018</th>\n",
       "    </tr>\n",
       "  </thead>\n",
       "  <tbody>\n",
       "    <tr>\n",
       "      <th>2</th>\n",
       "      <td>Rathaus</td>\n",
       "      <td>3504</td>\n",
       "    </tr>\n",
       "    <tr>\n",
       "      <th>3</th>\n",
       "      <td>Hochschulen</td>\n",
       "      <td>670</td>\n",
       "    </tr>\n",
       "    <tr>\n",
       "      <th>4</th>\n",
       "      <td>Lindenhof</td>\n",
       "      <td>7542</td>\n",
       "    </tr>\n",
       "    <tr>\n",
       "      <th>5</th>\n",
       "      <td>City</td>\n",
       "      <td>18834</td>\n",
       "    </tr>\n",
       "    <tr>\n",
       "      <th>7</th>\n",
       "      <td>Wollishofen</td>\n",
       "      <td>2220</td>\n",
       "    </tr>\n",
       "  </tbody>\n",
       "</table>\n",
       "</div>"
      ],
      "text/plain": [
       "      Quartier  Leerfläche 2018\n",
       "2      Rathaus             3504\n",
       "3  Hochschulen              670\n",
       "4    Lindenhof             7542\n",
       "5         City            18834\n",
       "7  Wollishofen             2220"
      ]
     },
     "execution_count": 36,
     "metadata": {},
     "output_type": "execute_result"
    }
   ],
   "source": [
    "# selecting [rows, columns]\n",
    "df_leerflaeche_quartiere_2018 = df_leerflaeche.iloc[[2,3,4,5,7,8,9,11,12,13,15,16,17,19,\n",
    "                                                20,22,23,25,26,27,28,30,31,32,34,35,\n",
    "                                                37,38,40,41,42,44,45,46], :2]\n",
    "df_leerflaeche_quartiere_2018.head()"
   ]
  },
  {
   "cell_type": "code",
   "execution_count": 37,
   "metadata": {},
   "outputs": [
    {
     "data": {
      "text/plain": [
       "<matplotlib.axes._subplots.AxesSubplot at 0x11904f390>"
      ]
     },
     "execution_count": 37,
     "metadata": {},
     "output_type": "execute_result"
    },
    {
     "data": {
      "image/png": "[encoded data removed]",
      "text/plain": [
       "<Figure size 1080x504 with 1 Axes>"
      ]
     },
     "metadata": {
      "needs_background": "light"
     },
     "output_type": "display_data"
    }
   ],
   "source": [
    "# setting index to 'Quartier' for a quick look with matplotlib\n",
    "df_leerflaeche_quartiere_2018 = df_leerflaeche_quartiere_2018.set_index('Quartier')\n",
    "df_leerflaeche_quartiere_2018.plot(kind='bar', figsize=(15,7))"
   ]
  },
  {
   "cell_type": "code",
   "execution_count": 38,
   "metadata": {},
   "outputs": [],
   "source": [
    "# exporting data to excel for further use with Ploly-online, Datawrapper or such\n",
    "df_leerflaeche_quartiere_2018.to_excel('Daten/Plotly/Gewerbe/01-04_Gewerbe_Leerfläche_Quartiere_2018.xlsx')"
   ]
  },
  {
   "cell_type": "markdown",
   "metadata": {},
   "source": [
    " "
   ]
  },
  {
   "cell_type": "markdown",
   "metadata": {},
   "source": [
    " "
   ]
  },
  {
   "cell_type": "markdown",
   "metadata": {},
   "source": [
    "------------"
   ]
  },
  {
   "cell_type": "markdown",
   "metadata": {},
   "source": [
    "## Gewerbe: Leerfläche nach Nutzungsart –  Kreise, Quartiere und Stadt Zürich im Jahr 2018"
   ]
  },
  {
   "cell_type": "code",
   "execution_count": 39,
   "metadata": {},
   "outputs": [],
   "source": [
    "# selecting [rows, columns]\n",
    "df_nutzungsart = df_clean.iloc[0:, [0,6,11,12,13,14]]"
   ]
  },
  {
   "cell_type": "code",
   "execution_count": 40,
   "metadata": {
    "scrolled": false
   },
   "outputs": [
    {
     "data": {
      "text/html": [
       "<div>\n",
       "<style scoped>\n",
       "    .dataframe tbody tr th:only-of-type {\n",
       "        vertical-align: middle;\n",
       "    }\n",
       "\n",
       "    .dataframe tbody tr th {\n",
       "        vertical-align: top;\n",
       "    }\n",
       "\n",
       "    .dataframe thead th {\n",
       "        text-align: right;\n",
       "    }\n",
       "</style>\n",
       "<table border=\"1\" class=\"dataframe\">\n",
       "  <thead>\n",
       "    <tr style=\"text-align: right;\">\n",
       "      <th></th>\n",
       "      <th>Quartier</th>\n",
       "      <th>Büro/Praxis 2018</th>\n",
       "      <th>Lager/Archiv 2018</th>\n",
       "      <th>Verkauf 2018</th>\n",
       "      <th>Werkstatt/Produktion 2018</th>\n",
       "      <th>Andere Nutzungen 2018</th>\n",
       "    </tr>\n",
       "  </thead>\n",
       "  <tbody>\n",
       "    <tr>\n",
       "      <th>0</th>\n",
       "      <td>Ganze Stadt</td>\n",
       "      <td>139664</td>\n",
       "      <td>31663</td>\n",
       "      <td>5381</td>\n",
       "      <td>5122</td>\n",
       "      <td>5884</td>\n",
       "    </tr>\n",
       "    <tr>\n",
       "      <th>1</th>\n",
       "      <td>Kreis 1</td>\n",
       "      <td>23805</td>\n",
       "      <td>2436</td>\n",
       "      <td>1889</td>\n",
       "      <td>214</td>\n",
       "      <td>2206</td>\n",
       "    </tr>\n",
       "    <tr>\n",
       "      <th>2</th>\n",
       "      <td>Rathaus</td>\n",
       "      <td>1399</td>\n",
       "      <td>128</td>\n",
       "      <td>383</td>\n",
       "      <td>64</td>\n",
       "      <td>1530</td>\n",
       "    </tr>\n",
       "    <tr>\n",
       "      <th>3</th>\n",
       "      <td>Hochschulen</td>\n",
       "      <td>670</td>\n",
       "      <td>0</td>\n",
       "      <td>0</td>\n",
       "      <td>0</td>\n",
       "      <td>0</td>\n",
       "    </tr>\n",
       "    <tr>\n",
       "      <th>4</th>\n",
       "      <td>Lindenhof</td>\n",
       "      <td>6963</td>\n",
       "      <td>579</td>\n",
       "      <td>0</td>\n",
       "      <td>0</td>\n",
       "      <td>0</td>\n",
       "    </tr>\n",
       "  </tbody>\n",
       "</table>\n",
       "</div>"
      ],
      "text/plain": [
       "      Quartier  Büro/Praxis 2018  Lager/Archiv 2018  Verkauf 2018  \\\n",
       "0  Ganze Stadt            139664              31663          5381   \n",
       "1      Kreis 1             23805               2436          1889   \n",
       "2      Rathaus              1399                128           383   \n",
       "3  Hochschulen               670                  0             0   \n",
       "4    Lindenhof              6963                579             0   \n",
       "\n",
       "   Werkstatt/Produktion 2018  Andere Nutzungen 2018  \n",
       "0                       5122                   5884  \n",
       "1                        214                   2206  \n",
       "2                         64                   1530  \n",
       "3                          0                      0  \n",
       "4                          0                      0  "
      ]
     },
     "execution_count": 40,
     "metadata": {},
     "output_type": "execute_result"
    }
   ],
   "source": [
    "df_nutzungsart.head()"
   ]
  },
  {
   "cell_type": "code",
   "execution_count": 41,
   "metadata": {
    "scrolled": false
   },
   "outputs": [],
   "source": [
    "# renaming columns\n",
    "df_nutzungsart.rename(columns={'Quartier': 'Kreise',\n",
    "                                      'Büro/Praxis 2018' : 'Büro/Praxis',\n",
    "                                      'Lager/Archiv 2018' : 'Lager/Archiv',\n",
    "                                      'Verkauf 2018' : 'Verkauf',\n",
    "                                      'Werkstatt/Produktion 2018' : 'Werkstatt/Produktion',\n",
    "                                      'Andere Nutzungen 2018' : 'Andere Nutzungen'}, inplace=True)"
   ]
  },
  {
   "cell_type": "code",
   "execution_count": 42,
   "metadata": {},
   "outputs": [
    {
     "data": {
      "text/html": [
       "<div>\n",
       "<style scoped>\n",
       "    .dataframe tbody tr th:only-of-type {\n",
       "        vertical-align: middle;\n",
       "    }\n",
       "\n",
       "    .dataframe tbody tr th {\n",
       "        vertical-align: top;\n",
       "    }\n",
       "\n",
       "    .dataframe thead th {\n",
       "        text-align: right;\n",
       "    }\n",
       "</style>\n",
       "<table border=\"1\" class=\"dataframe\">\n",
       "  <thead>\n",
       "    <tr style=\"text-align: right;\">\n",
       "      <th></th>\n",
       "      <th>Kreise</th>\n",
       "      <th>Büro/Praxis</th>\n",
       "      <th>Lager/Archiv</th>\n",
       "      <th>Verkauf</th>\n",
       "      <th>Werkstatt/Produktion</th>\n",
       "      <th>Andere Nutzungen</th>\n",
       "    </tr>\n",
       "  </thead>\n",
       "  <tbody>\n",
       "    <tr>\n",
       "      <th>0</th>\n",
       "      <td>Ganze Stadt</td>\n",
       "      <td>139664</td>\n",
       "      <td>31663</td>\n",
       "      <td>5381</td>\n",
       "      <td>5122</td>\n",
       "      <td>5884</td>\n",
       "    </tr>\n",
       "    <tr>\n",
       "      <th>1</th>\n",
       "      <td>Kreis 1</td>\n",
       "      <td>23805</td>\n",
       "      <td>2436</td>\n",
       "      <td>1889</td>\n",
       "      <td>214</td>\n",
       "      <td>2206</td>\n",
       "    </tr>\n",
       "    <tr>\n",
       "      <th>2</th>\n",
       "      <td>Rathaus</td>\n",
       "      <td>1399</td>\n",
       "      <td>128</td>\n",
       "      <td>383</td>\n",
       "      <td>64</td>\n",
       "      <td>1530</td>\n",
       "    </tr>\n",
       "    <tr>\n",
       "      <th>3</th>\n",
       "      <td>Hochschulen</td>\n",
       "      <td>670</td>\n",
       "      <td>0</td>\n",
       "      <td>0</td>\n",
       "      <td>0</td>\n",
       "      <td>0</td>\n",
       "    </tr>\n",
       "    <tr>\n",
       "      <th>4</th>\n",
       "      <td>Lindenhof</td>\n",
       "      <td>6963</td>\n",
       "      <td>579</td>\n",
       "      <td>0</td>\n",
       "      <td>0</td>\n",
       "      <td>0</td>\n",
       "    </tr>\n",
       "  </tbody>\n",
       "</table>\n",
       "</div>"
      ],
      "text/plain": [
       "        Kreise  Büro/Praxis  Lager/Archiv  Verkauf  Werkstatt/Produktion  \\\n",
       "0  Ganze Stadt       139664         31663     5381                  5122   \n",
       "1      Kreis 1        23805          2436     1889                   214   \n",
       "2      Rathaus         1399           128      383                    64   \n",
       "3  Hochschulen          670             0        0                     0   \n",
       "4    Lindenhof         6963           579        0                     0   \n",
       "\n",
       "   Andere Nutzungen  \n",
       "0              5884  \n",
       "1              2206  \n",
       "2              1530  \n",
       "3                 0  \n",
       "4                 0  "
      ]
     },
     "execution_count": 42,
     "metadata": {},
     "output_type": "execute_result"
    }
   ],
   "source": [
    "# df_nutzungsart ist Rerefenzsatz\n",
    "df_nutzungsart.head()"
   ]
  },
  {
   "cell_type": "markdown",
   "metadata": {},
   "source": [
    "---------------"
   ]
  },
  {
   "cell_type": "markdown",
   "metadata": {},
   "source": [
    "### Gewerbe: Leerfläche nach Nutzungsart –  Stadt Zürich im Jahr 2018"
   ]
  },
  {
   "cell_type": "code",
   "execution_count": 43,
   "metadata": {},
   "outputs": [],
   "source": [
    "# selecting [rows, columns]\n",
    "df_nutzungsart_stdzh = df_nutzungsart.iloc[:1, [0,1,2,3,4,5]]"
   ]
  },
  {
   "cell_type": "code",
   "execution_count": 44,
   "metadata": {},
   "outputs": [
    {
     "data": {
      "text/html": [
       "<div>\n",
       "<style scoped>\n",
       "    .dataframe tbody tr th:only-of-type {\n",
       "        vertical-align: middle;\n",
       "    }\n",
       "\n",
       "    .dataframe tbody tr th {\n",
       "        vertical-align: top;\n",
       "    }\n",
       "\n",
       "    .dataframe thead th {\n",
       "        text-align: right;\n",
       "    }\n",
       "</style>\n",
       "<table border=\"1\" class=\"dataframe\">\n",
       "  <thead>\n",
       "    <tr style=\"text-align: right;\">\n",
       "      <th></th>\n",
       "      <th>Kreise</th>\n",
       "      <th>Büro/Praxis</th>\n",
       "      <th>Lager/Archiv</th>\n",
       "      <th>Verkauf</th>\n",
       "      <th>Werkstatt/Produktion</th>\n",
       "      <th>Andere Nutzungen</th>\n",
       "    </tr>\n",
       "  </thead>\n",
       "  <tbody>\n",
       "    <tr>\n",
       "      <th>0</th>\n",
       "      <td>Ganze Stadt</td>\n",
       "      <td>139664</td>\n",
       "      <td>31663</td>\n",
       "      <td>5381</td>\n",
       "      <td>5122</td>\n",
       "      <td>5884</td>\n",
       "    </tr>\n",
       "  </tbody>\n",
       "</table>\n",
       "</div>"
      ],
      "text/plain": [
       "        Kreise  Büro/Praxis  Lager/Archiv  Verkauf  Werkstatt/Produktion  \\\n",
       "0  Ganze Stadt       139664         31663     5381                  5122   \n",
       "\n",
       "   Andere Nutzungen  \n",
       "0              5884  "
      ]
     },
     "execution_count": 44,
     "metadata": {},
     "output_type": "execute_result"
    }
   ],
   "source": [
    "df_nutzungsart_stdzh"
   ]
  },
  {
   "cell_type": "code",
   "execution_count": 45,
   "metadata": {},
   "outputs": [
    {
     "data": {
      "text/html": [
       "<div>\n",
       "<style scoped>\n",
       "    .dataframe tbody tr th:only-of-type {\n",
       "        vertical-align: middle;\n",
       "    }\n",
       "\n",
       "    .dataframe tbody tr th {\n",
       "        vertical-align: top;\n",
       "    }\n",
       "\n",
       "    .dataframe thead th {\n",
       "        text-align: right;\n",
       "    }\n",
       "</style>\n",
       "<table border=\"1\" class=\"dataframe\">\n",
       "  <thead>\n",
       "    <tr style=\"text-align: right;\">\n",
       "      <th></th>\n",
       "      <th>0</th>\n",
       "    </tr>\n",
       "  </thead>\n",
       "  <tbody>\n",
       "    <tr>\n",
       "      <th>Kreise</th>\n",
       "      <td>Ganze Stadt</td>\n",
       "    </tr>\n",
       "    <tr>\n",
       "      <th>Büro/Praxis</th>\n",
       "      <td>139664</td>\n",
       "    </tr>\n",
       "    <tr>\n",
       "      <th>Lager/Archiv</th>\n",
       "      <td>31663</td>\n",
       "    </tr>\n",
       "    <tr>\n",
       "      <th>Verkauf</th>\n",
       "      <td>5381</td>\n",
       "    </tr>\n",
       "    <tr>\n",
       "      <th>Werkstatt/Produktion</th>\n",
       "      <td>5122</td>\n",
       "    </tr>\n",
       "    <tr>\n",
       "      <th>Andere Nutzungen</th>\n",
       "      <td>5884</td>\n",
       "    </tr>\n",
       "  </tbody>\n",
       "</table>\n",
       "</div>"
      ],
      "text/plain": [
       "                                0\n",
       "Kreise                Ganze Stadt\n",
       "Büro/Praxis                139664\n",
       "Lager/Archiv                31663\n",
       "Verkauf                      5381\n",
       "Werkstatt/Produktion         5122\n",
       "Andere Nutzungen             5884"
      ]
     },
     "execution_count": 45,
     "metadata": {},
     "output_type": "execute_result"
    }
   ],
   "source": [
    "# transpose Dataframe\n",
    "df_nutzungsart_stdzh = df_nutzungsart_stdzh.transpose()\n",
    "df_nutzungsart_stdzh"
   ]
  },
  {
   "cell_type": "code",
   "execution_count": 46,
   "metadata": {},
   "outputs": [],
   "source": [
    "# exporting to excel to change index\n",
    "df_nutzungsart_stdzh.to_excel('Daten/Gewerbe/nutzungsart_stdzh_processing_01.xlsx')"
   ]
  },
  {
   "cell_type": "code",
   "execution_count": 47,
   "metadata": {},
   "outputs": [
    {
     "data": {
      "text/html": [
       "<div>\n",
       "<style scoped>\n",
       "    .dataframe tbody tr th:only-of-type {\n",
       "        vertical-align: middle;\n",
       "    }\n",
       "\n",
       "    .dataframe tbody tr th {\n",
       "        vertical-align: top;\n",
       "    }\n",
       "\n",
       "    .dataframe thead th {\n",
       "        text-align: right;\n",
       "    }\n",
       "</style>\n",
       "<table border=\"1\" class=\"dataframe\">\n",
       "  <thead>\n",
       "    <tr style=\"text-align: right;\">\n",
       "      <th></th>\n",
       "      <th>Kreise</th>\n",
       "      <th>Ganze Stadt</th>\n",
       "    </tr>\n",
       "  </thead>\n",
       "  <tbody>\n",
       "    <tr>\n",
       "      <th>0</th>\n",
       "      <td>Büro/Praxis</td>\n",
       "      <td>139664</td>\n",
       "    </tr>\n",
       "    <tr>\n",
       "      <th>1</th>\n",
       "      <td>Lager/Archiv</td>\n",
       "      <td>31663</td>\n",
       "    </tr>\n",
       "    <tr>\n",
       "      <th>2</th>\n",
       "      <td>Verkauf</td>\n",
       "      <td>5381</td>\n",
       "    </tr>\n",
       "    <tr>\n",
       "      <th>3</th>\n",
       "      <td>Werkstatt/Produktion</td>\n",
       "      <td>5122</td>\n",
       "    </tr>\n",
       "    <tr>\n",
       "      <th>4</th>\n",
       "      <td>Andere Nutzungen</td>\n",
       "      <td>5884</td>\n",
       "    </tr>\n",
       "  </tbody>\n",
       "</table>\n",
       "</div>"
      ],
      "text/plain": [
       "                 Kreise  Ganze Stadt\n",
       "0           Büro/Praxis       139664\n",
       "1          Lager/Archiv        31663\n",
       "2               Verkauf         5381\n",
       "3  Werkstatt/Produktion         5122\n",
       "4      Andere Nutzungen         5884"
      ]
     },
     "execution_count": 47,
     "metadata": {},
     "output_type": "execute_result"
    }
   ],
   "source": [
    "df_nutzungsart_stdzh = pd.read_excel('Daten/Gewerbe/nutzungsart_stdzh_processing_01.xlsx', header=1)\n",
    "df_nutzungsart_stdzh"
   ]
  },
  {
   "cell_type": "code",
   "execution_count": 48,
   "metadata": {},
   "outputs": [
    {
     "data": {
      "text/html": [
       "<div>\n",
       "<style scoped>\n",
       "    .dataframe tbody tr th:only-of-type {\n",
       "        vertical-align: middle;\n",
       "    }\n",
       "\n",
       "    .dataframe tbody tr th {\n",
       "        vertical-align: top;\n",
       "    }\n",
       "\n",
       "    .dataframe thead th {\n",
       "        text-align: right;\n",
       "    }\n",
       "</style>\n",
       "<table border=\"1\" class=\"dataframe\">\n",
       "  <thead>\n",
       "    <tr style=\"text-align: right;\">\n",
       "      <th></th>\n",
       "      <th>Nutzungsart</th>\n",
       "      <th>Leerfläche</th>\n",
       "    </tr>\n",
       "  </thead>\n",
       "  <tbody>\n",
       "    <tr>\n",
       "      <th>0</th>\n",
       "      <td>Büro/Praxis</td>\n",
       "      <td>139664</td>\n",
       "    </tr>\n",
       "    <tr>\n",
       "      <th>1</th>\n",
       "      <td>Lager/Archiv</td>\n",
       "      <td>31663</td>\n",
       "    </tr>\n",
       "    <tr>\n",
       "      <th>2</th>\n",
       "      <td>Verkauf</td>\n",
       "      <td>5381</td>\n",
       "    </tr>\n",
       "    <tr>\n",
       "      <th>3</th>\n",
       "      <td>Werkstatt/Produktion</td>\n",
       "      <td>5122</td>\n",
       "    </tr>\n",
       "    <tr>\n",
       "      <th>4</th>\n",
       "      <td>Andere Nutzungen</td>\n",
       "      <td>5884</td>\n",
       "    </tr>\n",
       "  </tbody>\n",
       "</table>\n",
       "</div>"
      ],
      "text/plain": [
       "            Nutzungsart  Leerfläche\n",
       "0           Büro/Praxis      139664\n",
       "1          Lager/Archiv       31663\n",
       "2               Verkauf        5381\n",
       "3  Werkstatt/Produktion        5122\n",
       "4      Andere Nutzungen        5884"
      ]
     },
     "execution_count": 48,
     "metadata": {},
     "output_type": "execute_result"
    }
   ],
   "source": [
    "# renaming columns\n",
    "df_nutzungsart_stdzh = df_nutzungsart_stdzh.rename(columns={'Kreise' : 'Nutzungsart', 'Ganze Stadt' : 'Leerfläche'})\n",
    "df_nutzungsart_stdzh"
   ]
  },
  {
   "cell_type": "code",
   "execution_count": 49,
   "metadata": {},
   "outputs": [
    {
     "data": {
      "application/vnd.plotly.v1+json": {
       "config": {
        "linkText": "Export to plot.ly",
        "plotlyServerURL": "https://plot.ly",
        "showLink": false
       },
       "data": [
        {
         "marker": {
          "color": [
           "#51ADFF",
           "#51ADFF",
           "#51ADFF",
           "#51ADFF",
           "#51ADFF"
          ]
         },
         "type": "bar",
         "uid": "18e6b1b3-3669-4919-91ac-76106c95a09b",
         "x": [
          "Büro/Praxis",
          "Lager/Archiv",
          "Verkauf",
          "Werkstatt/Produktion",
          "Andere Nutzungen"
         ],
         "y": [
          139664,
          31663,
          5381,
          5122,
          5884
         ]
        }
       ],
       "layout": {
        "autosize": false,
        "bargap": 0.2,
        "bargroupgap": 0.1,
        "font": {
         "color": "#7f7f7f",
         "family": "Arial, sans-serif",
         "size": 14
        },
        "height": 600,
        "title": {
         "text": "Gewerbe: Leerfläche nach Nutzungsart –  Stadt Zürich im Jahr 2018"
        },
        "width": 900,
        "xaxis": {
         "automargin": true,
         "ticklen": 10,
         "tickwidth": 1,
         "title": {
          "font": {
           "color": "#7f7f7f",
           "family": "Arial, sans-serif",
           "size": 12
          },
          "text": "Nutzungsart"
         }
        },
        "yaxis": {
         "automargin": true,
         "exponentformat": "none",
         "nticks": 8,
         "rangemode": "tozero",
         "ticklen": 10,
         "tickwidth": 1,
         "title": {
          "font": {
           "color": "#7f7f7f",
           "family": "Arial, sans-serif",
           "size": 12
          },
          "text": "Fläche in m2"
         }
        }
       }
      },
      "text/html": [
       "<div id=\"2245ec29-e3c4-4c15-9747-de5dbd881929\" style=\"height: 600px; width: 900px;\" class=\"plotly-graph-div\"></div><script type=\"text/javascript\">require([\"plotly\"], function(Plotly) { window.PLOTLYENV=window.PLOTLYENV || {};window.PLOTLYENV.BASE_URL=\"https://plot.ly\";Plotly.newPlot(\"2245ec29-e3c4-4c15-9747-de5dbd881929\", [{\"marker\": {\"color\": [\"#51ADFF\", \"#51ADFF\", \"#51ADFF\", \"#51ADFF\", \"#51ADFF\"]}, \"x\": [\"B\\u00fcro/Praxis\", \"Lager/Archiv\", \"Verkauf\", \"Werkstatt/Produktion\", \"Andere Nutzungen\"], \"y\": [139664, 31663, 5381, 5122, 5884], \"type\": \"bar\", \"uid\": \"18e6b1b3-3669-4919-91ac-76106c95a09b\"}], {\"autosize\": false, \"bargap\": 0.2, \"bargroupgap\": 0.1, \"font\": {\"color\": \"#7f7f7f\", \"family\": \"Arial, sans-serif\", \"size\": 14}, \"height\": 600, \"title\": {\"text\": \"Gewerbe: Leerfl\\u00e4che nach Nutzungsart \\u2013  Stadt Z\\u00fcrich im Jahr 2018\"}, \"width\": 900, \"xaxis\": {\"automargin\": true, \"ticklen\": 10, \"tickwidth\": 1, \"title\": {\"font\": {\"color\": \"#7f7f7f\", \"family\": \"Arial, sans-serif\", \"size\": 12}, \"text\": \"Nutzungsart\"}}, \"yaxis\": {\"automargin\": true, \"exponentformat\": \"none\", \"nticks\": 8, \"rangemode\": \"tozero\", \"ticklen\": 10, \"tickwidth\": 1, \"title\": {\"font\": {\"color\": \"#7f7f7f\", \"family\": \"Arial, sans-serif\", \"size\": 12}, \"text\": \"Fl\\u00e4che in m2\"}}}, {\"showLink\": false, \"linkText\": \"Export to plot.ly\", \"plotlyServerURL\": \"https://plot.ly\"})});</script>"
      ],
      "text/vnd.plotly.v1+html": [
       "<div id=\"2245ec29-e3c4-4c15-9747-de5dbd881929\" style=\"height: 600px; width: 900px;\" class=\"plotly-graph-div\"></div><script type=\"text/javascript\">require([\"plotly\"], function(Plotly) { window.PLOTLYENV=window.PLOTLYENV || {};window.PLOTLYENV.BASE_URL=\"https://plot.ly\";Plotly.newPlot(\"2245ec29-e3c4-4c15-9747-de5dbd881929\", [{\"marker\": {\"color\": [\"#51ADFF\", \"#51ADFF\", \"#51ADFF\", \"#51ADFF\", \"#51ADFF\"]}, \"x\": [\"B\\u00fcro/Praxis\", \"Lager/Archiv\", \"Verkauf\", \"Werkstatt/Produktion\", \"Andere Nutzungen\"], \"y\": [139664, 31663, 5381, 5122, 5884], \"type\": \"bar\", \"uid\": \"18e6b1b3-3669-4919-91ac-76106c95a09b\"}], {\"autosize\": false, \"bargap\": 0.2, \"bargroupgap\": 0.1, \"font\": {\"color\": \"#7f7f7f\", \"family\": \"Arial, sans-serif\", \"size\": 14}, \"height\": 600, \"title\": {\"text\": \"Gewerbe: Leerfl\\u00e4che nach Nutzungsart \\u2013  Stadt Z\\u00fcrich im Jahr 2018\"}, \"width\": 900, \"xaxis\": {\"automargin\": true, \"ticklen\": 10, \"tickwidth\": 1, \"title\": {\"font\": {\"color\": \"#7f7f7f\", \"family\": \"Arial, sans-serif\", \"size\": 12}, \"text\": \"Nutzungsart\"}}, \"yaxis\": {\"automargin\": true, \"exponentformat\": \"none\", \"nticks\": 8, \"rangemode\": \"tozero\", \"ticklen\": 10, \"tickwidth\": 1, \"title\": {\"font\": {\"color\": \"#7f7f7f\", \"family\": \"Arial, sans-serif\", \"size\": 12}, \"text\": \"Fl\\u00e4che in m2\"}}}, {\"showLink\": false, \"linkText\": \"Export to plot.ly\", \"plotlyServerURL\": \"https://plot.ly\"})});</script>"
      ]
     },
     "metadata": {},
     "output_type": "display_data"
    }
   ],
   "source": [
    "# ploting with plotly\n",
    "color_palette_nutzungsart_stdzh = ['#51ADFF', '#51ADFF', '#51ADFF', '#51ADFF', '#51ADFF']\n",
    "\n",
    "trace = go.Bar(\n",
    "            x=df_nutzungsart_stdzh['Nutzungsart'],\n",
    "            y=df_nutzungsart_stdzh['Leerfläche'],\n",
    "            marker=dict(\n",
    "            color=color_palette_nutzungsart_stdzh))\n",
    "data = [trace]\n",
    "\n",
    "layout = go.Layout(\n",
    "    title='Gewerbe: Leerfläche nach Nutzungsart –  Stadt Zürich im Jahr 2018',\n",
    "    font=dict(family='Arial, sans-serif', size=14, color='#7f7f7f'),\n",
    "    autosize=False,\n",
    "    width=900,\n",
    "    height=600,\n",
    "    bargroupgap=0.1,\n",
    "    bargap=0.2,\n",
    "\n",
    "    xaxis=dict(\n",
    "        title='Nutzungsart',\n",
    "        titlefont=dict(family='Arial, sans-serif', size=12, color='#7f7f7f'),\n",
    "        tickwidth=1,\n",
    "        ticklen=10,\n",
    "        automargin=True,\n",
    "    ),\n",
    "    \n",
    "    yaxis=dict(\n",
    "        title='Fläche in m2',\n",
    "        titlefont=dict(family='Arial, sans-serif', size=12, color='#7f7f7f'),\n",
    "        rangemode='tozero',\n",
    "        nticks=8,\n",
    "        exponentformat='none',\n",
    "        tickwidth=1,\n",
    "        ticklen=10,\n",
    "        automargin=True\n",
    "    )\n",
    ")    \n",
    "    \n",
    "fig = go.Figure(data=data, layout=layout)\n",
    "pyo.iplot(fig, filename='bar2.html')"
   ]
  },
  {
   "cell_type": "code",
   "execution_count": 50,
   "metadata": {},
   "outputs": [],
   "source": [
    "# exporting data to excel for further use with Ploly-online, Datawrapper or such\n",
    "df_nutzungsart_stdzh.to_excel('Daten/Plotly/Gewerbe/01-05_Gewerbe_Nutzungsart_Stadt_Zürich_2018.xlsx')"
   ]
  },
  {
   "cell_type": "markdown",
   "metadata": {},
   "source": [
    "------------"
   ]
  },
  {
   "cell_type": "markdown",
   "metadata": {},
   "source": [
    "### Gewerbe: Leerfläche nach Nutzungsart in den Kreisen im Jahr 2018"
   ]
  },
  {
   "cell_type": "code",
   "execution_count": 51,
   "metadata": {},
   "outputs": [],
   "source": [
    "# selecting [rows, columns]\n",
    "df_nutzungsart_kreise_2018 = df_nutzungsart.iloc[[1,6,10,14,18,21,24,29,33,36,39,43], 0:]"
   ]
  },
  {
   "cell_type": "code",
   "execution_count": 52,
   "metadata": {},
   "outputs": [
    {
     "data": {
      "text/html": [
       "<div>\n",
       "<style scoped>\n",
       "    .dataframe tbody tr th:only-of-type {\n",
       "        vertical-align: middle;\n",
       "    }\n",
       "\n",
       "    .dataframe tbody tr th {\n",
       "        vertical-align: top;\n",
       "    }\n",
       "\n",
       "    .dataframe thead th {\n",
       "        text-align: right;\n",
       "    }\n",
       "</style>\n",
       "<table border=\"1\" class=\"dataframe\">\n",
       "  <thead>\n",
       "    <tr style=\"text-align: right;\">\n",
       "      <th></th>\n",
       "      <th>Kreise</th>\n",
       "      <th>Büro/Praxis</th>\n",
       "      <th>Lager/Archiv</th>\n",
       "      <th>Verkauf</th>\n",
       "      <th>Werkstatt/Produktion</th>\n",
       "      <th>Andere Nutzungen</th>\n",
       "    </tr>\n",
       "  </thead>\n",
       "  <tbody>\n",
       "    <tr>\n",
       "      <th>1</th>\n",
       "      <td>Kreis 1</td>\n",
       "      <td>23805</td>\n",
       "      <td>2436</td>\n",
       "      <td>1889</td>\n",
       "      <td>214</td>\n",
       "      <td>2206</td>\n",
       "    </tr>\n",
       "    <tr>\n",
       "      <th>6</th>\n",
       "      <td>Kreis 2</td>\n",
       "      <td>19520</td>\n",
       "      <td>2687</td>\n",
       "      <td>608</td>\n",
       "      <td>87</td>\n",
       "      <td>298</td>\n",
       "    </tr>\n",
       "    <tr>\n",
       "      <th>10</th>\n",
       "      <td>Kreis 3</td>\n",
       "      <td>11823</td>\n",
       "      <td>4202</td>\n",
       "      <td>543</td>\n",
       "      <td>1955</td>\n",
       "      <td>884</td>\n",
       "    </tr>\n",
       "    <tr>\n",
       "      <th>14</th>\n",
       "      <td>Kreis 4</td>\n",
       "      <td>4276</td>\n",
       "      <td>2311</td>\n",
       "      <td>88</td>\n",
       "      <td>122</td>\n",
       "      <td>11</td>\n",
       "    </tr>\n",
       "    <tr>\n",
       "      <th>18</th>\n",
       "      <td>Kreis 5</td>\n",
       "      <td>4817</td>\n",
       "      <td>3517</td>\n",
       "      <td>167</td>\n",
       "      <td>62</td>\n",
       "      <td>83</td>\n",
       "    </tr>\n",
       "    <tr>\n",
       "      <th>21</th>\n",
       "      <td>Kreis 6</td>\n",
       "      <td>2635</td>\n",
       "      <td>232</td>\n",
       "      <td>252</td>\n",
       "      <td>0</td>\n",
       "      <td>162</td>\n",
       "    </tr>\n",
       "    <tr>\n",
       "      <th>24</th>\n",
       "      <td>Kreis 7</td>\n",
       "      <td>2302</td>\n",
       "      <td>405</td>\n",
       "      <td>190</td>\n",
       "      <td>0</td>\n",
       "      <td>55</td>\n",
       "    </tr>\n",
       "    <tr>\n",
       "      <th>29</th>\n",
       "      <td>Kreis 8</td>\n",
       "      <td>5995</td>\n",
       "      <td>637</td>\n",
       "      <td>64</td>\n",
       "      <td>160</td>\n",
       "      <td>82</td>\n",
       "    </tr>\n",
       "    <tr>\n",
       "      <th>33</th>\n",
       "      <td>Kreis 9</td>\n",
       "      <td>29739</td>\n",
       "      <td>7820</td>\n",
       "      <td>747</td>\n",
       "      <td>1353</td>\n",
       "      <td>1672</td>\n",
       "    </tr>\n",
       "    <tr>\n",
       "      <th>36</th>\n",
       "      <td>Kreis 10</td>\n",
       "      <td>159</td>\n",
       "      <td>78</td>\n",
       "      <td>353</td>\n",
       "      <td>0</td>\n",
       "      <td>0</td>\n",
       "    </tr>\n",
       "    <tr>\n",
       "      <th>39</th>\n",
       "      <td>Kreis 11</td>\n",
       "      <td>33757</td>\n",
       "      <td>7338</td>\n",
       "      <td>480</td>\n",
       "      <td>1169</td>\n",
       "      <td>431</td>\n",
       "    </tr>\n",
       "    <tr>\n",
       "      <th>43</th>\n",
       "      <td>Kreis 12</td>\n",
       "      <td>836</td>\n",
       "      <td>0</td>\n",
       "      <td>0</td>\n",
       "      <td>0</td>\n",
       "      <td>0</td>\n",
       "    </tr>\n",
       "  </tbody>\n",
       "</table>\n",
       "</div>"
      ],
      "text/plain": [
       "      Kreise  Büro/Praxis  Lager/Archiv  Verkauf  Werkstatt/Produktion  \\\n",
       "1    Kreis 1        23805          2436     1889                   214   \n",
       "6    Kreis 2        19520          2687      608                    87   \n",
       "10   Kreis 3        11823          4202      543                  1955   \n",
       "14   Kreis 4         4276          2311       88                   122   \n",
       "18   Kreis 5         4817          3517      167                    62   \n",
       "21   Kreis 6         2635           232      252                     0   \n",
       "24   Kreis 7         2302           405      190                     0   \n",
       "29   Kreis 8         5995           637       64                   160   \n",
       "33   Kreis 9        29739          7820      747                  1353   \n",
       "36  Kreis 10          159            78      353                     0   \n",
       "39  Kreis 11        33757          7338      480                  1169   \n",
       "43  Kreis 12          836             0        0                     0   \n",
       "\n",
       "    Andere Nutzungen  \n",
       "1               2206  \n",
       "6                298  \n",
       "10               884  \n",
       "14                11  \n",
       "18                83  \n",
       "21               162  \n",
       "24                55  \n",
       "29                82  \n",
       "33              1672  \n",
       "36                 0  \n",
       "39               431  \n",
       "43                 0  "
      ]
     },
     "execution_count": 52,
     "metadata": {},
     "output_type": "execute_result"
    }
   ],
   "source": [
    "df_nutzungsart_kreise_2018"
   ]
  },
  {
   "cell_type": "code",
   "execution_count": 53,
   "metadata": {
    "scrolled": false
   },
   "outputs": [
    {
     "data": {
      "application/vnd.plotly.v1+json": {
       "config": {
        "linkText": "Export to plot.ly",
        "plotlyServerURL": "https://plot.ly",
        "showLink": false
       },
       "data": [
        {
         "marker": {
          "color": "#B21310"
         },
         "name": "Büro/Praxis",
         "type": "bar",
         "uid": "9a0544fc-8ef0-47b1-9bf2-6b3c4cb002ea",
         "x": [
          "Kreis 1",
          "Kreis 2",
          "Kreis 3",
          "Kreis 4",
          "Kreis 5",
          "Kreis 6",
          "Kreis 7",
          "Kreis 8",
          "Kreis 9",
          "Kreis 10",
          "Kreis 11",
          "Kreis 12"
         ],
         "y": [
          23805,
          19520,
          11823,
          4276,
          4817,
          2635,
          2302,
          5995,
          29739,
          159,
          33757,
          836
         ]
        },
        {
         "marker": {
          "color": "#2884B2"
         },
         "name": "Lager/Archiv",
         "type": "bar",
         "uid": "72385040-7904-4ac8-86aa-cbd0f348a967",
         "x": [
          "Kreis 1",
          "Kreis 2",
          "Kreis 3",
          "Kreis 4",
          "Kreis 5",
          "Kreis 6",
          "Kreis 7",
          "Kreis 8",
          "Kreis 9",
          "Kreis 10",
          "Kreis 11",
          "Kreis 12"
         ],
         "y": [
          2436,
          2687,
          4202,
          2311,
          3517,
          232,
          405,
          637,
          7820,
          78,
          7338,
          0
         ]
        },
        {
         "marker": {
          "color": "#FF6839"
         },
         "name": "Verkauf",
         "type": "bar",
         "uid": "09bb1002-57de-477b-909a-f0f680dfd704",
         "x": [
          "Kreis 1",
          "Kreis 2",
          "Kreis 3",
          "Kreis 4",
          "Kreis 5",
          "Kreis 6",
          "Kreis 7",
          "Kreis 8",
          "Kreis 9",
          "Kreis 10",
          "Kreis 11",
          "Kreis 12"
         ],
         "y": [
          1889,
          608,
          543,
          88,
          167,
          252,
          190,
          64,
          747,
          353,
          480,
          0
         ]
        },
        {
         "marker": {
          "color": "#51ADFF"
         },
         "name": "Werkstatt/Produktion",
         "type": "bar",
         "uid": "4776d347-6fca-4c1e-9af9-4e497f761207",
         "x": [
          "Kreis 1",
          "Kreis 2",
          "Kreis 3",
          "Kreis 4",
          "Kreis 5",
          "Kreis 6",
          "Kreis 7",
          "Kreis 8",
          "Kreis 9",
          "Kreis 10",
          "Kreis 11",
          "Kreis 12"
         ],
         "y": [
          214,
          87,
          1955,
          122,
          62,
          0,
          0,
          160,
          1353,
          0,
          1169,
          0
         ]
        },
        {
         "marker": {
          "color": "#061324"
         },
         "name": "Andere Nutzungen",
         "type": "bar",
         "uid": "b610b0ec-3a4e-43ae-88cf-4718a7634099",
         "x": [
          "Kreis 1",
          "Kreis 2",
          "Kreis 3",
          "Kreis 4",
          "Kreis 5",
          "Kreis 6",
          "Kreis 7",
          "Kreis 8",
          "Kreis 9",
          "Kreis 10",
          "Kreis 11",
          "Kreis 12"
         ],
         "y": [
          2206,
          298,
          884,
          11,
          83,
          162,
          55,
          82,
          1672,
          0,
          431,
          0
         ]
        }
       ],
       "layout": {
        "autosize": false,
        "bargap": 0.2,
        "bargroupgap": 0.1,
        "barmode": "group",
        "font": {
         "color": "#7f7f7f",
         "family": "Arial, sans-serif",
         "size": 14
        },
        "height": 600,
        "title": {
         "text": "Gewerbe: Leerfläche nach Nutzungsart in den Kreisen im Jahr 2018"
        },
        "width": 1000,
        "xaxis": {
         "automargin": true,
         "ticklen": 10,
         "tickwidth": 1,
         "title": {
          "font": {
           "color": "#7f7f7f",
           "family": "Arial, sans-serif",
           "size": 12
          },
          "text": "Kreise"
         }
        },
        "yaxis": {
         "automargin": true,
         "exponentformat": "none",
         "nticks": 8,
         "rangemode": "tozero",
         "ticklen": 10,
         "tickwidth": 1,
         "title": {
          "font": {
           "color": "#7f7f7f",
           "family": "Arial, sans-serif",
           "size": 12
          },
          "text": "Fläche in m2"
         }
        }
       }
      },
      "text/html": [
       "<div id=\"5fb4ec19-c309-4d07-9a82-e412b5720cb1\" style=\"height: 600px; width: 1000px;\" class=\"plotly-graph-div\"></div><script type=\"text/javascript\">require([\"plotly\"], function(Plotly) { window.PLOTLYENV=window.PLOTLYENV || {};window.PLOTLYENV.BASE_URL=\"https://plot.ly\";Plotly.newPlot(\"5fb4ec19-c309-4d07-9a82-e412b5720cb1\", [{\"marker\": {\"color\": \"#B21310\"}, \"name\": \"B\\u00fcro/Praxis\", \"x\": [\"Kreis 1\", \"Kreis 2\", \"Kreis 3\", \"Kreis 4\", \"Kreis 5\", \"Kreis 6\", \"Kreis 7\", \"Kreis 8\", \"Kreis 9\", \"Kreis 10\", \"Kreis 11\", \"Kreis 12\"], \"y\": [23805, 19520, 11823, 4276, 4817, 2635, 2302, 5995, 29739, 159, 33757, 836], \"type\": \"bar\", \"uid\": \"9a0544fc-8ef0-47b1-9bf2-6b3c4cb002ea\"}, {\"marker\": {\"color\": \"#2884B2\"}, \"name\": \"Lager/Archiv\", \"x\": [\"Kreis 1\", \"Kreis 2\", \"Kreis 3\", \"Kreis 4\", \"Kreis 5\", \"Kreis 6\", \"Kreis 7\", \"Kreis 8\", \"Kreis 9\", \"Kreis 10\", \"Kreis 11\", \"Kreis 12\"], \"y\": [2436, 2687, 4202, 2311, 3517, 232, 405, 637, 7820, 78, 7338, 0], \"type\": \"bar\", \"uid\": \"72385040-7904-4ac8-86aa-cbd0f348a967\"}, {\"marker\": {\"color\": \"#FF6839\"}, \"name\": \"Verkauf\", \"x\": [\"Kreis 1\", \"Kreis 2\", \"Kreis 3\", \"Kreis 4\", \"Kreis 5\", \"Kreis 6\", \"Kreis 7\", \"Kreis 8\", \"Kreis 9\", \"Kreis 10\", \"Kreis 11\", \"Kreis 12\"], \"y\": [1889, 608, 543, 88, 167, 252, 190, 64, 747, 353, 480, 0], \"type\": \"bar\", \"uid\": \"09bb1002-57de-477b-909a-f0f680dfd704\"}, {\"marker\": {\"color\": \"#51ADFF\"}, \"name\": \"Werkstatt/Produktion\", \"x\": [\"Kreis 1\", \"Kreis 2\", \"Kreis 3\", \"Kreis 4\", \"Kreis 5\", \"Kreis 6\", \"Kreis 7\", \"Kreis 8\", \"Kreis 9\", \"Kreis 10\", \"Kreis 11\", \"Kreis 12\"], \"y\": [214, 87, 1955, 122, 62, 0, 0, 160, 1353, 0, 1169, 0], \"type\": \"bar\", \"uid\": \"4776d347-6fca-4c1e-9af9-4e497f761207\"}, {\"marker\": {\"color\": \"#061324\"}, \"name\": \"Andere Nutzungen\", \"x\": [\"Kreis 1\", \"Kreis 2\", \"Kreis 3\", \"Kreis 4\", \"Kreis 5\", \"Kreis 6\", \"Kreis 7\", \"Kreis 8\", \"Kreis 9\", \"Kreis 10\", \"Kreis 11\", \"Kreis 12\"], \"y\": [2206, 298, 884, 11, 83, 162, 55, 82, 1672, 0, 431, 0], \"type\": \"bar\", \"uid\": \"b610b0ec-3a4e-43ae-88cf-4718a7634099\"}], {\"autosize\": false, \"bargap\": 0.2, \"bargroupgap\": 0.1, \"barmode\": \"group\", \"font\": {\"color\": \"#7f7f7f\", \"family\": \"Arial, sans-serif\", \"size\": 14}, \"height\": 600, \"title\": {\"text\": \"Gewerbe: Leerfl\\u00e4che nach Nutzungsart in den Kreisen im Jahr 2018\"}, \"width\": 1000, \"xaxis\": {\"automargin\": true, \"ticklen\": 10, \"tickwidth\": 1, \"title\": {\"font\": {\"color\": \"#7f7f7f\", \"family\": \"Arial, sans-serif\", \"size\": 12}, \"text\": \"Kreise\"}}, \"yaxis\": {\"automargin\": true, \"exponentformat\": \"none\", \"nticks\": 8, \"rangemode\": \"tozero\", \"ticklen\": 10, \"tickwidth\": 1, \"title\": {\"font\": {\"color\": \"#7f7f7f\", \"family\": \"Arial, sans-serif\", \"size\": 12}, \"text\": \"Fl\\u00e4che in m2\"}}}, {\"showLink\": false, \"linkText\": \"Export to plot.ly\", \"plotlyServerURL\": \"https://plot.ly\"})});</script>"
      ],
      "text/vnd.plotly.v1+html": [
       "<div id=\"5fb4ec19-c309-4d07-9a82-e412b5720cb1\" style=\"height: 600px; width: 1000px;\" class=\"plotly-graph-div\"></div><script type=\"text/javascript\">require([\"plotly\"], function(Plotly) { window.PLOTLYENV=window.PLOTLYENV || {};window.PLOTLYENV.BASE_URL=\"https://plot.ly\";Plotly.newPlot(\"5fb4ec19-c309-4d07-9a82-e412b5720cb1\", [{\"marker\": {\"color\": \"#B21310\"}, \"name\": \"B\\u00fcro/Praxis\", \"x\": [\"Kreis 1\", \"Kreis 2\", \"Kreis 3\", \"Kreis 4\", \"Kreis 5\", \"Kreis 6\", \"Kreis 7\", \"Kreis 8\", \"Kreis 9\", \"Kreis 10\", \"Kreis 11\", \"Kreis 12\"], \"y\": [23805, 19520, 11823, 4276, 4817, 2635, 2302, 5995, 29739, 159, 33757, 836], \"type\": \"bar\", \"uid\": \"9a0544fc-8ef0-47b1-9bf2-6b3c4cb002ea\"}, {\"marker\": {\"color\": \"#2884B2\"}, \"name\": \"Lager/Archiv\", \"x\": [\"Kreis 1\", \"Kreis 2\", \"Kreis 3\", \"Kreis 4\", \"Kreis 5\", \"Kreis 6\", \"Kreis 7\", \"Kreis 8\", \"Kreis 9\", \"Kreis 10\", \"Kreis 11\", \"Kreis 12\"], \"y\": [2436, 2687, 4202, 2311, 3517, 232, 405, 637, 7820, 78, 7338, 0], \"type\": \"bar\", \"uid\": \"72385040-7904-4ac8-86aa-cbd0f348a967\"}, {\"marker\": {\"color\": \"#FF6839\"}, \"name\": \"Verkauf\", \"x\": [\"Kreis 1\", \"Kreis 2\", \"Kreis 3\", \"Kreis 4\", \"Kreis 5\", \"Kreis 6\", \"Kreis 7\", \"Kreis 8\", \"Kreis 9\", \"Kreis 10\", \"Kreis 11\", \"Kreis 12\"], \"y\": [1889, 608, 543, 88, 167, 252, 190, 64, 747, 353, 480, 0], \"type\": \"bar\", \"uid\": \"09bb1002-57de-477b-909a-f0f680dfd704\"}, {\"marker\": {\"color\": \"#51ADFF\"}, \"name\": \"Werkstatt/Produktion\", \"x\": [\"Kreis 1\", \"Kreis 2\", \"Kreis 3\", \"Kreis 4\", \"Kreis 5\", \"Kreis 6\", \"Kreis 7\", \"Kreis 8\", \"Kreis 9\", \"Kreis 10\", \"Kreis 11\", \"Kreis 12\"], \"y\": [214, 87, 1955, 122, 62, 0, 0, 160, 1353, 0, 1169, 0], \"type\": \"bar\", \"uid\": \"4776d347-6fca-4c1e-9af9-4e497f761207\"}, {\"marker\": {\"color\": \"#061324\"}, \"name\": \"Andere Nutzungen\", \"x\": [\"Kreis 1\", \"Kreis 2\", \"Kreis 3\", \"Kreis 4\", \"Kreis 5\", \"Kreis 6\", \"Kreis 7\", \"Kreis 8\", \"Kreis 9\", \"Kreis 10\", \"Kreis 11\", \"Kreis 12\"], \"y\": [2206, 298, 884, 11, 83, 162, 55, 82, 1672, 0, 431, 0], \"type\": \"bar\", \"uid\": \"b610b0ec-3a4e-43ae-88cf-4718a7634099\"}], {\"autosize\": false, \"bargap\": 0.2, \"bargroupgap\": 0.1, \"barmode\": \"group\", \"font\": {\"color\": \"#7f7f7f\", \"family\": \"Arial, sans-serif\", \"size\": 14}, \"height\": 600, \"title\": {\"text\": \"Gewerbe: Leerfl\\u00e4che nach Nutzungsart in den Kreisen im Jahr 2018\"}, \"width\": 1000, \"xaxis\": {\"automargin\": true, \"ticklen\": 10, \"tickwidth\": 1, \"title\": {\"font\": {\"color\": \"#7f7f7f\", \"family\": \"Arial, sans-serif\", \"size\": 12}, \"text\": \"Kreise\"}}, \"yaxis\": {\"automargin\": true, \"exponentformat\": \"none\", \"nticks\": 8, \"rangemode\": \"tozero\", \"ticklen\": 10, \"tickwidth\": 1, \"title\": {\"font\": {\"color\": \"#7f7f7f\", \"family\": \"Arial, sans-serif\", \"size\": 12}, \"text\": \"Fl\\u00e4che in m2\"}}}, {\"showLink\": false, \"linkText\": \"Export to plot.ly\", \"plotlyServerURL\": \"https://plot.ly\"})});</script>"
      ]
     },
     "metadata": {},
     "output_type": "display_data"
    }
   ],
   "source": [
    "# ploting with plotly\n",
    "trace1 = go.Bar(x=df_nutzungsart_kreise_2018['Kreise'],\n",
    "                y=df_nutzungsart_kreise_2018['Büro/Praxis'], name='Büro/Praxis', marker=dict(color='#B21310'))\n",
    "\n",
    "trace2 = go.Bar(x=df_nutzungsart_kreise_2018['Kreise'],\n",
    "                y=df_nutzungsart_kreise_2018['Lager/Archiv'], name='Lager/Archiv', marker=dict(color='#2884B2'))\n",
    "\n",
    "trace3 = go.Bar(x=df_nutzungsart_kreise_2018['Kreise'],\n",
    "                y=df_nutzungsart_kreise_2018['Verkauf'], name='Verkauf', marker=dict(color='#FF6839'))\n",
    "\n",
    "trace4 = go.Bar(x=df_nutzungsart_kreise_2018['Kreise'],\n",
    "                y=df_nutzungsart_kreise_2018['Werkstatt/Produktion'], name='Werkstatt/Produktion', marker=dict(color='#51ADFF'))\n",
    "\n",
    "trace5 = go.Bar(x=df_nutzungsart_kreise_2018['Kreise'],\n",
    "                y=df_nutzungsart_kreise_2018['Andere Nutzungen'], name='Andere Nutzungen', marker=dict(color='#061324'))\n",
    "\n",
    "data = [trace1, trace2, trace3, trace4, trace5]\n",
    "layout = go.Layout(\n",
    "    title='Gewerbe: Leerfläche nach Nutzungsart in den Kreisen im Jahr 2018',\n",
    "    font=dict(family='Arial, sans-serif', size=14, color='#7f7f7f'),\n",
    "    autosize=False,\n",
    "    width=1000,\n",
    "    height=600,\n",
    "    bargroupgap=0.1,\n",
    "    bargap=0.2,\n",
    "    barmode='group',\n",
    "\n",
    "    xaxis=dict(\n",
    "        title='Kreise',\n",
    "        titlefont=dict(family='Arial, sans-serif', size=12, color='#7f7f7f'),\n",
    "        tickwidth=1,\n",
    "        ticklen=10,\n",
    "        automargin=True,\n",
    "    ),\n",
    "    \n",
    "    yaxis=dict(\n",
    "        title='Fläche in m2',\n",
    "        titlefont=dict(family='Arial, sans-serif', size=12, color='#7f7f7f'),\n",
    "        rangemode='tozero',\n",
    "        nticks=8,\n",
    "        exponentformat='none',\n",
    "        tickwidth=1,\n",
    "        ticklen=10,\n",
    "        automargin=True\n",
    "    )\n",
    ")    \n",
    "fig = go.Figure(data=data, layout=layout)\n",
    "pyo.iplot(fig, filename='bar2.html')"
   ]
  },
  {
   "cell_type": "code",
   "execution_count": 54,
   "metadata": {},
   "outputs": [],
   "source": [
    "# exporting data to excel for further use with Ploly-online, Datawrapper or such\n",
    "df_nutzungsart_kreise_2018.to_excel('Daten/Plotly/Gewerbe/01-06_Gewerbe_Nutzungsart_Kreise_2018.xlsx')"
   ]
  },
  {
   "cell_type": "markdown",
   "metadata": {},
   "source": [
    "----------"
   ]
  },
  {
   "cell_type": "markdown",
   "metadata": {},
   "source": [
    "### Gewerbe: Leerfläche nach Nutzungsart in den Quartieren im Jahr 2018"
   ]
  },
  {
   "cell_type": "code",
   "execution_count": 55,
   "metadata": {},
   "outputs": [
    {
     "data": {
      "text/html": [
       "<div>\n",
       "<style scoped>\n",
       "    .dataframe tbody tr th:only-of-type {\n",
       "        vertical-align: middle;\n",
       "    }\n",
       "\n",
       "    .dataframe tbody tr th {\n",
       "        vertical-align: top;\n",
       "    }\n",
       "\n",
       "    .dataframe thead th {\n",
       "        text-align: right;\n",
       "    }\n",
       "</style>\n",
       "<table border=\"1\" class=\"dataframe\">\n",
       "  <thead>\n",
       "    <tr style=\"text-align: right;\">\n",
       "      <th></th>\n",
       "      <th>Kreise</th>\n",
       "      <th>Büro/Praxis</th>\n",
       "      <th>Lager/Archiv</th>\n",
       "      <th>Verkauf</th>\n",
       "      <th>Werkstatt/Produktion</th>\n",
       "      <th>Andere Nutzungen</th>\n",
       "    </tr>\n",
       "  </thead>\n",
       "  <tbody>\n",
       "    <tr>\n",
       "      <th>2</th>\n",
       "      <td>Rathaus</td>\n",
       "      <td>1399</td>\n",
       "      <td>128</td>\n",
       "      <td>383</td>\n",
       "      <td>64</td>\n",
       "      <td>1530</td>\n",
       "    </tr>\n",
       "    <tr>\n",
       "      <th>3</th>\n",
       "      <td>Hochschulen</td>\n",
       "      <td>670</td>\n",
       "      <td>0</td>\n",
       "      <td>0</td>\n",
       "      <td>0</td>\n",
       "      <td>0</td>\n",
       "    </tr>\n",
       "    <tr>\n",
       "      <th>4</th>\n",
       "      <td>Lindenhof</td>\n",
       "      <td>6963</td>\n",
       "      <td>579</td>\n",
       "      <td>0</td>\n",
       "      <td>0</td>\n",
       "      <td>0</td>\n",
       "    </tr>\n",
       "    <tr>\n",
       "      <th>5</th>\n",
       "      <td>City</td>\n",
       "      <td>14773</td>\n",
       "      <td>1729</td>\n",
       "      <td>1506</td>\n",
       "      <td>150</td>\n",
       "      <td>676</td>\n",
       "    </tr>\n",
       "    <tr>\n",
       "      <th>7</th>\n",
       "      <td>Wollishofen</td>\n",
       "      <td>1741</td>\n",
       "      <td>479</td>\n",
       "      <td>0</td>\n",
       "      <td>0</td>\n",
       "      <td>0</td>\n",
       "    </tr>\n",
       "  </tbody>\n",
       "</table>\n",
       "</div>"
      ],
      "text/plain": [
       "        Kreise  Büro/Praxis  Lager/Archiv  Verkauf  Werkstatt/Produktion  \\\n",
       "2      Rathaus         1399           128      383                    64   \n",
       "3  Hochschulen          670             0        0                     0   \n",
       "4    Lindenhof         6963           579        0                     0   \n",
       "5         City        14773          1729     1506                   150   \n",
       "7  Wollishofen         1741           479        0                     0   \n",
       "\n",
       "   Andere Nutzungen  \n",
       "2              1530  \n",
       "3                 0  \n",
       "4                 0  \n",
       "5               676  \n",
       "7                 0  "
      ]
     },
     "execution_count": 55,
     "metadata": {},
     "output_type": "execute_result"
    }
   ],
   "source": [
    "# selecting [rows, columns]\n",
    "df_nutzungsart_quartiere = df_nutzungsart.iloc[[2,3,4,5,7,8,9,11,12,13,15,16,17,19,\n",
    "                                                20,22,23,25,26,27,28,30,31,32,34,35,\n",
    "                                                37,38,40,41,42,44,45,46], [0,1,2,3,4,5]]\n",
    "df_nutzungsart_quartiere.head()"
   ]
  },
  {
   "cell_type": "code",
   "execution_count": 56,
   "metadata": {},
   "outputs": [
    {
     "data": {
      "text/html": [
       "<div>\n",
       "<style scoped>\n",
       "    .dataframe tbody tr th:only-of-type {\n",
       "        vertical-align: middle;\n",
       "    }\n",
       "\n",
       "    .dataframe tbody tr th {\n",
       "        vertical-align: top;\n",
       "    }\n",
       "\n",
       "    .dataframe thead th {\n",
       "        text-align: right;\n",
       "    }\n",
       "</style>\n",
       "<table border=\"1\" class=\"dataframe\">\n",
       "  <thead>\n",
       "    <tr style=\"text-align: right;\">\n",
       "      <th></th>\n",
       "      <th>Büro/Praxis</th>\n",
       "      <th>Lager/Archiv</th>\n",
       "      <th>Verkauf</th>\n",
       "      <th>Werkstatt/Produktion</th>\n",
       "      <th>Andere Nutzungen</th>\n",
       "    </tr>\n",
       "    <tr>\n",
       "      <th>Kreise</th>\n",
       "      <th></th>\n",
       "      <th></th>\n",
       "      <th></th>\n",
       "      <th></th>\n",
       "      <th></th>\n",
       "    </tr>\n",
       "  </thead>\n",
       "  <tbody>\n",
       "    <tr>\n",
       "      <th>Rathaus</th>\n",
       "      <td>1399</td>\n",
       "      <td>128</td>\n",
       "      <td>383</td>\n",
       "      <td>64</td>\n",
       "      <td>1530</td>\n",
       "    </tr>\n",
       "    <tr>\n",
       "      <th>Hochschulen</th>\n",
       "      <td>670</td>\n",
       "      <td>0</td>\n",
       "      <td>0</td>\n",
       "      <td>0</td>\n",
       "      <td>0</td>\n",
       "    </tr>\n",
       "    <tr>\n",
       "      <th>Lindenhof</th>\n",
       "      <td>6963</td>\n",
       "      <td>579</td>\n",
       "      <td>0</td>\n",
       "      <td>0</td>\n",
       "      <td>0</td>\n",
       "    </tr>\n",
       "    <tr>\n",
       "      <th>City</th>\n",
       "      <td>14773</td>\n",
       "      <td>1729</td>\n",
       "      <td>1506</td>\n",
       "      <td>150</td>\n",
       "      <td>676</td>\n",
       "    </tr>\n",
       "    <tr>\n",
       "      <th>Wollishofen</th>\n",
       "      <td>1741</td>\n",
       "      <td>479</td>\n",
       "      <td>0</td>\n",
       "      <td>0</td>\n",
       "      <td>0</td>\n",
       "    </tr>\n",
       "  </tbody>\n",
       "</table>\n",
       "</div>"
      ],
      "text/plain": [
       "             Büro/Praxis  Lager/Archiv  Verkauf  Werkstatt/Produktion  \\\n",
       "Kreise                                                                  \n",
       "Rathaus             1399           128      383                    64   \n",
       "Hochschulen          670             0        0                     0   \n",
       "Lindenhof           6963           579        0                     0   \n",
       "City               14773          1729     1506                   150   \n",
       "Wollishofen         1741           479        0                     0   \n",
       "\n",
       "             Andere Nutzungen  \n",
       "Kreise                         \n",
       "Rathaus                  1530  \n",
       "Hochschulen                 0  \n",
       "Lindenhof                   0  \n",
       "City                      676  \n",
       "Wollishofen                 0  "
      ]
     },
     "execution_count": 56,
     "metadata": {},
     "output_type": "execute_result"
    }
   ],
   "source": [
    "# setting index to column 'Kreise' for a quick look with matplotlib\n",
    "df_nutzungsart_quartiere = df_nutzungsart_quartiere.set_index('Kreise')\n",
    "df_nutzungsart_quartiere.head()"
   ]
  },
  {
   "cell_type": "code",
   "execution_count": 57,
   "metadata": {},
   "outputs": [
    {
     "data": {
      "image/png": "[encoded data removed]",
      "text/plain": [
       "<Figure size 1080x504 with 1 Axes>"
      ]
     },
     "metadata": {
      "needs_background": "light"
     },
     "output_type": "display_data"
    }
   ],
   "source": [
    "# ploting with matplotlib\n",
    "fig, ax = plt.subplots()\n",
    "df_nutzungsart_quartiere.plot(kind='bar', figsize=(15,7), ax=ax)\n",
    "\n",
    "# ax.invert_xaxis()\n",
    "ax.grid(which='major', linestyle='-.', linewidth='0.5', color='grey')\n",
    "ax.set_axisbelow(True)\n",
    "\n",
    "title_font = {'fontsize': 20, 'fontweight': 'normal', 'fontname': 'Arial'}\n",
    "ax.set_title('Gewerbe: Leerfläche nach Nutzungsart in den Quartieren im Jahr 2018', fontdict=title_font, loc='left')\n",
    "\n",
    "# - Achsenbeschriftungen\n",
    "label_font = {'fontsize': 14, 'fontweight': 'normal', 'fontname': 'Arial'}\n",
    "ax.set_ylabel(\"Fläche in m2\", fontdict=label_font)\n",
    "ax.set_xlabel(\"Quartiere Stadt Zürich\", fontdict=label_font)\n",
    "ax.yaxis.set_label_position('left')"
   ]
  },
  {
   "cell_type": "code",
   "execution_count": 58,
   "metadata": {},
   "outputs": [],
   "source": [
    "# exporting data to excel for further use with Ploly-online, Datawrapper or such\n",
    "df_nutzungsart_quartiere.to_excel('Daten/Plotly/Gewerbe/01-07_Gewerbe_Nutzungsart_Quartiere_2018.xlsx')"
   ]
  },
  {
   "cell_type": "code",
   "execution_count": null,
   "metadata": {},
   "outputs": [],
   "source": []
  }
 ],
 "metadata": {
  "kernelspec": {
   "display_name": "Python 3",
   "language": "python",
   "name": "python3"
  },
  "language_info": {
   "codemirror_mode": {
    "name": "ipython",
    "version": 3
   },
   "file_extension": ".py",
   "mimetype": "text/x-python",
   "name": "python",
   "nbconvert_exporter": "python",
   "pygments_lexer": "ipython3",
   "version": "3.7.0"
  }
 },
 "nbformat": 4,
 "nbformat_minor": 2
}
