{
 "cells": [
  {
   "cell_type": "code",
   "execution_count": 26,
   "metadata": {},
   "outputs": [],
   "source": [
    "import pandas as pd\n",
    "import numpy as np"
   ]
  },
  {
   "cell_type": "code",
   "execution_count": 27,
   "metadata": {},
   "outputs": [],
   "source": [
    "%matplotlib inline"
   ]
  },
  {
   "cell_type": "code",
   "execution_count": 28,
   "metadata": {},
   "outputs": [
    {
     "data": {
      "text/html": [
       "<script type=\"text/javascript\">window.PlotlyConfig = {MathJaxConfig: 'local'};</script><script type=\"text/javascript\">if (window.MathJax) {MathJax.Hub.Config({SVG: {font: \"STIX-Web\"}});}</script><script>requirejs.config({paths: { 'plotly': ['https://cdn.plot.ly/plotly-latest.min']},});if(!window._Plotly) {require(['plotly'],function(plotly) {window._Plotly=plotly;});}</script>"
      ],
      "text/vnd.plotly.v1+html": [
       "<script type=\"text/javascript\">window.PlotlyConfig = {MathJaxConfig: 'local'};</script><script type=\"text/javascript\">if (window.MathJax) {MathJax.Hub.Config({SVG: {font: \"STIX-Web\"}});}</script><script>requirejs.config({paths: { 'plotly': ['https://cdn.plot.ly/plotly-latest.min']},});if(!window._Plotly) {require(['plotly'],function(plotly) {window._Plotly=plotly;});}</script>"
      ]
     },
     "metadata": {},
     "output_type": "display_data"
    }
   ],
   "source": [
    "import matplotlib.pyplot as plt\n",
    "import seaborn as sns\n",
    "\n",
    "# import plotly.plotly as py\n",
    "import plotly.offline as pyo\n",
    "import plotly.graph_objs as go\n",
    "\n",
    "pyo.init_notebook_mode(connected=True)\n",
    "\n",
    "import cufflinks as cf\n",
    "\n",
    "# import plotly.tools as tls\n",
    "# tls.embed('https://plot.ly/~cufflinks/8')"
   ]
  },
  {
   "cell_type": "markdown",
   "metadata": {},
   "source": [
    "----------"
   ]
  },
  {
   "cell_type": "markdown",
   "metadata": {},
   "source": [
    "## Bauprojekte, Bausumme und Rauminhalt im Bau von 2008 bis 2017"
   ]
  },
  {
   "cell_type": "code",
   "execution_count": 29,
   "metadata": {
    "scrolled": false
   },
   "outputs": [
    {
     "data": {
      "text/html": [
       "<div>\n",
       "<style scoped>\n",
       "    .dataframe tbody tr th:only-of-type {\n",
       "        vertical-align: middle;\n",
       "    }\n",
       "\n",
       "    .dataframe tbody tr th {\n",
       "        vertical-align: top;\n",
       "    }\n",
       "\n",
       "    .dataframe thead th {\n",
       "        text-align: right;\n",
       "    }\n",
       "</style>\n",
       "<table border=\"1\" class=\"dataframe\">\n",
       "  <thead>\n",
       "    <tr style=\"text-align: right;\">\n",
       "      <th></th>\n",
       "      <th>Jahr</th>\n",
       "      <th>Projekte – Alle Projekte</th>\n",
       "      <th>Projekte – Wohnen Neubau</th>\n",
       "      <th>Projekte – Wohnen Umbau</th>\n",
       "      <th>Projekte – Nichtwohnen Neubau</th>\n",
       "      <th>Projekte – Nichtwohnen Umbau</th>\n",
       "      <th>Bausumme – Alle Projekte</th>\n",
       "      <th>Bausumme – Wohnen Neubau</th>\n",
       "      <th>Bausumme – Wohnen Umbau</th>\n",
       "      <th>Bausumme – Nichtwohnen Neubau</th>\n",
       "      <th>Bausumme – Nichtwohnen Umbau</th>\n",
       "      <th>Rauminhalt – Alle Projekte</th>\n",
       "      <th>Rauminhalt – Wohnen Neubau</th>\n",
       "      <th>Rauminhalt – Nichohnen Neubau</th>\n",
       "    </tr>\n",
       "  </thead>\n",
       "  <tbody>\n",
       "    <tr>\n",
       "      <th>1</th>\n",
       "      <td>2008</td>\n",
       "      <td>110</td>\n",
       "      <td>29</td>\n",
       "      <td>28</td>\n",
       "      <td>23</td>\n",
       "      <td>30</td>\n",
       "      <td>3943891</td>\n",
       "      <td>1909389</td>\n",
       "      <td>417292</td>\n",
       "      <td>938757</td>\n",
       "      <td>678453</td>\n",
       "      <td>4124342</td>\n",
       "      <td>2853327</td>\n",
       "      <td>1271015</td>\n",
       "    </tr>\n",
       "    <tr>\n",
       "      <th>2</th>\n",
       "      <td>2009</td>\n",
       "      <td>106</td>\n",
       "      <td>25</td>\n",
       "      <td>31</td>\n",
       "      <td>25</td>\n",
       "      <td>25</td>\n",
       "      <td>5539764</td>\n",
       "      <td>2128477</td>\n",
       "      <td>363247</td>\n",
       "      <td>2216943</td>\n",
       "      <td>831097</td>\n",
       "      <td>5580259</td>\n",
       "      <td>2929807</td>\n",
       "      <td>2650452</td>\n",
       "    </tr>\n",
       "    <tr>\n",
       "      <th>3</th>\n",
       "      <td>2010</td>\n",
       "      <td>106</td>\n",
       "      <td>25</td>\n",
       "      <td>31</td>\n",
       "      <td>21</td>\n",
       "      <td>29</td>\n",
       "      <td>6600861</td>\n",
       "      <td>2580388</td>\n",
       "      <td>511766</td>\n",
       "      <td>2506486</td>\n",
       "      <td>1002221</td>\n",
       "      <td>6289239</td>\n",
       "      <td>3469382</td>\n",
       "      <td>2819857</td>\n",
       "    </tr>\n",
       "    <tr>\n",
       "      <th>4</th>\n",
       "      <td>2011</td>\n",
       "      <td>113</td>\n",
       "      <td>28</td>\n",
       "      <td>33</td>\n",
       "      <td>22</td>\n",
       "      <td>30</td>\n",
       "      <td>6031190</td>\n",
       "      <td>2145180</td>\n",
       "      <td>535430</td>\n",
       "      <td>2481579</td>\n",
       "      <td>869001</td>\n",
       "      <td>5646116</td>\n",
       "      <td>3024016</td>\n",
       "      <td>2622100</td>\n",
       "    </tr>\n",
       "    <tr>\n",
       "      <th>5</th>\n",
       "      <td>2012</td>\n",
       "      <td>108</td>\n",
       "      <td>27</td>\n",
       "      <td>33</td>\n",
       "      <td>20</td>\n",
       "      <td>28</td>\n",
       "      <td>5277020</td>\n",
       "      <td>1997692</td>\n",
       "      <td>527759</td>\n",
       "      <td>2098194</td>\n",
       "      <td>653375</td>\n",
       "      <td>4963511</td>\n",
       "      <td>2739109</td>\n",
       "      <td>2224402</td>\n",
       "    </tr>\n",
       "  </tbody>\n",
       "</table>\n",
       "</div>"
      ],
      "text/plain": [
       "   Jahr  Projekte – Alle Projekte  Projekte – Wohnen Neubau  \\\n",
       "1  2008                       110                        29   \n",
       "2  2009                       106                        25   \n",
       "3  2010                       106                        25   \n",
       "4  2011                       113                        28   \n",
       "5  2012                       108                        27   \n",
       "\n",
       "   Projekte – Wohnen Umbau  Projekte – Nichtwohnen Neubau  \\\n",
       "1                       28                             23   \n",
       "2                       31                             25   \n",
       "3                       31                             21   \n",
       "4                       33                             22   \n",
       "5                       33                             20   \n",
       "\n",
       "   Projekte – Nichtwohnen Umbau  Bausumme – Alle Projekte  \\\n",
       "1                            30                   3943891   \n",
       "2                            25                   5539764   \n",
       "3                            29                   6600861   \n",
       "4                            30                   6031190   \n",
       "5                            28                   5277020   \n",
       "\n",
       "   Bausumme – Wohnen Neubau  Bausumme – Wohnen Umbau  \\\n",
       "1                   1909389                   417292   \n",
       "2                   2128477                   363247   \n",
       "3                   2580388                   511766   \n",
       "4                   2145180                   535430   \n",
       "5                   1997692                   527759   \n",
       "\n",
       "   Bausumme – Nichtwohnen Neubau  Bausumme – Nichtwohnen Umbau  \\\n",
       "1                         938757                        678453   \n",
       "2                        2216943                        831097   \n",
       "3                        2506486                       1002221   \n",
       "4                        2481579                        869001   \n",
       "5                        2098194                        653375   \n",
       "\n",
       "   Rauminhalt – Alle Projekte  Rauminhalt – Wohnen Neubau  \\\n",
       "1                     4124342                     2853327   \n",
       "2                     5580259                     2929807   \n",
       "3                     6289239                     3469382   \n",
       "4                     5646116                     3024016   \n",
       "5                     4963511                     2739109   \n",
       "\n",
       "   Rauminhalt – Nichohnen Neubau  \n",
       "1                        1271015  \n",
       "2                        2650452  \n",
       "3                        2819857  \n",
       "4                        2622100  \n",
       "5                        2224402  "
      ]
     },
     "execution_count": 29,
     "metadata": {},
     "output_type": "execute_result"
    }
   ],
   "source": [
    "# looking at cleaned data\n",
    "df_im_bau = pd.read_excel('Daten/Bauprojekte/01_Bauprojekte_im_Bau_clean.xlsx')\n",
    "df_im_bau.head()"
   ]
  },
  {
   "cell_type": "markdown",
   "metadata": {},
   "source": [
    "------"
   ]
  },
  {
   "cell_type": "markdown",
   "metadata": {},
   "source": [
    "## Alle Bauprojekte im Bau\n"
   ]
  },
  {
   "cell_type": "code",
   "execution_count": 30,
   "metadata": {},
   "outputs": [
    {
     "data": {
      "text/html": [
       "<div>\n",
       "<style scoped>\n",
       "    .dataframe tbody tr th:only-of-type {\n",
       "        vertical-align: middle;\n",
       "    }\n",
       "\n",
       "    .dataframe tbody tr th {\n",
       "        vertical-align: top;\n",
       "    }\n",
       "\n",
       "    .dataframe thead th {\n",
       "        text-align: right;\n",
       "    }\n",
       "</style>\n",
       "<table border=\"1\" class=\"dataframe\">\n",
       "  <thead>\n",
       "    <tr style=\"text-align: right;\">\n",
       "      <th></th>\n",
       "      <th>Jahr</th>\n",
       "      <th>Projekte – Alle Projekte</th>\n",
       "      <th>Projekte – Wohnen Neubau</th>\n",
       "      <th>Projekte – Wohnen Umbau</th>\n",
       "      <th>Projekte – Nichtwohnen Neubau</th>\n",
       "      <th>Projekte – Nichtwohnen Umbau</th>\n",
       "    </tr>\n",
       "  </thead>\n",
       "  <tbody>\n",
       "    <tr>\n",
       "      <th>1</th>\n",
       "      <td>2008</td>\n",
       "      <td>110</td>\n",
       "      <td>29</td>\n",
       "      <td>28</td>\n",
       "      <td>23</td>\n",
       "      <td>30</td>\n",
       "    </tr>\n",
       "    <tr>\n",
       "      <th>2</th>\n",
       "      <td>2009</td>\n",
       "      <td>106</td>\n",
       "      <td>25</td>\n",
       "      <td>31</td>\n",
       "      <td>25</td>\n",
       "      <td>25</td>\n",
       "    </tr>\n",
       "    <tr>\n",
       "      <th>3</th>\n",
       "      <td>2010</td>\n",
       "      <td>106</td>\n",
       "      <td>25</td>\n",
       "      <td>31</td>\n",
       "      <td>21</td>\n",
       "      <td>29</td>\n",
       "    </tr>\n",
       "    <tr>\n",
       "      <th>4</th>\n",
       "      <td>2011</td>\n",
       "      <td>113</td>\n",
       "      <td>28</td>\n",
       "      <td>33</td>\n",
       "      <td>22</td>\n",
       "      <td>30</td>\n",
       "    </tr>\n",
       "    <tr>\n",
       "      <th>5</th>\n",
       "      <td>2012</td>\n",
       "      <td>108</td>\n",
       "      <td>27</td>\n",
       "      <td>33</td>\n",
       "      <td>20</td>\n",
       "      <td>28</td>\n",
       "    </tr>\n",
       "    <tr>\n",
       "      <th>6</th>\n",
       "      <td>2013</td>\n",
       "      <td>109</td>\n",
       "      <td>28</td>\n",
       "      <td>30</td>\n",
       "      <td>22</td>\n",
       "      <td>29</td>\n",
       "    </tr>\n",
       "    <tr>\n",
       "      <th>7</th>\n",
       "      <td>2014</td>\n",
       "      <td>106</td>\n",
       "      <td>28</td>\n",
       "      <td>30</td>\n",
       "      <td>18</td>\n",
       "      <td>30</td>\n",
       "    </tr>\n",
       "    <tr>\n",
       "      <th>8</th>\n",
       "      <td>2015</td>\n",
       "      <td>106</td>\n",
       "      <td>28</td>\n",
       "      <td>33</td>\n",
       "      <td>17</td>\n",
       "      <td>28</td>\n",
       "    </tr>\n",
       "    <tr>\n",
       "      <th>9</th>\n",
       "      <td>2016</td>\n",
       "      <td>104</td>\n",
       "      <td>29</td>\n",
       "      <td>30</td>\n",
       "      <td>16</td>\n",
       "      <td>29</td>\n",
       "    </tr>\n",
       "    <tr>\n",
       "      <th>10</th>\n",
       "      <td>2017</td>\n",
       "      <td>106</td>\n",
       "      <td>26</td>\n",
       "      <td>30</td>\n",
       "      <td>19</td>\n",
       "      <td>31</td>\n",
       "    </tr>\n",
       "  </tbody>\n",
       "</table>\n",
       "</div>"
      ],
      "text/plain": [
       "    Jahr  Projekte – Alle Projekte  Projekte – Wohnen Neubau  \\\n",
       "1   2008                       110                        29   \n",
       "2   2009                       106                        25   \n",
       "3   2010                       106                        25   \n",
       "4   2011                       113                        28   \n",
       "5   2012                       108                        27   \n",
       "6   2013                       109                        28   \n",
       "7   2014                       106                        28   \n",
       "8   2015                       106                        28   \n",
       "9   2016                       104                        29   \n",
       "10  2017                       106                        26   \n",
       "\n",
       "    Projekte – Wohnen Umbau  Projekte – Nichtwohnen Neubau  \\\n",
       "1                        28                             23   \n",
       "2                        31                             25   \n",
       "3                        31                             21   \n",
       "4                        33                             22   \n",
       "5                        33                             20   \n",
       "6                        30                             22   \n",
       "7                        30                             18   \n",
       "8                        33                             17   \n",
       "9                        30                             16   \n",
       "10                       30                             19   \n",
       "\n",
       "    Projekte – Nichtwohnen Umbau  \n",
       "1                             30  \n",
       "2                             25  \n",
       "3                             29  \n",
       "4                             30  \n",
       "5                             28  \n",
       "6                             29  \n",
       "7                             30  \n",
       "8                             28  \n",
       "9                             29  \n",
       "10                            31  "
      ]
     },
     "execution_count": 30,
     "metadata": {},
     "output_type": "execute_result"
    }
   ],
   "source": [
    "# selecting [rows, columns]\n",
    "df_bauprojekte = df_im_bau.iloc[:, [0,1,2,3,4,5]]\n",
    "df_bauprojekte"
   ]
  },
  {
   "cell_type": "markdown",
   "metadata": {},
   "source": [
    "--------------"
   ]
  },
  {
   "cell_type": "markdown",
   "metadata": {},
   "source": [
    "### Bauprojekte im Bau nach Art im Jahr 2017"
   ]
  },
  {
   "cell_type": "code",
   "execution_count": 31,
   "metadata": {},
   "outputs": [
    {
     "data": {
      "text/html": [
       "<div>\n",
       "<style scoped>\n",
       "    .dataframe tbody tr th:only-of-type {\n",
       "        vertical-align: middle;\n",
       "    }\n",
       "\n",
       "    .dataframe tbody tr th {\n",
       "        vertical-align: top;\n",
       "    }\n",
       "\n",
       "    .dataframe thead th {\n",
       "        text-align: right;\n",
       "    }\n",
       "</style>\n",
       "<table border=\"1\" class=\"dataframe\">\n",
       "  <thead>\n",
       "    <tr style=\"text-align: right;\">\n",
       "      <th></th>\n",
       "      <th>Jahr</th>\n",
       "      <th>Projekte – Wohnen Neubau</th>\n",
       "      <th>Projekte – Wohnen Umbau</th>\n",
       "      <th>Projekte – Nichtwohnen Neubau</th>\n",
       "      <th>Projekte – Nichtwohnen Umbau</th>\n",
       "    </tr>\n",
       "  </thead>\n",
       "  <tbody>\n",
       "    <tr>\n",
       "      <th>10</th>\n",
       "      <td>2017</td>\n",
       "      <td>26</td>\n",
       "      <td>30</td>\n",
       "      <td>19</td>\n",
       "      <td>31</td>\n",
       "    </tr>\n",
       "  </tbody>\n",
       "</table>\n",
       "</div>"
      ],
      "text/plain": [
       "    Jahr  Projekte – Wohnen Neubau  Projekte – Wohnen Umbau  \\\n",
       "10  2017                        26                       30   \n",
       "\n",
       "    Projekte – Nichtwohnen Neubau  Projekte – Nichtwohnen Umbau  \n",
       "10                             19                            31  "
      ]
     },
     "execution_count": 31,
     "metadata": {},
     "output_type": "execute_result"
    }
   ],
   "source": [
    "# selecting [rows, columns]\n",
    "df_bauprojekte_2017 = df_bauprojekte.iloc[[9], [0,2,3,4,5]]\n",
    "df_bauprojekte_2017"
   ]
  },
  {
   "cell_type": "code",
   "execution_count": 32,
   "metadata": {
    "scrolled": false
   },
   "outputs": [],
   "source": [
    "# # setting index to 'Jahr' for a quick look with matplotlib\n",
    "# df_bauprojekte_2017_mtplt = df_bauprojekte_2017.set_index('Jahr')\n",
    "\n",
    "# df_bauprojekte_2017_mtplt.plot(kind='bar', figsize=(15,7))\n",
    "# plt.title('Bauprojekte im Bau nach Art 2017', {'fontsize': 18})\n",
    "# plt.xlabel('Jahr', {'fontsize': 14})\n",
    "# plt.ylabel('Anzahl', {'fontsize': 14})"
   ]
  },
  {
   "cell_type": "markdown",
   "metadata": {},
   "source": [
    " "
   ]
  },
  {
   "cell_type": "code",
   "execution_count": 33,
   "metadata": {},
   "outputs": [
    {
     "data": {
      "application/vnd.plotly.v1+json": {
       "config": {
        "linkText": "Export to plot.ly",
        "plotlyServerURL": "https://plot.ly",
        "showLink": false
       },
       "data": [
        {
         "marker": {
          "color": "#FF6839"
         },
         "name": "Wohnen Neubau",
         "type": "bar",
         "uid": "72497944-8646-4dba-857e-b1c72572f336",
         "x": [
          2017
         ],
         "y": [
          26
         ]
        },
        {
         "marker": {
          "color": "#B21310"
         },
         "name": "Wohnen Umbau",
         "type": "bar",
         "uid": "1a0d75b9-a6f8-46dc-ad09-69d69283f958",
         "x": [
          2017
         ],
         "y": [
          30
         ]
        },
        {
         "marker": {
          "color": "#2884B2"
         },
         "name": "Nichtwohnen Neubau",
         "type": "bar",
         "uid": "a532e7a3-3ed4-4b5a-910d-e88b161b6404",
         "x": [
          2017
         ],
         "y": [
          19
         ]
        },
        {
         "marker": {
          "color": "#51ADFF"
         },
         "name": "Nichtwohnen Umbau",
         "type": "bar",
         "uid": "5395ea5f-da10-4473-8c88-6f34b250b84c",
         "x": [
          2017
         ],
         "y": [
          31
         ]
        }
       ],
       "layout": {
        "bargap": 0.2,
        "bargroupgap": 0.1,
        "font": {
         "color": "#7f7f7f",
         "family": "Arial, sans-serif",
         "size": 14
        },
        "title": {
         "text": "Bauprojekte im Bau nach Art im Jahr 2017"
        },
        "xaxis": {
         "automargin": true,
         "ticklen": 10,
         "tickwidth": 1,
         "title": {
          "font": {
           "color": "#7f7f7f",
           "family": "Arial, sans-serif",
           "size": 12
          },
          "text": "Stadt Zürich"
         }
        },
        "yaxis": {
         "automargin": true,
         "exponentformat": "none",
         "nticks": 8,
         "rangemode": "tozero",
         "ticklen": 10,
         "tickwidth": 1,
         "title": {
          "font": {
           "color": "#7f7f7f",
           "family": "Arial, sans-serif",
           "size": 12
          },
          "text": "Anzahl"
         }
        }
       }
      },
      "text/html": [
       "<div id=\"b6b25cd4-7b8f-4861-84c4-bf58d0857232\" style=\"height: 525px; width: 100%;\" class=\"plotly-graph-div\"></div><script type=\"text/javascript\">require([\"plotly\"], function(Plotly) { window.PLOTLYENV=window.PLOTLYENV || {};window.PLOTLYENV.BASE_URL=\"https://plot.ly\";Plotly.newPlot(\"b6b25cd4-7b8f-4861-84c4-bf58d0857232\", [{\"marker\": {\"color\": \"#FF6839\"}, \"name\": \"Wohnen Neubau\", \"x\": [2017], \"y\": [26], \"type\": \"bar\", \"uid\": \"72497944-8646-4dba-857e-b1c72572f336\"}, {\"marker\": {\"color\": \"#B21310\"}, \"name\": \"Wohnen Umbau\", \"x\": [2017], \"y\": [30], \"type\": \"bar\", \"uid\": \"1a0d75b9-a6f8-46dc-ad09-69d69283f958\"}, {\"marker\": {\"color\": \"#2884B2\"}, \"name\": \"Nichtwohnen Neubau\", \"x\": [2017], \"y\": [19], \"type\": \"bar\", \"uid\": \"a532e7a3-3ed4-4b5a-910d-e88b161b6404\"}, {\"marker\": {\"color\": \"#51ADFF\"}, \"name\": \"Nichtwohnen Umbau\", \"x\": [2017], \"y\": [31], \"type\": \"bar\", \"uid\": \"5395ea5f-da10-4473-8c88-6f34b250b84c\"}], {\"bargap\": 0.2, \"bargroupgap\": 0.1, \"font\": {\"color\": \"#7f7f7f\", \"family\": \"Arial, sans-serif\", \"size\": 14}, \"title\": {\"text\": \"Bauprojekte im Bau nach Art im Jahr 2017\"}, \"xaxis\": {\"automargin\": true, \"ticklen\": 10, \"tickwidth\": 1, \"title\": {\"font\": {\"color\": \"#7f7f7f\", \"family\": \"Arial, sans-serif\", \"size\": 12}, \"text\": \"Stadt Z\\u00fcrich\"}}, \"yaxis\": {\"automargin\": true, \"exponentformat\": \"none\", \"nticks\": 8, \"rangemode\": \"tozero\", \"ticklen\": 10, \"tickwidth\": 1, \"title\": {\"font\": {\"color\": \"#7f7f7f\", \"family\": \"Arial, sans-serif\", \"size\": 12}, \"text\": \"Anzahl\"}}}, {\"showLink\": false, \"linkText\": \"Export to plot.ly\", \"plotlyServerURL\": \"https://plot.ly\"})});</script><script type=\"text/javascript\">window.addEventListener(\"resize\", function(){window._Plotly.Plots.resize(document.getElementById(\"b6b25cd4-7b8f-4861-84c4-bf58d0857232\"));});</script>"
      ],
      "text/vnd.plotly.v1+html": [
       "<div id=\"b6b25cd4-7b8f-4861-84c4-bf58d0857232\" style=\"height: 525px; width: 100%;\" class=\"plotly-graph-div\"></div><script type=\"text/javascript\">require([\"plotly\"], function(Plotly) { window.PLOTLYENV=window.PLOTLYENV || {};window.PLOTLYENV.BASE_URL=\"https://plot.ly\";Plotly.newPlot(\"b6b25cd4-7b8f-4861-84c4-bf58d0857232\", [{\"marker\": {\"color\": \"#FF6839\"}, \"name\": \"Wohnen Neubau\", \"x\": [2017], \"y\": [26], \"type\": \"bar\", \"uid\": \"72497944-8646-4dba-857e-b1c72572f336\"}, {\"marker\": {\"color\": \"#B21310\"}, \"name\": \"Wohnen Umbau\", \"x\": [2017], \"y\": [30], \"type\": \"bar\", \"uid\": \"1a0d75b9-a6f8-46dc-ad09-69d69283f958\"}, {\"marker\": {\"color\": \"#2884B2\"}, \"name\": \"Nichtwohnen Neubau\", \"x\": [2017], \"y\": [19], \"type\": \"bar\", \"uid\": \"a532e7a3-3ed4-4b5a-910d-e88b161b6404\"}, {\"marker\": {\"color\": \"#51ADFF\"}, \"name\": \"Nichtwohnen Umbau\", \"x\": [2017], \"y\": [31], \"type\": \"bar\", \"uid\": \"5395ea5f-da10-4473-8c88-6f34b250b84c\"}], {\"bargap\": 0.2, \"bargroupgap\": 0.1, \"font\": {\"color\": \"#7f7f7f\", \"family\": \"Arial, sans-serif\", \"size\": 14}, \"title\": {\"text\": \"Bauprojekte im Bau nach Art im Jahr 2017\"}, \"xaxis\": {\"automargin\": true, \"ticklen\": 10, \"tickwidth\": 1, \"title\": {\"font\": {\"color\": \"#7f7f7f\", \"family\": \"Arial, sans-serif\", \"size\": 12}, \"text\": \"Stadt Z\\u00fcrich\"}}, \"yaxis\": {\"automargin\": true, \"exponentformat\": \"none\", \"nticks\": 8, \"rangemode\": \"tozero\", \"ticklen\": 10, \"tickwidth\": 1, \"title\": {\"font\": {\"color\": \"#7f7f7f\", \"family\": \"Arial, sans-serif\", \"size\": 12}, \"text\": \"Anzahl\"}}}, {\"showLink\": false, \"linkText\": \"Export to plot.ly\", \"plotlyServerURL\": \"https://plot.ly\"})});</script><script type=\"text/javascript\">window.addEventListener(\"resize\", function(){window._Plotly.Plots.resize(document.getElementById(\"b6b25cd4-7b8f-4861-84c4-bf58d0857232\"));});</script>"
      ]
     },
     "metadata": {},
     "output_type": "display_data"
    }
   ],
   "source": [
    "# ploting with Plotly\n",
    "# color_palette = ['#2884B2', '#51ADFF', '#7BC1E7', '#B21310', '#FF6839']\n",
    "\n",
    "trace1 = go.Bar(\n",
    "    x=df_bauprojekte_2017['Jahr'],\n",
    "    y=df_bauprojekte_2017['Projekte – Wohnen Neubau'], \n",
    "    name=\"Wohnen Neubau\",\n",
    "    marker=dict(color='#FF6839')\n",
    ")\n",
    "trace2 = go.Bar(\n",
    "    x=df_bauprojekte_2017['Jahr'],\n",
    "    y=df_bauprojekte_2017['Projekte – Wohnen Umbau'], \n",
    "    name=\"Wohnen Umbau\",\n",
    "    marker=dict(color='#B21310')\n",
    ")\n",
    "trace3 = go.Bar(\n",
    "    x=df_bauprojekte_2017['Jahr'],\n",
    "    y=df_bauprojekte_2017['Projekte – Nichtwohnen Neubau'], \n",
    "    name=\"Nichtwohnen Neubau\",\n",
    "    marker=dict(color='#2884B2')\n",
    ")\n",
    "trace4 = go.Bar(\n",
    "    x=df_bauprojekte_2017['Jahr'],\n",
    "    y=df_bauprojekte_2017['Projekte – Nichtwohnen Umbau'], \n",
    "    name=\"Nichtwohnen Umbau\",\n",
    "    marker=dict(color='#51ADFF')\n",
    ")\n",
    "\n",
    "data = [trace1, trace2, trace3, trace4]\n",
    "\n",
    "layout = go.Layout(\n",
    "    title='Bauprojekte im Bau nach Art im Jahr 2017',\n",
    "    font=dict(family='Arial, sans-serif', size=14, color='#7f7f7f'),\n",
    "#     autosize=False,\n",
    "#     width=900,\n",
    "#     height=600,\n",
    "    bargroupgap=0.1,\n",
    "    bargap=0.2,\n",
    "\n",
    "    xaxis=dict(\n",
    "        title='Stadt Zürich',\n",
    "        titlefont=dict(family='Arial, sans-serif', size=12, color='#7f7f7f'),\n",
    "        tickwidth=1,\n",
    "        ticklen=10,\n",
    "        automargin=True,\n",
    "    ),\n",
    "    \n",
    "    yaxis=dict(\n",
    "        title='Anzahl',\n",
    "        titlefont=dict(family='Arial, sans-serif', size=12, color='#7f7f7f'),\n",
    "        rangemode='tozero',\n",
    "        nticks=8,\n",
    "        exponentformat='none',\n",
    "        tickwidth=1,\n",
    "        ticklen=10,\n",
    "        automargin=True\n",
    "    )\n",
    ")    \n",
    "    \n",
    "fig = go.Figure(data=data, layout=layout)\n",
    "pyo.iplot(fig, filename='bar2.html')"
   ]
  },
  {
   "cell_type": "markdown",
   "metadata": {},
   "source": [
    " "
   ]
  },
  {
   "cell_type": "code",
   "execution_count": 34,
   "metadata": {},
   "outputs": [
    {
     "data": {
      "application/vnd.plotly.v1+json": {
       "config": {
        "linkText": "Export to plot.ly",
        "plotlyServerURL": "https://plot.ly",
        "showLink": false
       },
       "data": [
        {
         "marker": {
          "color": "#FF6839"
         },
         "name": "Wohnen Neubau",
         "type": "bar",
         "uid": "b4c3b411-e416-4d3d-b437-25911fddf401",
         "x": [
          2017
         ],
         "y": [
          26
         ]
        },
        {
         "marker": {
          "color": "#2884B2"
         },
         "name": "Nichtwohnen Neubau",
         "type": "bar",
         "uid": "0d687929-9521-4268-8da3-116e4393859d",
         "x": [
          2017
         ],
         "y": [
          19
         ]
        }
       ],
       "layout": {
        "bargap": 0.2,
        "bargroupgap": 0.1,
        "font": {
         "color": "#7f7f7f",
         "family": "Arial, sans-serif",
         "size": 14
        },
        "title": {
         "text": "Neubauprojekte im Bau im Jahr 2017"
        },
        "xaxis": {
         "automargin": true,
         "ticklen": 10,
         "tickwidth": 1,
         "title": {
          "font": {
           "color": "#7f7f7f",
           "family": "Arial, sans-serif",
           "size": 12
          },
          "text": "Stadt Zürich"
         }
        },
        "yaxis": {
         "automargin": true,
         "exponentformat": "none",
         "nticks": 8,
         "rangemode": "tozero",
         "ticklen": 10,
         "tickwidth": 1,
         "title": {
          "font": {
           "color": "#7f7f7f",
           "family": "Arial, sans-serif",
           "size": 12
          },
          "text": "Anzahl"
         }
        }
       }
      },
      "text/html": [
       "<div id=\"3b487391-3789-4bb9-a65e-a4bd4763d270\" style=\"height: 525px; width: 100%;\" class=\"plotly-graph-div\"></div><script type=\"text/javascript\">require([\"plotly\"], function(Plotly) { window.PLOTLYENV=window.PLOTLYENV || {};window.PLOTLYENV.BASE_URL=\"https://plot.ly\";Plotly.newPlot(\"3b487391-3789-4bb9-a65e-a4bd4763d270\", [{\"marker\": {\"color\": \"#FF6839\"}, \"name\": \"Wohnen Neubau\", \"x\": [2017], \"y\": [26], \"type\": \"bar\", \"uid\": \"b4c3b411-e416-4d3d-b437-25911fddf401\"}, {\"marker\": {\"color\": \"#2884B2\"}, \"name\": \"Nichtwohnen Neubau\", \"x\": [2017], \"y\": [19], \"type\": \"bar\", \"uid\": \"0d687929-9521-4268-8da3-116e4393859d\"}], {\"bargap\": 0.2, \"bargroupgap\": 0.1, \"font\": {\"color\": \"#7f7f7f\", \"family\": \"Arial, sans-serif\", \"size\": 14}, \"title\": {\"text\": \"Neubauprojekte im Bau im Jahr 2017\"}, \"xaxis\": {\"automargin\": true, \"ticklen\": 10, \"tickwidth\": 1, \"title\": {\"font\": {\"color\": \"#7f7f7f\", \"family\": \"Arial, sans-serif\", \"size\": 12}, \"text\": \"Stadt Z\\u00fcrich\"}}, \"yaxis\": {\"automargin\": true, \"exponentformat\": \"none\", \"nticks\": 8, \"rangemode\": \"tozero\", \"ticklen\": 10, \"tickwidth\": 1, \"title\": {\"font\": {\"color\": \"#7f7f7f\", \"family\": \"Arial, sans-serif\", \"size\": 12}, \"text\": \"Anzahl\"}}}, {\"showLink\": false, \"linkText\": \"Export to plot.ly\", \"plotlyServerURL\": \"https://plot.ly\"})});</script><script type=\"text/javascript\">window.addEventListener(\"resize\", function(){window._Plotly.Plots.resize(document.getElementById(\"3b487391-3789-4bb9-a65e-a4bd4763d270\"));});</script>"
      ],
      "text/vnd.plotly.v1+html": [
       "<div id=\"3b487391-3789-4bb9-a65e-a4bd4763d270\" style=\"height: 525px; width: 100%;\" class=\"plotly-graph-div\"></div><script type=\"text/javascript\">require([\"plotly\"], function(Plotly) { window.PLOTLYENV=window.PLOTLYENV || {};window.PLOTLYENV.BASE_URL=\"https://plot.ly\";Plotly.newPlot(\"3b487391-3789-4bb9-a65e-a4bd4763d270\", [{\"marker\": {\"color\": \"#FF6839\"}, \"name\": \"Wohnen Neubau\", \"x\": [2017], \"y\": [26], \"type\": \"bar\", \"uid\": \"b4c3b411-e416-4d3d-b437-25911fddf401\"}, {\"marker\": {\"color\": \"#2884B2\"}, \"name\": \"Nichtwohnen Neubau\", \"x\": [2017], \"y\": [19], \"type\": \"bar\", \"uid\": \"0d687929-9521-4268-8da3-116e4393859d\"}], {\"bargap\": 0.2, \"bargroupgap\": 0.1, \"font\": {\"color\": \"#7f7f7f\", \"family\": \"Arial, sans-serif\", \"size\": 14}, \"title\": {\"text\": \"Neubauprojekte im Bau im Jahr 2017\"}, \"xaxis\": {\"automargin\": true, \"ticklen\": 10, \"tickwidth\": 1, \"title\": {\"font\": {\"color\": \"#7f7f7f\", \"family\": \"Arial, sans-serif\", \"size\": 12}, \"text\": \"Stadt Z\\u00fcrich\"}}, \"yaxis\": {\"automargin\": true, \"exponentformat\": \"none\", \"nticks\": 8, \"rangemode\": \"tozero\", \"ticklen\": 10, \"tickwidth\": 1, \"title\": {\"font\": {\"color\": \"#7f7f7f\", \"family\": \"Arial, sans-serif\", \"size\": 12}, \"text\": \"Anzahl\"}}}, {\"showLink\": false, \"linkText\": \"Export to plot.ly\", \"plotlyServerURL\": \"https://plot.ly\"})});</script><script type=\"text/javascript\">window.addEventListener(\"resize\", function(){window._Plotly.Plots.resize(document.getElementById(\"3b487391-3789-4bb9-a65e-a4bd4763d270\"));});</script>"
      ]
     },
     "metadata": {},
     "output_type": "display_data"
    }
   ],
   "source": [
    "# ploting with Plotly\n",
    "# color_palette = ['#2884B2', '#51ADFF', '#7BC1E7', '#B21310', '#FF6839']\n",
    "\n",
    "trace1 = go.Bar(\n",
    "    x=df_bauprojekte_2017['Jahr'],\n",
    "    y=df_bauprojekte_2017['Projekte – Wohnen Neubau'], \n",
    "    name=\"Wohnen Neubau\",\n",
    "    marker=dict(color='#FF6839')\n",
    ")\n",
    "trace2 = go.Bar(\n",
    "    x=df_bauprojekte_2017['Jahr'],\n",
    "    y=df_bauprojekte_2017['Projekte – Nichtwohnen Neubau'], \n",
    "    name=\"Nichtwohnen Neubau\",\n",
    "    marker=dict(color='#2884B2')\n",
    ")\n",
    "\n",
    "data = [trace1, trace2]\n",
    "\n",
    "layout = go.Layout(\n",
    "    title='Neubauprojekte im Bau im Jahr 2017',\n",
    "    font=dict(family='Arial, sans-serif', size=14, color='#7f7f7f'),\n",
    "#     autosize=False,\n",
    "#     width=900,\n",
    "#     height=600,\n",
    "    bargroupgap=0.1,\n",
    "    bargap=0.2,\n",
    "\n",
    "    xaxis=dict(\n",
    "        title='Stadt Zürich',\n",
    "        titlefont=dict(family='Arial, sans-serif', size=12, color='#7f7f7f'),\n",
    "        tickwidth=1,\n",
    "        ticklen=10,\n",
    "        automargin=True,\n",
    "    ),\n",
    "    \n",
    "    yaxis=dict(\n",
    "        title='Anzahl',\n",
    "        titlefont=dict(family='Arial, sans-serif', size=12, color='#7f7f7f'),\n",
    "        rangemode='tozero',\n",
    "        nticks=8,\n",
    "        exponentformat='none',\n",
    "        tickwidth=1,\n",
    "        ticklen=10,\n",
    "        automargin=True\n",
    "    )\n",
    ")    \n",
    "    \n",
    "fig = go.Figure(data=data, layout=layout)\n",
    "pyo.iplot(fig, filename='bar2.html')"
   ]
  },
  {
   "cell_type": "code",
   "execution_count": 35,
   "metadata": {},
   "outputs": [],
   "source": [
    "# exporting data to excel for further use with Ploly-online, Datawrapper or such\n",
    "df_bauprojekte_2017.to_excel('Daten/Plotly/Bauprojekte/04-01_Bauprojekte_im_Bau_2017.xlsx')"
   ]
  },
  {
   "cell_type": "markdown",
   "metadata": {},
   "source": [
    "-------"
   ]
  },
  {
   "cell_type": "markdown",
   "metadata": {},
   "source": [
    "## Bausumme aller Projekte im Bau\n"
   ]
  },
  {
   "cell_type": "markdown",
   "metadata": {},
   "source": [
    "... es folgt ein Konvertierung der Zahlen zur besseren Lesbarkeit\n",
    "* 3943891 (in 1000 Fr.) = 3.943891 Milliarden Franken\n"
   ]
  },
  {
   "cell_type": "code",
   "execution_count": 36,
   "metadata": {},
   "outputs": [
    {
     "data": {
      "text/html": [
       "<div>\n",
       "<style scoped>\n",
       "    .dataframe tbody tr th:only-of-type {\n",
       "        vertical-align: middle;\n",
       "    }\n",
       "\n",
       "    .dataframe tbody tr th {\n",
       "        vertical-align: top;\n",
       "    }\n",
       "\n",
       "    .dataframe thead th {\n",
       "        text-align: right;\n",
       "    }\n",
       "</style>\n",
       "<table border=\"1\" class=\"dataframe\">\n",
       "  <thead>\n",
       "    <tr style=\"text-align: right;\">\n",
       "      <th></th>\n",
       "      <th>Jahr</th>\n",
       "      <th>Bausumme – Alle Projekte</th>\n",
       "      <th>Bausumme – Wohnen Neubau</th>\n",
       "      <th>Bausumme – Wohnen Umbau</th>\n",
       "      <th>Bausumme – Nichtwohnen Neubau</th>\n",
       "      <th>Bausumme – Nichtwohnen Umbau</th>\n",
       "    </tr>\n",
       "  </thead>\n",
       "  <tbody>\n",
       "    <tr>\n",
       "      <th>1</th>\n",
       "      <td>2008</td>\n",
       "      <td>3943891</td>\n",
       "      <td>1909389</td>\n",
       "      <td>417292</td>\n",
       "      <td>938757</td>\n",
       "      <td>678453</td>\n",
       "    </tr>\n",
       "    <tr>\n",
       "      <th>2</th>\n",
       "      <td>2009</td>\n",
       "      <td>5539764</td>\n",
       "      <td>2128477</td>\n",
       "      <td>363247</td>\n",
       "      <td>2216943</td>\n",
       "      <td>831097</td>\n",
       "    </tr>\n",
       "    <tr>\n",
       "      <th>3</th>\n",
       "      <td>2010</td>\n",
       "      <td>6600861</td>\n",
       "      <td>2580388</td>\n",
       "      <td>511766</td>\n",
       "      <td>2506486</td>\n",
       "      <td>1002221</td>\n",
       "    </tr>\n",
       "    <tr>\n",
       "      <th>4</th>\n",
       "      <td>2011</td>\n",
       "      <td>6031190</td>\n",
       "      <td>2145180</td>\n",
       "      <td>535430</td>\n",
       "      <td>2481579</td>\n",
       "      <td>869001</td>\n",
       "    </tr>\n",
       "    <tr>\n",
       "      <th>5</th>\n",
       "      <td>2012</td>\n",
       "      <td>5277020</td>\n",
       "      <td>1997692</td>\n",
       "      <td>527759</td>\n",
       "      <td>2098194</td>\n",
       "      <td>653375</td>\n",
       "    </tr>\n",
       "  </tbody>\n",
       "</table>\n",
       "</div>"
      ],
      "text/plain": [
       "   Jahr  Bausumme – Alle Projekte  Bausumme – Wohnen Neubau  \\\n",
       "1  2008                   3943891                   1909389   \n",
       "2  2009                   5539764                   2128477   \n",
       "3  2010                   6600861                   2580388   \n",
       "4  2011                   6031190                   2145180   \n",
       "5  2012                   5277020                   1997692   \n",
       "\n",
       "   Bausumme – Wohnen Umbau  Bausumme – Nichtwohnen Neubau  \\\n",
       "1                   417292                         938757   \n",
       "2                   363247                        2216943   \n",
       "3                   511766                        2506486   \n",
       "4                   535430                        2481579   \n",
       "5                   527759                        2098194   \n",
       "\n",
       "   Bausumme – Nichtwohnen Umbau  \n",
       "1                        678453  \n",
       "2                        831097  \n",
       "3                       1002221  \n",
       "4                        869001  \n",
       "5                        653375  "
      ]
     },
     "execution_count": 36,
     "metadata": {},
     "output_type": "execute_result"
    }
   ],
   "source": [
    "# selecting [rows, columns]\n",
    "df_bausumme = df_im_bau.iloc[:, [0,6,7,8,9,10]]\n",
    "df_bausumme.head()"
   ]
  },
  {
   "cell_type": "code",
   "execution_count": 37,
   "metadata": {},
   "outputs": [
    {
     "data": {
      "text/html": [
       "<div>\n",
       "<style scoped>\n",
       "    .dataframe tbody tr th:only-of-type {\n",
       "        vertical-align: middle;\n",
       "    }\n",
       "\n",
       "    .dataframe tbody tr th {\n",
       "        vertical-align: top;\n",
       "    }\n",
       "\n",
       "    .dataframe thead th {\n",
       "        text-align: right;\n",
       "    }\n",
       "</style>\n",
       "<table border=\"1\" class=\"dataframe\">\n",
       "  <thead>\n",
       "    <tr style=\"text-align: right;\">\n",
       "      <th></th>\n",
       "      <th>Bausumme – Alle Projekte</th>\n",
       "      <th>Bausumme – Wohnen Neubau</th>\n",
       "      <th>Bausumme – Wohnen Umbau</th>\n",
       "      <th>Bausumme – Nichtwohnen Neubau</th>\n",
       "      <th>Bausumme – Nichtwohnen Umbau</th>\n",
       "    </tr>\n",
       "    <tr>\n",
       "      <th>Jahr</th>\n",
       "      <th></th>\n",
       "      <th></th>\n",
       "      <th></th>\n",
       "      <th></th>\n",
       "      <th></th>\n",
       "    </tr>\n",
       "  </thead>\n",
       "  <tbody>\n",
       "    <tr>\n",
       "      <th>2008</th>\n",
       "      <td>3943891</td>\n",
       "      <td>1909389</td>\n",
       "      <td>417292</td>\n",
       "      <td>938757</td>\n",
       "      <td>678453</td>\n",
       "    </tr>\n",
       "    <tr>\n",
       "      <th>2009</th>\n",
       "      <td>5539764</td>\n",
       "      <td>2128477</td>\n",
       "      <td>363247</td>\n",
       "      <td>2216943</td>\n",
       "      <td>831097</td>\n",
       "    </tr>\n",
       "    <tr>\n",
       "      <th>2010</th>\n",
       "      <td>6600861</td>\n",
       "      <td>2580388</td>\n",
       "      <td>511766</td>\n",
       "      <td>2506486</td>\n",
       "      <td>1002221</td>\n",
       "    </tr>\n",
       "    <tr>\n",
       "      <th>2011</th>\n",
       "      <td>6031190</td>\n",
       "      <td>2145180</td>\n",
       "      <td>535430</td>\n",
       "      <td>2481579</td>\n",
       "      <td>869001</td>\n",
       "    </tr>\n",
       "    <tr>\n",
       "      <th>2012</th>\n",
       "      <td>5277020</td>\n",
       "      <td>1997692</td>\n",
       "      <td>527759</td>\n",
       "      <td>2098194</td>\n",
       "      <td>653375</td>\n",
       "    </tr>\n",
       "  </tbody>\n",
       "</table>\n",
       "</div>"
      ],
      "text/plain": [
       "      Bausumme – Alle Projekte  Bausumme – Wohnen Neubau  \\\n",
       "Jahr                                                       \n",
       "2008                   3943891                   1909389   \n",
       "2009                   5539764                   2128477   \n",
       "2010                   6600861                   2580388   \n",
       "2011                   6031190                   2145180   \n",
       "2012                   5277020                   1997692   \n",
       "\n",
       "      Bausumme – Wohnen Umbau  Bausumme – Nichtwohnen Neubau  \\\n",
       "Jahr                                                           \n",
       "2008                   417292                         938757   \n",
       "2009                   363247                        2216943   \n",
       "2010                   511766                        2506486   \n",
       "2011                   535430                        2481579   \n",
       "2012                   527759                        2098194   \n",
       "\n",
       "      Bausumme – Nichtwohnen Umbau  \n",
       "Jahr                                \n",
       "2008                        678453  \n",
       "2009                        831097  \n",
       "2010                       1002221  \n",
       "2011                        869001  \n",
       "2012                        653375  "
      ]
     },
     "execution_count": 37,
     "metadata": {},
     "output_type": "execute_result"
    }
   ],
   "source": [
    "# setting index to column 'Jahr' for following conversion to \"Milliarden mit Nachkommastellen\"\n",
    "df_bausumme = df_bausumme.set_index('Jahr')\n",
    "df_bausumme.head()"
   ]
  },
  {
   "cell_type": "code",
   "execution_count": 38,
   "metadata": {},
   "outputs": [
    {
     "data": {
      "text/html": [
       "<div>\n",
       "<style scoped>\n",
       "    .dataframe tbody tr th:only-of-type {\n",
       "        vertical-align: middle;\n",
       "    }\n",
       "\n",
       "    .dataframe tbody tr th {\n",
       "        vertical-align: top;\n",
       "    }\n",
       "\n",
       "    .dataframe thead th {\n",
       "        text-align: right;\n",
       "    }\n",
       "</style>\n",
       "<table border=\"1\" class=\"dataframe\">\n",
       "  <thead>\n",
       "    <tr style=\"text-align: right;\">\n",
       "      <th></th>\n",
       "      <th>Bausumme – Alle Projekte</th>\n",
       "      <th>Bausumme – Wohnen Neubau</th>\n",
       "      <th>Bausumme – Wohnen Umbau</th>\n",
       "      <th>Bausumme – Nichtwohnen Neubau</th>\n",
       "      <th>Bausumme – Nichtwohnen Umbau</th>\n",
       "    </tr>\n",
       "    <tr>\n",
       "      <th>Jahr</th>\n",
       "      <th></th>\n",
       "      <th></th>\n",
       "      <th></th>\n",
       "      <th></th>\n",
       "      <th></th>\n",
       "    </tr>\n",
       "  </thead>\n",
       "  <tbody>\n",
       "    <tr>\n",
       "      <th>2008</th>\n",
       "      <td>3.943891</td>\n",
       "      <td>1.909389</td>\n",
       "      <td>0.417292</td>\n",
       "      <td>0.938757</td>\n",
       "      <td>0.678453</td>\n",
       "    </tr>\n",
       "    <tr>\n",
       "      <th>2009</th>\n",
       "      <td>5.539764</td>\n",
       "      <td>2.128477</td>\n",
       "      <td>0.363247</td>\n",
       "      <td>2.216943</td>\n",
       "      <td>0.831097</td>\n",
       "    </tr>\n",
       "    <tr>\n",
       "      <th>2010</th>\n",
       "      <td>6.600861</td>\n",
       "      <td>2.580388</td>\n",
       "      <td>0.511766</td>\n",
       "      <td>2.506486</td>\n",
       "      <td>1.002221</td>\n",
       "    </tr>\n",
       "    <tr>\n",
       "      <th>2011</th>\n",
       "      <td>6.031190</td>\n",
       "      <td>2.145180</td>\n",
       "      <td>0.535430</td>\n",
       "      <td>2.481579</td>\n",
       "      <td>0.869001</td>\n",
       "    </tr>\n",
       "    <tr>\n",
       "      <th>2012</th>\n",
       "      <td>5.277020</td>\n",
       "      <td>1.997692</td>\n",
       "      <td>0.527759</td>\n",
       "      <td>2.098194</td>\n",
       "      <td>0.653375</td>\n",
       "    </tr>\n",
       "  </tbody>\n",
       "</table>\n",
       "</div>"
      ],
      "text/plain": [
       "      Bausumme – Alle Projekte  Bausumme – Wohnen Neubau  \\\n",
       "Jahr                                                       \n",
       "2008                  3.943891                  1.909389   \n",
       "2009                  5.539764                  2.128477   \n",
       "2010                  6.600861                  2.580388   \n",
       "2011                  6.031190                  2.145180   \n",
       "2012                  5.277020                  1.997692   \n",
       "\n",
       "      Bausumme – Wohnen Umbau  Bausumme – Nichtwohnen Neubau  \\\n",
       "Jahr                                                           \n",
       "2008                 0.417292                       0.938757   \n",
       "2009                 0.363247                       2.216943   \n",
       "2010                 0.511766                       2.506486   \n",
       "2011                 0.535430                       2.481579   \n",
       "2012                 0.527759                       2.098194   \n",
       "\n",
       "      Bausumme – Nichtwohnen Umbau  \n",
       "Jahr                                \n",
       "2008                      0.678453  \n",
       "2009                      0.831097  \n",
       "2010                      1.002221  \n",
       "2011                      0.869001  \n",
       "2012                      0.653375  "
      ]
     },
     "execution_count": 38,
     "metadata": {},
     "output_type": "execute_result"
    }
   ],
   "source": [
    "# conversion of data to \"Milliarden mit Nachkommastellen\"\n",
    "df_bausumme = df_bausumme.apply(lambda x: x/1000000)\n",
    "df_bausumme.head()"
   ]
  },
  {
   "cell_type": "code",
   "execution_count": 39,
   "metadata": {},
   "outputs": [
    {
     "data": {
      "text/plain": [
       "Bausumme – Alle Projekte         float64\n",
       "Bausumme – Wohnen Neubau         float64\n",
       "Bausumme – Wohnen Umbau          float64\n",
       "Bausumme – Nichtwohnen Neubau    float64\n",
       "Bausumme – Nichtwohnen Umbau     float64\n",
       "dtype: object"
      ]
     },
     "execution_count": 39,
     "metadata": {},
     "output_type": "execute_result"
    }
   ],
   "source": [
    "# looking at type of data\n",
    "df_bausumme.dtypes"
   ]
  },
  {
   "cell_type": "code",
   "execution_count": 40,
   "metadata": {},
   "outputs": [
    {
     "data": {
      "text/html": [
       "<div>\n",
       "<style scoped>\n",
       "    .dataframe tbody tr th:only-of-type {\n",
       "        vertical-align: middle;\n",
       "    }\n",
       "\n",
       "    .dataframe tbody tr th {\n",
       "        vertical-align: top;\n",
       "    }\n",
       "\n",
       "    .dataframe thead th {\n",
       "        text-align: right;\n",
       "    }\n",
       "</style>\n",
       "<table border=\"1\" class=\"dataframe\">\n",
       "  <thead>\n",
       "    <tr style=\"text-align: right;\">\n",
       "      <th></th>\n",
       "      <th>Jahr</th>\n",
       "      <th>Bausumme – Alle Projekte</th>\n",
       "      <th>Bausumme – Wohnen Neubau</th>\n",
       "      <th>Bausumme – Wohnen Umbau</th>\n",
       "      <th>Bausumme – Nichtwohnen Neubau</th>\n",
       "      <th>Bausumme – Nichtwohnen Umbau</th>\n",
       "    </tr>\n",
       "  </thead>\n",
       "  <tbody>\n",
       "    <tr>\n",
       "      <th>0</th>\n",
       "      <td>2008</td>\n",
       "      <td>3.943891</td>\n",
       "      <td>1.909389</td>\n",
       "      <td>0.417292</td>\n",
       "      <td>0.938757</td>\n",
       "      <td>0.678453</td>\n",
       "    </tr>\n",
       "    <tr>\n",
       "      <th>1</th>\n",
       "      <td>2009</td>\n",
       "      <td>5.539764</td>\n",
       "      <td>2.128477</td>\n",
       "      <td>0.363247</td>\n",
       "      <td>2.216943</td>\n",
       "      <td>0.831097</td>\n",
       "    </tr>\n",
       "    <tr>\n",
       "      <th>2</th>\n",
       "      <td>2010</td>\n",
       "      <td>6.600861</td>\n",
       "      <td>2.580388</td>\n",
       "      <td>0.511766</td>\n",
       "      <td>2.506486</td>\n",
       "      <td>1.002221</td>\n",
       "    </tr>\n",
       "    <tr>\n",
       "      <th>3</th>\n",
       "      <td>2011</td>\n",
       "      <td>6.031190</td>\n",
       "      <td>2.145180</td>\n",
       "      <td>0.535430</td>\n",
       "      <td>2.481579</td>\n",
       "      <td>0.869001</td>\n",
       "    </tr>\n",
       "    <tr>\n",
       "      <th>4</th>\n",
       "      <td>2012</td>\n",
       "      <td>5.277020</td>\n",
       "      <td>1.997692</td>\n",
       "      <td>0.527759</td>\n",
       "      <td>2.098194</td>\n",
       "      <td>0.653375</td>\n",
       "    </tr>\n",
       "  </tbody>\n",
       "</table>\n",
       "</div>"
      ],
      "text/plain": [
       "   Jahr  Bausumme – Alle Projekte  Bausumme – Wohnen Neubau  \\\n",
       "0  2008                  3.943891                  1.909389   \n",
       "1  2009                  5.539764                  2.128477   \n",
       "2  2010                  6.600861                  2.580388   \n",
       "3  2011                  6.031190                  2.145180   \n",
       "4  2012                  5.277020                  1.997692   \n",
       "\n",
       "   Bausumme – Wohnen Umbau  Bausumme – Nichtwohnen Neubau  \\\n",
       "0                 0.417292                       0.938757   \n",
       "1                 0.363247                       2.216943   \n",
       "2                 0.511766                       2.506486   \n",
       "3                 0.535430                       2.481579   \n",
       "4                 0.527759                       2.098194   \n",
       "\n",
       "   Bausumme – Nichtwohnen Umbau  \n",
       "0                      0.678453  \n",
       "1                      0.831097  \n",
       "2                      1.002221  \n",
       "3                      0.869001  \n",
       "4                      0.653375  "
      ]
     },
     "execution_count": 40,
     "metadata": {},
     "output_type": "execute_result"
    }
   ],
   "source": [
    "# reseting index to default\n",
    "df_bausumme.reset_index(inplace=True)\n",
    "df_bausumme.head()"
   ]
  },
  {
   "cell_type": "code",
   "execution_count": 41,
   "metadata": {},
   "outputs": [
    {
     "data": {
      "text/plain": [
       "Jahr                               int64\n",
       "Bausumme – Alle Projekte         float64\n",
       "Bausumme – Wohnen Neubau         float64\n",
       "Bausumme – Wohnen Umbau          float64\n",
       "Bausumme – Nichtwohnen Neubau    float64\n",
       "Bausumme – Nichtwohnen Umbau     float64\n",
       "dtype: object"
      ]
     },
     "execution_count": 41,
     "metadata": {},
     "output_type": "execute_result"
    }
   ],
   "source": [
    "# data type is ok\n",
    "df_bausumme.dtypes"
   ]
  },
  {
   "cell_type": "markdown",
   "metadata": {},
   "source": [
    "---------"
   ]
  },
  {
   "cell_type": "markdown",
   "metadata": {},
   "source": [
    "### Bausumme aller Projekte im Bau von 2008 bis 2017"
   ]
  },
  {
   "cell_type": "code",
   "execution_count": 42,
   "metadata": {},
   "outputs": [
    {
     "data": {
      "text/html": [
       "<div>\n",
       "<style scoped>\n",
       "    .dataframe tbody tr th:only-of-type {\n",
       "        vertical-align: middle;\n",
       "    }\n",
       "\n",
       "    .dataframe tbody tr th {\n",
       "        vertical-align: top;\n",
       "    }\n",
       "\n",
       "    .dataframe thead th {\n",
       "        text-align: right;\n",
       "    }\n",
       "</style>\n",
       "<table border=\"1\" class=\"dataframe\">\n",
       "  <thead>\n",
       "    <tr style=\"text-align: right;\">\n",
       "      <th></th>\n",
       "      <th>Jahr</th>\n",
       "      <th>Bausumme – Alle Projekte</th>\n",
       "    </tr>\n",
       "  </thead>\n",
       "  <tbody>\n",
       "    <tr>\n",
       "      <th>0</th>\n",
       "      <td>2008</td>\n",
       "      <td>3.943891</td>\n",
       "    </tr>\n",
       "    <tr>\n",
       "      <th>1</th>\n",
       "      <td>2009</td>\n",
       "      <td>5.539764</td>\n",
       "    </tr>\n",
       "    <tr>\n",
       "      <th>2</th>\n",
       "      <td>2010</td>\n",
       "      <td>6.600861</td>\n",
       "    </tr>\n",
       "    <tr>\n",
       "      <th>3</th>\n",
       "      <td>2011</td>\n",
       "      <td>6.031190</td>\n",
       "    </tr>\n",
       "    <tr>\n",
       "      <th>4</th>\n",
       "      <td>2012</td>\n",
       "      <td>5.277020</td>\n",
       "    </tr>\n",
       "    <tr>\n",
       "      <th>5</th>\n",
       "      <td>2013</td>\n",
       "      <td>6.451551</td>\n",
       "    </tr>\n",
       "    <tr>\n",
       "      <th>6</th>\n",
       "      <td>2014</td>\n",
       "      <td>7.268512</td>\n",
       "    </tr>\n",
       "    <tr>\n",
       "      <th>7</th>\n",
       "      <td>2015</td>\n",
       "      <td>6.496121</td>\n",
       "    </tr>\n",
       "    <tr>\n",
       "      <th>8</th>\n",
       "      <td>2016</td>\n",
       "      <td>6.862720</td>\n",
       "    </tr>\n",
       "    <tr>\n",
       "      <th>9</th>\n",
       "      <td>2017</td>\n",
       "      <td>7.142467</td>\n",
       "    </tr>\n",
       "  </tbody>\n",
       "</table>\n",
       "</div>"
      ],
      "text/plain": [
       "   Jahr  Bausumme – Alle Projekte\n",
       "0  2008                  3.943891\n",
       "1  2009                  5.539764\n",
       "2  2010                  6.600861\n",
       "3  2011                  6.031190\n",
       "4  2012                  5.277020\n",
       "5  2013                  6.451551\n",
       "6  2014                  7.268512\n",
       "7  2015                  6.496121\n",
       "8  2016                  6.862720\n",
       "9  2017                  7.142467"
      ]
     },
     "execution_count": 42,
     "metadata": {},
     "output_type": "execute_result"
    }
   ],
   "source": [
    "# Bausumme alle Projekte von 2008 bis 2017\n",
    "df_bausumme_alle = df_bausumme.iloc[:, [0,1]]\n",
    "df_bausumme_alle"
   ]
  },
  {
   "cell_type": "code",
   "execution_count": 43,
   "metadata": {},
   "outputs": [
    {
     "data": {
      "text/plain": [
       "Text(0, 0.5, 'Milliarden Franken')"
      ]
     },
     "execution_count": 43,
     "metadata": {},
     "output_type": "execute_result"
    },
    {
     "data": {
      "image/png": "[encoded data removed]",
      "text/plain": [
       "<Figure size 1080x504 with 1 Axes>"
      ]
     },
     "metadata": {
      "needs_background": "light"
     },
     "output_type": "display_data"
    }
   ],
   "source": [
    "# having a quick look with matplotlib\n",
    "df_bausumme_alle.plot(x='Jahr', y='Bausumme – Alle Projekte', figsize=(15,7))\n",
    "plt.title('Bausumme aller Projekte im Bau von 2008 bis 2017', {'fontsize': 18})\n",
    "plt.xlabel('Jahr', {'fontsize': 14})\n",
    "plt.ylabel('Milliarden Franken', {'fontsize': 14})"
   ]
  },
  {
   "cell_type": "markdown",
   "metadata": {},
   "source": [
    "---------"
   ]
  },
  {
   "cell_type": "markdown",
   "metadata": {},
   "source": [
    "### Bausumme der Projekte im Bau nach Art von 2008 bis 2017"
   ]
  },
  {
   "cell_type": "code",
   "execution_count": 44,
   "metadata": {},
   "outputs": [
    {
     "data": {
      "text/html": [
       "<div>\n",
       "<style scoped>\n",
       "    .dataframe tbody tr th:only-of-type {\n",
       "        vertical-align: middle;\n",
       "    }\n",
       "\n",
       "    .dataframe tbody tr th {\n",
       "        vertical-align: top;\n",
       "    }\n",
       "\n",
       "    .dataframe thead th {\n",
       "        text-align: right;\n",
       "    }\n",
       "</style>\n",
       "<table border=\"1\" class=\"dataframe\">\n",
       "  <thead>\n",
       "    <tr style=\"text-align: right;\">\n",
       "      <th></th>\n",
       "      <th>Jahr</th>\n",
       "      <th>Bausumme – Wohnen Neubau</th>\n",
       "      <th>Bausumme – Wohnen Umbau</th>\n",
       "      <th>Bausumme – Nichtwohnen Neubau</th>\n",
       "      <th>Bausumme – Nichtwohnen Umbau</th>\n",
       "    </tr>\n",
       "  </thead>\n",
       "  <tbody>\n",
       "    <tr>\n",
       "      <th>0</th>\n",
       "      <td>2008</td>\n",
       "      <td>1.909389</td>\n",
       "      <td>0.417292</td>\n",
       "      <td>0.938757</td>\n",
       "      <td>0.678453</td>\n",
       "    </tr>\n",
       "    <tr>\n",
       "      <th>1</th>\n",
       "      <td>2009</td>\n",
       "      <td>2.128477</td>\n",
       "      <td>0.363247</td>\n",
       "      <td>2.216943</td>\n",
       "      <td>0.831097</td>\n",
       "    </tr>\n",
       "    <tr>\n",
       "      <th>2</th>\n",
       "      <td>2010</td>\n",
       "      <td>2.580388</td>\n",
       "      <td>0.511766</td>\n",
       "      <td>2.506486</td>\n",
       "      <td>1.002221</td>\n",
       "    </tr>\n",
       "    <tr>\n",
       "      <th>3</th>\n",
       "      <td>2011</td>\n",
       "      <td>2.145180</td>\n",
       "      <td>0.535430</td>\n",
       "      <td>2.481579</td>\n",
       "      <td>0.869001</td>\n",
       "    </tr>\n",
       "    <tr>\n",
       "      <th>4</th>\n",
       "      <td>2012</td>\n",
       "      <td>1.997692</td>\n",
       "      <td>0.527759</td>\n",
       "      <td>2.098194</td>\n",
       "      <td>0.653375</td>\n",
       "    </tr>\n",
       "    <tr>\n",
       "      <th>5</th>\n",
       "      <td>2013</td>\n",
       "      <td>2.499811</td>\n",
       "      <td>0.541902</td>\n",
       "      <td>2.254465</td>\n",
       "      <td>1.155373</td>\n",
       "    </tr>\n",
       "    <tr>\n",
       "      <th>6</th>\n",
       "      <td>2014</td>\n",
       "      <td>2.792521</td>\n",
       "      <td>0.471165</td>\n",
       "      <td>2.344397</td>\n",
       "      <td>1.660429</td>\n",
       "    </tr>\n",
       "    <tr>\n",
       "      <th>7</th>\n",
       "      <td>2015</td>\n",
       "      <td>2.501008</td>\n",
       "      <td>0.665223</td>\n",
       "      <td>2.192560</td>\n",
       "      <td>1.137330</td>\n",
       "    </tr>\n",
       "    <tr>\n",
       "      <th>8</th>\n",
       "      <td>2016</td>\n",
       "      <td>2.628874</td>\n",
       "      <td>0.471349</td>\n",
       "      <td>2.299377</td>\n",
       "      <td>1.463120</td>\n",
       "    </tr>\n",
       "    <tr>\n",
       "      <th>9</th>\n",
       "      <td>2017</td>\n",
       "      <td>2.744443</td>\n",
       "      <td>0.413530</td>\n",
       "      <td>2.215230</td>\n",
       "      <td>1.769264</td>\n",
       "    </tr>\n",
       "  </tbody>\n",
       "</table>\n",
       "</div>"
      ],
      "text/plain": [
       "   Jahr  Bausumme – Wohnen Neubau  Bausumme – Wohnen Umbau  \\\n",
       "0  2008                  1.909389                 0.417292   \n",
       "1  2009                  2.128477                 0.363247   \n",
       "2  2010                  2.580388                 0.511766   \n",
       "3  2011                  2.145180                 0.535430   \n",
       "4  2012                  1.997692                 0.527759   \n",
       "5  2013                  2.499811                 0.541902   \n",
       "6  2014                  2.792521                 0.471165   \n",
       "7  2015                  2.501008                 0.665223   \n",
       "8  2016                  2.628874                 0.471349   \n",
       "9  2017                  2.744443                 0.413530   \n",
       "\n",
       "   Bausumme – Nichtwohnen Neubau  Bausumme – Nichtwohnen Umbau  \n",
       "0                       0.938757                      0.678453  \n",
       "1                       2.216943                      0.831097  \n",
       "2                       2.506486                      1.002221  \n",
       "3                       2.481579                      0.869001  \n",
       "4                       2.098194                      0.653375  \n",
       "5                       2.254465                      1.155373  \n",
       "6                       2.344397                      1.660429  \n",
       "7                       2.192560                      1.137330  \n",
       "8                       2.299377                      1.463120  \n",
       "9                       2.215230                      1.769264  "
      ]
     },
     "execution_count": 44,
     "metadata": {},
     "output_type": "execute_result"
    }
   ],
   "source": [
    "# # selecting [rows, columns]\n",
    "df_bausumme_0817 = df_bausumme.iloc[:, [0,2,3,4,5]]\n",
    "df_bausumme_0817"
   ]
  },
  {
   "cell_type": "code",
   "execution_count": 45,
   "metadata": {
    "scrolled": false
   },
   "outputs": [
    {
     "data": {
      "text/plain": [
       "Text(0, 0.5, 'Milliarden Franken')"
      ]
     },
     "execution_count": 45,
     "metadata": {},
     "output_type": "execute_result"
    },
    {
     "data": {
      "image/png": "[encoded data removed]",
      "text/plain": [
       "<Figure size 1080x504 with 1 Axes>"
      ]
     },
     "metadata": {
      "needs_background": "light"
     },
     "output_type": "display_data"
    }
   ],
   "source": [
    "# setting index to 'Jahr' for a quick look with matplotlib\n",
    "df_bausumme_0817 = df_bausumme_0817.set_index('Jahr')\n",
    "df_bausumme_0817.plot(kind='bar', figsize=(15,7))\n",
    "plt.title('Bausumme der Projekte im Bau nach Art von 2008 bis 2017', {'fontsize': 18})\n",
    "plt.xlabel('Jahr', {'fontsize': 14})\n",
    "plt.ylabel('Milliarden Franken', {'fontsize': 14})"
   ]
  },
  {
   "cell_type": "markdown",
   "metadata": {},
   "source": [
    "------------"
   ]
  },
  {
   "cell_type": "markdown",
   "metadata": {},
   "source": [
    "### Bausumme der Projekte im Bau nach Art im Jahr 2017"
   ]
  },
  {
   "cell_type": "code",
   "execution_count": 46,
   "metadata": {},
   "outputs": [
    {
     "data": {
      "text/html": [
       "<div>\n",
       "<style scoped>\n",
       "    .dataframe tbody tr th:only-of-type {\n",
       "        vertical-align: middle;\n",
       "    }\n",
       "\n",
       "    .dataframe tbody tr th {\n",
       "        vertical-align: top;\n",
       "    }\n",
       "\n",
       "    .dataframe thead th {\n",
       "        text-align: right;\n",
       "    }\n",
       "</style>\n",
       "<table border=\"1\" class=\"dataframe\">\n",
       "  <thead>\n",
       "    <tr style=\"text-align: right;\">\n",
       "      <th></th>\n",
       "      <th>Jahr</th>\n",
       "      <th>Bausumme – Wohnen Neubau</th>\n",
       "      <th>Bausumme – Wohnen Umbau</th>\n",
       "      <th>Bausumme – Nichtwohnen Neubau</th>\n",
       "      <th>Bausumme – Nichtwohnen Umbau</th>\n",
       "    </tr>\n",
       "  </thead>\n",
       "  <tbody>\n",
       "    <tr>\n",
       "      <th>9</th>\n",
       "      <td>2017</td>\n",
       "      <td>2.744443</td>\n",
       "      <td>0.41353</td>\n",
       "      <td>2.21523</td>\n",
       "      <td>1.769264</td>\n",
       "    </tr>\n",
       "  </tbody>\n",
       "</table>\n",
       "</div>"
      ],
      "text/plain": [
       "   Jahr  Bausumme – Wohnen Neubau  Bausumme – Wohnen Umbau  \\\n",
       "9  2017                  2.744443                  0.41353   \n",
       "\n",
       "   Bausumme – Nichtwohnen Neubau  Bausumme – Nichtwohnen Umbau  \n",
       "9                        2.21523                      1.769264  "
      ]
     },
     "execution_count": 46,
     "metadata": {},
     "output_type": "execute_result"
    }
   ],
   "source": [
    "# # selecting [rows, columns]\n",
    "df_bausumme_2017 = df_bausumme.iloc[[9], [0,2,3,4,5]]\n",
    "df_bausumme_2017"
   ]
  },
  {
   "cell_type": "code",
   "execution_count": 47,
   "metadata": {
    "scrolled": false
   },
   "outputs": [],
   "source": [
    "# # setting index to 'Jahr' for a quick look with matplotlib\n",
    "# df_bausumme_2017_mtplt = df_bausumme_2017.set_index('Jahr')\n",
    "# df_bausumme_2017_mtplt.plot(kind='bar', figsize=(15,7))\n",
    "# plt.title('Bausumme der Projekte im Bau nach Art im Jahr 2017', {'fontsize': 18})\n",
    "# plt.xlabel('Jahr', {'fontsize': 14})\n",
    "# plt.ylabel('Milliarden Franken', {'fontsize': 14})"
   ]
  },
  {
   "cell_type": "code",
   "execution_count": 48,
   "metadata": {},
   "outputs": [
    {
     "data": {
      "application/vnd.plotly.v1+json": {
       "config": {
        "linkText": "Export to plot.ly",
        "plotlyServerURL": "https://plot.ly",
        "showLink": false
       },
       "data": [
        {
         "marker": {
          "color": "#FF6839"
         },
         "name": "Wohnen Neubau",
         "type": "bar",
         "uid": "8992a772-f781-4162-9498-bd2711a0d717",
         "x": [
          2017
         ],
         "y": [
          2.744443
         ]
        },
        {
         "marker": {
          "color": "#B21310"
         },
         "name": "Wohnen Umbau",
         "type": "bar",
         "uid": "7ca59acc-6d1b-4ec9-a5a3-f62843f67047",
         "x": [
          2017
         ],
         "y": [
          0.41353
         ]
        },
        {
         "marker": {
          "color": "#2884B2"
         },
         "name": "Nichtwohnen Neubau",
         "type": "bar",
         "uid": "e412e0e2-f068-4db3-971c-61075e03162a",
         "x": [
          2017
         ],
         "y": [
          2.21523
         ]
        },
        {
         "marker": {
          "color": "#51ADFF"
         },
         "name": "Nichtwohnen Umbau",
         "type": "bar",
         "uid": "f7291bbf-8d6c-42c1-a74f-e4cbe38b638b",
         "x": [
          2017
         ],
         "y": [
          1.769264
         ]
        }
       ],
       "layout": {
        "bargap": 0.2,
        "bargroupgap": 0.1,
        "font": {
         "color": "#7f7f7f",
         "family": "Arial, sans-serif",
         "size": 14
        },
        "title": {
         "text": "Bausumme der Projekte im Bau nach Art 2017"
        },
        "xaxis": {
         "automargin": true,
         "ticklen": 10,
         "tickwidth": 1,
         "title": {
          "font": {
           "color": "#7f7f7f",
           "family": "Arial, sans-serif",
           "size": 12
          },
          "text": "Stadt Zürich"
         }
        },
        "yaxis": {
         "automargin": true,
         "exponentformat": "none",
         "nticks": 8,
         "rangemode": "tozero",
         "ticklen": 10,
         "tickwidth": 1,
         "title": {
          "font": {
           "color": "#7f7f7f",
           "family": "Arial, sans-serif",
           "size": 12
          },
          "text": "Anzahl"
         }
        }
       }
      },
      "text/html": [
       "<div id=\"25cd7267-7007-4353-b20e-6a292454616c\" style=\"height: 525px; width: 100%;\" class=\"plotly-graph-div\"></div><script type=\"text/javascript\">require([\"plotly\"], function(Plotly) { window.PLOTLYENV=window.PLOTLYENV || {};window.PLOTLYENV.BASE_URL=\"https://plot.ly\";Plotly.newPlot(\"25cd7267-7007-4353-b20e-6a292454616c\", [{\"marker\": {\"color\": \"#FF6839\"}, \"name\": \"Wohnen Neubau\", \"x\": [2017], \"y\": [2.744443], \"type\": \"bar\", \"uid\": \"8992a772-f781-4162-9498-bd2711a0d717\"}, {\"marker\": {\"color\": \"#B21310\"}, \"name\": \"Wohnen Umbau\", \"x\": [2017], \"y\": [0.41353], \"type\": \"bar\", \"uid\": \"7ca59acc-6d1b-4ec9-a5a3-f62843f67047\"}, {\"marker\": {\"color\": \"#2884B2\"}, \"name\": \"Nichtwohnen Neubau\", \"x\": [2017], \"y\": [2.21523], \"type\": \"bar\", \"uid\": \"e412e0e2-f068-4db3-971c-61075e03162a\"}, {\"marker\": {\"color\": \"#51ADFF\"}, \"name\": \"Nichtwohnen Umbau\", \"x\": [2017], \"y\": [1.769264], \"type\": \"bar\", \"uid\": \"f7291bbf-8d6c-42c1-a74f-e4cbe38b638b\"}], {\"bargap\": 0.2, \"bargroupgap\": 0.1, \"font\": {\"color\": \"#7f7f7f\", \"family\": \"Arial, sans-serif\", \"size\": 14}, \"title\": {\"text\": \"Bausumme der Projekte im Bau nach Art 2017\"}, \"xaxis\": {\"automargin\": true, \"ticklen\": 10, \"tickwidth\": 1, \"title\": {\"font\": {\"color\": \"#7f7f7f\", \"family\": \"Arial, sans-serif\", \"size\": 12}, \"text\": \"Stadt Z\\u00fcrich\"}}, \"yaxis\": {\"automargin\": true, \"exponentformat\": \"none\", \"nticks\": 8, \"rangemode\": \"tozero\", \"ticklen\": 10, \"tickwidth\": 1, \"title\": {\"font\": {\"color\": \"#7f7f7f\", \"family\": \"Arial, sans-serif\", \"size\": 12}, \"text\": \"Anzahl\"}}}, {\"showLink\": false, \"linkText\": \"Export to plot.ly\", \"plotlyServerURL\": \"https://plot.ly\"})});</script><script type=\"text/javascript\">window.addEventListener(\"resize\", function(){window._Plotly.Plots.resize(document.getElementById(\"25cd7267-7007-4353-b20e-6a292454616c\"));});</script>"
      ],
      "text/vnd.plotly.v1+html": [
       "<div id=\"25cd7267-7007-4353-b20e-6a292454616c\" style=\"height: 525px; width: 100%;\" class=\"plotly-graph-div\"></div><script type=\"text/javascript\">require([\"plotly\"], function(Plotly) { window.PLOTLYENV=window.PLOTLYENV || {};window.PLOTLYENV.BASE_URL=\"https://plot.ly\";Plotly.newPlot(\"25cd7267-7007-4353-b20e-6a292454616c\", [{\"marker\": {\"color\": \"#FF6839\"}, \"name\": \"Wohnen Neubau\", \"x\": [2017], \"y\": [2.744443], \"type\": \"bar\", \"uid\": \"8992a772-f781-4162-9498-bd2711a0d717\"}, {\"marker\": {\"color\": \"#B21310\"}, \"name\": \"Wohnen Umbau\", \"x\": [2017], \"y\": [0.41353], \"type\": \"bar\", \"uid\": \"7ca59acc-6d1b-4ec9-a5a3-f62843f67047\"}, {\"marker\": {\"color\": \"#2884B2\"}, \"name\": \"Nichtwohnen Neubau\", \"x\": [2017], \"y\": [2.21523], \"type\": \"bar\", \"uid\": \"e412e0e2-f068-4db3-971c-61075e03162a\"}, {\"marker\": {\"color\": \"#51ADFF\"}, \"name\": \"Nichtwohnen Umbau\", \"x\": [2017], \"y\": [1.769264], \"type\": \"bar\", \"uid\": \"f7291bbf-8d6c-42c1-a74f-e4cbe38b638b\"}], {\"bargap\": 0.2, \"bargroupgap\": 0.1, \"font\": {\"color\": \"#7f7f7f\", \"family\": \"Arial, sans-serif\", \"size\": 14}, \"title\": {\"text\": \"Bausumme der Projekte im Bau nach Art 2017\"}, \"xaxis\": {\"automargin\": true, \"ticklen\": 10, \"tickwidth\": 1, \"title\": {\"font\": {\"color\": \"#7f7f7f\", \"family\": \"Arial, sans-serif\", \"size\": 12}, \"text\": \"Stadt Z\\u00fcrich\"}}, \"yaxis\": {\"automargin\": true, \"exponentformat\": \"none\", \"nticks\": 8, \"rangemode\": \"tozero\", \"ticklen\": 10, \"tickwidth\": 1, \"title\": {\"font\": {\"color\": \"#7f7f7f\", \"family\": \"Arial, sans-serif\", \"size\": 12}, \"text\": \"Anzahl\"}}}, {\"showLink\": false, \"linkText\": \"Export to plot.ly\", \"plotlyServerURL\": \"https://plot.ly\"})});</script><script type=\"text/javascript\">window.addEventListener(\"resize\", function(){window._Plotly.Plots.resize(document.getElementById(\"25cd7267-7007-4353-b20e-6a292454616c\"));});</script>"
      ]
     },
     "metadata": {},
     "output_type": "display_data"
    }
   ],
   "source": [
    "# ploting with Plotly\n",
    "# color_palette = ['#2884B2', '#51ADFF', '#7BC1E7', '#B21310', '#FF6839']\n",
    "\n",
    "trace1 = go.Bar(\n",
    "    x=df_bausumme_2017['Jahr'],\n",
    "    y=df_bausumme_2017['Bausumme – Wohnen Neubau'], \n",
    "    name=\"Wohnen Neubau\",\n",
    "    marker=dict(color='#FF6839')\n",
    ")\n",
    "trace2 = go.Bar(\n",
    "    x=df_bausumme_2017['Jahr'],\n",
    "    y=df_bausumme_2017['Bausumme – Wohnen Umbau'], \n",
    "    name=\"Wohnen Umbau\",\n",
    "    marker=dict(color='#B21310')\n",
    ")\n",
    "trace3 = go.Bar(\n",
    "    x=df_bausumme_2017['Jahr'],\n",
    "    y=df_bausumme_2017['Bausumme – Nichtwohnen Neubau'], \n",
    "    name=\"Nichtwohnen Neubau\",\n",
    "    marker=dict(color='#2884B2')\n",
    ")\n",
    "trace4 = go.Bar(\n",
    "    x=df_bausumme_2017['Jahr'],\n",
    "    y=df_bausumme_2017['Bausumme – Nichtwohnen Umbau'], \n",
    "    name=\"Nichtwohnen Umbau\",\n",
    "    marker=dict(color='#51ADFF')\n",
    ")\n",
    "\n",
    "data = [trace1, trace2, trace3, trace4]\n",
    "\n",
    "layout = go.Layout(\n",
    "    title='Bausumme der Projekte im Bau nach Art 2017',\n",
    "    font=dict(family='Arial, sans-serif', size=14, color='#7f7f7f'),\n",
    "#     autosize=False,\n",
    "#     width=900,\n",
    "#     height=600,\n",
    "    bargroupgap=0.1,\n",
    "    bargap=0.2,\n",
    "\n",
    "    xaxis=dict(\n",
    "        title='Stadt Zürich',\n",
    "        titlefont=dict(family='Arial, sans-serif', size=12, color='#7f7f7f'),\n",
    "        tickwidth=1,\n",
    "        ticklen=10,\n",
    "        automargin=True,\n",
    "    ),\n",
    "    \n",
    "    yaxis=dict(\n",
    "        title='Anzahl',\n",
    "        titlefont=dict(family='Arial, sans-serif', size=12, color='#7f7f7f'),\n",
    "        rangemode='tozero',\n",
    "        nticks=8,\n",
    "        exponentformat='none',\n",
    "        tickwidth=1,\n",
    "        ticklen=10,\n",
    "        automargin=True\n",
    "    )\n",
    ")    \n",
    "    \n",
    "fig = go.Figure(data=data, layout=layout)\n",
    "pyo.iplot(fig, filename='bar2.html')"
   ]
  },
  {
   "cell_type": "markdown",
   "metadata": {},
   "source": [
    "-------"
   ]
  },
  {
   "cell_type": "markdown",
   "metadata": {},
   "source": [
    "### Bausumme der Neubauprojekte im Bau im Jahr 2017 "
   ]
  },
  {
   "cell_type": "code",
   "execution_count": 49,
   "metadata": {},
   "outputs": [
    {
     "data": {
      "application/vnd.plotly.v1+json": {
       "config": {
        "linkText": "Export to plot.ly",
        "plotlyServerURL": "https://plot.ly",
        "showLink": false
       },
       "data": [
        {
         "marker": {
          "color": "#FF6839"
         },
         "name": "Wohnen Neubau",
         "type": "bar",
         "uid": "07d340cc-51cc-4d5f-b632-0a297b03f15b",
         "x": [
          2017
         ],
         "y": [
          2.744443
         ]
        },
        {
         "marker": {
          "color": "#2884B2"
         },
         "name": "Nichtwohnen Neubau",
         "type": "bar",
         "uid": "ec9e61ad-200e-44b1-aa70-18286e6c99f8",
         "x": [
          2017
         ],
         "y": [
          2.21523
         ]
        }
       ],
       "layout": {
        "bargap": 0.2,
        "bargroupgap": 0.1,
        "font": {
         "color": "#7f7f7f",
         "family": "Arial, sans-serif",
         "size": 14
        },
        "title": {
         "text": "Bausumme der Neubauprojekte im Bau im Jahr 2017"
        },
        "xaxis": {
         "automargin": true,
         "ticklen": 10,
         "tickwidth": 1,
         "title": {
          "font": {
           "color": "#7f7f7f",
           "family": "Arial, sans-serif",
           "size": 12
          },
          "text": "Stadt Zürich"
         }
        },
        "yaxis": {
         "automargin": true,
         "exponentformat": "none",
         "nticks": 8,
         "rangemode": "tozero",
         "ticklen": 10,
         "tickwidth": 1,
         "title": {
          "font": {
           "color": "#7f7f7f",
           "family": "Arial, sans-serif",
           "size": 12
          },
          "text": "Anzahl"
         }
        }
       }
      },
      "text/html": [
       "<div id=\"c42d0390-ba9d-4677-a01c-f5676da7803f\" style=\"height: 525px; width: 100%;\" class=\"plotly-graph-div\"></div><script type=\"text/javascript\">require([\"plotly\"], function(Plotly) { window.PLOTLYENV=window.PLOTLYENV || {};window.PLOTLYENV.BASE_URL=\"https://plot.ly\";Plotly.newPlot(\"c42d0390-ba9d-4677-a01c-f5676da7803f\", [{\"marker\": {\"color\": \"#FF6839\"}, \"name\": \"Wohnen Neubau\", \"x\": [2017], \"y\": [2.744443], \"type\": \"bar\", \"uid\": \"07d340cc-51cc-4d5f-b632-0a297b03f15b\"}, {\"marker\": {\"color\": \"#2884B2\"}, \"name\": \"Nichtwohnen Neubau\", \"x\": [2017], \"y\": [2.21523], \"type\": \"bar\", \"uid\": \"ec9e61ad-200e-44b1-aa70-18286e6c99f8\"}], {\"bargap\": 0.2, \"bargroupgap\": 0.1, \"font\": {\"color\": \"#7f7f7f\", \"family\": \"Arial, sans-serif\", \"size\": 14}, \"title\": {\"text\": \"Bausumme der Neubauprojekte im Bau im Jahr 2017\"}, \"xaxis\": {\"automargin\": true, \"ticklen\": 10, \"tickwidth\": 1, \"title\": {\"font\": {\"color\": \"#7f7f7f\", \"family\": \"Arial, sans-serif\", \"size\": 12}, \"text\": \"Stadt Z\\u00fcrich\"}}, \"yaxis\": {\"automargin\": true, \"exponentformat\": \"none\", \"nticks\": 8, \"rangemode\": \"tozero\", \"ticklen\": 10, \"tickwidth\": 1, \"title\": {\"font\": {\"color\": \"#7f7f7f\", \"family\": \"Arial, sans-serif\", \"size\": 12}, \"text\": \"Anzahl\"}}}, {\"showLink\": false, \"linkText\": \"Export to plot.ly\", \"plotlyServerURL\": \"https://plot.ly\"})});</script><script type=\"text/javascript\">window.addEventListener(\"resize\", function(){window._Plotly.Plots.resize(document.getElementById(\"c42d0390-ba9d-4677-a01c-f5676da7803f\"));});</script>"
      ],
      "text/vnd.plotly.v1+html": [
       "<div id=\"c42d0390-ba9d-4677-a01c-f5676da7803f\" style=\"height: 525px; width: 100%;\" class=\"plotly-graph-div\"></div><script type=\"text/javascript\">require([\"plotly\"], function(Plotly) { window.PLOTLYENV=window.PLOTLYENV || {};window.PLOTLYENV.BASE_URL=\"https://plot.ly\";Plotly.newPlot(\"c42d0390-ba9d-4677-a01c-f5676da7803f\", [{\"marker\": {\"color\": \"#FF6839\"}, \"name\": \"Wohnen Neubau\", \"x\": [2017], \"y\": [2.744443], \"type\": \"bar\", \"uid\": \"07d340cc-51cc-4d5f-b632-0a297b03f15b\"}, {\"marker\": {\"color\": \"#2884B2\"}, \"name\": \"Nichtwohnen Neubau\", \"x\": [2017], \"y\": [2.21523], \"type\": \"bar\", \"uid\": \"ec9e61ad-200e-44b1-aa70-18286e6c99f8\"}], {\"bargap\": 0.2, \"bargroupgap\": 0.1, \"font\": {\"color\": \"#7f7f7f\", \"family\": \"Arial, sans-serif\", \"size\": 14}, \"title\": {\"text\": \"Bausumme der Neubauprojekte im Bau im Jahr 2017\"}, \"xaxis\": {\"automargin\": true, \"ticklen\": 10, \"tickwidth\": 1, \"title\": {\"font\": {\"color\": \"#7f7f7f\", \"family\": \"Arial, sans-serif\", \"size\": 12}, \"text\": \"Stadt Z\\u00fcrich\"}}, \"yaxis\": {\"automargin\": true, \"exponentformat\": \"none\", \"nticks\": 8, \"rangemode\": \"tozero\", \"ticklen\": 10, \"tickwidth\": 1, \"title\": {\"font\": {\"color\": \"#7f7f7f\", \"family\": \"Arial, sans-serif\", \"size\": 12}, \"text\": \"Anzahl\"}}}, {\"showLink\": false, \"linkText\": \"Export to plot.ly\", \"plotlyServerURL\": \"https://plot.ly\"})});</script><script type=\"text/javascript\">window.addEventListener(\"resize\", function(){window._Plotly.Plots.resize(document.getElementById(\"c42d0390-ba9d-4677-a01c-f5676da7803f\"));});</script>"
      ]
     },
     "metadata": {},
     "output_type": "display_data"
    }
   ],
   "source": [
    "# ploting with Plotly\n",
    "# color_palette = ['#2884B2', '#51ADFF', '#7BC1E7', '#B21310', '#FF6839']\n",
    "\n",
    "trace1 = go.Bar(\n",
    "    x=df_bausumme_2017['Jahr'],\n",
    "    y=df_bausumme_2017['Bausumme – Wohnen Neubau'], \n",
    "    name=\"Wohnen Neubau\",\n",
    "    marker=dict(color='#FF6839')\n",
    ")\n",
    "trace2 = go.Bar(\n",
    "    x=df_bausumme_2017['Jahr'],\n",
    "    y=df_bausumme_2017['Bausumme – Nichtwohnen Neubau'], \n",
    "    name=\"Nichtwohnen Neubau\",\n",
    "    marker=dict(color='#2884B2')\n",
    ")\n",
    "\n",
    "data = [trace1, trace2]\n",
    "\n",
    "layout = go.Layout(\n",
    "    title='Bausumme der Neubauprojekte im Bau im Jahr 2017',\n",
    "    font=dict(family='Arial, sans-serif', size=14, color='#7f7f7f'),\n",
    "#     autosize=False,\n",
    "#     width=900,\n",
    "#     height=600,\n",
    "    bargroupgap=0.1,\n",
    "    bargap=0.2,\n",
    "\n",
    "    xaxis=dict(\n",
    "        title='Stadt Zürich',\n",
    "        titlefont=dict(family='Arial, sans-serif', size=12, color='#7f7f7f'),\n",
    "        tickwidth=1,\n",
    "        ticklen=10,\n",
    "        automargin=True,\n",
    "    ),\n",
    "    \n",
    "    yaxis=dict(\n",
    "        title='Anzahl',\n",
    "        titlefont=dict(family='Arial, sans-serif', size=12, color='#7f7f7f'),\n",
    "        rangemode='tozero',\n",
    "        nticks=8,\n",
    "        exponentformat='none',\n",
    "        tickwidth=1,\n",
    "        ticklen=10,\n",
    "        automargin=True\n",
    "    )\n",
    ")    \n",
    "    \n",
    "fig = go.Figure(data=data, layout=layout)\n",
    "pyo.iplot(fig, filename='bar2.html')"
   ]
  },
  {
   "cell_type": "code",
   "execution_count": 50,
   "metadata": {},
   "outputs": [],
   "source": [
    "# exporting data to excel for further use with Ploly-online, Datawrapper or such\n",
    "df_bausumme_2017.to_excel('Daten/Plotly/Bauprojekte/04-02_Bausumme_Neubauprojekte_2017.xlsx')"
   ]
  },
  {
   "cell_type": "code",
   "execution_count": null,
   "metadata": {},
   "outputs": [],
   "source": []
  }
 ],
 "metadata": {
  "kernelspec": {
   "display_name": "Python 3",
   "language": "python",
   "name": "python3"
  },
  "language_info": {
   "codemirror_mode": {
    "name": "ipython",
    "version": 3
   },
   "file_extension": ".py",
   "mimetype": "text/x-python",
   "name": "python",
   "nbconvert_exporter": "python",
   "pygments_lexer": "ipython3",
   "version": "3.7.0"
  }
 },
 "nbformat": 4,
 "nbformat_minor": 2
}
