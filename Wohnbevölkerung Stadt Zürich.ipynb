{
 "cells": [
  {
   "cell_type": "code",
   "execution_count": 28,
   "metadata": {},
   "outputs": [],
   "source": [
    "import pandas as pd\n",
    "import numpy as np"
   ]
  },
  {
   "cell_type": "code",
   "execution_count": 29,
   "metadata": {},
   "outputs": [],
   "source": [
    "%matplotlib inline"
   ]
  },
  {
   "cell_type": "code",
   "execution_count": 30,
   "metadata": {},
   "outputs": [
    {
     "data": {
      "text/html": [
       "<script type=\"text/javascript\">window.PlotlyConfig = {MathJaxConfig: 'local'};</script><script type=\"text/javascript\">if (window.MathJax) {MathJax.Hub.Config({SVG: {font: \"STIX-Web\"}});}</script><script>requirejs.config({paths: { 'plotly': ['https://cdn.plot.ly/plotly-latest.min']},});if(!window._Plotly) {require(['plotly'],function(plotly) {window._Plotly=plotly;});}</script>"
      ],
      "text/vnd.plotly.v1+html": [
       "<script type=\"text/javascript\">window.PlotlyConfig = {MathJaxConfig: 'local'};</script><script type=\"text/javascript\">if (window.MathJax) {MathJax.Hub.Config({SVG: {font: \"STIX-Web\"}});}</script><script>requirejs.config({paths: { 'plotly': ['https://cdn.plot.ly/plotly-latest.min']},});if(!window._Plotly) {require(['plotly'],function(plotly) {window._Plotly=plotly;});}</script>"
      ]
     },
     "metadata": {},
     "output_type": "display_data"
    }
   ],
   "source": [
    "import matplotlib.pyplot as plt\n",
    "import seaborn as sns\n",
    "\n",
    "# import plotly.plotly as py\n",
    "import plotly.offline as pyo\n",
    "import plotly.graph_objs as go\n",
    "\n",
    "pyo.init_notebook_mode(connected=True)\n",
    "\n",
    "import cufflinks as cf\n",
    "\n",
    "# import plotly.tools as tls\n",
    "# tls.embed('https://plot.ly/~cufflinks/8')"
   ]
  },
  {
   "cell_type": "code",
   "execution_count": 31,
   "metadata": {},
   "outputs": [],
   "source": [
    "# import matplotlib.font_manager\n",
    "# matplotlib.font_manager.findSystemFonts(fontpaths=None, fontext='ttf')"
   ]
  },
  {
   "cell_type": "markdown",
   "metadata": {},
   "source": [
    "-----------------"
   ]
  },
  {
   "cell_type": "markdown",
   "metadata": {},
   "source": [
    "# Ständige Wohnbevölkerung Stadt Zürich – 1993 bis 2017"
   ]
  },
  {
   "cell_type": "code",
   "execution_count": 32,
   "metadata": {},
   "outputs": [],
   "source": [
    "df = pd.read_excel('Daten/Bevölkerung/Ständige-Wohnbevölkerung.xlsx', header=7).fillna(0)"
   ]
  },
  {
   "cell_type": "code",
   "execution_count": 33,
   "metadata": {},
   "outputs": [
    {
     "data": {
      "text/html": [
       "<div>\n",
       "<style scoped>\n",
       "    .dataframe tbody tr th:only-of-type {\n",
       "        vertical-align: middle;\n",
       "    }\n",
       "\n",
       "    .dataframe tbody tr th {\n",
       "        vertical-align: top;\n",
       "    }\n",
       "\n",
       "    .dataframe thead th {\n",
       "        text-align: right;\n",
       "    }\n",
       "</style>\n",
       "<table border=\"1\" class=\"dataframe\">\n",
       "  <thead>\n",
       "    <tr style=\"text-align: right;\">\n",
       "      <th></th>\n",
       "      <th>Jahr</th>\n",
       "      <th>Wirtschaftliche Wohnbevölkerung</th>\n",
       "      <th>Zivilrechtliche Wohnbevölkerung</th>\n",
       "      <th>Ständige Wohnbevölkerung</th>\n",
       "    </tr>\n",
       "  </thead>\n",
       "  <tbody>\n",
       "    <tr>\n",
       "      <th>0</th>\n",
       "      <td>1993</td>\n",
       "      <td>360898</td>\n",
       "      <td>342725</td>\n",
       "      <td>343045</td>\n",
       "    </tr>\n",
       "    <tr>\n",
       "      <th>1</th>\n",
       "      <td>1994</td>\n",
       "      <td>360848</td>\n",
       "      <td>343005</td>\n",
       "      <td>342872</td>\n",
       "    </tr>\n",
       "    <tr>\n",
       "      <th>2</th>\n",
       "      <td>1995</td>\n",
       "      <td>360826</td>\n",
       "      <td>341466</td>\n",
       "      <td>343869</td>\n",
       "    </tr>\n",
       "    <tr>\n",
       "      <th>3</th>\n",
       "      <td>1996</td>\n",
       "      <td>359648</td>\n",
       "      <td>339002</td>\n",
       "      <td>341250</td>\n",
       "    </tr>\n",
       "    <tr>\n",
       "      <th>4</th>\n",
       "      <td>1997</td>\n",
       "      <td>358594</td>\n",
       "      <td>335809</td>\n",
       "      <td>338594</td>\n",
       "    </tr>\n",
       "  </tbody>\n",
       "</table>\n",
       "</div>"
      ],
      "text/plain": [
       "   Jahr  Wirtschaftliche Wohnbevölkerung  Zivilrechtliche Wohnbevölkerung  \\\n",
       "0  1993                           360898                           342725   \n",
       "1  1994                           360848                           343005   \n",
       "2  1995                           360826                           341466   \n",
       "3  1996                           359648                           339002   \n",
       "4  1997                           358594                           335809   \n",
       "\n",
       "   Ständige Wohnbevölkerung  \n",
       "0                    343045  \n",
       "1                    342872  \n",
       "2                    343869  \n",
       "3                    341250  \n",
       "4                    338594  "
      ]
     },
     "execution_count": 33,
     "metadata": {},
     "output_type": "execute_result"
    }
   ],
   "source": [
    "df.head()"
   ]
  },
  {
   "cell_type": "code",
   "execution_count": 34,
   "metadata": {},
   "outputs": [
    {
     "data": {
      "text/plain": [
       "Index(['Jahr', 'Wirtschaftliche Wohnbevölkerung',\n",
       "       'Zivilrechtliche Wohnbevölkerung', 'Ständige Wohnbevölkerung'],\n",
       "      dtype='object')"
      ]
     },
     "execution_count": 34,
     "metadata": {},
     "output_type": "execute_result"
    }
   ],
   "source": [
    "df.columns"
   ]
  },
  {
   "cell_type": "code",
   "execution_count": 50,
   "metadata": {
    "scrolled": false
   },
   "outputs": [
    {
     "data": {
      "application/vnd.plotly.v1+json": {
       "config": {
        "linkText": "Export to plot.ly",
        "plotlyServerURL": "https://plot.ly",
        "showLink": false
       },
       "data": [
        {
         "fill": "tozeroy",
         "line": {
          "color": "#5120B3",
          "width": 4
         },
         "marker": {
          "color": "#84B5F4",
          "line": {
           "width": 2
          },
          "size": 10,
          "symbol": "circle-dot"
         },
         "mode": "lines+markers",
         "name": "Ständige Wohnbevölkerung",
         "type": "scatter",
         "uid": "16338f2c-97ff-4278-9c53-aa2a739d1a7c",
         "x": [
          1993,
          1994,
          1995,
          1996,
          1997,
          1998,
          1999,
          2000,
          2001,
          2002,
          2003,
          2004,
          2005,
          2006,
          2007,
          2008,
          2009,
          2010,
          2011,
          2012,
          2013,
          2014,
          2015,
          2016,
          2017
         ],
         "y": [
          343045,
          342872,
          343869,
          341250,
          338594,
          336821,
          336822,
          337900,
          340197,
          342116,
          342853,
          345236,
          347517,
          350125,
          358540,
          365132,
          368677,
          371633,
          376990,
          380777,
          384786,
          391359,
          396955,
          402762,
          409120
         ]
        }
       ],
       "layout": {
        "font": {
         "color": "#7f7f7f",
         "family": "Arial, sans-serif",
         "size": 14
        },
        "title": {
         "text": "Ständige Wohnbevölkerung Stadt Zürich – 1993 bis 2018"
        },
        "xaxis": {
         "automargin": true,
         "ticklen": 10,
         "tickwidth": 1,
         "title": {
          "font": {
           "color": "#7f7f7f",
           "family": "Arial, sans-serif",
           "size": 12
          },
          "text": "Jahr"
         }
        },
        "yaxis": {
         "automargin": true,
         "exponentformat": "none",
         "nticks": 8,
         "rangemode": "tozero",
         "ticklen": 10,
         "tickwidth": 1,
         "title": {
          "font": {
           "color": "#7f7f7f",
           "family": "Arial, sans-serif",
           "size": 12
          },
          "text": "Anzahl Personen"
         }
        }
       }
      },
      "text/html": [
       "<div id=\"69fcc77f-f1ff-41e0-bcb2-67cf2ff3c983\" style=\"height: 525px; width: 100%;\" class=\"plotly-graph-div\"></div><script type=\"text/javascript\">require([\"plotly\"], function(Plotly) { window.PLOTLYENV=window.PLOTLYENV || {};window.PLOTLYENV.BASE_URL=\"https://plot.ly\";Plotly.newPlot(\"69fcc77f-f1ff-41e0-bcb2-67cf2ff3c983\", [{\"fill\": \"tozeroy\", \"line\": {\"color\": \"#5120B3\", \"width\": 4}, \"marker\": {\"color\": \"#84B5F4\", \"line\": {\"width\": 2}, \"size\": 10, \"symbol\": \"circle-dot\"}, \"mode\": \"lines+markers\", \"name\": \"St\\u00e4ndige Wohnbev\\u00f6lkerung\", \"x\": [1993, 1994, 1995, 1996, 1997, 1998, 1999, 2000, 2001, 2002, 2003, 2004, 2005, 2006, 2007, 2008, 2009, 2010, 2011, 2012, 2013, 2014, 2015, 2016, 2017], \"y\": [343045, 342872, 343869, 341250, 338594, 336821, 336822, 337900, 340197, 342116, 342853, 345236, 347517, 350125, 358540, 365132, 368677, 371633, 376990, 380777, 384786, 391359, 396955, 402762, 409120], \"type\": \"scatter\", \"uid\": \"16338f2c-97ff-4278-9c53-aa2a739d1a7c\"}], {\"font\": {\"color\": \"#7f7f7f\", \"family\": \"Arial, sans-serif\", \"size\": 14}, \"title\": {\"text\": \"St\\u00e4ndige Wohnbev\\u00f6lkerung Stadt Z\\u00fcrich \\u2013 1993 bis 2018\"}, \"xaxis\": {\"automargin\": true, \"ticklen\": 10, \"tickwidth\": 1, \"title\": {\"font\": {\"color\": \"#7f7f7f\", \"family\": \"Arial, sans-serif\", \"size\": 12}, \"text\": \"Jahr\"}}, \"yaxis\": {\"automargin\": true, \"exponentformat\": \"none\", \"nticks\": 8, \"rangemode\": \"tozero\", \"ticklen\": 10, \"tickwidth\": 1, \"title\": {\"font\": {\"color\": \"#7f7f7f\", \"family\": \"Arial, sans-serif\", \"size\": 12}, \"text\": \"Anzahl Personen\"}}}, {\"showLink\": false, \"linkText\": \"Export to plot.ly\", \"plotlyServerURL\": \"https://plot.ly\"})});</script><script type=\"text/javascript\">window.addEventListener(\"resize\", function(){window._Plotly.Plots.resize(document.getElementById(\"69fcc77f-f1ff-41e0-bcb2-67cf2ff3c983\"));});</script>"
      ],
      "text/vnd.plotly.v1+html": [
       "<div id=\"69fcc77f-f1ff-41e0-bcb2-67cf2ff3c983\" style=\"height: 525px; width: 100%;\" class=\"plotly-graph-div\"></div><script type=\"text/javascript\">require([\"plotly\"], function(Plotly) { window.PLOTLYENV=window.PLOTLYENV || {};window.PLOTLYENV.BASE_URL=\"https://plot.ly\";Plotly.newPlot(\"69fcc77f-f1ff-41e0-bcb2-67cf2ff3c983\", [{\"fill\": \"tozeroy\", \"line\": {\"color\": \"#5120B3\", \"width\": 4}, \"marker\": {\"color\": \"#84B5F4\", \"line\": {\"width\": 2}, \"size\": 10, \"symbol\": \"circle-dot\"}, \"mode\": \"lines+markers\", \"name\": \"St\\u00e4ndige Wohnbev\\u00f6lkerung\", \"x\": [1993, 1994, 1995, 1996, 1997, 1998, 1999, 2000, 2001, 2002, 2003, 2004, 2005, 2006, 2007, 2008, 2009, 2010, 2011, 2012, 2013, 2014, 2015, 2016, 2017], \"y\": [343045, 342872, 343869, 341250, 338594, 336821, 336822, 337900, 340197, 342116, 342853, 345236, 347517, 350125, 358540, 365132, 368677, 371633, 376990, 380777, 384786, 391359, 396955, 402762, 409120], \"type\": \"scatter\", \"uid\": \"16338f2c-97ff-4278-9c53-aa2a739d1a7c\"}], {\"font\": {\"color\": \"#7f7f7f\", \"family\": \"Arial, sans-serif\", \"size\": 14}, \"title\": {\"text\": \"St\\u00e4ndige Wohnbev\\u00f6lkerung Stadt Z\\u00fcrich \\u2013 1993 bis 2018\"}, \"xaxis\": {\"automargin\": true, \"ticklen\": 10, \"tickwidth\": 1, \"title\": {\"font\": {\"color\": \"#7f7f7f\", \"family\": \"Arial, sans-serif\", \"size\": 12}, \"text\": \"Jahr\"}}, \"yaxis\": {\"automargin\": true, \"exponentformat\": \"none\", \"nticks\": 8, \"rangemode\": \"tozero\", \"ticklen\": 10, \"tickwidth\": 1, \"title\": {\"font\": {\"color\": \"#7f7f7f\", \"family\": \"Arial, sans-serif\", \"size\": 12}, \"text\": \"Anzahl Personen\"}}}, {\"showLink\": false, \"linkText\": \"Export to plot.ly\", \"plotlyServerURL\": \"https://plot.ly\"})});</script><script type=\"text/javascript\">window.addEventListener(\"resize\", function(){window._Plotly.Plots.resize(document.getElementById(\"69fcc77f-f1ff-41e0-bcb2-67cf2ff3c983\"));});</script>"
      ]
     },
     "metadata": {},
     "output_type": "display_data"
    }
   ],
   "source": [
    "trace1 = go.Scatter(x=df.Jahr, y=df['Ständige Wohnbevölkerung'], \n",
    "                    name=\"Ständige Wohnbevölkerung\",\n",
    "                    mode='lines+markers',\n",
    "# mode can be 'markers', 'lines+markers', 'lines'\n",
    "                    \n",
    "                    fill='tozeroy',\n",
    "                        line = dict(\n",
    "                            width = 4,\n",
    "                            color = '#5120B3',\n",
    "                        ),\n",
    "                    \n",
    "                        marker = dict(\n",
    "                            symbol='circle-dot',\n",
    "                            size = 10,\n",
    "                            color = '#84B5F4',\n",
    "                            line = dict(\n",
    "                                width = 2\n",
    "                            )\n",
    "                        )\n",
    "                    )  \n",
    "\n",
    "data = [trace1]\n",
    "\n",
    "layout = go.Layout(\n",
    "    title='Ständige Wohnbevölkerung Stadt Zürich – 1993 bis 2018',\n",
    "    font=dict(\n",
    "            family='Arial, sans-serif',\n",
    "            size=14,\n",
    "            color='#7f7f7f'),\n",
    "\n",
    "    xaxis=dict(\n",
    "        title='Jahr',\n",
    "        titlefont=dict(\n",
    "            family='Arial, sans-serif',\n",
    "            size=12,\n",
    "            color='#7f7f7f'),\n",
    "        tickwidth=1,\n",
    "        ticklen=10,\n",
    "        automargin=True\n",
    "    ),\n",
    "    \n",
    "    yaxis=dict(\n",
    "        title='Anzahl Personen',\n",
    "        titlefont=dict(\n",
    "            family='Arial, sans-serif',\n",
    "            size=12,\n",
    "            color='#7f7f7f'),\n",
    "        rangemode='tozero',\n",
    "        nticks=8,\n",
    "        exponentformat='none',\n",
    "        tickwidth=1,\n",
    "        ticklen=10,\n",
    "        automargin=True\n",
    "    )\n",
    ")\n",
    "\n",
    "fig = go.Figure(data=data, layout=layout)\n",
    "pyo.iplot(fig, filename='hover-chart-basic')"
   ]
  },
  {
   "cell_type": "markdown",
   "metadata": {},
   "source": [
    "-----------------"
   ]
  },
  {
   "cell_type": "markdown",
   "metadata": {},
   "source": [
    "# Ständige Wohnbevölkerung Stadt Zürich – 2010 bis 2017"
   ]
  },
  {
   "cell_type": "code",
   "execution_count": 51,
   "metadata": {},
   "outputs": [],
   "source": [
    "df1 = df[['Jahr', 'Ständige Wohnbevölkerung']][17:]"
   ]
  },
  {
   "cell_type": "code",
   "execution_count": 52,
   "metadata": {},
   "outputs": [
    {
     "data": {
      "text/html": [
       "<div>\n",
       "<style scoped>\n",
       "    .dataframe tbody tr th:only-of-type {\n",
       "        vertical-align: middle;\n",
       "    }\n",
       "\n",
       "    .dataframe tbody tr th {\n",
       "        vertical-align: top;\n",
       "    }\n",
       "\n",
       "    .dataframe thead th {\n",
       "        text-align: right;\n",
       "    }\n",
       "</style>\n",
       "<table border=\"1\" class=\"dataframe\">\n",
       "  <thead>\n",
       "    <tr style=\"text-align: right;\">\n",
       "      <th></th>\n",
       "      <th>Jahr</th>\n",
       "      <th>Ständige Wohnbevölkerung</th>\n",
       "    </tr>\n",
       "  </thead>\n",
       "  <tbody>\n",
       "    <tr>\n",
       "      <th>17</th>\n",
       "      <td>2010</td>\n",
       "      <td>371633</td>\n",
       "    </tr>\n",
       "    <tr>\n",
       "      <th>18</th>\n",
       "      <td>2011</td>\n",
       "      <td>376990</td>\n",
       "    </tr>\n",
       "    <tr>\n",
       "      <th>19</th>\n",
       "      <td>2012</td>\n",
       "      <td>380777</td>\n",
       "    </tr>\n",
       "    <tr>\n",
       "      <th>20</th>\n",
       "      <td>2013</td>\n",
       "      <td>384786</td>\n",
       "    </tr>\n",
       "    <tr>\n",
       "      <th>21</th>\n",
       "      <td>2014</td>\n",
       "      <td>391359</td>\n",
       "    </tr>\n",
       "    <tr>\n",
       "      <th>22</th>\n",
       "      <td>2015</td>\n",
       "      <td>396955</td>\n",
       "    </tr>\n",
       "    <tr>\n",
       "      <th>23</th>\n",
       "      <td>2016</td>\n",
       "      <td>402762</td>\n",
       "    </tr>\n",
       "    <tr>\n",
       "      <th>24</th>\n",
       "      <td>2017</td>\n",
       "      <td>409120</td>\n",
       "    </tr>\n",
       "  </tbody>\n",
       "</table>\n",
       "</div>"
      ],
      "text/plain": [
       "    Jahr  Ständige Wohnbevölkerung\n",
       "17  2010                    371633\n",
       "18  2011                    376990\n",
       "19  2012                    380777\n",
       "20  2013                    384786\n",
       "21  2014                    391359\n",
       "22  2015                    396955\n",
       "23  2016                    402762\n",
       "24  2017                    409120"
      ]
     },
     "execution_count": 52,
     "metadata": {},
     "output_type": "execute_result"
    }
   ],
   "source": [
    "df1"
   ]
  },
  {
   "cell_type": "code",
   "execution_count": 53,
   "metadata": {},
   "outputs": [
    {
     "data": {
      "application/vnd.plotly.v1+json": {
       "config": {
        "linkText": "Export to plot.ly",
        "plotlyServerURL": "https://plot.ly",
        "showLink": false
       },
       "data": [
        {
         "fill": "tozeroy",
         "line": {
          "color": "#E4D7F9",
          "width": 2
         },
         "marker": {
          "color": "#590DDE",
          "line": {
           "width": 1
          },
          "size": 11,
          "symbol": "square"
         },
         "mode": "lines+markers",
         "name": "Ständige Wohnbevölkerung",
         "type": "scatter",
         "uid": "da2a5c10-a3a5-44a8-b856-749ed6ccf747",
         "x": [
          2010,
          2011,
          2012,
          2013,
          2014,
          2015,
          2016,
          2017
         ],
         "y": [
          371633,
          376990,
          380777,
          384786,
          391359,
          396955,
          402762,
          409120
         ]
        }
       ],
       "layout": {
        "font": {
         "color": "#7f7f7f",
         "family": "Arial, sans-serif",
         "size": 14
        },
        "title": {
         "text": "Ständige Wohnbevölkerung Stadt Zürich – 2010 bis 2017"
        },
        "xaxis": {
         "automargin": true,
         "ticklen": 10,
         "tickwidth": 1,
         "title": {
          "font": {
           "color": "#7f7f7f",
           "family": "Arial, sans-serif",
           "size": 12
          },
          "text": "Jahr"
         }
        },
        "yaxis": {
         "automargin": true,
         "exponentformat": "none",
         "nticks": 8,
         "rangemode": "tozero",
         "ticklen": 10,
         "tickwidth": 1,
         "title": {
          "font": {
           "color": "#7f7f7f",
           "family": "Arial, sans-serif",
           "size": 12
          },
          "text": "Anzahl Personen"
         }
        }
       }
      },
      "text/html": [
       "<div id=\"d118adcf-b139-4fd3-bd46-9bc5af9b8a8f\" style=\"height: 525px; width: 100%;\" class=\"plotly-graph-div\"></div><script type=\"text/javascript\">require([\"plotly\"], function(Plotly) { window.PLOTLYENV=window.PLOTLYENV || {};window.PLOTLYENV.BASE_URL=\"https://plot.ly\";Plotly.newPlot(\"d118adcf-b139-4fd3-bd46-9bc5af9b8a8f\", [{\"fill\": \"tozeroy\", \"line\": {\"color\": \"#E4D7F9\", \"width\": 2}, \"marker\": {\"color\": \"#590DDE\", \"line\": {\"width\": 1}, \"size\": 11, \"symbol\": \"square\"}, \"mode\": \"lines+markers\", \"name\": \"St\\u00e4ndige Wohnbev\\u00f6lkerung\", \"x\": [2010, 2011, 2012, 2013, 2014, 2015, 2016, 2017], \"y\": [371633, 376990, 380777, 384786, 391359, 396955, 402762, 409120], \"type\": \"scatter\", \"uid\": \"da2a5c10-a3a5-44a8-b856-749ed6ccf747\"}], {\"font\": {\"color\": \"#7f7f7f\", \"family\": \"Arial, sans-serif\", \"size\": 14}, \"title\": {\"text\": \"St\\u00e4ndige Wohnbev\\u00f6lkerung Stadt Z\\u00fcrich \\u2013 2010 bis 2017\"}, \"xaxis\": {\"automargin\": true, \"ticklen\": 10, \"tickwidth\": 1, \"title\": {\"font\": {\"color\": \"#7f7f7f\", \"family\": \"Arial, sans-serif\", \"size\": 12}, \"text\": \"Jahr\"}}, \"yaxis\": {\"automargin\": true, \"exponentformat\": \"none\", \"nticks\": 8, \"rangemode\": \"tozero\", \"ticklen\": 10, \"tickwidth\": 1, \"title\": {\"font\": {\"color\": \"#7f7f7f\", \"family\": \"Arial, sans-serif\", \"size\": 12}, \"text\": \"Anzahl Personen\"}}}, {\"showLink\": false, \"linkText\": \"Export to plot.ly\", \"plotlyServerURL\": \"https://plot.ly\"})});</script><script type=\"text/javascript\">window.addEventListener(\"resize\", function(){window._Plotly.Plots.resize(document.getElementById(\"d118adcf-b139-4fd3-bd46-9bc5af9b8a8f\"));});</script>"
      ],
      "text/vnd.plotly.v1+html": [
       "<div id=\"d118adcf-b139-4fd3-bd46-9bc5af9b8a8f\" style=\"height: 525px; width: 100%;\" class=\"plotly-graph-div\"></div><script type=\"text/javascript\">require([\"plotly\"], function(Plotly) { window.PLOTLYENV=window.PLOTLYENV || {};window.PLOTLYENV.BASE_URL=\"https://plot.ly\";Plotly.newPlot(\"d118adcf-b139-4fd3-bd46-9bc5af9b8a8f\", [{\"fill\": \"tozeroy\", \"line\": {\"color\": \"#E4D7F9\", \"width\": 2}, \"marker\": {\"color\": \"#590DDE\", \"line\": {\"width\": 1}, \"size\": 11, \"symbol\": \"square\"}, \"mode\": \"lines+markers\", \"name\": \"St\\u00e4ndige Wohnbev\\u00f6lkerung\", \"x\": [2010, 2011, 2012, 2013, 2014, 2015, 2016, 2017], \"y\": [371633, 376990, 380777, 384786, 391359, 396955, 402762, 409120], \"type\": \"scatter\", \"uid\": \"da2a5c10-a3a5-44a8-b856-749ed6ccf747\"}], {\"font\": {\"color\": \"#7f7f7f\", \"family\": \"Arial, sans-serif\", \"size\": 14}, \"title\": {\"text\": \"St\\u00e4ndige Wohnbev\\u00f6lkerung Stadt Z\\u00fcrich \\u2013 2010 bis 2017\"}, \"xaxis\": {\"automargin\": true, \"ticklen\": 10, \"tickwidth\": 1, \"title\": {\"font\": {\"color\": \"#7f7f7f\", \"family\": \"Arial, sans-serif\", \"size\": 12}, \"text\": \"Jahr\"}}, \"yaxis\": {\"automargin\": true, \"exponentformat\": \"none\", \"nticks\": 8, \"rangemode\": \"tozero\", \"ticklen\": 10, \"tickwidth\": 1, \"title\": {\"font\": {\"color\": \"#7f7f7f\", \"family\": \"Arial, sans-serif\", \"size\": 12}, \"text\": \"Anzahl Personen\"}}}, {\"showLink\": false, \"linkText\": \"Export to plot.ly\", \"plotlyServerURL\": \"https://plot.ly\"})});</script><script type=\"text/javascript\">window.addEventListener(\"resize\", function(){window._Plotly.Plots.resize(document.getElementById(\"d118adcf-b139-4fd3-bd46-9bc5af9b8a8f\"));});</script>"
      ]
     },
     "metadata": {},
     "output_type": "display_data"
    }
   ],
   "source": [
    "trace1 = go.Scatter(x=df1.Jahr, y=df1['Ständige Wohnbevölkerung'], \n",
    "                    name=\"Ständige Wohnbevölkerung\",\n",
    "                    mode='lines+markers',  # mode can be 'markers', 'lines+markers', 'lines'\n",
    "                    fill='tozeroy',\n",
    "                        line = dict(\n",
    "                            width = 2,\n",
    "                            color = '#E4D7F9'\n",
    "                        ),\n",
    "                        marker = dict(\n",
    "                            symbol='square',\n",
    "                            size = 11,\n",
    "                            color = '#590DDE',\n",
    "                            line = dict(\n",
    "                                width = 1)\n",
    "                        )\n",
    "                    ) \n",
    "\n",
    "data = [trace1]\n",
    "\n",
    "layout = go.Layout(\n",
    "    title='Ständige Wohnbevölkerung Stadt Zürich – 2010 bis 2017',\n",
    "    font=dict(\n",
    "            family='Arial, sans-serif',\n",
    "            size=14,\n",
    "            color='#7f7f7f'),\n",
    "\n",
    "    xaxis=dict(\n",
    "        title='Jahr',\n",
    "        titlefont=dict(\n",
    "            family='Arial, sans-serif',\n",
    "            size=12,\n",
    "            color='#7f7f7f'),\n",
    "        tickwidth=1,\n",
    "        ticklen=10,\n",
    "        automargin=True\n",
    "    ),\n",
    "    \n",
    "    yaxis=dict(\n",
    "        title='Anzahl Personen',\n",
    "        titlefont=dict(\n",
    "            family='Arial, sans-serif',\n",
    "            size=12,\n",
    "            color='#7f7f7f'),\n",
    "        rangemode='tozero',\n",
    "        nticks=8,\n",
    "        exponentformat='none',\n",
    "        tickwidth=1,\n",
    "        ticklen=10,\n",
    "        automargin=True\n",
    "    )\n",
    ")\n",
    "fig = go.Figure(data=data, layout=layout)\n",
    "pyo.iplot(fig, filename='hover-chart-basic')"
   ]
  },
  {
   "cell_type": "markdown",
   "metadata": {},
   "source": [
    "------------"
   ]
  },
  {
   "cell_type": "markdown",
   "metadata": {},
   "source": [
    "\n",
    "Plotten mit matplotlib"
   ]
  },
  {
   "cell_type": "code",
   "execution_count": 54,
   "metadata": {},
   "outputs": [],
   "source": [
    "df1 = df.set_index('Jahr')"
   ]
  },
  {
   "cell_type": "code",
   "execution_count": 55,
   "metadata": {},
   "outputs": [
    {
     "data": {
      "text/html": [
       "<div>\n",
       "<style scoped>\n",
       "    .dataframe tbody tr th:only-of-type {\n",
       "        vertical-align: middle;\n",
       "    }\n",
       "\n",
       "    .dataframe tbody tr th {\n",
       "        vertical-align: top;\n",
       "    }\n",
       "\n",
       "    .dataframe thead th {\n",
       "        text-align: right;\n",
       "    }\n",
       "</style>\n",
       "<table border=\"1\" class=\"dataframe\">\n",
       "  <thead>\n",
       "    <tr style=\"text-align: right;\">\n",
       "      <th></th>\n",
       "      <th>Ständige Wohnbevölkerung</th>\n",
       "    </tr>\n",
       "    <tr>\n",
       "      <th>Jahr</th>\n",
       "      <th></th>\n",
       "    </tr>\n",
       "  </thead>\n",
       "  <tbody>\n",
       "    <tr>\n",
       "      <th>1993</th>\n",
       "      <td>343045</td>\n",
       "    </tr>\n",
       "    <tr>\n",
       "      <th>1994</th>\n",
       "      <td>342872</td>\n",
       "    </tr>\n",
       "    <tr>\n",
       "      <th>1995</th>\n",
       "      <td>343869</td>\n",
       "    </tr>\n",
       "    <tr>\n",
       "      <th>1996</th>\n",
       "      <td>341250</td>\n",
       "    </tr>\n",
       "    <tr>\n",
       "      <th>1997</th>\n",
       "      <td>338594</td>\n",
       "    </tr>\n",
       "  </tbody>\n",
       "</table>\n",
       "</div>"
      ],
      "text/plain": [
       "      Ständige Wohnbevölkerung\n",
       "Jahr                          \n",
       "1993                    343045\n",
       "1994                    342872\n",
       "1995                    343869\n",
       "1996                    341250\n",
       "1997                    338594"
      ]
     },
     "execution_count": 55,
     "metadata": {},
     "output_type": "execute_result"
    }
   ],
   "source": [
    "df1[['Ständige Wohnbevölkerung']].head(5)"
   ]
  },
  {
   "cell_type": "code",
   "execution_count": 56,
   "metadata": {},
   "outputs": [
    {
     "data": {
      "text/plain": [
       "<matplotlib.axes._subplots.AxesSubplot at 0x11af62e10>"
      ]
     },
     "execution_count": 56,
     "metadata": {},
     "output_type": "execute_result"
    },
    {
     "data": {
      "image/png": "[encoded data removed]",
      "text/plain": [
       "<Figure size 1080x504 with 1 Axes>"
      ]
     },
     "metadata": {
      "needs_background": "light"
     },
     "output_type": "display_data"
    }
   ],
   "source": [
    "df1[['Ständige Wohnbevölkerung']].plot(figsize=(15,7))"
   ]
  },
  {
   "cell_type": "markdown",
   "metadata": {},
   "source": [
    "----------------"
   ]
  },
  {
   "cell_type": "markdown",
   "metadata": {},
   "source": [
    "# Ständige Wohnbevölkerung nach Stadtkreisen – 2017"
   ]
  },
  {
   "cell_type": "code",
   "execution_count": 57,
   "metadata": {},
   "outputs": [],
   "source": [
    "df2 = pd.read_excel('Daten/Bevölkerung/Wohnbevoelkerung-nach-Stadtkreis.xlsx', header=7)"
   ]
  },
  {
   "cell_type": "code",
   "execution_count": 58,
   "metadata": {},
   "outputs": [
    {
     "data": {
      "text/html": [
       "<div>\n",
       "<style scoped>\n",
       "    .dataframe tbody tr th:only-of-type {\n",
       "        vertical-align: middle;\n",
       "    }\n",
       "\n",
       "    .dataframe tbody tr th {\n",
       "        vertical-align: top;\n",
       "    }\n",
       "\n",
       "    .dataframe thead th {\n",
       "        text-align: right;\n",
       "    }\n",
       "</style>\n",
       "<table border=\"1\" class=\"dataframe\">\n",
       "  <thead>\n",
       "    <tr style=\"text-align: right;\">\n",
       "      <th></th>\n",
       "      <th>Unnamed: 0</th>\n",
       "      <th>Total</th>\n",
       "      <th>Schweizer/-innen</th>\n",
       "      <th>Ausländer/-innen</th>\n",
       "      <th>Anteil ausländische Bevölkerung (%)</th>\n",
       "    </tr>\n",
       "  </thead>\n",
       "  <tbody>\n",
       "    <tr>\n",
       "      <th>0</th>\n",
       "      <td>Ganze Stadt</td>\n",
       "      <td>423310</td>\n",
       "      <td>286255</td>\n",
       "      <td>137055</td>\n",
       "      <td>32.4</td>\n",
       "    </tr>\n",
       "    <tr>\n",
       "      <th>1</th>\n",
       "      <td>Kreis 1</td>\n",
       "      <td>5728</td>\n",
       "      <td>3985</td>\n",
       "      <td>1743</td>\n",
       "      <td>30.4</td>\n",
       "    </tr>\n",
       "    <tr>\n",
       "      <th>2</th>\n",
       "      <td>Rathaus</td>\n",
       "      <td>3266</td>\n",
       "      <td>2271</td>\n",
       "      <td>995</td>\n",
       "      <td>30.5</td>\n",
       "    </tr>\n",
       "    <tr>\n",
       "      <th>3</th>\n",
       "      <td>Hochschulen</td>\n",
       "      <td>677</td>\n",
       "      <td>456</td>\n",
       "      <td>221</td>\n",
       "      <td>32.6</td>\n",
       "    </tr>\n",
       "    <tr>\n",
       "      <th>4</th>\n",
       "      <td>Lindenhof</td>\n",
       "      <td>955</td>\n",
       "      <td>681</td>\n",
       "      <td>274</td>\n",
       "      <td>28.7</td>\n",
       "    </tr>\n",
       "  </tbody>\n",
       "</table>\n",
       "</div>"
      ],
      "text/plain": [
       "    Unnamed: 0   Total  Schweizer/-innen  Ausländer/-innen  \\\n",
       "0  Ganze Stadt  423310            286255            137055   \n",
       "1      Kreis 1    5728              3985              1743   \n",
       "2      Rathaus    3266              2271               995   \n",
       "3  Hochschulen     677               456               221   \n",
       "4    Lindenhof     955               681               274   \n",
       "\n",
       "   Anteil ausländische Bevölkerung (%)  \n",
       "0                                 32.4  \n",
       "1                                 30.4  \n",
       "2                                 30.5  \n",
       "3                                 32.6  \n",
       "4                                 28.7  "
      ]
     },
     "execution_count": 58,
     "metadata": {},
     "output_type": "execute_result"
    }
   ],
   "source": [
    "df2.head()"
   ]
  },
  {
   "cell_type": "code",
   "execution_count": 59,
   "metadata": {},
   "outputs": [],
   "source": [
    "df3 = df2.iloc[[1,6,10,14,18,21,24,29,33,36,39,43], [0,1]]"
   ]
  },
  {
   "cell_type": "code",
   "execution_count": 60,
   "metadata": {},
   "outputs": [
    {
     "data": {
      "text/html": [
       "<div>\n",
       "<style scoped>\n",
       "    .dataframe tbody tr th:only-of-type {\n",
       "        vertical-align: middle;\n",
       "    }\n",
       "\n",
       "    .dataframe tbody tr th {\n",
       "        vertical-align: top;\n",
       "    }\n",
       "\n",
       "    .dataframe thead th {\n",
       "        text-align: right;\n",
       "    }\n",
       "</style>\n",
       "<table border=\"1\" class=\"dataframe\">\n",
       "  <thead>\n",
       "    <tr style=\"text-align: right;\">\n",
       "      <th></th>\n",
       "      <th>Unnamed: 0</th>\n",
       "      <th>Total</th>\n",
       "    </tr>\n",
       "  </thead>\n",
       "  <tbody>\n",
       "    <tr>\n",
       "      <th>1</th>\n",
       "      <td>Kreis 1</td>\n",
       "      <td>5728</td>\n",
       "    </tr>\n",
       "    <tr>\n",
       "      <th>6</th>\n",
       "      <td>Kreis 2</td>\n",
       "      <td>33593</td>\n",
       "    </tr>\n",
       "    <tr>\n",
       "      <th>10</th>\n",
       "      <td>Kreis 3</td>\n",
       "      <td>50042</td>\n",
       "    </tr>\n",
       "    <tr>\n",
       "      <th>14</th>\n",
       "      <td>Kreis 4</td>\n",
       "      <td>28775</td>\n",
       "    </tr>\n",
       "    <tr>\n",
       "      <th>18</th>\n",
       "      <td>Kreis 5</td>\n",
       "      <td>15666</td>\n",
       "    </tr>\n",
       "    <tr>\n",
       "      <th>21</th>\n",
       "      <td>Kreis 6</td>\n",
       "      <td>33614</td>\n",
       "    </tr>\n",
       "    <tr>\n",
       "      <th>24</th>\n",
       "      <td>Kreis 7</td>\n",
       "      <td>37458</td>\n",
       "    </tr>\n",
       "    <tr>\n",
       "      <th>29</th>\n",
       "      <td>Kreis 8</td>\n",
       "      <td>16541</td>\n",
       "    </tr>\n",
       "    <tr>\n",
       "      <th>33</th>\n",
       "      <td>Kreis 9</td>\n",
       "      <td>54716</td>\n",
       "    </tr>\n",
       "    <tr>\n",
       "      <th>36</th>\n",
       "      <td>Kreis 10</td>\n",
       "      <td>40341</td>\n",
       "    </tr>\n",
       "    <tr>\n",
       "      <th>39</th>\n",
       "      <td>Kreis 11</td>\n",
       "      <td>74809</td>\n",
       "    </tr>\n",
       "    <tr>\n",
       "      <th>43</th>\n",
       "      <td>Kreis 12</td>\n",
       "      <td>32027</td>\n",
       "    </tr>\n",
       "  </tbody>\n",
       "</table>\n",
       "</div>"
      ],
      "text/plain": [
       "   Unnamed: 0  Total\n",
       "1     Kreis 1   5728\n",
       "6     Kreis 2  33593\n",
       "10    Kreis 3  50042\n",
       "14    Kreis 4  28775\n",
       "18    Kreis 5  15666\n",
       "21    Kreis 6  33614\n",
       "24    Kreis 7  37458\n",
       "29    Kreis 8  16541\n",
       "33    Kreis 9  54716\n",
       "36   Kreis 10  40341\n",
       "39   Kreis 11  74809\n",
       "43   Kreis 12  32027"
      ]
     },
     "execution_count": 60,
     "metadata": {},
     "output_type": "execute_result"
    }
   ],
   "source": [
    "df3"
   ]
  },
  {
   "cell_type": "code",
   "execution_count": 61,
   "metadata": {},
   "outputs": [
    {
     "data": {
      "text/plain": [
       "Index(['Quartier', 'Total'], dtype='object')"
      ]
     },
     "execution_count": 61,
     "metadata": {},
     "output_type": "execute_result"
    }
   ],
   "source": [
    "df4.columns"
   ]
  },
  {
   "cell_type": "code",
   "execution_count": 62,
   "metadata": {},
   "outputs": [],
   "source": [
    "df3.rename(columns={'Unnamed: 0':'Quartier'}, inplace=True)"
   ]
  },
  {
   "cell_type": "code",
   "execution_count": 63,
   "metadata": {},
   "outputs": [
    {
     "data": {
      "text/html": [
       "<div>\n",
       "<style scoped>\n",
       "    .dataframe tbody tr th:only-of-type {\n",
       "        vertical-align: middle;\n",
       "    }\n",
       "\n",
       "    .dataframe tbody tr th {\n",
       "        vertical-align: top;\n",
       "    }\n",
       "\n",
       "    .dataframe thead th {\n",
       "        text-align: right;\n",
       "    }\n",
       "</style>\n",
       "<table border=\"1\" class=\"dataframe\">\n",
       "  <thead>\n",
       "    <tr style=\"text-align: right;\">\n",
       "      <th></th>\n",
       "      <th>Quartier</th>\n",
       "      <th>Total</th>\n",
       "    </tr>\n",
       "  </thead>\n",
       "  <tbody>\n",
       "    <tr>\n",
       "      <th>1</th>\n",
       "      <td>Kreis 1</td>\n",
       "      <td>5728</td>\n",
       "    </tr>\n",
       "    <tr>\n",
       "      <th>6</th>\n",
       "      <td>Kreis 2</td>\n",
       "      <td>33593</td>\n",
       "    </tr>\n",
       "    <tr>\n",
       "      <th>10</th>\n",
       "      <td>Kreis 3</td>\n",
       "      <td>50042</td>\n",
       "    </tr>\n",
       "    <tr>\n",
       "      <th>14</th>\n",
       "      <td>Kreis 4</td>\n",
       "      <td>28775</td>\n",
       "    </tr>\n",
       "    <tr>\n",
       "      <th>18</th>\n",
       "      <td>Kreis 5</td>\n",
       "      <td>15666</td>\n",
       "    </tr>\n",
       "    <tr>\n",
       "      <th>21</th>\n",
       "      <td>Kreis 6</td>\n",
       "      <td>33614</td>\n",
       "    </tr>\n",
       "    <tr>\n",
       "      <th>24</th>\n",
       "      <td>Kreis 7</td>\n",
       "      <td>37458</td>\n",
       "    </tr>\n",
       "    <tr>\n",
       "      <th>29</th>\n",
       "      <td>Kreis 8</td>\n",
       "      <td>16541</td>\n",
       "    </tr>\n",
       "    <tr>\n",
       "      <th>33</th>\n",
       "      <td>Kreis 9</td>\n",
       "      <td>54716</td>\n",
       "    </tr>\n",
       "    <tr>\n",
       "      <th>36</th>\n",
       "      <td>Kreis 10</td>\n",
       "      <td>40341</td>\n",
       "    </tr>\n",
       "    <tr>\n",
       "      <th>39</th>\n",
       "      <td>Kreis 11</td>\n",
       "      <td>74809</td>\n",
       "    </tr>\n",
       "    <tr>\n",
       "      <th>43</th>\n",
       "      <td>Kreis 12</td>\n",
       "      <td>32027</td>\n",
       "    </tr>\n",
       "  </tbody>\n",
       "</table>\n",
       "</div>"
      ],
      "text/plain": [
       "    Quartier  Total\n",
       "1    Kreis 1   5728\n",
       "6    Kreis 2  33593\n",
       "10   Kreis 3  50042\n",
       "14   Kreis 4  28775\n",
       "18   Kreis 5  15666\n",
       "21   Kreis 6  33614\n",
       "24   Kreis 7  37458\n",
       "29   Kreis 8  16541\n",
       "33   Kreis 9  54716\n",
       "36  Kreis 10  40341\n",
       "39  Kreis 11  74809\n",
       "43  Kreis 12  32027"
      ]
     },
     "execution_count": 63,
     "metadata": {},
     "output_type": "execute_result"
    }
   ],
   "source": [
    "df3"
   ]
  },
  {
   "cell_type": "code",
   "execution_count": 64,
   "metadata": {
    "scrolled": false
   },
   "outputs": [
    {
     "data": {
      "application/vnd.plotly.v1+json": {
       "config": {
        "linkText": "Export to plot.ly",
        "plotlyServerURL": "https://plot.ly",
        "showLink": false
       },
       "data": [
        {
         "marker": {
          "color": "#FFD700"
         },
         "name": "Stadtkreise",
         "type": "bar",
         "uid": "14b8c94f-5188-4b7b-aed6-53078e406cda",
         "x": [
          "Kreis 1",
          "Kreis 2",
          "Kreis 3",
          "Kreis 4",
          "Kreis 5",
          "Kreis 6",
          "Kreis 7",
          "Kreis 8",
          "Kreis 9",
          "Kreis 10",
          "Kreis 11",
          "Kreis 12"
         ],
         "y": [
          5728,
          33593,
          50042,
          28775,
          15666,
          33614,
          37458,
          16541,
          54716,
          40341,
          74809,
          32027
         ]
        }
       ],
       "layout": {
        "autosize": false,
        "bargap": 0.2,
        "bargroupgap": 0.1,
        "font": {
         "color": "#7f7f7f",
         "family": "Arial, sans-serif",
         "size": 14
        },
        "height": 600,
        "title": {
         "text": "Ständige Wohnbevölkerung nach Stadtkreisen – 2017"
        },
        "width": 900,
        "xaxis": {
         "automargin": true,
         "ticklen": 10,
         "tickwidth": 1,
         "title": {
          "font": {
           "color": "#7f7f7f",
           "family": "Arial, sans-serif",
           "size": 12
          },
          "text": "Stadtkreis"
         }
        },
        "yaxis": {
         "automargin": true,
         "exponentformat": "none",
         "nticks": 8,
         "rangemode": "tozero",
         "ticklen": 10,
         "tickwidth": 1,
         "title": {
          "font": {
           "color": "#7f7f7f",
           "family": "Arial, sans-serif",
           "size": 12
          },
          "text": "Anzahl Personen"
         }
        }
       }
      },
      "text/html": [
       "<div id=\"8b8fefa6-40d1-44b5-a4c7-b34a6a44e6d2\" style=\"height: 600px; width: 900px;\" class=\"plotly-graph-div\"></div><script type=\"text/javascript\">require([\"plotly\"], function(Plotly) { window.PLOTLYENV=window.PLOTLYENV || {};window.PLOTLYENV.BASE_URL=\"https://plot.ly\";Plotly.newPlot(\"8b8fefa6-40d1-44b5-a4c7-b34a6a44e6d2\", [{\"marker\": {\"color\": \"#FFD700\"}, \"name\": \"Stadtkreise\", \"x\": [\"Kreis 1\", \"Kreis 2\", \"Kreis 3\", \"Kreis 4\", \"Kreis 5\", \"Kreis 6\", \"Kreis 7\", \"Kreis 8\", \"Kreis 9\", \"Kreis 10\", \"Kreis 11\", \"Kreis 12\"], \"y\": [5728, 33593, 50042, 28775, 15666, 33614, 37458, 16541, 54716, 40341, 74809, 32027], \"type\": \"bar\", \"uid\": \"14b8c94f-5188-4b7b-aed6-53078e406cda\"}], {\"autosize\": false, \"bargap\": 0.2, \"bargroupgap\": 0.1, \"font\": {\"color\": \"#7f7f7f\", \"family\": \"Arial, sans-serif\", \"size\": 14}, \"height\": 600, \"title\": {\"text\": \"St\\u00e4ndige Wohnbev\\u00f6lkerung nach Stadtkreisen \\u2013 2017\"}, \"width\": 900, \"xaxis\": {\"automargin\": true, \"ticklen\": 10, \"tickwidth\": 1, \"title\": {\"font\": {\"color\": \"#7f7f7f\", \"family\": \"Arial, sans-serif\", \"size\": 12}, \"text\": \"Stadtkreis\"}}, \"yaxis\": {\"automargin\": true, \"exponentformat\": \"none\", \"nticks\": 8, \"rangemode\": \"tozero\", \"ticklen\": 10, \"tickwidth\": 1, \"title\": {\"font\": {\"color\": \"#7f7f7f\", \"family\": \"Arial, sans-serif\", \"size\": 12}, \"text\": \"Anzahl Personen\"}}}, {\"showLink\": false, \"linkText\": \"Export to plot.ly\", \"plotlyServerURL\": \"https://plot.ly\"})});</script>"
      ],
      "text/vnd.plotly.v1+html": [
       "<div id=\"8b8fefa6-40d1-44b5-a4c7-b34a6a44e6d2\" style=\"height: 600px; width: 900px;\" class=\"plotly-graph-div\"></div><script type=\"text/javascript\">require([\"plotly\"], function(Plotly) { window.PLOTLYENV=window.PLOTLYENV || {};window.PLOTLYENV.BASE_URL=\"https://plot.ly\";Plotly.newPlot(\"8b8fefa6-40d1-44b5-a4c7-b34a6a44e6d2\", [{\"marker\": {\"color\": \"#FFD700\"}, \"name\": \"Stadtkreise\", \"x\": [\"Kreis 1\", \"Kreis 2\", \"Kreis 3\", \"Kreis 4\", \"Kreis 5\", \"Kreis 6\", \"Kreis 7\", \"Kreis 8\", \"Kreis 9\", \"Kreis 10\", \"Kreis 11\", \"Kreis 12\"], \"y\": [5728, 33593, 50042, 28775, 15666, 33614, 37458, 16541, 54716, 40341, 74809, 32027], \"type\": \"bar\", \"uid\": \"14b8c94f-5188-4b7b-aed6-53078e406cda\"}], {\"autosize\": false, \"bargap\": 0.2, \"bargroupgap\": 0.1, \"font\": {\"color\": \"#7f7f7f\", \"family\": \"Arial, sans-serif\", \"size\": 14}, \"height\": 600, \"title\": {\"text\": \"St\\u00e4ndige Wohnbev\\u00f6lkerung nach Stadtkreisen \\u2013 2017\"}, \"width\": 900, \"xaxis\": {\"automargin\": true, \"ticklen\": 10, \"tickwidth\": 1, \"title\": {\"font\": {\"color\": \"#7f7f7f\", \"family\": \"Arial, sans-serif\", \"size\": 12}, \"text\": \"Stadtkreis\"}}, \"yaxis\": {\"automargin\": true, \"exponentformat\": \"none\", \"nticks\": 8, \"rangemode\": \"tozero\", \"ticklen\": 10, \"tickwidth\": 1, \"title\": {\"font\": {\"color\": \"#7f7f7f\", \"family\": \"Arial, sans-serif\", \"size\": 12}, \"text\": \"Anzahl Personen\"}}}, {\"showLink\": false, \"linkText\": \"Export to plot.ly\", \"plotlyServerURL\": \"https://plot.ly\"})});</script>"
      ]
     },
     "metadata": {},
     "output_type": "display_data"
    }
   ],
   "source": [
    "trace1 = go.Bar(\n",
    "    x=df3.Quartier,\n",
    "    y=df3['Total'], \n",
    "    name=\"Stadtkreise\",\n",
    "    marker=dict(color='#FFD700') # set the marker color to gold\n",
    ")\n",
    "data = [trace1]\n",
    "\n",
    "layout = go.Layout(\n",
    "    title='Ständige Wohnbevölkerung nach Stadtkreisen – 2017',\n",
    "    font=dict(family='Arial, sans-serif', size=14, color='#7f7f7f'),\n",
    "    autosize=False,\n",
    "    width=900,\n",
    "    height=600,\n",
    "    bargroupgap=0.1,\n",
    "    bargap=0.2,\n",
    "\n",
    "    xaxis=dict(\n",
    "        title='Stadtkreis',\n",
    "        titlefont=dict(family='Arial, sans-serif', size=12, color='#7f7f7f'),\n",
    "        tickwidth=1,\n",
    "        ticklen=10,\n",
    "        automargin=True\n",
    "    ),\n",
    "    \n",
    "    yaxis=dict(\n",
    "        title='Anzahl Personen',\n",
    "        titlefont=dict(family='Arial, sans-serif', size=12, color='#7f7f7f'),\n",
    "        rangemode='tozero',\n",
    "        nticks=8,\n",
    "        exponentformat='none',\n",
    "        tickwidth=1,\n",
    "        ticklen=10,\n",
    "        automargin=True\n",
    "    )\n",
    ")\n",
    "\n",
    "fig = go.Figure(data=data, layout=layout)\n",
    "pyo.iplot(fig, filename='hover-chart-basic')"
   ]
  },
  {
   "cell_type": "code",
   "execution_count": 65,
   "metadata": {},
   "outputs": [],
   "source": [
    "df3.to_excel('Daten/Plotly/Bevölkerung_Stadtkreise_2017.xlsx')"
   ]
  },
  {
   "cell_type": "code",
   "execution_count": null,
   "metadata": {},
   "outputs": [],
   "source": []
  }
 ],
 "metadata": {
  "kernelspec": {
   "display_name": "Python 3",
   "language": "python",
   "name": "python3"
  },
  "language_info": {
   "codemirror_mode": {
    "name": "ipython",
    "version": 3
   },
   "file_extension": ".py",
   "mimetype": "text/x-python",
   "name": "python",
   "nbconvert_exporter": "python",
   "pygments_lexer": "ipython3",
   "version": "3.7.0"
  }
 },
 "nbformat": 4,
 "nbformat_minor": 2
}
